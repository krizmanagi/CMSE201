{
 "cells": [
  {
   "cell_type": "markdown",
   "metadata": {},
   "source": [
    "# Homework 1: Introduction to Loops, Lists, and Dictionaries"
   ]
  },
  {
   "cell_type": "markdown",
   "metadata": {},
   "source": [
    "### <p style=\"text-align: right;\"> &#9989; **Krizma Nagi** </p>"
   ]
  },
  {
   "cell_type": "markdown",
   "metadata": {},
   "source": [
    "# __CMSE  201 &ndash; Fall 2021__\n",
    "\n",
    "<img src=\"https://cmse.msu.edu/sites/_cmse/assets/Image/image002.jpg\"\n",
    "     alt=\"CMSE Logo\"\n",
    "     align=\"right\" \n",
    "     height=\"100\" \n",
    "     width=\"100\" />\n",
    "\n",
    "# Homework 1: Introduction to Loops, Lists, and Dictionaries\n",
    "\n",
    "## Learning Goals\n",
    "\n",
    "### Content Goals\n",
    "- **Write code to execute simple mathematical operations.**\n",
    "- **Utilize lists to store data**\n",
    "- **Utilize loops to store, access, and manipulate data in a multiple lists**\n",
    "\n",
    "\n",
    "### Practice Goals\n",
    "- **Debugging practices**\n",
    "  - *Isolate and interpret the relevant information in an error code*\n",
    "  - *Use print statements to determine the outcome of operations*\n",
    "- **Describe code and bugs using plain language**\n",
    "\n",
    "\n",
    "___"
   ]
  },
  {
   "cell_type": "markdown",
   "metadata": {},
   "source": [
    "## Assignment instructions\n",
    "\n",
    "Work through the following assignment, making sure to follow all the directions and answer all the questions.\n",
    "\n",
    "**This assignment is due at 11:59 pm on Friday, Sept 17th.** It should be uploaded into the \"Homework Assignments\" submission folder for Homework #1.  Submission instructions can be found at the end of the notebook."
   ]
  },
  {
   "cell_type": "markdown",
   "metadata": {},
   "source": [
    "# 0. Version check\n",
    "\n",
    "Before you begin, make sure your Jupyter kernel is Python3. There are significant differences between Python2 and Python3, and we will use Python3 in this course. The kernel type at the upper-right corner should say \"Python3\", and the following code should show a version 3.x.y.\n",
    "\n",
    "If your kernel is Python2, try selecting Python3 from the Kernel menu above under the submenu \"Change kernel\". If that does not work, consult the Slack help channel for assistance."
   ]
  },
  {
   "cell_type": "code",
   "execution_count": 1,
   "metadata": {},
   "outputs": [
    {
     "name": "stdout",
     "output_type": "stream",
     "text": [
      "3.8.8 (default, Apr 13 2021, 15:08:03) [MSC v.1916 64 bit (AMD64)]\n"
     ]
    }
   ],
   "source": [
    "import sys\n",
    "print(sys.version)"
   ]
  },
  {
   "cell_type": "markdown",
   "metadata": {},
   "source": [
    "---\n",
    "## Grading\n",
    "\n",
    "* Practice/Introductory Problems: Lists (5 points)\n",
    "* Practice/Introductory Problems: Dictionaries (4 points)\n",
    "* Debugging Other People's Code: Buggy Code 1 (4 Points)\n",
    "* Debugging Other People's Code: Buggy Code 2 (4 Points)\n",
    "* Debugging YOUR Code: Buggy Code 1 (4 Points)\n",
    "* Debugging YOUR Code: Buggy Code 1 (4 Points)\n",
    "* Coding A Cash Register: Create your Own Test Lists (2 Points)\n",
    "* Coding A Cash Register: Calculating Sum (3 Points)\n",
    "* Coding A Cash Register: Printing Names and Cost (4)\n",
    "* Coding A Cash Register: Multiple Items: Create a New Test List (1 Points)\n",
    "* Coding A Cash Register: Multiple Items: Modiyfing Code to Include Copies (5 Points)\n",
    "* Coding A Cash Register: Test Your Code (2 Points)\n",
    "Total points possible: **42**\n",
    "\n",
    "---"
   ]
  },
  {
   "cell_type": "markdown",
   "metadata": {},
   "source": [
    "---\n",
    "# 1. Practice Problems (9 Points)\n",
    "\n",
    "## 1.1 Lists (5 Points)\n",
    "\n",
    "You have already seen Python \"lists\" in some of your previous work. \n",
    "\n",
    "### &#9989;&nbsp; 1.1.1 Task\n",
    "**Construct two lists, one with your three favorite kinds of fruit, and the other with an explanation of why each fruit is your favorite. Write a `for` loop that prints out the type of fruit and the explanation for why you like it.**\n",
    "\n",
    "*For example*\n",
    "\n",
    "I like Oranges because They remind me of Holland. \n",
    "\n",
    "I like Grapes because Purple is the best color.\n",
    "\n",
    "I like Clementines because They are the Corgis of oranges."
   ]
  },
  {
   "cell_type": "code",
   "execution_count": 12,
   "metadata": {},
   "outputs": [
    {
     "name": "stdout",
     "output_type": "stream",
     "text": [
      "I like Kiwis because They are cute.\n",
      "I like strawberries because They taste good.\n",
      "I like mangoes because I like the color yellow.\n"
     ]
    }
   ],
   "source": [
    "# List 1 : creating fruits list\n",
    "fav_fruits = ['Kiwis', 'strawberries', 'mangoes']\n",
    "\n",
    "#List 2 : creating reasons list\n",
    "reasons = ['They are cute', 'They taste good', 'I like the color yellow']\n",
    "\n",
    "#creating for loop\n",
    "for x in range(len(fruits)):\n",
    "    print(\"I like \"+fruits[x]+\" because \"+reason[x]+\".\")\n"
   ]
  },
  {
   "cell_type": "markdown",
   "metadata": {},
   "source": [
    "## 1.2 Dictionaries (4 Points)\n",
    "\n",
    "Dictionaries are new. They're like lists, in that they provide a means to store multiple values in a single compound variable. The main differences are:\n",
    "\n",
    "* Dictionaries store values using *keys*, instead of indices (see image below).\n",
    "* You create a new dictionary using curly braces, `{}`, instead of square brackets, `[]`.\n",
    "\n",
    "\n",
    "<img src=\"https://bjc.edc.org/bjc-r/img/python/dictionaries_vs_lists.jpg\"\n",
    "     alt=\"List V. Dict\"\n",
    "     align=\"center\" \n",
    "     height=\"800\" \n",
    "     width=\"800\" />\n",
    "\n",
    "\n",
    "\n",
    "#### NOTE:\n",
    "A more detailed introduction to dictionaries and their functionality can be found at [W3Schools](https://www.w3schools.com/python/python_dictionaries.asp)."
   ]
  },
  {
   "cell_type": "code",
   "execution_count": 13,
   "metadata": {},
   "outputs": [
    {
     "name": "stdout",
     "output_type": "stream",
     "text": [
      "Denver\n"
     ]
    }
   ],
   "source": [
    "#Dictionary example 1: Making a dictionary\n",
    "\n",
    "state_dictionary = {\"Name\": \"Colorado\",\n",
    "                   \"Population\": 5758736,\n",
    "                   \"Capital\": \"Denver\",\n",
    "                   \"State Bird\": \"Lark bunting\"}\n",
    "\n",
    "print(state_dictionary[\"Capital\"])"
   ]
  },
  {
   "cell_type": "code",
   "execution_count": 14,
   "metadata": {},
   "outputs": [
    {
     "name": "stdout",
     "output_type": "stream",
     "text": [
      "Key:  Name     Value:  Colorado\n",
      "Key:  Population     Value:  5758736\n",
      "Key:  Capital     Value:  Denver\n",
      "Key:  State Bird     Value:  Lark bunting\n"
     ]
    }
   ],
   "source": [
    "#Dictionary example 2: Looping through keys and values in a dictionary\n",
    "\n",
    "for key in state_dictionary:\n",
    "    print(\"Key: \",key,\"    Value: \",state_dictionary[key])"
   ]
  },
  {
   "cell_type": "markdown",
   "metadata": {},
   "source": [
    "**Now**, think about an actual (non-coding) dictionary. It's a book with many *values* (definitions), and you look up these values using a specific *key* (word).\n",
    "\n",
    "### &#9989;&nbsp; 1.2.1 Task \n",
    "\n",
    "**Choose three or four words and look up their definitions. Construct a dictionary whose keys are the words and whose values are the definitions.** "
   ]
  },
  {
   "cell_type": "code",
   "execution_count": 19,
   "metadata": {},
   "outputs": [
    {
     "name": "stdout",
     "output_type": "stream",
     "text": [
      "the state of being unaware or unconscious\n",
      "Key: Nyctophilia Value: a strong prefrence for the darkness\n",
      "Key: Oblivian Value: the state of being unaware or unconscious\n",
      "Key: Pyrrhic Value: a victory that comes with high costs\n"
     ]
    }
   ],
   "source": [
    "my_dictionary= {\"Nyctophilia\": \"a strong prefrence for the darkness\",\n",
    "                \"Oblivian\": \"the state of being unaware or unconscious\",\n",
    "                \"Pyrrhic\": \"a victory that comes with high costs\"}\n",
    "    \n",
    "print(my_dictionary[\"Oblivian\"])  #Example 1\n",
    "\n",
    "for key in my_dictionary:\n",
    "    print(\"Key:\", key, \n",
    "          \"Value:\", my_dictionary[key])   #Example 2\n",
    "                "
   ]
  },
  {
   "cell_type": "markdown",
   "metadata": {},
   "source": [
    "# 2. Debugging Other People's Code (8 Points)\n",
    "\n",
    "A large part of learning how to code is finding strategies for troubleshooting problems/bugs when they arise. The following exercises will test your ability to identify and solve problems in your code.\n",
    "\n",
    "## An Aside: Turning on Line Numbers\n",
    "The errors that Python will throw at you will usually tell you the ***Line Number*** where the error occurred. However, Jupyter notebooks don't always show line numbers by default, so it will be useful to turn them on.\n",
    "\n",
    "### To Turn Line Numbers\n",
    "1. Go up to **view** (right next *Edit* and *Insert*)\n",
    "2. Click **Toggle Line Numbers**\n",
    "\n",
    "You should now see line numbers on the left side of your cell(s) when you're editing them.\n",
    "\n",
    "## 2.1 Buggy Code 1 (4 Points)\n",
    "\n",
    "**Note:** The first thing you should always do when there is an error is to **look at the line number provided and the specific error code.** You can use these two pieces of information to solve bugs *without needing to understand what the code is doing.* \n",
    "\n",
    "\n",
    "### &#9989;&nbsp; 2.1.1 Fixing the Code (2 Points)\n",
    "The code below is supposed to take a list of protein values, add 10 to each value, and make a histogram.\n",
    "\n",
    "**Rewrite the code below so that it achieves the task it is supposed to.**"
   ]
  },
  {
   "cell_type": "code",
   "execution_count": 2,
   "metadata": {},
   "outputs": [
    {
     "data": {
      "image/png": "[encoded data removed]",
      "text/plain": [
       "<Figure size 432x288 with 1 Axes>"
      ]
     },
     "metadata": {
      "needs_background": "light"
     },
     "output_type": "display_data"
    }
   ],
   "source": [
    "# Buggy Code 1\n",
    "import matplotlib.pyplot as plt\n",
    "\n",
    "protein = [32,12,15,34,32,36,28,29,27,32,6,6,27,8,32,3,33,14,38]\n",
    "\n",
    "for jj in range(len(protein)):\n",
    "    protein[jj] = protein[jj]+ 10\n",
    "\n",
    "plt.hist(protein)\n",
    "plt.show()"
   ]
  },
  {
   "cell_type": "code",
   "execution_count": null,
   "metadata": {},
   "outputs": [],
   "source": [
    "# Write your solution here\n",
    "An integer cannot be a string, and with the single quotes around the 10 the code would not run. As a result, I took those off, and the code ran perfectly. "
   ]
  },
  {
   "cell_type": "markdown",
   "metadata": {},
   "source": [
    "### &#9989;&nbsp; 2.1.2 Explaining the Problem and the Solution (2 Points)\n",
    "\n",
    "In the space below, explain the problem and your solution. You should include the following information:\n",
    "1. The line of code that caused the error(s)\n",
    "2. (Where appropriate) The error code\n",
    "3. A plain english description of the error(s) in the code\n",
    "4. How you solved the error(s)"
   ]
  },
  {
   "cell_type": "markdown",
   "metadata": {},
   "source": [
    "1. Line 7 caused the error in the program.\n",
    "2. The error code is as follows: \"proteing[jj] = (protein[jj]+'10'). \n",
    "3. The single quotes around the integer 10 created a string, but the function was only trying to add 10 to the variables in the dictionary. With the single quotes around 10, that would not have been possible.\n",
    "4. It was a simple fix: get rid of the single quotes around the integer 10. "
   ]
  },
  {
   "cell_type": "markdown",
   "metadata": {},
   "source": [
    "## 2.2 Buggy Code 2 (4 Points)\n",
    "\n",
    "**Note** Sometimes the code that you get won't throw an error. *That does not mean it is running correctly.* **You should always check to make sure that your code is running correctly.**\n",
    "\n",
    "### &#9989;&nbsp; 2.2.1 Fixing the Code (2 Points)\n",
    "The code below has a list of calories from different foods and is supposed to multiply each value by two and sum them together. So, for instance, if we had a list that was `[120, 65, 220]`, then the code should return `(120*2) + (65*2) + (220*2) = 810`.\n",
    "\n",
    "**Rewrite the code below so that it achieves the task it is supposed to.**"
   ]
  },
  {
   "cell_type": "code",
   "execution_count": 5,
   "metadata": {},
   "outputs": [
    {
     "name": "stdout",
     "output_type": "stream",
     "text": [
      "4610\n"
     ]
    }
   ],
   "source": [
    "#Buggy code 2\n",
    "\n",
    "calories = [270,75,375,475,235,345,340,190]\n",
    "sums = []\n",
    "\n",
    "for i in range(len(calories)):\n",
    "    sum_of_cals = (calories[i]*2)\n",
    "    sums.append(sum_of_cals)\n",
    "    temp = sum(sums)\n",
    "print(temp)"
   ]
  },
  {
   "cell_type": "markdown",
   "metadata": {},
   "source": [
    "I initialized a new list and appended that list to be able to find the sum. "
   ]
  },
  {
   "cell_type": "markdown",
   "metadata": {},
   "source": [
    "### &#9989;&nbsp; 2.2.2 Explaining the Problem and the Solution (2 Points)\n",
    "\n",
    "In the space below, explain the problem and your solution. You should include the following information:\n",
    "1. The line of code that caused the error(s)\n",
    "2. (Where appropriate) The error code\n",
    "3. A plain english description of the error(s) in the code\n",
    "4. How you solved the error(s)"
   ]
  },
  {
   "cell_type": "markdown",
   "metadata": {},
   "source": [
    "1. There was no line of code that caused error, the entire code was wrong. \n",
    "2. There was no error code, I had to write more code (lines 4, 8, 9, 10) for the correct output to be printed.\n",
    "3. The output was incorrect with the initial code that was written, I had to add code. \n",
    "4. I initialized a new list called sums and appended it as well so that I could get the correct output. "
   ]
  },
  {
   "cell_type": "markdown",
   "metadata": {},
   "source": [
    "# 3. Debugging YOUR Code (8 Points)\n",
    "\n",
    "For this problem, you will be using two errors that you have encountered in your work--in your pre-class assignments, in-class assignments, or even this homework assignment. **NOTE:** each of your pieces of buggy code should have ***different error codes***. (For example, if your first buggy code has a `TypeError` error code, then your second buggy code must have a *different* error code.)\n",
    "\n",
    "## 3.1 Your Buggy Code 1 (4 Points)\n",
    "\n",
    "### &#9989;&nbsp; 3.1.1 The Buggy Code (1 Points) \n",
    "**Copy over your buggy piece of code. Include a comment at the top indicating which assignment the code came from.**\n",
    "\n"
   ]
  },
  {
   "cell_type": "code",
   "execution_count": null,
   "metadata": {},
   "outputs": [],
   "source": [
    "# Day 3 Pre-Class - Lists and Loops\n",
    "x_values = [2,4,6,8,10,12,14,16,18]\n",
    "y_values = [10,8.25,7.5,7,6.5,7,7.5,8.25,10]\n",
    "\n",
    "for i in x_values:\n",
    "    print(x_values**2)\n",
    "    \n",
    "for i in y_values:\n",
    "    print(y_values**3)"
   ]
  },
  {
   "cell_type": "markdown",
   "metadata": {},
   "source": [
    "### &#9989;&nbsp; 3.1.2 Fixing the Code (1 Points)\n",
    "**Rewrite the buggy code so that it achieves the task it is supposed to.**"
   ]
  },
  {
   "cell_type": "code",
   "execution_count": 1,
   "metadata": {},
   "outputs": [
    {
     "name": "stdout",
     "output_type": "stream",
     "text": [
      "[4, 16, 36, 64, 100, 144, 196, 256, 324]\n",
      "[1000, 561.515625, 421.875, 343, 274.625, 343, 421.875, 561.515625, 1000]\n"
     ]
    }
   ],
   "source": [
    "x_values = [2,4,6,8,10,12,14,16,18]\n",
    "x_squared = []\n",
    "\n",
    "for i in x_values:\n",
    "    x_squared.append(i**2)\n",
    "print(x_squared)\n",
    "\n",
    "\n",
    "y_values = [10,8.25,7.5,7,6.5,7,7.5,8.25,10]\n",
    "y_cubed = []\n",
    "\n",
    "for i in y_values:\n",
    "    y_cubed.append(i**3)\n",
    "print(y_cubed)"
   ]
  },
  {
   "cell_type": "markdown",
   "metadata": {},
   "source": [
    "### &#9989;&nbsp; 3.1.3 Explaining the Problem and the Solution (2 Points)\n",
    "\n",
    "In the space below, explain the problem and your solution. You should include the following information:\n",
    "1. The line of code that caused the error(s)\n",
    "2. (Where appropriate) The error code\n",
    "3. A plain english description of the error(s) in the code\n",
    "4. How you solved the error(s)"
   ]
  },
  {
   "cell_type": "markdown",
   "metadata": {},
   "source": [
    "1. The whole code had errors throughout it. It didn't even run properly because I missed the initialization step of it. \n",
    "2. Line 6 and Line 9.\n",
    "3. I did not initialize the new list values, and I did not code for the new list correctly.\n",
    "4. I initialized the new lists and I made sure to get rid of the indents for the print command lines. "
   ]
  },
  {
   "cell_type": "markdown",
   "metadata": {},
   "source": [
    "## 3.2 Your Buggy Code 2 (4 Points)\n",
    "**Reminder** that your second piece of buggy code must have a ***different error code*** than your first piece of buggy code.\n",
    "\n",
    "### &#9989;&nbsp; 3.2.1 The Buggy Code (1 Points) \n",
    "**Copy your buggy piece of code. Include a comment at the top indicating which assignment the code came from.**"
   ]
  },
  {
   "cell_type": "code",
   "execution_count": 12,
   "metadata": {},
   "outputs": [],
   "source": [
    "my_info= ['Krizma', 18.0, 213]\n",
    "print(my_info)\n",
    "my_info[0] = 'Nagi'\n",
    "my_info[1] = 2021\n",
    "print(my_info)"
   ]
  },
  {
   "cell_type": "markdown",
   "metadata": {},
   "source": [
    "### &#9989;&nbsp; 3.2.2 Fixing the Code (1 Points)\n",
    "**Rewrite the buggy code so that it achieves the task it is supposed to.**"
   ]
  },
  {
   "cell_type": "code",
   "execution_count": 6,
   "metadata": {},
   "outputs": [
    {
     "name": "stdout",
     "output_type": "stream",
     "text": [
      "['Krizma', 18.0, 213]\n",
      "['Nagi', 2021, 213, 2003]\n"
     ]
    }
   ],
   "source": [
    "# Day 3 Pre-class: Lists and Loops\n",
    "my_info= ['Krizma', 18.0, 213]\n",
    "print(my_info)\n",
    "\n",
    "my_info[0] = 'Nagi'\n",
    "my_info[1] = 2021\n",
    "my_info.append(2003)\n",
    "print(my_info)"
   ]
  },
  {
   "cell_type": "markdown",
   "metadata": {},
   "source": [
    "### &#9989;&nbsp; 3.2.3 Explaining the Problem and the Solution (2 Points)\n",
    "\n",
    "In the space below, explain the problem and your solution. You should include the following information:\n",
    "1. The line of code that caused the error(s)\n",
    "2. (Where appropriate) The error code\n",
    "3. A plain english description of the error(s) in the code\n",
    "4. How you solved the error(s)"
   ]
  },
  {
   "cell_type": "markdown",
   "metadata": {},
   "source": [
    "1. There was no append code in between lines 4 and 5.\n",
    "2. There was a lack of code, so there is no specific error code.\n",
    "3. There was no append function for the year to add onto the end of the list in the outcome. \n",
    "4. I added a line with append so that the year could be added onto the end of the list. "
   ]
  },
  {
   "cell_type": "markdown",
   "metadata": {},
   "source": [
    "# 4. Coding A Cash Register\n",
    "You work for a company that makes cash registers, and you’ve been tasked with writing a piece of code for printing out receipts. \n",
    "As items are being rung up at checkout, two pieces of information are stored:\n",
    "1. The name of the item\n",
    "2. The cost (per unit) of the item.\n",
    "These two pieces of information are stored in separate lists (see the example below)."
   ]
  },
  {
   "cell_type": "code",
   "execution_count": null,
   "metadata": {},
   "outputs": [],
   "source": [
    "#Example lists\n",
    "item_names = [\"Water Bottle\"]\n",
    "item_per_unit_prices = [22.99]"
   ]
  },
  {
   "cell_type": "markdown",
   "metadata": {},
   "source": [
    "## &#9989;&nbsp; 4.1 Create your Own Test Lists (2 Points)\n",
    "Before you begin, it’s best to have some example data for testing your code. Check [Amazon](https://www.amazon.com/), [Target](https://www.target.com/), [Walmart](https://www.walmart.com/), or anywhere else to find three or four items and their prices. Turn them into lists that you can use to test your code. \n"
   ]
  },
  {
   "cell_type": "code",
   "execution_count": 4,
   "metadata": {},
   "outputs": [],
   "source": [
    "items = ['mace', 'mascara', 'toy']\n",
    "prices = [9.99, 7.39, 9.79]"
   ]
  },
  {
   "cell_type": "markdown",
   "metadata": {},
   "source": [
    "## &#9989;&nbsp; 4.2 Calculating Sum (3 Points)\n",
    "\n",
    "As a first step, **create a loop that calculates the sum total of the price of each item. Your final code should print out the total cost of all of the items.**"
   ]
  },
  {
   "cell_type": "code",
   "execution_count": 14,
   "metadata": {},
   "outputs": [
    {
     "name": "stdout",
     "output_type": "stream",
     "text": [
      "The total price is 27.169999999999998\n"
     ]
    }
   ],
   "source": [
    "total = 0\n",
    "\n",
    "for num in prices:\n",
    "    total = total + num\n",
    "print(\"The total price is\", total)"
   ]
  },
  {
   "cell_type": "markdown",
   "metadata": {},
   "source": [
    "## &#9989;&nbsp; 4.3 Printing Names and Cost (4 Points)\n",
    "**Now modify your code from the previous part so that it *also* prints the name and price of each item. That is, your code should print out:**\n",
    "\n",
    "***The item name  ,   The cost of the item***\n",
    "\n",
    "As well as the sum total at the end."
   ]
  },
  {
   "cell_type": "code",
   "execution_count": 15,
   "metadata": {},
   "outputs": [
    {
     "name": "stdout",
     "output_type": "stream",
     "text": [
      "['mace: 9.99', 'mascara: 7.39', 'toy: 9.79']\n",
      "The total price is 27.169999999999998\n"
     ]
    }
   ],
   "source": [
    "list = []\n",
    "i = 0\n",
    "\n",
    "for i in range(len(items)):\n",
    "    val = items[i] + ': ' + str(prices[i])\n",
    "    list.append(val)\n",
    "    i +=1\n",
    "print(list)\n",
    "\n",
    "total = 0\n",
    "\n",
    "for num in prices:\n",
    "    total = total + num\n",
    "print(\"The total price is\", total)"
   ]
  },
  {
   "cell_type": "markdown",
   "metadata": {},
   "source": [
    "## 4.4 Multiple Items\n",
    "People will often buy more than one copy of a single item (e.g., two 1 gallon jugs of milk or six copies of Shrek on Blu Ray). Each copy of an item doesn’t get its own line; there’s only one line, and we put how many copies were purchased. This means we need a new piece of information; how many copies were purchased. Let’s put this in a new list."
   ]
  },
  {
   "cell_type": "code",
   "execution_count": null,
   "metadata": {},
   "outputs": [],
   "source": [
    "#Example lists\n",
    "item_names = [\"Water Bottle\"]\n",
    "item_copies = [2]\n",
    "item_per_unit_prices = [22.99]"
   ]
  },
  {
   "cell_type": "markdown",
   "metadata": {},
   "source": [
    "### &#9989;&nbsp; 4.4.1 Create a New Test List (1 Points)\n",
    "\n",
    "**Add a new list that includes the number of copies of each item being purchased.**"
   ]
  },
  {
   "cell_type": "code",
   "execution_count": 31,
   "metadata": {},
   "outputs": [],
   "source": [
    "item_names = ['mace', 'mascara', 'toy']\n",
    "item_per_unit_price = [9.99, 7.39, 9.79]\n",
    "item_copies= [1, 2, 5]"
   ]
  },
  {
   "cell_type": "markdown",
   "metadata": {},
   "source": [
    "### &#9989;&nbsp; 4.4.2 Modiyfing Code to Include Copies (5 Points)"
   ]
  },
  {
   "cell_type": "markdown",
   "metadata": {},
   "source": [
    "**Modify your code from the previous part, so it takes into account how many copies are purchased. Your final code should print out:**\n",
    "\n",
    "***How many copies were purchased   The item name   The total cost of all copies of this item***\n",
    "\n",
    "As well as the sum total at the end."
   ]
  },
  {
   "cell_type": "code",
   "execution_count": 41,
   "metadata": {},
   "outputs": [
    {
     "name": "stdout",
     "output_type": "stream",
     "text": [
      "['1 mace: 9.99', '2 mascara: 14.78', '5 toy: 48.949999999999996']\n"
     ]
    },
    {
     "data": {
      "text/plain": [
       "73.72"
      ]
     },
     "execution_count": 41,
     "metadata": {},
     "output_type": "execute_result"
    }
   ],
   "source": [
    "list = []\n",
    "i = 0\n",
    "\n",
    "for i in range(len(item_names)):\n",
    "    val = str(item_copies[i]) + ' ' + item_names[i] + ': ' + str(item_per_unit_price[i]*item_copies[i])\n",
    "    list.append(val)\n",
    "    i +=1\n",
    "print(list)\n",
    "\n",
    "total = []\n",
    "x = 0\n",
    "for i in range(len(item_per_unit_prices)):\n",
    "    mult = item_per_unit_price[i]*item_copies[i]\n",
    "    total.append(mult)\n",
    "    i += 1\n",
    "    x += 1\n",
    "sum(total)"
   ]
  },
  {
   "cell_type": "markdown",
   "metadata": {},
   "source": [
    "### &#9989;&nbsp; 4.5 Test Your Code (2 Points)\n",
    "Below we have provided an example set of lists to test your code and make sure it runs correctly."
   ]
  },
  {
   "cell_type": "code",
   "execution_count": 46,
   "metadata": {},
   "outputs": [],
   "source": [
    "item_names = [\"Water Bottle\",\"Orange Juice\",\"Litebrite\",\"Ceramic Pig Bowl\",\"Crocs\",\"Marine Iguana Plush Toy\",\"Glitter Bunny Ears Throw Pillow\",\"Lil Sloth 100 Piece Animal-Shaped Jigsaw Puzzle\",\"Robot UnicornBot Kit\",\"JoJo Siwa Unicorn LED Nightlight Pink\",\"Antsy Pants Unicorn Lawn Bowling Set\"]\n",
    "item_copies = [2,2,1,2,9,3,15,5,2,12,1]\n",
    "item_per_unit_price = [22.99,4.29,12.79,32.4,19.99,21.99,29.99,33.99,99.99,25.15,24.99]"
   ]
  },
  {
   "cell_type": "code",
   "execution_count": 47,
   "metadata": {},
   "outputs": [
    {
     "name": "stdout",
     "output_type": "stream",
     "text": [
      "['2 Water Bottle: 45.98', '2 Orange Juice: 8.58', '1 Litebrite: 12.79', '2 Ceramic Pig Bowl: 64.8', '9 Crocs: 179.91', '3 Marine Iguana Plush Toy: 65.97', '15 Glitter Bunny Ears Throw Pillow: 449.84999999999997', '5 Lil Sloth 100 Piece Animal-Shaped Jigsaw Puzzle: 169.95000000000002', '2 Robot UnicornBot Kit: 199.98', '12 JoJo Siwa Unicorn LED Nightlight Pink: 301.79999999999995', '1 Antsy Pants Unicorn Lawn Bowling Set: 24.99']\n"
     ]
    },
    {
     "data": {
      "text/plain": [
       "1524.6"
      ]
     },
     "execution_count": 47,
     "metadata": {},
     "output_type": "execute_result"
    }
   ],
   "source": [
    "list = []\n",
    "i = 0\n",
    "\n",
    "for i in range(len(item_names)):\n",
    "    val = str(item_copies[i]) + ' ' + item_names[i] + ': ' + str(item_per_unit_prices[i]*item_copies[i])\n",
    "    list.append(val)\n",
    "    i +=1\n",
    "print(list)\n",
    "\n",
    "total = []\n",
    "x = 0\n",
    "for i in range(len(item_per_unit_prices)):\n",
    "    mult = item_per_unit_price[i]*item_copies[i]\n",
    "    total.append(mult)\n",
    "    i += 1\n",
    "    x += 1\n",
    "sum(total)"
   ]
  },
  {
   "cell_type": "markdown",
   "metadata": {},
   "source": [
    "---\n",
    "## Assignment Wrap-up\n",
    "\n",
    "Please fill out the following Google Form before you submit your assignment. **You must completely fill this out in order to receive credit for the assignment!**\n",
    "\n",
    "**COMPLETE THIS SURVEY through [this link](https://forms.office.com/Pages/ResponsePage.aspx?id=MHEXIi9k2UGSEXQjetVofWtNmJF3VV1Ko4OWA1RPCNZUMldQTUc2Tk9WNFBONUxURFhHT0hWTlNFWS4u) or through cell below.**\n"
   ]
  },
  {
   "cell_type": "code",
   "execution_count": 1,
   "metadata": {},
   "outputs": [
    {
     "data": {
      "text/html": [
       "\n",
       "<iframe \n",
       "\tsrc=\"https://forms.office.com/Pages/ResponsePage.aspx?id=MHEXIi9k2UGSEXQjetVofWtNmJF3VV1Ko4OWA1RPCNZUMldQTUc2Tk9WNFBONUxURFhHT0hWTlNFWS4u\" \n",
       "\twidth=\"80%\" \n",
       "\theight=\"1200px\" \n",
       "\tframeborder=\"0\" \n",
       "\tmarginheight=\"0\" \n",
       "\tmarginwidth=\"0\">\n",
       "\tLoading...\n",
       "</iframe>\n"
      ],
      "text/plain": [
       "<IPython.core.display.HTML object>"
      ]
     },
     "execution_count": 1,
     "metadata": {},
     "output_type": "execute_result"
    }
   ],
   "source": [
    "from IPython.display import HTML\n",
    "HTML(\n",
    "\"\"\"\n",
    "<iframe \n",
    "\tsrc=\"https://forms.office.com/Pages/ResponsePage.aspx?id=MHEXIi9k2UGSEXQjetVofWtNmJF3VV1Ko4OWA1RPCNZUMldQTUc2Tk9WNFBONUxURFhHT0hWTlNFWS4u\" \n",
    "\twidth=\"80%\" \n",
    "\theight=\"1200px\" \n",
    "\tframeborder=\"0\" \n",
    "\tmarginheight=\"0\" \n",
    "\tmarginwidth=\"0\">\n",
    "\tLoading...\n",
    "</iframe>\n",
    "\"\"\"\n",
    ")"
   ]
  },
  {
   "cell_type": "markdown",
   "metadata": {},
   "source": [
    "---\n",
    "\n",
    "### Congratulations, you're done!\n",
    "\n",
    "Submit this assignment by uploading it to the course Desire2Learn web page.  Go to the \"Homework Assignments\" section, find the submission folder link for Homework #1, and upload it there."
   ]
  },
  {
   "cell_type": "code",
   "execution_count": null,
   "metadata": {},
   "outputs": [],
   "source": []
  }
 ],
 "metadata": {
  "kernelspec": {
   "display_name": "Python 3",
   "language": "python",
   "name": "python3"
  },
  "language_info": {
   "codemirror_mode": {
    "name": "ipython",
    "version": 3
   },
   "file_extension": ".py",
   "mimetype": "text/x-python",
   "name": "python",
   "nbconvert_exporter": "python",
   "pygments_lexer": "ipython3",
   "version": "3.8.8"
  }
 },
 "nbformat": 4,
 "nbformat_minor": 4
}
