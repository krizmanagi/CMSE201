{
 "cells": [
  {
   "cell_type": "markdown",
   "metadata": {},
   "source": [
    "# Homework 6: Agent Based Modeling\n",
    "# __CMSE  201 &ndash; Fall 2021__"
   ]
  },
  {
   "cell_type": "markdown",
   "metadata": {
    "id": "ub1zQwFBzXto"
   },
   "source": [
    "### <p style=\"text-align: right;\"> &#9989; Put your name here</p>"
   ]
  },
  {
   "cell_type": "markdown",
   "metadata": {
    "id": "8mvK6SgNp-7m"
   },
   "source": [
    "\n",
    "<img src=\"https://cmse.msu.edu/sites/_cmse/assets/Image/image002.jpg\"\n",
    "     alt=\"CMSE Logo\"\n",
    "     align=\"right\" \n",
    "     height=\"100\" \n",
    "     width=\"100\" />\n",
    "     "
   ]
  },
  {
   "cell_type": "markdown",
   "metadata": {
    "id": "D3qheg9kzLqE"
   },
   "source": [
    "## Goals\n",
    "\n",
    "### By the end of the homework assignment you will have practiced:\n",
    "\n",
    "1. Reviewing the concepts of ABMs\n",
    "1. Creating an ABM to explore a new idea\n",
    "1. Analyzing the results of the ABM\n"
   ]
  },
  {
   "cell_type": "markdown",
   "metadata": {
    "id": "qR5VB6bxzLqF"
   },
   "source": [
    "## Assignment instructions\n",
    "\n",
    "Work through the following assignment, making sure to follow all of the directions and answer all of the questions.\n",
    "\n",
    "**This assignment is due at 11:59pm on Friday, December 10th.** \n",
    "\n",
    "It should be uploaded to D2L in the approach \"Homework\" submission folder.  Submission instructions can be found at the end of the notebook as well."
   ]
  },
  {
   "cell_type": "markdown",
   "metadata": {},
   "source": [
    "## Grading\n",
    "\n",
    "-  Part 0: Academic integrity (1 pt)\n",
    "-  Part 1: Reviewing ABMs  (6 pts)\n",
    "-  Part 2: Revisiting the forest fire model (25 pts)\n",
    "-  Part 3: Analyzing the ABM (14 pts)\n",
    "\n",
    "**Total:** 46 pts\n"
   ]
  },
  {
   "cell_type": "markdown",
   "metadata": {},
   "source": [
    "---\n",
    "# Part 0: Academic integrity\n",
    "\n",
    "### &#9989;&nbsp; (1 point): In the markdown cell below, put your personal academic integrity statement. By including this statement, you are confirming that the work you submit in the assignment is wholly your own."
   ]
  },
  {
   "cell_type": "markdown",
   "metadata": {},
   "source": [
    "/ Put your personal academic integrity statement here /"
   ]
  },
  {
   "cell_type": "markdown",
   "metadata": {},
   "source": [
    "---\n",
    "#  Part 1: Reviewing ABMs\n",
    "\n",
    "### &#9989;&nbsp; 1.1 (2 points): In your own words, what is an agent-based model?"
   ]
  },
  {
   "cell_type": "markdown",
   "metadata": {},
   "source": [
    "/ put your answer here /"
   ]
  },
  {
   "cell_type": "markdown",
   "metadata": {},
   "source": [
    "### &#9989;&nbsp; 1.2 (4 points): Find an example of an agent-based model from a research study online. Paste a link to the research here. In your own words, what is the model about? How is the model useful for the research?"
   ]
  },
  {
   "cell_type": "markdown",
   "metadata": {},
   "source": [
    "/ put your answer here /"
   ]
  },
  {
   "cell_type": "markdown",
   "metadata": {},
   "source": [
    "---\n",
    "#  Part 2: Revisiting the forest fire model\n",
    "\n",
    "For this part, you will be revisiting the forest fire project, but with an eye towards forest fire prevention! Instead of modeling a rampant forest fire, you will be modeling the growth of the forest and the practice of [controlled burns](https://www.fs.usda.gov/managing-land/prescribed-fire). With this in mind, we have pasted some fucntions from ICA 19 to help you get started.\n",
    "\n",
    "### &#9989;&nbsp; 2.1 (4 points): Review the functions below. Something has been changed to make this code more suitable for the model described above. What is it? Why has it been changed?"
   ]
  },
  {
   "cell_type": "markdown",
   "metadata": {},
   "source": [
    "/ put your answer here /"
   ]
  },
  {
   "cell_type": "code",
   "execution_count": null,
   "metadata": {},
   "outputs": [],
   "source": [
    "# standard includes\n",
    "import numpy as np\n",
    "import numpy.random as rand\n",
    "%matplotlib inline\n",
    "import matplotlib.pyplot as plt\n",
    "\n",
    "# Next we are going to import some specific libraries we will use to get the animation to work cleanly\n",
    "from IPython.display import display, clear_output\n",
    "import time"
   ]
  },
  {
   "cell_type": "code",
   "execution_count": null,
   "metadata": {},
   "outputs": [],
   "source": [
    "def plotgrid(myarray):\n",
    "    \n",
    "    # First create two vectors based on the x and y sizes of the grid\n",
    "    x_range = np.linspace(0, myarray.shape[1]-1, myarray.shape[1]) \n",
    "    y_range = np.linspace(0, myarray.shape[0]-1, myarray.shape[0])\n",
    "    \n",
    "    # Use the numpy meshgrid function to create two matrices\n",
    "    # of the same size as myarray with x and y indexes\n",
    "    x_indices, y_indices = np.meshgrid(x_range, y_range)\n",
    "    \n",
    "    # Make a list of all the x and y indexes that are either trees or fire.\n",
    "    tree_x = x_indices[myarray == 1]\n",
    "    tree_y = y_indices[myarray == 1]\n",
    "    fire_x = x_indices[myarray == 2] \n",
    "    fire_y = y_indices[myarray == 2]\n",
    "    \n",
    "    # Plot the trees and fire.\n",
    "    plt.plot(tree_x, myarray.shape[0] - tree_y - 1, 'gs',markersize=10)   \n",
    "    plt.plot(fire_x, myarray.shape[0] - fire_y - 1, 'rs',markersize=10)\n",
    "    \n",
    "    # Set the x and y limits so we don't cut off the shapes\n",
    "    plt.xlim([-1,myarray.shape[1]])\n",
    "    plt.ylim([-1,myarray.shape[0]]) \n",
    "\n",
    "    # Removing tick marks\n",
    "    plt.tick_params(axis='both', which='both',\n",
    "                    bottom=False, top=False, left=False, right=False,\n",
    "                    labelbottom=False, labelleft=False)"
   ]
  },
  {
   "cell_type": "code",
   "execution_count": null,
   "metadata": {},
   "outputs": [],
   "source": [
    "def set_board(board_size=50,f_trees_start=0.5):\n",
    "    '''\n",
    "    Creates the initial game board.\n",
    "\n",
    "    Inputs:\n",
    "        board_size: length of one edge of the board\n",
    "        f_trees_start: probability that a given cell is a tree\n",
    "                       (effectively the tree density)\n",
    "\n",
    "    Outputs a 2D numpy array with values set to either 0, 1, or 2\n",
    "        (empty, tree, or fire)\n",
    "    '''\n",
    "    \n",
    "    # all cells initialized to 'empty' (0) by default\n",
    "    game_board = np.zeros((board_size,board_size),dtype='int64')\n",
    "    \n",
    "    # loop over board and roll the dice; if the random number is less\n",
    "    # than f_trees_start, make it a tree.\n",
    "    for i in range(board_size):\n",
    "        for j in range(board_size):\n",
    "            if rand.random() <= f_trees_start:\n",
    "                game_board[i,j] = 1\n",
    "    \n",
    "    return game_board"
   ]
  },
  {
   "cell_type": "code",
   "execution_count": null,
   "metadata": {},
   "outputs": [],
   "source": [
    "def on_board(i, j, board):\n",
    "    if i <= board.shape[0]-1 and i >= 0 and j <= board.shape[1]-1 and j >= 0:\n",
    "        return True\n",
    "    else:\n",
    "        return False\n",
    "\n",
    "def get_neighbor_values(i,j, board):\n",
    "    neighborhood = [(i-1, j), (i, j-1), (i+1, j), (i, j+1)]\n",
    "    \n",
    "    neighbor_values = []\n",
    "    for neighbor in neighborhood:\n",
    "        if on_board(neighbor[0], neighbor[1], board):\n",
    "            neighbor_values.append(board[neighbor[0], neighbor[1]])\n",
    "    \n",
    "    return neighbor_values"
   ]
  },
  {
   "cell_type": "markdown",
   "metadata": {},
   "source": [
    "---\n",
    "The code below runs the animation for forest growth and controlled burns. If you run it, you will get an error. That's because you still need to define some of the functions that the ABM needs!\n",
    "\n",
    "### &#9989;&nbsp; 2.2 (5 points): Review the code below. At each empty comment (there are five, denoted by the lone hashtags), write a comment that describes what the chunk of code directly below it is supposed to be doing."
   ]
  },
  {
   "cell_type": "code",
   "execution_count": null,
   "metadata": {},
   "outputs": [],
   "source": [
    "f_trees_start = 0.5\n",
    "board_size = 50\n",
    "\n",
    "reproduction_rate = 0.02   # the probability of a tree reproducing in a given empty neighboring spot\n",
    "burns = 10                 # controlled burns per year in the board area\n",
    "\n",
    "fig = plt.figure(figsize=(10,10))\n",
    "\n",
    "board = set_board(board_size=board_size, f_trees_start=f_trees_start)\n",
    "\n",
    "plotgrid(board)\n",
    "\n",
    "#\n",
    "year = 0\n",
    "end = 25\n",
    "\n",
    "#\n",
    "while year < end:\n",
    "    \n",
    "    #\n",
    "    board = reset_burns(board)\n",
    "    board = controlled_burns(board, burns)\n",
    "    board = tree_reproduction(board, reproduction_rate)\n",
    "    \n",
    "    #\n",
    "    plotgrid(board)\n",
    "    time.sleep(0.5)\n",
    "    clear_output(wait=True)\n",
    "    display(fig)\n",
    "    fig.clear()\n",
    "    \n",
    "    #\n",
    "    year += 1\n",
    "\n",
    "plt.close()"
   ]
  },
  {
   "cell_type": "markdown",
   "metadata": {},
   "source": [
    "### In case you delete some of the code above on accident, here it is again, just copy and paste as needed.\n",
    "\n",
    "    f_trees_start = 0.5\n",
    "    board_size = 50\n",
    "\n",
    "    reproduction_rate = 0.02    # the probability of a tree reproducing in a given empty neighboring spot\n",
    "    burns = 10                  # controlled burns per year in the board area\n",
    "\n",
    "    fig = plt.figure(figsize=(10,10))\n",
    "\n",
    "    board = set_board(board_size=board_size, f_trees_start=f_trees_start)\n",
    "\n",
    "    plotgrid(board)\n",
    "    \n",
    "    #\n",
    "    year = 0\n",
    "    end = 25\n",
    "    \n",
    "    #\n",
    "    while year < end:\n",
    "        \n",
    "        #\n",
    "        board = reset_burns(board)\n",
    "        board = controlled_burns(board, burns)\n",
    "        board = tree_reproduction(board, reproduction_rate)\n",
    "        \n",
    "        #\n",
    "        plotgrid(board)\n",
    "        time.sleep(0.5)\n",
    "        clear_output(wait=True)\n",
    "        display(fig)\n",
    "        fig.clear()\n",
    "        \n",
    "        #\n",
    "        year += 1\n",
    "\n",
    "    plt.close()"
   ]
  },
  {
   "cell_type": "markdown",
   "metadata": {},
   "source": [
    "---\n",
    "The `reset_burns` function is meant to reset all fires to be empty cells. The input is a board. The output is a board with all the same values, but the fires have been set to empty.\n",
    "\n",
    "### &#9989;&nbsp; 2.3 (3 points): Create the `reset_burns` function in the cell below."
   ]
  },
  {
   "cell_type": "code",
   "execution_count": 1,
   "metadata": {},
   "outputs": [],
   "source": [
    "# your answer here\n",
    "def reset_burns(board):\n",
    "    new_board = np.zeros_like(board)\n",
    "    for i in range(board.shape[0]):\n",
    "        for j in range(board.shap[1]):\n",
    "            if board[i,j]==1:\n",
    "                new_board[i,j]==1\n",
    "            if board[i,j]==0 or board[i,j]==2:\n",
    "                new_board[i,j]==0\n",
    "    return new_board"
   ]
  },
  {
   "cell_type": "markdown",
   "metadata": {},
   "source": [
    "---\n",
    "The `controlled_burns` function is meant to carry out the controlled burns. Each controlled burn picks a cell at random, and sets fire to that cell and its neighbors. Don't worry, the fire will not spread further than this, thanks to the `reset_burns` function from above. The picture below shows an example of what the controlled burns would look like if they happened 10 burns at once.\n",
    "\n",
    "<img src=\"controlled_burns.png\" width=500 height=500 />\n",
    "\n",
    "To review how the function should work:\n",
    "* Input: a board, a number of burns\n",
    "* Output: a board\n",
    "* the outputted board should have a number of randomly located controlled burns applied to it, according to the inputs\n",
    "\n",
    "### &#9989;&nbsp; 2.4 (6 points): Create the `controlled_burns` function in the cell below."
   ]
  },
  {
   "cell_type": "code",
   "execution_count": null,
   "metadata": {},
   "outputs": [],
   "source": [
    "# your answer here"
   ]
  },
  {
   "cell_type": "markdown",
   "metadata": {},
   "source": [
    "---\n",
    "The `tree_reproduction` function is meant to give the trees a chance to reproduce in neighboring empty cells. Each empty cell has a chance of producing a tree, depending on the reproduction rate of the forest and the number of adjacent trees. The probability of an empty spot yielding a tree is governed by the equation below.\n",
    "\n",
    "$$p = n * r$$\n",
    "\n",
    "* $p$ is the probability that an empty spot will yield a tree in a given year\n",
    "* $n$ is the number of trees neighboring the empty spot\n",
    "* $r$ is the reproduction rate\n",
    "\n",
    "To review how the function should work:\n",
    "* Input: a board, a reproduction rate\n",
    "* Output: a board\n",
    "* The outputted board should have several more trees than the inputted board. the new trees should be on previously empty spots, according the equation above\n",
    "\n",
    "### &#9989;&nbsp; 2.5 (6 points): Create the `tree_reproduction` function in the cell below."
   ]
  },
  {
   "cell_type": "code",
   "execution_count": null,
   "metadata": {},
   "outputs": [],
   "source": [
    "# your answer here"
   ]
  },
  {
   "cell_type": "markdown",
   "metadata": {},
   "source": [
    "---\n",
    "### Go back and run the cell in 2.2. If the animation runs and you can see trees reproducing and the controlled burns happening, then you know your functions are working."
   ]
  },
  {
   "cell_type": "markdown",
   "metadata": {},
   "source": [
    "---\n",
    "#  Part 3: Analyzing the new ABM\n",
    "\n",
    "You might remember from ICA 19 that the tipping point for a forest in danger of forest fires was right around where the density of the forest was 0.6. Your job is to make a recommendation on how many controlled burns need to be carried out per year to keep a forest from becoming too dangerous. The forest's current condition:\n",
    "\n",
    "* size: 100 by 100\n",
    "* initial density of trees: 0.55\n",
    "* reproduction rate of trees: 0.02\n",
    "* controlled burns per year: **up to you!**\n",
    "\n",
    "To make a convincing recommendation, you will need to produce a plot that shows how the forest's density changes over **the next 100 years**.\n",
    "\n",
    "To help you, we've supplied a function to calculate the forest density of the board."
   ]
  },
  {
   "cell_type": "code",
   "execution_count": null,
   "metadata": {},
   "outputs": [],
   "source": [
    "def forest_density(board):\n",
    "    return (board == 1).sum() / board.size"
   ]
  },
  {
   "cell_type": "markdown",
   "metadata": {},
   "source": [
    "### &#9989;&nbsp; 3.1 (6 points): Write code and produce a plot of forest densities versus years for the next 100 years. It might help to have some of the code from 2.2, so we pasted it below and stripped away the animation stuff."
   ]
  },
  {
   "cell_type": "markdown",
   "metadata": {},
   "source": [
    "    f_trees_start = 0.5\n",
    "    board_size = 50\n",
    "\n",
    "    reproduction_rate = 0.02    # the probability of a tree reproducing in a given empty neighboring spot\n",
    "    burns = 10                  # controlled burns per year in the board area\n",
    "\n",
    "    board = set_board(board_size=board_size, f_trees_start=f_trees_start)\n",
    "\n",
    "    year = 0\n",
    "    end = 25\n",
    "\n",
    "    while year < end:\n",
    "\n",
    "        board = reset_burns(board)\n",
    "        board = controlled_burns(board, burns)\n",
    "        board = tree_reproduction(board, reproduction_rate)\n",
    "\n",
    "        year += 1"
   ]
  },
  {
   "cell_type": "code",
   "execution_count": null,
   "metadata": {},
   "outputs": [],
   "source": [
    "# your answer here"
   ]
  },
  {
   "cell_type": "markdown",
   "metadata": {},
   "source": [
    "---\n",
    "Now it's time to make your recommendation... If your plot showed the forest going above 0.6 in density, you might want to go back to 3.1 and change the number of controlled burns\n",
    "\n",
    "### &#9989;&nbsp; 3.2 (4 points): How many controlled burns per year should be carried out in this forest? Use your plot to justify your answer. Your recommendation should have enough controlled burns to keep the forest below 0.6 density over the next 100 years, but also don't make the forest wither away from too many controlled burns (and an over-funded fire department)."
   ]
  },
  {
   "cell_type": "markdown",
   "metadata": {},
   "source": [
    "/ your answer here /"
   ]
  },
  {
   "cell_type": "markdown",
   "metadata": {},
   "source": [
    "---\n",
    "In an ABM, as with any model, there are assumptions baked into it. For example, when we modeled forest fires in class, we assumed there was no wind, we assumed every tree was the same size, and we assumed the fire spread between trees that touched but never between trees that were diagonal. These assumptions helped us translate the model into code, but they also constrain the real world application of the model (What if it's a really windy day? What then??!)\n",
    "\n",
    "### &#9989;&nbsp; 3.3 (4 points): List four assumptions that were part of the controlled burns model."
   ]
  },
  {
   "cell_type": "markdown",
   "metadata": {},
   "source": [
    "/ your answer here /"
   ]
  },
  {
   "cell_type": "markdown",
   "metadata": {
    "id": "LWhZbMUPzLq-"
   },
   "source": [
    "---\n",
    "\n",
    "### Congratulations, you're done!\n",
    "\n",
    "Submit this assignment by uploading it to the course Desire2Learn web page.  \n",
    "Go to the \"Homework Assignments\" section, find the appropriate submission folder link, and upload it there.\n"
   ]
  },
  {
   "cell_type": "markdown",
   "metadata": {
    "id": "AeXZvgIIzLq-"
   },
   "source": [
    "&#169; Copyright 2020, [Department of Computational Mathematics, Science and Engineering](https://cmse.msu.edu) at Michigan State University."
   ]
  }
 ],
 "metadata": {
  "colab": {
   "name": "HW-03_ItalyMigrationData.ipynb",
   "provenance": []
  },
  "kernelspec": {
   "display_name": "Python 3",
   "language": "python",
   "name": "python3"
  },
  "language_info": {
   "codemirror_mode": {
    "name": "ipython",
    "version": 3
   },
   "file_extension": ".py",
   "mimetype": "text/x-python",
   "name": "python",
   "nbconvert_exporter": "python",
   "pygments_lexer": "ipython3",
   "version": "3.8.8"
  }
 },
 "nbformat": 4,
 "nbformat_minor": 4
}
