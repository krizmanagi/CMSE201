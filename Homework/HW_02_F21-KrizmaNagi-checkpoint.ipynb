{
 "cells": [
  {
   "cell_type": "markdown",
   "id": "51844381",
   "metadata": {},
   "source": [
    "# Homework 2: If Statements, Functions, and Modules"
   ]
  },
  {
   "cell_type": "markdown",
   "id": "a2a07f79",
   "metadata": {},
   "source": [
    "### <p style=\"text-align: right;\"> &#9989; **Krizma Nagi** </p>"
   ]
  },
  {
   "cell_type": "markdown",
   "id": "8a682d79",
   "metadata": {},
   "source": [
    "# __CMSE  201 &ndash; Fall 2021__\n",
    "\n",
    "<img src=\"https://cmse.msu.edu/sites/_cmse/assets/Image/image002.jpg\"\n",
    "     alt=\"CMSE Logo\"\n",
    "     align=\"right\" \n",
    "     height=\"100\" \n",
    "     width=\"100\" />\n",
    "\n",
    "\n",
    "## Learning Goals\n",
    "\n",
    "### Content Goals\n",
    "- **Use if/elif/else statements to implement a logical flow**\n",
    "- **Write and execute functions**\n",
    "- **Use the python math module**\n",
    "- **Display data on plots using matplotlib**\n",
    "\n",
    "\n",
    "### Practice Goals\n",
    "- **Commenting code**\n",
    "- **Using functions to build reusable/transferable code**\n",
    "- **Use visualization best practices to make informative plots**\n",
    "\n",
    "\n",
    "___"
   ]
  },
  {
   "cell_type": "markdown",
   "id": "c325d7cc",
   "metadata": {},
   "source": [
    "## Assignment instructions\n",
    "\n",
    "Work through the following assignment, making sure to follow all the directions and answer all the questions.\n",
    "\n",
    "**This assignment is due at 11:59 pm on Friday, October 1st.** It should be uploaded into the \"Homework Assignments\" submission folder for Homework #2.  Submission instructions can be found at the end of the notebook."
   ]
  },
  {
   "cell_type": "markdown",
   "id": "6bf26380",
   "metadata": {},
   "source": [
    "---\n",
    "## Grading\n",
    "\n",
    "* Part 1: Designing a Zoo Layout (7 points)\n",
    "    * 1.1: (2 points)\n",
    "    * 1.2: (5 points)\n",
    "* Part 2: Functions (20 points)\n",
    "    * 2.1: Backpacking in Europe (10 points)\n",
    "    * 2.2: Stock Prices (10 points)   \n",
    "* Part 3: Modules and matplotlib (12 points)\n",
    "\n",
    "Total points possible: **40**\n",
    "\n",
    "---"
   ]
  },
  {
   "cell_type": "markdown",
   "id": "524c9e3f",
   "metadata": {},
   "source": [
    "# ---\n",
    "# Academic integrity statement (1 point)\n",
    "\n",
    "In the markdown cell below, put your personal academic integrity statement (composed during the Day04 In-Class Assignment). By including this statement, you are confirming that the work you submit in the assignment is wholly your own.  "
   ]
  },
  {
   "cell_type": "markdown",
   "id": "3a36ba25",
   "metadata": {},
   "source": [
    "<font size=6 color=\"#009600\">&#9998;</font> *I, Krizma Nagi, commit to not engaging in any act of academic dishonesty. I value the priviledge I have of earning an education, and this is why integrity is important to me. My parents' hard work motivates me to do better, and complete courses successfully with the utmost honesty. I commit to conducting my work with integrity by citing sources, and submitting my own work. I acknowledge and am aware of the MSU ethical standards for integrity regarding plagarism and academic dishonesty.*"
   ]
  },
  {
   "cell_type": "markdown",
   "id": "db706f43",
   "metadata": {},
   "source": [
    "<img src=\"https://www.jbzoo.org/uploads/images/JBZ_Summer2021_MapWebFINAL.jpg\"\n",
    "     alt=\"John Ball Zoo, Grand Rapids, MI\"\n",
    "     align=\"center\" \n",
    "     height=\"800\" \n",
    "     width=\"800\" />"
   ]
  },
  {
   "cell_type": "markdown",
   "id": "5fd9b4a4",
   "metadata": {},
   "source": [
    "## Part 1: Designing a Zoo Layout\n",
    "\n",
    "You are working with a team to redesign a zoo layout. The designers have decided that the zoo will be divided into sections based on the continent the animals are found on and their habitats. You have the data table below containing the species name, continent, and if their habitat requirements are primarily water, primarily flying, or primarily land.\n",
    "\n",
    "\n",
    "| Species | Continent | Water Habitat | Flying Habitat | Land Habitat |\n",
    "| :----- | :----- | :------ | :----- | :----- |\n",
    "| River Otter | North America | Yes | No  | No  |\n",
    "| Viscacha | South America | No | No | Yes  |\n",
    "| Emperor Penguin | Antarctica | Yes | No  | No |\n",
    "| Toco Toucan | South America | No | Yes | No |\n",
    "| Lion | Africa | No | No  | Yes |\n",
    "| Platypus | Australia | Yes | No | No |\n",
    "| Pink Flamingo | Europe | No | Yes | No |\n",
    "| Binturong | Asia | No | No | Yes |\n",
    "| Grizzly Bear | North America | No | No | Yes |"
   ]
  },
  {
   "cell_type": "markdown",
   "id": "103bd155",
   "metadata": {},
   "source": [
    "### 1.1 Making Lists (2 points)\n",
    "\n",
    "&#9989;&nbsp; In the cell below, create a list of lists that contains all of the data in the table above. The structure of the list should be `animal_data = [list0, list1, list2,...]` with as many entries as rows. Each list in `animal_data` is the information for one animal. For example, `list0` would contain all of the information about the river otter (`list0 = ['River Otter', 'North America','Yes','No','No']`)."
   ]
  },
  {
   "cell_type": "code",
   "execution_count": 1,
   "id": "303ae7c5",
   "metadata": {},
   "outputs": [],
   "source": [
    "animal_data = [['River Otter', 'North American', 'Yes', 'No', 'No'], \n",
    "               ['Viscacha', 'South America', 'No', 'No', 'Yes'], ['Emperor Penguin', 'Antarctica', 'Yes', 'No', 'No'],\n",
    "               ['Toco Toucan', 'South America', 'No', 'Yes', 'No'], ['Platypus', 'Australia', 'Yes', 'No', 'No'],\n",
    "               ['Pink Famingo', 'Europe', 'NO', 'Yes', 'No'], ['Binturong', 'Asia', 'No', 'No', 'Yes'], \n",
    "               ['Grizzly Bear', 'North America', 'No', 'No', 'Yes']]"
   ]
  },
  {
   "cell_type": "markdown",
   "id": "23112b18",
   "metadata": {},
   "source": [
    "### 1.2 Categorizing Animals\n",
    "\n",
    "&#9989;&nbsp; Loop through your list from part 1.1 with a `for` or `while` loop, and using appropriate `if/elif/else` statements, determine the region and habitat for each animal in the zoo and print them out as a string.\n",
    "\n",
    "For example, for _River Otter_ your loop should print `River Otter is in the North America Region in a primarily Water Habitat`.\n",
    "\n",
    "**Note:** Your solution should use the information in the Contintent/Water Habitat/Flying Habitat/Land Habitat along with appropriate `if/elif/else` statements. "
   ]
  },
  {
   "cell_type": "markdown",
   "id": "60c67a8e",
   "metadata": {},
   "source": [
    "### 1.2.1 Pseudocoding (2 points)\n",
    "\n",
    "&#9989;&nbsp; Write out your plan for how you will write your code to solve the problem in the cell below."
   ]
  },
  {
   "cell_type": "code",
   "execution_count": 3,
   "id": "7cdf8d8f",
   "metadata": {},
   "outputs": [],
   "source": [
    " #for all of the data compiled\n",
    "    #get animal name\n",
    "    #get continent\n",
    "    #determine habitat (land, water, flying) using if, elif, else statements\n",
    "    #print statements"
   ]
  },
  {
   "cell_type": "markdown",
   "id": "09ff8406",
   "metadata": {},
   "source": [
    "### 1.2.2 Now turn your pseudocode in to code! (3 points)\n",
    "\n",
    "&#9989;&nbsp; In the cell(s) below, write out your solution. Don't forget to use code comments where appropriate!"
   ]
  },
  {
   "cell_type": "code",
   "execution_count": 8,
   "id": "702105ed",
   "metadata": {},
   "outputs": [
    {
     "name": "stdout",
     "output_type": "stream",
     "text": [
      "River Otter is in the North American region in a primarily water habitat.\n",
      "Viscacha is in the South America region in a primarily land habitat.\n",
      "Emperor Penguin is in the Antarctica region in a primarily water habitat.\n",
      "Toco Toucan is in the South America region in a primarily flying habitat.\n",
      "Platypus is in the Australia region in a primarily water habitat.\n",
      "Pink Famingo is in the Europe region in a primarily flying habitat.\n",
      "Binturong is in the Asia region in a primarily land habitat.\n",
      "Grizzly Bear is in the North America region in a primarily land habitat.\n"
     ]
    }
   ],
   "source": [
    "for x in animal_data:\n",
    "    if x[2] == 'Yes': \n",
    "        print(x[0], \"is in the\", x[1], \"region in a primarily water habitat.\")\n",
    "    elif x[3] == 'Yes':\n",
    "        print(x[0], \"is in the\", x[1], \"region in a primarily flying habitat.\")\n",
    "    elif x[4] == 'Yes':\n",
    "        print(x[0], \"is in the\", x[1], \"region in a primarily land habitat.\")"
   ]
  },
  {
   "cell_type": "markdown",
   "id": "cdb643ea",
   "metadata": {},
   "source": [
    "## Part 2: Functions"
   ]
  },
  {
   "cell_type": "markdown",
   "id": "94d2a8a5",
   "metadata": {},
   "source": [
    "## 2.1 Backpacking in Europe\n",
    "\n",
    "You and your friends are trying to plan a backpacking trip to Europe, but all of the information you can find is in metric units (meters, liters, kilograms) and your friends are only familiar with imperial units (feet, gallons, pounds). However, you remember that you know python and can write yourself a tool to convert units as necessary!"
   ]
  },
  {
   "cell_type": "markdown",
   "id": "d20859a2",
   "metadata": {},
   "source": [
    "### 2.1.1 (2 points)\n",
    "\n",
    "&#9989;&nbsp; In the cell below, write a separate calculation for converting liters to gallons, meters to feet, and kilograms to pounds. You should use the internet to determine the values for conversion. **Test your conversions by converting 2 liters to gallons, 5000 meters to feet, and 150 kilograms to pounds.**\n",
    "\n",
    "For example, there are 3600 seconds in one hour, so to convert from hours to seconds, you need to multiply the number of hours by 3600.\n",
    "\n",
    "`hours = 4\n",
    "seconds_in_an_hour = 3600\n",
    "time_in_seconds = hours*seconds_in_an_hour\n",
    "print(time_in_seconds)`"
   ]
  },
  {
   "cell_type": "code",
   "execution_count": 9,
   "id": "b81b7346",
   "metadata": {},
   "outputs": [
    {
     "name": "stdout",
     "output_type": "stream",
     "text": [
      "0.528344\n",
      "16404.2\n",
      "330.693\n"
     ]
    }
   ],
   "source": [
    "liters = 2\n",
    "liters_per_gallon = 0.264172\n",
    "liters_as_gallons = liters * liters_per_gallon\n",
    "print(liters_as_gallons)\n",
    "\n",
    "\n",
    "meters = 5000\n",
    "meters_per_feet = 3.28084\n",
    "meters_as_feet = meters * meters_per_feet\n",
    "print(meters_as_feet)\n",
    "\n",
    "kilos = 150\n",
    "kilos_per_lb = 2.20462\n",
    "kilos_as_lbs = kilos * kilos_per_lb\n",
    "print(kilos_as_lbs)"
   ]
  },
  {
   "cell_type": "markdown",
   "id": "dd5f7214",
   "metadata": {},
   "source": [
    "### 2.1.2 (2 points)\n",
    "\n",
    "While it's pretty easy to do multiplication in python, it's rather slow to have to type a new equation every time, so to make things faster for you and your friends, you will write a function that takes in the metric value and returns the imperial value. \n",
    "\n",
    "&#9989;&nbsp; In the cell below, write a function to calculate the conversion of liters to gallons."
   ]
  },
  {
   "cell_type": "code",
   "execution_count": 12,
   "id": "11ded193",
   "metadata": {},
   "outputs": [
    {
     "name": "stdout",
     "output_type": "stream",
     "text": [
      "0.528344\n"
     ]
    }
   ],
   "source": [
    "#x is the initial value, y is the conversion value\n",
    "def conversions(x,y):\n",
    "    new_value = x * y\n",
    "    return(new_value)\n",
    "y = 0.264172\n",
    "print(conversions(2,y))"
   ]
  },
  {
   "cell_type": "markdown",
   "id": "7e5142e8",
   "metadata": {},
   "source": [
    "### 2.1.3 (5 points)\n",
    "\n",
    "To make your conversion tool the most useful by all of your friends, you need to expand your function to calculate the conversions for meters and kilograms as well. Your function should be able to take a value and its metric units and return the imperial units.\n",
    "\n",
    "&#9989;&nbsp; In the cell below, plan out your function using pseudocode."
   ]
  },
  {
   "cell_type": "code",
   "execution_count": 112,
   "id": "f6216ee5",
   "metadata": {},
   "outputs": [],
   "source": [
    "#x is the initial value, y is the conversion value\n",
    "#those values need to multiply in order to get the answer\n",
    "#very broad function so that anything can be plugged into y, and any conversion can be made"
   ]
  },
  {
   "cell_type": "markdown",
   "id": "606bd57e",
   "metadata": {},
   "source": [
    "&#9989;&nbsp; In the cell below, write your function. Feel free to add additional cells if necessary."
   ]
  },
  {
   "cell_type": "code",
   "execution_count": 13,
   "id": "3fb1a93f",
   "metadata": {},
   "outputs": [
    {
     "name": "stdout",
     "output_type": "stream",
     "text": [
      "16404.2\n"
     ]
    }
   ],
   "source": [
    "#x is the initial value, y is the conversion value\n",
    "\n",
    "def conversions(x,y):\n",
    "    new_value = x * y\n",
    "    return(new_value)\n",
    "y = 3.28084\n",
    "print(conversions(5000,y))"
   ]
  },
  {
   "cell_type": "markdown",
   "id": "0bc0b8e6",
   "metadata": {},
   "source": [
    "### 2.1.4 Checking your work (1 point)\n",
    "\n",
    "&#9989;&nbsp; In the cell below, demonstrate that your code works as you intend with words and code examples."
   ]
  },
  {
   "cell_type": "code",
   "execution_count": 15,
   "id": "51e2de49",
   "metadata": {
    "scrolled": true
   },
   "outputs": [
    {
     "name": "stdout",
     "output_type": "stream",
     "text": [
      "0.528344\n",
      "16404.2\n"
     ]
    }
   ],
   "source": [
    "#x is the initial value, y is the conversion value\n",
    "\n",
    "#testing-1\n",
    "def conversions(x,y):\n",
    "    new_value = x * y\n",
    "    return(new_value)\n",
    "y = 0.264172             #any known conversion value can be used for y(has to be outside the function)\n",
    "print(conversions(2,y))\n",
    "\n",
    "#testing-2\n",
    "def conversions(x,y):\n",
    "    new_value = x * y\n",
    "    return(new_value)\n",
    "y = 3.28084\n",
    "print(conversions(5000,y))"
   ]
  },
  {
   "cell_type": "markdown",
   "id": "50b348cf",
   "metadata": {},
   "source": [
    "## 2.2 Tracking Stock Prices\n",
    "\n",
    "You are investing in the stock market, and you want to keep an eye on the stocks that are **increasing or decreasing** the most over time. To do this, you will **write a function** to calculate the percent difference between open and close each day and plot it. \n",
    "\n",
    "Percent difference can be calculated by $\\% \\ difference = \\frac{(close-open)}{open}$"
   ]
  },
  {
   "cell_type": "markdown",
   "id": "bd78163a",
   "metadata": {},
   "source": [
    "### 2.2.1 Understanding Percent Difference (1 point)\n",
    "\n",
    "In your own words, describe what the percent difference tells you about data. **Hint:** What does it mean if the percent difference is large? What about if it is small?"
   ]
  },
  {
   "cell_type": "markdown",
   "id": "e1398838",
   "metadata": {},
   "source": [
    " <font size=\"+3\">&#9998;</font> *The higher the percentage means that there is a bigger gap in between open and close each day. The smaller the percentage, the smaller the gap in between open and close each day.*"
   ]
  },
  {
   "cell_type": "markdown",
   "id": "8071c25a",
   "metadata": {},
   "source": [
    "### 2.2.2 Planning (1 point)\n",
    "\n",
    "&#9989;&nbsp; In the cell below write out your plan for your percent difference function."
   ]
  },
  {
   "cell_type": "code",
   "execution_count": 118,
   "id": "b400b147",
   "metadata": {},
   "outputs": [],
   "source": [
    "# define some function called percent_change(x,y)\n",
    "# x = open, y = close\n",
    "# in the function write down the actual formula to calculate percent change\n",
    "# change variables to test and to finish, debug my code"
   ]
  },
  {
   "cell_type": "markdown",
   "id": "41ebd0b6",
   "metadata": {},
   "source": [
    "### 2.2.3 Developing your function (5 points)\n",
    "\n",
    "&#9989;&nbsp; In the cell below, write your percent difference function and test it using the test data. Feel free to add additional cells as needed."
   ]
  },
  {
   "cell_type": "code",
   "execution_count": 23,
   "id": "c6d20e97",
   "metadata": {},
   "outputs": [],
   "source": [
    "# test data\n",
    "test_open = [40,42,48,36,40,45]\n",
    "test_close = [41,46,37,38,44,45,42]\n",
    "test_days = list(range(len(test_open)))"
   ]
  },
  {
   "cell_type": "code",
   "execution_count": 39,
   "id": "d19049f7",
   "metadata": {},
   "outputs": [
    {
     "name": "stdout",
     "output_type": "stream",
     "text": [
      "The difference is 0.025 %.\n"
     ]
    },
    {
     "data": {
      "text/plain": [
       "0.025"
      ]
     },
     "execution_count": 39,
     "metadata": {},
     "output_type": "execute_result"
    }
   ],
   "source": [
    "def percentage(test_days, test_open = [], test_close = []):\n",
    "    for i in range(test_days):\n",
    "        difference = (test_close[i]-test_open[i])/test_open[i]\n",
    "        print(\"The difference is\", difference, \"%.\")\n",
    "        return difference\n",
    "percentage(5, test_open, test_close)"
   ]
  },
  {
   "cell_type": "markdown",
   "id": "b1794bf2",
   "metadata": {},
   "source": [
    "### 2.2.4 Checking your work (1 point)\n",
    "\n",
    "&#9989;&nbsp; In the cell below, demonstrate that your function works with code and exmaples."
   ]
  },
  {
   "cell_type": "code",
   "execution_count": 27,
   "id": "059f1fc1",
   "metadata": {},
   "outputs": [
    {
     "name": "stdout",
     "output_type": "stream",
     "text": [
      "The difference is 0.025 %.\n"
     ]
    },
    {
     "data": {
      "text/plain": [
       "0.025"
      ]
     },
     "execution_count": 27,
     "metadata": {},
     "output_type": "execute_result"
    }
   ],
   "source": [
    "def percentage(test_days, test_open = [], test_close = []):\n",
    "    for i in range(test_days):\n",
    "        difference = (test_close[i]-test_open[i])/test_open[i]\n",
    "        print(\"The difference is\", difference, \"%.\")\n",
    "        return difference\n",
    "percentage(3, test_open, test_close)"
   ]
  },
  {
   "cell_type": "code",
   "execution_count": 28,
   "id": "b3c3ce58",
   "metadata": {},
   "outputs": [
    {
     "name": "stdout",
     "output_type": "stream",
     "text": [
      "The difference is 0.025 %.\n"
     ]
    },
    {
     "data": {
      "text/plain": [
       "0.025"
      ]
     },
     "execution_count": 28,
     "metadata": {},
     "output_type": "execute_result"
    }
   ],
   "source": [
    "def percentage(test_days, test_open = [], test_close = []):\n",
    "    for i in range(test_days):\n",
    "        difference = (test_close[i]-test_open[i])/test_open[i]\n",
    "        print(\"The difference is\", difference, \"%.\")\n",
    "        return difference\n",
    "percentage(1, test_open, test_close)"
   ]
  },
  {
   "cell_type": "markdown",
   "id": "9942a306",
   "metadata": {},
   "source": [
    "### 2.2.5 Plotting Data (2 points)\n",
    "\n",
    "&#9989;&nbsp; Using your function, calculate the daily percent difference for the stock data below and plot your results."
   ]
  },
  {
   "cell_type": "code",
   "execution_count": 30,
   "id": "ac38adf8",
   "metadata": {},
   "outputs": [],
   "source": [
    "# Stock data source: https://eoddata.com/stockquote/NYSE/GME.htm?e=NYSE&s=GME\n",
    "daily_open = [19.0, 17.35, 17.34, 18.47, 18.18, 19.41, 19.96, 20.42, 38.09, 38.49, 35.5, 41.55, 37.37, 39.23, 42.59, 96.73, 88.56, 354.83, 265.0, 383.17, 316.56, 140.76, 112.01, 91.19, 54.04, 72.41, 56.61, 50.77, 50.01, 50.75, 52.4, 52.99, 49.55, 48.49, 41.28, 46.69, 44.97, 44.7, 169.56, 117.46, 104.54, 116.93, 122.51, 125.0, 128.17, 154.89, 217.71, 269.43, 241.64, 275.0, 277.52, 203.16, 217.84, 214.0, 195.73, 205.26, 197.5, 157.98, 123.49, 197.68, 180.75, 187.5, 197.5, 193.36, 191.45, 171.0, 185.21, 183.22, 185.88, 169.7, 158.11, 141.88, 143.57, 163.0, 156.0, 171.8, 164.14, 158.4, 159.1, 149.0, 150.98, 183.55, 172.1, 176.56, 175.0, 177.49, 159.0, 161.83, 160.86, 160.11, 161.31, 137.0, 145.7, 147.44, 160.0, 159.85, 174.54, 172.91, 170.79, 171.0, 175.85, 181.0, 229.0, 229.8, 262.97, 222.0, 233.48, 248.88, 265.71, 256.02, 258.0, 292.0, 303.12, 282.0, 222.35, 236.5, 226.36, 215.24, 224.0, 219.86, 216.95, 217.73, 221.45, 221.16, 214.0, 211.25, 213.59, 209.69, 213.4, 204.8, 202.83, 204.0, 196.0, 179.83, 190.88, 191.42, 187.68, 180.49, 160.0, 170.15, 163.14, 173.9, 187.79, 185.3, 181.0, 180.36, 183.0, 175.72, 170.6, 165.0, 162.0, 156.74, 152.73, 148.0, 154.59, 151.8, 161.36, 158.43, 159.88, 160.47, 161.0, 161.19, 163.25, 156.77, 153.8, 162.38, 166.29, 206.65, 200.68, 207.7, 205.0, 212.7, 224.0, 213.86, 212.05, 206.25, 201.86, 180.09, 198.41, 193.75, 200.65]\n",
    "daily_close = [17.25, 17.37, 18.36, 18.08, 17.69, 19.94, 19.95, 31.4, 39.91, 35.5, 35.5, 39.36, 39.12, 43.03, 65.01, 76.79, 147.98, 347.51, 193.6, 325.0, 225.0, 90.0, 92.41, 53.5, 63.77, 60.0, 50.31, 51.2, 51.1, 52.4, 52.4, 49.51, 45.94, 40.69, 40.59, 46.0, 44.97, 91.71, 108.73, 101.74, 120.4, 118.18, 124.18, 132.35, 137.74, 194.5, 246.9, 265.0, 260.0, 264.5, 220.14, 208.17, 209.81, 201.75, 200.27, 194.49, 181.75, 120.34, 183.75, 181.0, 181.3, 194.46, 189.82, 191.45, 191.45, 186.95, 184.5, 177.97, 170.26, 158.36, 141.09, 140.99, 166.53, 156.44, 154.69, 164.37, 158.53, 158.51, 151.17, 151.18, 168.93, 177.77, 178.58, 176.19, 173.59, 162.2, 160.73, 159.48, 161.01, 161.11, 143.22, 146.92, 144.79, 164.5, 159.92, 180.6, 180.67, 168.83, 170.49, 176.79, 180.01, 209.43, 242.56, 254.13, 222.0, 222.0, 249.02, 282.24, 258.18, 248.36, 280.01, 300.0, 302.56, 220.39, 233.34, 229.44, 222.5, 222.97, 223.59, 213.82, 200.37, 220.4, 219.34, 212.31, 209.51, 213.25, 210.88, 214.14, 204.36, 202.83, 202.83, 199.56, 190.66, 191.38, 191.23, 189.25, 180.06, 167.62, 166.82, 169.04, 173.49, 191.18, 185.81, 178.85, 180.36, 183.94, 178.54, 169.12, 164.86, 161.12, 157.65, 152.75, 146.8, 153.44, 151.77, 161.13, 159.05, 158.78, 162.35, 162.52, 163.93, 163.55, 157.05, 152.9, 159.3, 164.89, 210.29, 199.65, 205.22, 204.95, 209.2, 218.24, 212.97, 213.52, 202.75, 199.0, 198.8, 199.18, 190.41, 203.4, 199.24]\n",
    "days = list(range(len(daily_open)))"
   ]
  },
  {
   "cell_type": "code",
   "execution_count": 31,
   "id": "cb11d1bf",
   "metadata": {},
   "outputs": [
    {
     "name": "stdout",
     "output_type": "stream",
     "text": [
      "The difference is -0.09210526315789473 %.\n"
     ]
    },
    {
     "data": {
      "text/plain": [
       "-0.09210526315789473"
      ]
     },
     "execution_count": 31,
     "metadata": {},
     "output_type": "execute_result"
    }
   ],
   "source": [
    "def percentage(days, daily_open = [], daily_close = []):\n",
    "    for i in range(days):\n",
    "        difference = (daily_close[i]-daily_open[i])/daily_open[i]\n",
    "        print(\"The difference is\", difference, \"%.\")\n",
    "        return difference\n",
    "percentage(5, daily_open, daily_close)"
   ]
  },
  {
   "cell_type": "markdown",
   "id": "5786fc78",
   "metadata": {},
   "source": [
    "### 2.2.6 Making Observations (1 point)\n",
    "\n",
    "&#9989;&nbsp; In 2.2.1, you provided reasoning for what percent difference calculations tell us about data. Given what you now know about percent differences, make observations about the percent difference measurements over time in your plot and describe anything you find particularly notable."
   ]
  },
  {
   "cell_type": "markdown",
   "id": "827db5ce",
   "metadata": {},
   "source": [
    " <font size=\"+3\">&#9998;</font> *The percent differences tell us how much the values of different data points vary and the relationship between the open and close values of the stock market every day.*"
   ]
  },
  {
   "cell_type": "markdown",
   "id": "c66948c0",
   "metadata": {},
   "source": [
    "## Part 3: Modules and Plotting"
   ]
  },
  {
   "cell_type": "markdown",
   "id": "8164060f",
   "metadata": {},
   "source": [
    "### 3.1 Modules (2 points)\n",
    "The math module contains the basic trigonometric functions (sine, cosine, tangent, arcsine, arcosine, arctangent, etc.). \n",
    "\n",
    "&#9989;&nbsp; In the cell below, choose three of the trigonometric functions and generate x and y values for each. You should use the `math` module and/or the `numpy` module."
   ]
  },
  {
   "cell_type": "code",
   "execution_count": 5,
   "id": "02f83011",
   "metadata": {},
   "outputs": [],
   "source": [
    "import math\n",
    "\n",
    "sine_x = []\n",
    "sine_y = []\n",
    "cos_x =  []\n",
    "cos_y = []\n",
    "tan_x = []\n",
    "tan_y = []"
   ]
  },
  {
   "cell_type": "markdown",
   "id": "da48355a",
   "metadata": {},
   "source": [
    "### 3.2 Plotting (2 points)\n",
    "\n",
    "&#9989;&nbsp; In the cell below, make a plot for one of your trigonometric functions. Make sure to include axis labels, a title, and a legend."
   ]
  },
  {
   "cell_type": "code",
   "execution_count": 11,
   "id": "0059f163",
   "metadata": {},
   "outputs": [
    {
     "data": {
      "text/plain": [
       "<matplotlib.legend.Legend at 0x17fa5fa6760>"
      ]
     },
     "execution_count": 11,
     "metadata": {},
     "output_type": "execute_result"
    },
    {
     "data": {
      "image/png": "[encoded data removed]",
      "text/plain": [
       "<Figure size 432x288 with 1 Axes>"
      ]
     },
     "metadata": {
      "needs_background": "light"
     },
     "output_type": "display_data"
    }
   ],
   "source": [
    "import math\n",
    "import matplotlib.pyplot as plt\n",
    "\n",
    "sine_x = []\n",
    "cos_x = []\n",
    "tan_x = []\n",
    "\n",
    "i = 0\n",
    "\n",
    "while i <= 2*(math.pi):\n",
    "    sine_x.append(i)\n",
    "    cos_x.append(i)\n",
    "    tan_x.append(i)\n",
    "    i = i + 0.1\n",
    "\n",
    "sine_y = []\n",
    "cos_y =[]\n",
    "tan_y = []\n",
    "\n",
    "for i in sine_x:\n",
    "    sine_y.append(math.sin(i))\n",
    "    cos_y.append(math.cos(i))\n",
    "    tan_y.append(math.tan(i))\n",
    "\n",
    "plt.plot(sine_x, sine_y, label = 'sin(x)')\n",
    "plt.plot(cos_x, cos_y, label = 'cos(x)')\n",
    "plt.plot(tan_x, tan_y, label = 'tan(x)')\n",
    "plt.title('Trig Curves')\n",
    "plt.xlabel('X-values')\n",
    "plt.ylabel('Y-Values')\n",
    "plt.legend()"
   ]
  },
  {
   "cell_type": "markdown",
   "id": "da8e13c0",
   "metadata": {},
   "source": [
    "### 3.3 Streamlining plots\n",
    "\n",
    "In CMSE 201, you will be making plots often. To help future you save time, you are going to write a function to use when you make plots!\n",
    "\n",
    "### 3.3.1 (6 points)\n",
    "&#9989;&nbsp; In the cells below, write a function that takes the x and y values from all three of your trigonometric functions above and appropriate labels and returns a plot with a panel for each trigonometric function. You should use plt.subplot() and make use of labels, line shapes, and colors to make your plots clear. **You must also test your function to receive full credit**"
   ]
  },
  {
   "cell_type": "code",
   "execution_count": 14,
   "id": "6e0aefd1",
   "metadata": {},
   "outputs": [
    {
     "data": {
      "image/png": "[encoded data removed]",
      "text/plain": [
       "<Figure size 432x288 with 1 Axes>"
      ]
     },
     "metadata": {
      "needs_background": "light"
     },
     "output_type": "display_data"
    },
    {
     "data": {
      "image/png": "[encoded data removed]",
      "text/plain": [
       "<Figure size 432x288 with 1 Axes>"
      ]
     },
     "metadata": {
      "needs_background": "light"
     },
     "output_type": "display_data"
    },
    {
     "data": {
      "image/png": "[encoded data removed]",
      "text/plain": [
       "<Figure size 432x288 with 1 Axes>"
      ]
     },
     "metadata": {
      "needs_background": "light"
     },
     "output_type": "display_data"
    }
   ],
   "source": [
    "fig, sine = plt.subplots()\n",
    "sine.plot(sine_x, sine_y)\n",
    "sine.set_xlabel('x-values')\n",
    "sine.set_ylabel('y-values')\n",
    "sine.set_title('Sine Curve')\n",
    "sine.grid()\n",
    "\n",
    "fig, cos = plt.subplots()\n",
    "cos.plot(cos_x, cos_y)\n",
    "cos.set_xlabel('x-values')\n",
    "cos.set_ylabel('y-values')\n",
    "cos.set_title('Cosine Curve')\n",
    "cos.grid()\n",
    "\n",
    "fig, tan = plt.subplots()\n",
    "tan.plot(tan_x, tan_y)\n",
    "tan.set_xlabel('x-values')\n",
    "tan.set_ylabel('y-values')\n",
    "tan.set_title('Tangent Curve')\n",
    "tan.grid()"
   ]
  },
  {
   "cell_type": "markdown",
   "id": "33345140",
   "metadata": {},
   "source": [
    "### 3.4 Making your plotting function more flexible (2 points)\n",
    "\n",
    "&#9989;&nbsp; In the cell below, look at your function from 3.3 and write in words and/or pseudocode how you might change it to handle any number of subplots."
   ]
  },
  {
   "cell_type": "code",
   "execution_count": 16,
   "id": "23da09c4",
   "metadata": {},
   "outputs": [],
   "source": [
    "#One way to hangle any number of subplots is to create a function to create subplots given a set of number. This might help organize them better and handle them better as well."
   ]
  },
  {
   "cell_type": "markdown",
   "id": "d91c8530",
   "metadata": {},
   "source": [
    "---\n",
    "## Assignment Wrap-up\n",
    "\n",
    "Please fill out the following Form before you submit your assignment. **You must completely fill this out in order to receive credit for the assignment!**\n",
    "\n",
    "**COMPLETE THIS SURVEY through [this link](https://forms.office.com/Pages/ResponsePage.aspx?id=MHEXIi9k2UGSEXQjetVoffh-a-g_jQVGqbV9Nr124R5UOEVGM1Y1Wjc4NDdGTDAwTFRVTTVSVkFBWi4u) or through cell below.**\n"
   ]
  },
  {
   "cell_type": "code",
   "execution_count": 4,
   "id": "8413253c",
   "metadata": {},
   "outputs": [
    {
     "data": {
      "text/html": [
       "\n",
       "<iframe \n",
       "\tsrc=\"https://forms.office.com/Pages/ResponsePage.aspx?id=MHEXIi9k2UGSEXQjetVoffh-a-g_jQVGqbV9Nr124R5UOEVGM1Y1Wjc4NDdGTDAwTFRVTTVSVkFBWi4u\" \n",
       "\twidth=\"80%\" \n",
       "\theight=\"1200px\" \n",
       "\tframeborder=\"0\" \n",
       "\tmarginheight=\"0\" \n",
       "\tmarginwidth=\"0\">\n",
       "\tLoading...\n",
       "</iframe>\n"
      ],
      "text/plain": [
       "<IPython.core.display.HTML object>"
      ]
     },
     "execution_count": 4,
     "metadata": {},
     "output_type": "execute_result"
    }
   ],
   "source": [
    "###update this for homework 2\n",
    "from IPython.display import HTML\n",
    "HTML(\n",
    "\"\"\"\n",
    "<iframe \n",
    "\tsrc=\"https://forms.office.com/Pages/ResponsePage.aspx?id=MHEXIi9k2UGSEXQjetVoffh-a-g_jQVGqbV9Nr124R5UOEVGM1Y1Wjc4NDdGTDAwTFRVTTVSVkFBWi4u\" \n",
    "\twidth=\"80%\" \n",
    "\theight=\"1200px\" \n",
    "\tframeborder=\"0\" \n",
    "\tmarginheight=\"0\" \n",
    "\tmarginwidth=\"0\">\n",
    "\tLoading...\n",
    "</iframe>\n",
    "\"\"\"\n",
    ")"
   ]
  },
  {
   "cell_type": "markdown",
   "id": "044c96f2",
   "metadata": {},
   "source": [
    "---\n",
    "\n",
    "### Congratulations, you're done!\n",
    "\n",
    "Submit this assignment by uploading it to the course Desire2Learn web page.  Go to the \"Homework Assignments\" section, find the submission folder link for Homework #2, and upload it there."
   ]
  }
 ],
 "metadata": {
  "kernelspec": {
   "display_name": "Python 3",
   "language": "python",
   "name": "python3"
  },
  "language_info": {
   "codemirror_mode": {
    "name": "ipython",
    "version": 3
   },
   "file_extension": ".py",
   "mimetype": "text/x-python",
   "name": "python",
   "nbconvert_exporter": "python",
   "pygments_lexer": "ipython3",
   "version": "3.8.8"
  }
 },
 "nbformat": 4,
 "nbformat_minor": 5
}
