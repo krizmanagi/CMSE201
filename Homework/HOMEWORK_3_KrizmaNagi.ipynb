{
 "cells": [
  {
   "cell_type": "markdown",
   "metadata": {},
   "source": [
    "# Homework 3: Data Analysis with Pandas, Numpy, and Matplotlib\n",
    "\n",
    "## Learning Goals\n",
    "* Load data into notebooks using Pandas\n",
    "* Determine the components of the data\n",
    "* Make meaningful visual representations of the data\n",
    "* Draw conclusions from statistical analysis\n",
    "\n",
    "\n",
    "## Introduction\n",
    "Agriculture is the foundation of human civilization. Plants and livestock provide food, medicine, building materials, fiber for clothing, and much more. Climate changes, from widespread fires to flooding and hurricanes, brought about by global warming, are concerning not only for human safety, but our ability to grow plants, raise animals, and produce commodities that sustain our lives.\n",
    "\n",
    "The [Food and Agriculture Organization](http://www.fao.org/home/en/) (FAO) of the United Nations (UN) has monitored historial trends in agricultural production. As you are interested in the future of agriculture in a changing world, you want to know how agriculture has changed in recent history: which crops have increased or decreased in production and in which geographical areas?\n",
    "\n",
    "Accessing the [FAO database](http://www.fao.org/faostat/en/#data/QI), you download the Gross Production Index Number (GPIN) for numerous agricultural commodities across geographical areas of the Americas from 1961 to 2019. [Gross Production Index Number](https://databank.worldbank.org/metadataglossary/wdi-database-archives-(beta)/series/AG.PRD.FOOD.XD) is a normalized production index relative to the mean production level set to a value of 100 from 2014 to 2016. \n",
    "\n",
    "## Assignment Goal\n",
    "Analyze and visualize GPIN values across American geographical areas to understand historical trends in agricultural commodity production."
   ]
  },
  {
   "cell_type": "markdown",
   "metadata": {},
   "source": [
    "Work through the following assignment, making sure to follow all the directions and answer all the questions.\n",
    "\n",
    "**This assignment is due at 11:59 pm on October 22nd.** It should be uploaded into the \"Homework Assignments\" submission folder for Homework #3.  Submission instructions can be found at the end of the notebook."
   ]
  },
  {
   "cell_type": "markdown",
   "metadata": {},
   "source": [
    "---\n",
    "## Grading\n",
    "\n",
    "* Academic Integrity (1 points)\n",
    "* Part 1 (12 points)\n",
    "* Part 2 (15 points)\n",
    "* Part 3 (13 points)\n",
    "\n",
    "Total points possible: **41**\n",
    "\n",
    "---"
   ]
  },
  {
   "cell_type": "markdown",
   "metadata": {},
   "source": [
    "\n",
    "# Academic integrity statement (1 points)\n",
    "\n",
    "In the markdown cell below, put your personal academic integrity statement (composed during the Day04 In-Class Assignment). By including this statement, you are confirming that the work you submit in the assignment is wholly your own.  \n"
   ]
  },
  {
   "cell_type": "markdown",
   "metadata": {},
   "source": [
    "<font size=6 color=\"#009600\">&#9998;</font> I, Krizma Nagi, commit to not engaging in any act of academic dishonesty. I value the priviledge I have of earning an education, and this is why integrity is important to me. My parents' hard work motivates me to do better, and complete courses successfully with the utmost honesty. I commit to conducting my work with integrity by citing sources, and submitting my own work. I acknowledge and am aware of the MSU ethical standards for integrity regarding plagarism and academic dishonesty."
   ]
  },
  {
   "cell_type": "markdown",
   "metadata": {},
   "source": [
    "## Part 1: Getting a Feel for the Data\n",
    "\n",
    "### Grading\n",
    "* 1.1.1 (2 points)\n",
    "* 1.1.2 (1 point)\n",
    "* 1.2.1 (1 point)\n",
    "* 1.2.2 (2 points)\n",
    "* 1.3 (2 points)\n",
    "* 1.4 (4 points)\n",
    "\n",
    "Before doing any data analysis, you should determine what your data looks like!\n",
    "\n",
    "### &#9989;&nbsp; Task 1.1.1 (2 points)\n",
    "**Task:** *Write a piece of code that reads in the data file `americas_gpin_2014_16.csv` and looks at the column names and first rows to make sure it was read in correctly*\n",
    "\n",
    "**NOTE:** The column names are as follows:\n",
    "* `geo_area`: the region the data is from\n",
    "* `item`: the agricultural commodity\n",
    "* `year`: the year the data is taken from\n",
    "* `gpin`: the Gross Production Index Number, where the mean production from 2014 to 2016 is set to 100"
   ]
  },
  {
   "cell_type": "code",
   "execution_count": 24,
   "metadata": {},
   "outputs": [],
   "source": [
    "%matplotlib inline\n",
    "import matplotlib.pyplot as plt\n",
    "import numpy as np\n",
    "import pandas as pd"
   ]
  },
  {
   "cell_type": "code",
   "execution_count": 25,
   "metadata": {},
   "outputs": [
    {
     "data": {
      "text/html": [
       "<div>\n",
       "<style scoped>\n",
       "    .dataframe tbody tr th:only-of-type {\n",
       "        vertical-align: middle;\n",
       "    }\n",
       "\n",
       "    .dataframe tbody tr th {\n",
       "        vertical-align: top;\n",
       "    }\n",
       "\n",
       "    .dataframe thead th {\n",
       "        text-align: right;\n",
       "    }\n",
       "</style>\n",
       "<table border=\"1\" class=\"dataframe\">\n",
       "  <thead>\n",
       "    <tr style=\"text-align: right;\">\n",
       "      <th></th>\n",
       "      <th>geo_area</th>\n",
       "      <th>item</th>\n",
       "      <th>year</th>\n",
       "      <th>gpin</th>\n",
       "    </tr>\n",
       "  </thead>\n",
       "  <tbody>\n",
       "    <tr>\n",
       "      <th>0</th>\n",
       "      <td>Colombia</td>\n",
       "      <td>Agave fibres nes</td>\n",
       "      <td>1961</td>\n",
       "      <td>109.17</td>\n",
       "    </tr>\n",
       "    <tr>\n",
       "      <th>1</th>\n",
       "      <td>Cuba</td>\n",
       "      <td>Agave fibres nes</td>\n",
       "      <td>1961</td>\n",
       "      <td>315.01</td>\n",
       "    </tr>\n",
       "    <tr>\n",
       "      <th>2</th>\n",
       "      <td>Ecuador</td>\n",
       "      <td>Agave fibres nes</td>\n",
       "      <td>1961</td>\n",
       "      <td>NaN</td>\n",
       "    </tr>\n",
       "    <tr>\n",
       "      <th>3</th>\n",
       "      <td>El Salvador</td>\n",
       "      <td>Agave fibres nes</td>\n",
       "      <td>1961</td>\n",
       "      <td>195.03</td>\n",
       "    </tr>\n",
       "    <tr>\n",
       "      <th>4</th>\n",
       "      <td>Guatemala</td>\n",
       "      <td>Agave fibres nes</td>\n",
       "      <td>1961</td>\n",
       "      <td>418.99</td>\n",
       "    </tr>\n",
       "    <tr>\n",
       "      <th>...</th>\n",
       "      <td>...</td>\n",
       "      <td>...</td>\n",
       "      <td>...</td>\n",
       "      <td>...</td>\n",
       "    </tr>\n",
       "    <tr>\n",
       "      <th>154575</th>\n",
       "      <td>Peru</td>\n",
       "      <td>Yautia (cocoyam)</td>\n",
       "      <td>2019</td>\n",
       "      <td>89.49</td>\n",
       "    </tr>\n",
       "    <tr>\n",
       "      <th>154576</th>\n",
       "      <td>Puerto Rico</td>\n",
       "      <td>Yautia (cocoyam)</td>\n",
       "      <td>2019</td>\n",
       "      <td>43.99</td>\n",
       "    </tr>\n",
       "    <tr>\n",
       "      <th>154577</th>\n",
       "      <td>Saint Lucia</td>\n",
       "      <td>Yautia (cocoyam)</td>\n",
       "      <td>2019</td>\n",
       "      <td>71.71</td>\n",
       "    </tr>\n",
       "    <tr>\n",
       "      <th>154578</th>\n",
       "      <td>Trinidad and Tobago</td>\n",
       "      <td>Yautia (cocoyam)</td>\n",
       "      <td>2019</td>\n",
       "      <td>105.75</td>\n",
       "    </tr>\n",
       "    <tr>\n",
       "      <th>154579</th>\n",
       "      <td>Venezuela (Bolivarian Republic of)</td>\n",
       "      <td>Yautia (cocoyam)</td>\n",
       "      <td>2019</td>\n",
       "      <td>105.67</td>\n",
       "    </tr>\n",
       "  </tbody>\n",
       "</table>\n",
       "<p>154580 rows × 4 columns</p>\n",
       "</div>"
      ],
      "text/plain": [
       "                                  geo_area              item  year    gpin\n",
       "0                                 Colombia  Agave fibres nes  1961  109.17\n",
       "1                                     Cuba  Agave fibres nes  1961  315.01\n",
       "2                                  Ecuador  Agave fibres nes  1961     NaN\n",
       "3                              El Salvador  Agave fibres nes  1961  195.03\n",
       "4                                Guatemala  Agave fibres nes  1961  418.99\n",
       "...                                    ...               ...   ...     ...\n",
       "154575                                Peru  Yautia (cocoyam)  2019   89.49\n",
       "154576                         Puerto Rico  Yautia (cocoyam)  2019   43.99\n",
       "154577                         Saint Lucia  Yautia (cocoyam)  2019   71.71\n",
       "154578                 Trinidad and Tobago  Yautia (cocoyam)  2019  105.75\n",
       "154579  Venezuela (Bolivarian Republic of)  Yautia (cocoyam)  2019  105.67\n",
       "\n",
       "[154580 rows x 4 columns]"
      ]
     },
     "execution_count": 25,
     "metadata": {},
     "output_type": "execute_result"
    }
   ],
   "source": [
    "# Put your code here\n",
    "gpin = pd.read_csv('americas_gpin_2014_16.csv', delimiter = ',')\n",
    "gpin"
   ]
  },
  {
   "cell_type": "markdown",
   "metadata": {},
   "source": [
    "### &#9989;&nbsp; Task 1.1.2 (1 point)\n",
    "**Task:** *Write a piece of code that prints the factor levels and how many entries there are for each level of `geo_area`. For example it should determine how many entries there are for Mexico, for Peru, for the United States, etc. Do the same for `item`, so that the number of entries are determined for bananas, cassava, and oranges, for example. This will help us to understand the geographical areas and commodities represented in this dataset.*"
   ]
  },
  {
   "cell_type": "code",
   "execution_count": 55,
   "metadata": {},
   "outputs": [
    {
     "data": {
      "text/plain": [
       "Mexico                                8083\n",
       "Peru                                  7021\n",
       "United States of America              6785\n",
       "Ecuador                               6313\n",
       "Argentina                             6136\n",
       "Brazil                                5900\n",
       "Bolivia (Plurinational State of)      5723\n",
       "Chile                                 5664\n",
       "Colombia                              5546\n",
       "Canada                                4838\n",
       "Guatemala                             4838\n",
       "Venezuela (Bolivarian Republic of)    4720\n",
       "Paraguay                              4543\n",
       "Costa Rica                            4484\n",
       "Jamaica                               4425\n",
       "Honduras                              4248\n",
       "Haiti                                 4248\n",
       "Uruguay                               4071\n",
       "Dominican Republic                    4071\n",
       "Guyana                                3776\n",
       "Cuba                                  3776\n",
       "El Salvador                           3776\n",
       "Trinidad and Tobago                   3599\n",
       "Belize                                3599\n",
       "Grenada                               3481\n",
       "Puerto Rico                           3422\n",
       "Nicaragua                             3186\n",
       "Dominica                              3186\n",
       "Panama                                3127\n",
       "Suriname                              3009\n",
       "Saint Lucia                           2773\n",
       "Saint Vincent and the Grenadines      2773\n",
       "Barbados                              2714\n",
       "Bahamas                               2537\n",
       "Antigua and Barbuda                   2301\n",
       "Saint Kitts and Nevis                 1888\n",
       "Name: geo_area, dtype: int64"
      ]
     },
     "execution_count": 55,
     "metadata": {},
     "output_type": "execute_result"
    }
   ],
   "source": [
    "gpin['geo_area'].value_counts()"
   ]
  },
  {
   "cell_type": "code",
   "execution_count": 56,
   "metadata": {},
   "outputs": [
    {
     "data": {
      "text/plain": [
       "154580"
      ]
     },
     "execution_count": 56,
     "metadata": {},
     "output_type": "execute_result"
    }
   ],
   "source": [
    "len(gpin['geo_area'])"
   ]
  },
  {
   "cell_type": "code",
   "execution_count": 57,
   "metadata": {},
   "outputs": [
    {
     "data": {
      "text/plain": [
       "Eggs, hen, in shell            2124\n",
       "Meat indigenous, chicken       2124\n",
       "Crops                          2124\n",
       "Livestock                      2124\n",
       "Agriculture                    2124\n",
       "                               ... \n",
       "Pyrethrum, dried                 59\n",
       "Hemp tow waste                   59\n",
       "Vetches                          59\n",
       "Silk-worm cocoons, reelable      59\n",
       "Meat indigenous, buffalo         59\n",
       "Name: item, Length: 181, dtype: int64"
      ]
     },
     "execution_count": 57,
     "metadata": {},
     "output_type": "execute_result"
    }
   ],
   "source": [
    "gpin['item'].value_counts()"
   ]
  },
  {
   "cell_type": "markdown",
   "metadata": {},
   "source": [
    "### &#9989;&nbsp; Task 1.2.1 (1 point)\n",
    "**Task:** *To understand what production looks like across years, plot Gross Production Index Number (GPIN) vs. Year. Be sure to label your axes.*"
   ]
  },
  {
   "cell_type": "code",
   "execution_count": 58,
   "metadata": {},
   "outputs": [
    {
     "data": {
      "text/plain": [
       "154580"
      ]
     },
     "execution_count": 58,
     "metadata": {},
     "output_type": "execute_result"
    }
   ],
   "source": [
    "len(gpin['item'])"
   ]
  },
  {
   "cell_type": "code",
   "execution_count": 28,
   "metadata": {},
   "outputs": [
    {
     "data": {
      "text/plain": [
       "Text(0, 0.5, 'y')"
      ]
     },
     "execution_count": 28,
     "metadata": {},
     "output_type": "execute_result"
    },
    {
     "data": {
      "image/png": "[encoded data removed]",
      "text/plain": [
       "<Figure size 432x288 with 1 Axes>"
      ]
     },
     "metadata": {
      "needs_background": "light"
     },
     "output_type": "display_data"
    }
   ],
   "source": [
    "plt.scatter(gpin['year'],gpin['gpin'],)\n",
    "plt.title('GPIN vs. Year')\n",
    "plt.xlabel('x')\n",
    "plt.ylabel('y')"
   ]
  },
  {
   "cell_type": "markdown",
   "metadata": {},
   "source": [
    "### &#9989;&nbsp; Task 1.2.2 (2 points)\n",
    "**Task:** *There is a problem with the scale of the data. A few points have extremely high values (>1,500,000) and most the points have much lower values. To better visualize the data, you need to transform it. 1) Create a new column in your dataframe that is the log10 value of `gpin` and 2) plot `log10(gpin)` vs. `year`.* "
   ]
  },
  {
   "cell_type": "code",
   "execution_count": 29,
   "metadata": {},
   "outputs": [
    {
     "name": "stderr",
     "output_type": "stream",
     "text": [
      "C:\\Users\\krizm\\anaconda3\\lib\\site-packages\\pandas\\core\\arraylike.py:358: RuntimeWarning: divide by zero encountered in log\n",
      "  result = getattr(ufunc, method)(*inputs, **kwargs)\n"
     ]
    },
    {
     "data": {
      "text/html": [
       "<div>\n",
       "<style scoped>\n",
       "    .dataframe tbody tr th:only-of-type {\n",
       "        vertical-align: middle;\n",
       "    }\n",
       "\n",
       "    .dataframe tbody tr th {\n",
       "        vertical-align: top;\n",
       "    }\n",
       "\n",
       "    .dataframe thead th {\n",
       "        text-align: right;\n",
       "    }\n",
       "</style>\n",
       "<table border=\"1\" class=\"dataframe\">\n",
       "  <thead>\n",
       "    <tr style=\"text-align: right;\">\n",
       "      <th></th>\n",
       "      <th>geo_area</th>\n",
       "      <th>item</th>\n",
       "      <th>year</th>\n",
       "      <th>gpin</th>\n",
       "      <th>log10</th>\n",
       "    </tr>\n",
       "  </thead>\n",
       "  <tbody>\n",
       "    <tr>\n",
       "      <th>0</th>\n",
       "      <td>Colombia</td>\n",
       "      <td>Agave fibres nes</td>\n",
       "      <td>1961</td>\n",
       "      <td>109.17</td>\n",
       "      <td>4.692906</td>\n",
       "    </tr>\n",
       "    <tr>\n",
       "      <th>1</th>\n",
       "      <td>Cuba</td>\n",
       "      <td>Agave fibres nes</td>\n",
       "      <td>1961</td>\n",
       "      <td>315.01</td>\n",
       "      <td>5.752604</td>\n",
       "    </tr>\n",
       "    <tr>\n",
       "      <th>2</th>\n",
       "      <td>Ecuador</td>\n",
       "      <td>Agave fibres nes</td>\n",
       "      <td>1961</td>\n",
       "      <td>NaN</td>\n",
       "      <td>NaN</td>\n",
       "    </tr>\n",
       "    <tr>\n",
       "      <th>3</th>\n",
       "      <td>El Salvador</td>\n",
       "      <td>Agave fibres nes</td>\n",
       "      <td>1961</td>\n",
       "      <td>195.03</td>\n",
       "      <td>5.273153</td>\n",
       "    </tr>\n",
       "    <tr>\n",
       "      <th>4</th>\n",
       "      <td>Guatemala</td>\n",
       "      <td>Agave fibres nes</td>\n",
       "      <td>1961</td>\n",
       "      <td>418.99</td>\n",
       "      <td>6.037847</td>\n",
       "    </tr>\n",
       "    <tr>\n",
       "      <th>...</th>\n",
       "      <td>...</td>\n",
       "      <td>...</td>\n",
       "      <td>...</td>\n",
       "      <td>...</td>\n",
       "      <td>...</td>\n",
       "    </tr>\n",
       "    <tr>\n",
       "      <th>154575</th>\n",
       "      <td>Peru</td>\n",
       "      <td>Yautia (cocoyam)</td>\n",
       "      <td>2019</td>\n",
       "      <td>89.49</td>\n",
       "      <td>4.494127</td>\n",
       "    </tr>\n",
       "    <tr>\n",
       "      <th>154576</th>\n",
       "      <td>Puerto Rico</td>\n",
       "      <td>Yautia (cocoyam)</td>\n",
       "      <td>2019</td>\n",
       "      <td>43.99</td>\n",
       "      <td>3.783962</td>\n",
       "    </tr>\n",
       "    <tr>\n",
       "      <th>154577</th>\n",
       "      <td>Saint Lucia</td>\n",
       "      <td>Yautia (cocoyam)</td>\n",
       "      <td>2019</td>\n",
       "      <td>71.71</td>\n",
       "      <td>4.272630</td>\n",
       "    </tr>\n",
       "    <tr>\n",
       "      <th>154578</th>\n",
       "      <td>Trinidad and Tobago</td>\n",
       "      <td>Yautia (cocoyam)</td>\n",
       "      <td>2019</td>\n",
       "      <td>105.75</td>\n",
       "      <td>4.661078</td>\n",
       "    </tr>\n",
       "    <tr>\n",
       "      <th>154579</th>\n",
       "      <td>Venezuela (Bolivarian Republic of)</td>\n",
       "      <td>Yautia (cocoyam)</td>\n",
       "      <td>2019</td>\n",
       "      <td>105.67</td>\n",
       "      <td>4.660321</td>\n",
       "    </tr>\n",
       "  </tbody>\n",
       "</table>\n",
       "<p>154580 rows × 5 columns</p>\n",
       "</div>"
      ],
      "text/plain": [
       "                                  geo_area              item  year    gpin  \\\n",
       "0                                 Colombia  Agave fibres nes  1961  109.17   \n",
       "1                                     Cuba  Agave fibres nes  1961  315.01   \n",
       "2                                  Ecuador  Agave fibres nes  1961     NaN   \n",
       "3                              El Salvador  Agave fibres nes  1961  195.03   \n",
       "4                                Guatemala  Agave fibres nes  1961  418.99   \n",
       "...                                    ...               ...   ...     ...   \n",
       "154575                                Peru  Yautia (cocoyam)  2019   89.49   \n",
       "154576                         Puerto Rico  Yautia (cocoyam)  2019   43.99   \n",
       "154577                         Saint Lucia  Yautia (cocoyam)  2019   71.71   \n",
       "154578                 Trinidad and Tobago  Yautia (cocoyam)  2019  105.75   \n",
       "154579  Venezuela (Bolivarian Republic of)  Yautia (cocoyam)  2019  105.67   \n",
       "\n",
       "           log10  \n",
       "0       4.692906  \n",
       "1       5.752604  \n",
       "2            NaN  \n",
       "3       5.273153  \n",
       "4       6.037847  \n",
       "...          ...  \n",
       "154575  4.494127  \n",
       "154576  3.783962  \n",
       "154577  4.272630  \n",
       "154578  4.661078  \n",
       "154579  4.660321  \n",
       "\n",
       "[154580 rows x 5 columns]"
      ]
     },
     "execution_count": 29,
     "metadata": {},
     "output_type": "execute_result"
    }
   ],
   "source": [
    "#1\n",
    "gpin['log10'] = np.log(gpin['gpin'])\n",
    "gpin"
   ]
  },
  {
   "cell_type": "code",
   "execution_count": 30,
   "metadata": {},
   "outputs": [
    {
     "data": {
      "text/plain": [
       "Text(0, 0.5, 'y')"
      ]
     },
     "execution_count": 30,
     "metadata": {},
     "output_type": "execute_result"
    },
    {
     "data": {
      "image/png": "[encoded data removed]",
      "text/plain": [
       "<Figure size 432x288 with 1 Axes>"
      ]
     },
     "metadata": {
      "needs_background": "light"
     },
     "output_type": "display_data"
    }
   ],
   "source": [
    "#2\n",
    "plt.scatter(gpin['year'],gpin['log10'],)\n",
    "plt.title('GPIN vs. Year')\n",
    "plt.xlabel('x')\n",
    "plt.ylabel('y')"
   ]
  },
  {
   "cell_type": "markdown",
   "metadata": {},
   "source": [
    "### &#9989;&nbsp; Task 1.3  Better Data Visualization (2 points)\n",
    "You may notice that with so many data points, it is hard to get a feel for how the data is distributed. This is sometimes referred to as \"overplotting\" meaning that there are so many data points on the plot, it is hard to discern any information about them. One way around this is to change the alpha level and also make the size of the points smaller.\n",
    "\n",
    "**Task:** *Your task is to change the alpha level and point size of the plot you produced above. You should try different alpha levels and point sizes until you can see the structure of the data. When successful, you data should look like an hour glass: there is a wide spread (variability) of data before 2014-2016 that narrows as the years approach 2014-2016, and then the data spreads again after 2014-2016.*\n",
    "\n",
    "**NOTE:** There is no right answer to this question and no visualization is perfect. Choose an alpha level and point size that ***you*** think reveals the structure of the data the best. The minimum alpha you can choose before the data disappears is 0.002."
   ]
  },
  {
   "cell_type": "code",
   "execution_count": 39,
   "metadata": {
    "jupyter": {
     "outputs_hidden": true
    }
   },
   "outputs": [
    {
     "data": {
      "text/plain": [
       "Text(0, 0.5, 'log10')"
      ]
     },
     "execution_count": 39,
     "metadata": {},
     "output_type": "execute_result"
    },
    {
     "data": {
      "image/png": "[encoded data removed]",
      "text/plain": [
       "<Figure size 1080x360 with 1 Axes>"
      ]
     },
     "metadata": {
      "needs_background": "light"
     },
     "output_type": "display_data"
    }
   ],
   "source": [
    "# Put your code here\n",
    "plt.figure(figsize = (15,5))\n",
    "plt.scatter(gpin['year'], gpin['log10'], 45, alpha=0.75)\n",
    "plt.ylabel('log10')"
   ]
  },
  {
   "cell_type": "markdown",
   "metadata": {},
   "source": [
    "### &#9989;&nbsp; Task 1.4 (4 points)\n",
    "**Task:** *Examine your plot above.*\n",
    "\n",
    "*1) Describe the distribution of Gross Production Index Number vs. year.*  \n",
    "*2) How does adjusting alpha and point size affect what you see?*  \n",
    "*3) Based on the description of how GPIN is calculated (as relative to the mean production of 2014-2016 set to 100) why do you think the data is distributed this way?*  \n",
    "*4) How do you interpret the distribution of data before and after 2014-2016?*    "
   ]
  },
  {
   "cell_type": "markdown",
   "metadata": {},
   "source": [
    "<font size=6 color=\"#009600\">&#9998;</font> 1. The data follows a clear trend. The index numbers are similar general values, with the exception of a few outliers. \n",
    "\n",
    "2. Changing point size makes the ponts larger or smaller based off the value that is set. Changing alpha level changes the transparency of the lines to see the shape of the data. \n",
    "\n",
    "3. I think that the data is distrubuted this way because agriculture was more used in the past than it is now. Although agriculture is still in practice today, it not a large focus as it was in the past.\n",
    "\n",
    "4. Before 2014-2016 the data is more heavily concentrated with less outliers in the data, but then after 2014-2016 the data is still concentrated, but within a smallter range. There are also relatively less outliers after 2014-2016. "
   ]
  },
  {
   "cell_type": "markdown",
   "metadata": {},
   "source": [
    "# Part 2: Data Filtering and Analysis\n",
    "\n",
    "### Grading\n",
    "* 2.1.1 (2 points)\n",
    "* 2.1.2 (2 point)\n",
    "* 2.1.3 (2 point)\n",
    "* 2.2.1 (7 points)\n",
    "* 2.2.2 (2 points)\n",
    "\n",
    "## 2.1 Cleaning and Filtering\n",
    "\n",
    "Additional cleaning and filtering may be required before you can analyze the data the way you want to. There are many ways to do this, but most involve \"masking\" the data in some way--removing everything from your data except the values that you want.\n",
    "\n",
    "In the previous section, you took log10 of GPIN. Some of the GPIN values are 0, and taking the log10 of 0 is undefined. We need to remove the undefined `-inf` values and drop other `nan` values in the dataset to correctly analyze it.\n",
    "\n",
    "Below is one strategy for removing undefined `-inf` and `inf` values by first converting them to `nan` values and then using the `.dropna()` function to remove the value:"
   ]
  },
  {
   "cell_type": "code",
   "execution_count": 9,
   "metadata": {},
   "outputs": [
    {
     "name": "stdout",
     "output_type": "stream",
     "text": [
      "[-0.13470923  0.66015897  0.42257851  1.0082764   0.12467775        -inf\n",
      "         inf]\n"
     ]
    },
    {
     "data": {
      "text/html": [
       "<div>\n",
       "<style scoped>\n",
       "    .dataframe tbody tr th:only-of-type {\n",
       "        vertical-align: middle;\n",
       "    }\n",
       "\n",
       "    .dataframe tbody tr th {\n",
       "        vertical-align: top;\n",
       "    }\n",
       "\n",
       "    .dataframe thead th {\n",
       "        text-align: right;\n",
       "    }\n",
       "</style>\n",
       "<table border=\"1\" class=\"dataframe\">\n",
       "  <thead>\n",
       "    <tr style=\"text-align: right;\">\n",
       "      <th></th>\n",
       "      <th>data</th>\n",
       "    </tr>\n",
       "  </thead>\n",
       "  <tbody>\n",
       "    <tr>\n",
       "      <th>count</th>\n",
       "      <td>5.000000</td>\n",
       "    </tr>\n",
       "    <tr>\n",
       "      <th>mean</th>\n",
       "      <td>0.416196</td>\n",
       "    </tr>\n",
       "    <tr>\n",
       "      <th>std</th>\n",
       "      <td>0.446821</td>\n",
       "    </tr>\n",
       "    <tr>\n",
       "      <th>min</th>\n",
       "      <td>-0.134709</td>\n",
       "    </tr>\n",
       "    <tr>\n",
       "      <th>25%</th>\n",
       "      <td>0.124678</td>\n",
       "    </tr>\n",
       "    <tr>\n",
       "      <th>50%</th>\n",
       "      <td>0.422579</td>\n",
       "    </tr>\n",
       "    <tr>\n",
       "      <th>75%</th>\n",
       "      <td>0.660159</td>\n",
       "    </tr>\n",
       "    <tr>\n",
       "      <th>max</th>\n",
       "      <td>1.008276</td>\n",
       "    </tr>\n",
       "  </tbody>\n",
       "</table>\n",
       "</div>"
      ],
      "text/plain": [
       "           data\n",
       "count  5.000000\n",
       "mean   0.416196\n",
       "std    0.446821\n",
       "min   -0.134709\n",
       "25%    0.124678\n",
       "50%    0.422579\n",
       "75%    0.660159\n",
       "max    1.008276"
      ]
     },
     "execution_count": 9,
     "metadata": {},
     "output_type": "execute_result"
    }
   ],
   "source": [
    "### A Basic Example \n",
    "# see docs for .replace at https://pandas.pydata.org/pandas-docs/stable/reference/api/pandas.DataFrame.replace.html\n",
    "# see docs for .dropna at https://pandas.pydata.org/pandas-docs/stable/reference/api/pandas.DataFrame.dropna.html\n",
    "\n",
    "# 1. In this example we first create an array with random numbers\n",
    "\n",
    "n = 5\n",
    "random_data = np.random.standard_normal(n) # generates 5 random data points\n",
    "\n",
    "# 2. Then we add -inf and inf values to the array\n",
    "\n",
    "random_data = np.append(random_data, [-np.inf,np.inf]) # add inf and -inf values\n",
    "print(random_data) # print out to check random_data array, observe inf & -inf values\n",
    "\n",
    "# 3. The array is converted to a dataframe\n",
    "\n",
    "random_df = pd.DataFrame(random_data, columns=['data']) # convert array to pd.df\n",
    "\n",
    "# 4. We use .replace to replace inf and -inf values with nan\n",
    "# 5. And then drop the nan values\n",
    "\n",
    "random_df_cleaned = random_df.replace([np.inf, -np.inf], np.nan) # replace inf, -inf with nan\n",
    "random_df_cleaned = random_df_cleaned.dropna(subset=['data']) # drop nan\n",
    "\n",
    "random_df_cleaned.describe() # check that inf and -inf values are removed in the dataframe"
   ]
  },
  {
   "cell_type": "markdown",
   "metadata": {},
   "source": [
    "### &#9989;&nbsp; Task 2.1.1 (2 points)\n",
    "\n",
    "**Task:** *Create a new 'clean' dataframe with `-inf` values from taking the log10 of 0 removed. You can use the above example as a template. Print the outputs of `.describe()` of 1) the original dataframe and 2) the new 'clean' dataframe to demonstrate that the `-inf` values have been removed.*\n",
    "<div class=\"alert alert-block alert-warning\">\n",
    "\n",
    "**IMPORTANT NOTE:** To be compatible with the rest of the homework (and to make use of hints to complete this assignment after this question!) please name your new 'clean' dataframe `gpin_data_cleaned`"
   ]
  },
  {
   "cell_type": "code",
   "execution_count": 32,
   "metadata": {
    "jupyter": {
     "outputs_hidden": true
    }
   },
   "outputs": [
    {
     "data": {
      "text/html": [
       "<div>\n",
       "<style scoped>\n",
       "    .dataframe tbody tr th:only-of-type {\n",
       "        vertical-align: middle;\n",
       "    }\n",
       "\n",
       "    .dataframe tbody tr th {\n",
       "        vertical-align: top;\n",
       "    }\n",
       "\n",
       "    .dataframe thead th {\n",
       "        text-align: right;\n",
       "    }\n",
       "</style>\n",
       "<table border=\"1\" class=\"dataframe\">\n",
       "  <thead>\n",
       "    <tr style=\"text-align: right;\">\n",
       "      <th></th>\n",
       "      <th>year</th>\n",
       "      <th>gpin</th>\n",
       "      <th>log10</th>\n",
       "    </tr>\n",
       "  </thead>\n",
       "  <tbody>\n",
       "    <tr>\n",
       "      <th>count</th>\n",
       "      <td>141207.000000</td>\n",
       "      <td>1.412070e+05</td>\n",
       "      <td>141207.000000</td>\n",
       "    </tr>\n",
       "    <tr>\n",
       "      <th>mean</th>\n",
       "      <td>1991.195189</td>\n",
       "      <td>4.198946e+02</td>\n",
       "      <td>4.280437</td>\n",
       "    </tr>\n",
       "    <tr>\n",
       "      <th>std</th>\n",
       "      <td>16.984454</td>\n",
       "      <td>1.348914e+04</td>\n",
       "      <td>1.150664</td>\n",
       "    </tr>\n",
       "    <tr>\n",
       "      <th>min</th>\n",
       "      <td>1961.000000</td>\n",
       "      <td>1.000000e-02</td>\n",
       "      <td>-4.605170</td>\n",
       "    </tr>\n",
       "    <tr>\n",
       "      <th>25%</th>\n",
       "      <td>1977.000000</td>\n",
       "      <td>4.484000e+01</td>\n",
       "      <td>3.803101</td>\n",
       "    </tr>\n",
       "    <tr>\n",
       "      <th>50%</th>\n",
       "      <td>1992.000000</td>\n",
       "      <td>8.309000e+01</td>\n",
       "      <td>4.419924</td>\n",
       "    </tr>\n",
       "    <tr>\n",
       "      <th>75%</th>\n",
       "      <td>2006.000000</td>\n",
       "      <td>1.108000e+02</td>\n",
       "      <td>4.707727</td>\n",
       "    </tr>\n",
       "    <tr>\n",
       "      <th>max</th>\n",
       "      <td>2019.000000</td>\n",
       "      <td>1.719100e+06</td>\n",
       "      <td>14.357311</td>\n",
       "    </tr>\n",
       "  </tbody>\n",
       "</table>\n",
       "</div>"
      ],
      "text/plain": [
       "                year          gpin          log10\n",
       "count  141207.000000  1.412070e+05  141207.000000\n",
       "mean     1991.195189  4.198946e+02       4.280437\n",
       "std        16.984454  1.348914e+04       1.150664\n",
       "min      1961.000000  1.000000e-02      -4.605170\n",
       "25%      1977.000000  4.484000e+01       3.803101\n",
       "50%      1992.000000  8.309000e+01       4.419924\n",
       "75%      2006.000000  1.108000e+02       4.707727\n",
       "max      2019.000000  1.719100e+06      14.357311"
      ]
     },
     "execution_count": 32,
     "metadata": {},
     "output_type": "execute_result"
    }
   ],
   "source": [
    "# Put your pseudocode and code here\n",
    "gpin_data_cleaned = gpin.replace([np.inf, -np.inf], np.nan)\n",
    "gpin_data_cleaned = gpin_data_cleaned.dropna(subset=['log10'])\n",
    "gpin_data_cleaned.describe()"
   ]
  },
  {
   "cell_type": "markdown",
   "metadata": {},
   "source": [
    "### &#9989;&nbsp; Task 2.1.2 (2 points)\n",
    "The next task in this assignment will require you to do analysis on ***one*** `item` commodity. \n",
    "\n",
    "**Task:**\n",
    "\n",
    "*1.  Create a new dataframe for the `item` commodity that you want to work with. The commodity must have >1,000 entries. Execute the cell below to choose a commodity with >1,000 entries to create a dataframe for.*\n",
    "\n",
    "*2.  Check that you have successfully created a dataframe with only one commodity `item`.*"
   ]
  },
  {
   "cell_type": "code",
   "execution_count": 76,
   "metadata": {},
   "outputs": [
    {
     "data": {
      "text/html": [
       "<div>\n",
       "<style scoped>\n",
       "    .dataframe tbody tr th:only-of-type {\n",
       "        vertical-align: middle;\n",
       "    }\n",
       "\n",
       "    .dataframe tbody tr th {\n",
       "        vertical-align: top;\n",
       "    }\n",
       "\n",
       "    .dataframe thead th {\n",
       "        text-align: right;\n",
       "    }\n",
       "</style>\n",
       "<table border=\"1\" class=\"dataframe\">\n",
       "  <thead>\n",
       "    <tr style=\"text-align: right;\">\n",
       "      <th></th>\n",
       "      <th>item</th>\n",
       "    </tr>\n",
       "  </thead>\n",
       "  <tbody>\n",
       "    <tr>\n",
       "      <th>Eggs, hen, in shell</th>\n",
       "      <td>2124</td>\n",
       "    </tr>\n",
       "    <tr>\n",
       "      <th>Meat indigenous, cattle</th>\n",
       "      <td>2124</td>\n",
       "    </tr>\n",
       "    <tr>\n",
       "      <th>Meat indigenous, total</th>\n",
       "      <td>2124</td>\n",
       "    </tr>\n",
       "    <tr>\n",
       "      <th>Roots and Tubers, Total</th>\n",
       "      <td>2124</td>\n",
       "    </tr>\n",
       "    <tr>\n",
       "      <th>Agriculture</th>\n",
       "      <td>2124</td>\n",
       "    </tr>\n",
       "    <tr>\n",
       "      <th>Livestock</th>\n",
       "      <td>2124</td>\n",
       "    </tr>\n",
       "    <tr>\n",
       "      <th>Crops</th>\n",
       "      <td>2124</td>\n",
       "    </tr>\n",
       "    <tr>\n",
       "      <th>Food</th>\n",
       "      <td>2124</td>\n",
       "    </tr>\n",
       "    <tr>\n",
       "      <th>Meat indigenous, pig</th>\n",
       "      <td>2124</td>\n",
       "    </tr>\n",
       "    <tr>\n",
       "      <th>Vegetables and Fruit Primary</th>\n",
       "      <td>2124</td>\n",
       "    </tr>\n",
       "    <tr>\n",
       "      <th>Meat indigenous, chicken</th>\n",
       "      <td>2123</td>\n",
       "    </tr>\n",
       "    <tr>\n",
       "      <th>Oilcrops, Oil Equivalent</th>\n",
       "      <td>2075</td>\n",
       "    </tr>\n",
       "    <tr>\n",
       "      <th>Vegetables, fresh nes</th>\n",
       "      <td>2065</td>\n",
       "    </tr>\n",
       "    <tr>\n",
       "      <th>Milk, whole fresh cow</th>\n",
       "      <td>2065</td>\n",
       "    </tr>\n",
       "    <tr>\n",
       "      <th>Milk, Total</th>\n",
       "      <td>2065</td>\n",
       "    </tr>\n",
       "    <tr>\n",
       "      <th>Meat indigenous, sheep</th>\n",
       "      <td>2065</td>\n",
       "    </tr>\n",
       "    <tr>\n",
       "      <th>Cereals, Total</th>\n",
       "      <td>2001</td>\n",
       "    </tr>\n",
       "    <tr>\n",
       "      <th>Maize</th>\n",
       "      <td>2001</td>\n",
       "    </tr>\n",
       "    <tr>\n",
       "      <th>Tomatoes</th>\n",
       "      <td>1951</td>\n",
       "    </tr>\n",
       "    <tr>\n",
       "      <th>Meat indigenous, goat</th>\n",
       "      <td>1912</td>\n",
       "    </tr>\n",
       "    <tr>\n",
       "      <th>Oranges</th>\n",
       "      <td>1820</td>\n",
       "    </tr>\n",
       "    <tr>\n",
       "      <th>Sugar Crops Primary</th>\n",
       "      <td>1808</td>\n",
       "    </tr>\n",
       "    <tr>\n",
       "      <th>Cassava</th>\n",
       "      <td>1774</td>\n",
       "    </tr>\n",
       "    <tr>\n",
       "      <th>Bananas</th>\n",
       "      <td>1772</td>\n",
       "    </tr>\n",
       "    <tr>\n",
       "      <th>Sweet potatoes</th>\n",
       "      <td>1759</td>\n",
       "    </tr>\n",
       "    <tr>\n",
       "      <th>Cabbages and other brassicas</th>\n",
       "      <td>1725</td>\n",
       "    </tr>\n",
       "    <tr>\n",
       "      <th>Non Food</th>\n",
       "      <td>1715</td>\n",
       "    </tr>\n",
       "    <tr>\n",
       "      <th>Sugar cane</th>\n",
       "      <td>1690</td>\n",
       "    </tr>\n",
       "    <tr>\n",
       "      <th>Mangoes, mangosteens, guavas</th>\n",
       "      <td>1612</td>\n",
       "    </tr>\n",
       "    <tr>\n",
       "      <th>Avocados</th>\n",
       "      <td>1603</td>\n",
       "    </tr>\n",
       "    <tr>\n",
       "      <th>Coconuts</th>\n",
       "      <td>1603</td>\n",
       "    </tr>\n",
       "    <tr>\n",
       "      <th>Lemons and limes</th>\n",
       "      <td>1579</td>\n",
       "    </tr>\n",
       "    <tr>\n",
       "      <th>Tobacco, unmanufactured</th>\n",
       "      <td>1578</td>\n",
       "    </tr>\n",
       "    <tr>\n",
       "      <th>Rice, paddy</th>\n",
       "      <td>1568</td>\n",
       "    </tr>\n",
       "    <tr>\n",
       "      <th>Pineapples</th>\n",
       "      <td>1566</td>\n",
       "    </tr>\n",
       "    <tr>\n",
       "      <th>Beans, dry</th>\n",
       "      <td>1556</td>\n",
       "    </tr>\n",
       "    <tr>\n",
       "      <th>Onions, dry</th>\n",
       "      <td>1532</td>\n",
       "    </tr>\n",
       "    <tr>\n",
       "      <th>Honey, natural</th>\n",
       "      <td>1516</td>\n",
       "    </tr>\n",
       "    <tr>\n",
       "      <th>Chillies and peppers, green</th>\n",
       "      <td>1511</td>\n",
       "    </tr>\n",
       "    <tr>\n",
       "      <th>Potatoes</th>\n",
       "      <td>1501</td>\n",
       "    </tr>\n",
       "    <tr>\n",
       "      <th>Coffee, green</th>\n",
       "      <td>1479</td>\n",
       "    </tr>\n",
       "    <tr>\n",
       "      <th>Cocoa, beans</th>\n",
       "      <td>1475</td>\n",
       "    </tr>\n",
       "    <tr>\n",
       "      <th>Fruit, fresh nes</th>\n",
       "      <td>1435</td>\n",
       "    </tr>\n",
       "    <tr>\n",
       "      <th>Grapefruit (inc. pomelos)</th>\n",
       "      <td>1421</td>\n",
       "    </tr>\n",
       "    <tr>\n",
       "      <th>Groundnuts, with shell</th>\n",
       "      <td>1400</td>\n",
       "    </tr>\n",
       "    <tr>\n",
       "      <th>Plantains and others</th>\n",
       "      <td>1356</td>\n",
       "    </tr>\n",
       "    <tr>\n",
       "      <th>Carrots and turnips</th>\n",
       "      <td>1343</td>\n",
       "    </tr>\n",
       "    <tr>\n",
       "      <th>Melons, other (inc.cantaloupes)</th>\n",
       "      <td>1291</td>\n",
       "    </tr>\n",
       "    <tr>\n",
       "      <th>Watermelons</th>\n",
       "      <td>1287</td>\n",
       "    </tr>\n",
       "    <tr>\n",
       "      <th>Pumpkins, squash and gourds</th>\n",
       "      <td>1280</td>\n",
       "    </tr>\n",
       "    <tr>\n",
       "      <th>Papayas</th>\n",
       "      <td>1265</td>\n",
       "    </tr>\n",
       "    <tr>\n",
       "      <th>Cucumbers and gherkins</th>\n",
       "      <td>1260</td>\n",
       "    </tr>\n",
       "    <tr>\n",
       "      <th>Roots and tubers nes</th>\n",
       "      <td>1177</td>\n",
       "    </tr>\n",
       "    <tr>\n",
       "      <th>Seed cotton</th>\n",
       "      <td>1120</td>\n",
       "    </tr>\n",
       "    <tr>\n",
       "      <th>Sorghum</th>\n",
       "      <td>1095</td>\n",
       "    </tr>\n",
       "    <tr>\n",
       "      <th>Lettuce and chicory</th>\n",
       "      <td>1090</td>\n",
       "    </tr>\n",
       "    <tr>\n",
       "      <th>Yams</th>\n",
       "      <td>1084</td>\n",
       "    </tr>\n",
       "  </tbody>\n",
       "</table>\n",
       "</div>"
      ],
      "text/plain": [
       "                                 item\n",
       "Eggs, hen, in shell              2124\n",
       "Meat indigenous, cattle          2124\n",
       "Meat indigenous, total           2124\n",
       "Roots and Tubers, Total          2124\n",
       "Agriculture                      2124\n",
       "Livestock                        2124\n",
       "Crops                            2124\n",
       "Food                             2124\n",
       "Meat indigenous, pig             2124\n",
       "Vegetables and Fruit Primary     2124\n",
       "Meat indigenous, chicken         2123\n",
       "Oilcrops, Oil Equivalent         2075\n",
       "Vegetables, fresh nes            2065\n",
       "Milk, whole fresh cow            2065\n",
       "Milk, Total                      2065\n",
       "Meat indigenous, sheep           2065\n",
       "Cereals, Total                   2001\n",
       "Maize                            2001\n",
       "Tomatoes                         1951\n",
       "Meat indigenous, goat            1912\n",
       "Oranges                          1820\n",
       "Sugar Crops Primary              1808\n",
       "Cassava                          1774\n",
       "Bananas                          1772\n",
       "Sweet potatoes                   1759\n",
       "Cabbages and other brassicas     1725\n",
       "Non Food                         1715\n",
       "Sugar cane                       1690\n",
       "Mangoes, mangosteens, guavas     1612\n",
       "Avocados                         1603\n",
       "Coconuts                         1603\n",
       "Lemons and limes                 1579\n",
       "Tobacco, unmanufactured          1578\n",
       "Rice, paddy                      1568\n",
       "Pineapples                       1566\n",
       "Beans, dry                       1556\n",
       "Onions, dry                      1532\n",
       "Honey, natural                   1516\n",
       "Chillies and peppers, green      1511\n",
       "Potatoes                         1501\n",
       "Coffee, green                    1479\n",
       "Cocoa, beans                     1475\n",
       "Fruit, fresh nes                 1435\n",
       "Grapefruit (inc. pomelos)        1421\n",
       "Groundnuts, with shell           1400\n",
       "Plantains and others             1356\n",
       "Carrots and turnips              1343\n",
       "Melons, other (inc.cantaloupes)  1291\n",
       "Watermelons                      1287\n",
       "Pumpkins, squash and gourds      1280\n",
       "Papayas                          1265\n",
       "Cucumbers and gherkins           1260\n",
       "Roots and tubers nes             1177\n",
       "Seed cotton                      1120\n",
       "Sorghum                          1095\n",
       "Lettuce and chicory              1090\n",
       "Yams                             1084"
      ]
     },
     "execution_count": 76,
     "metadata": {},
     "output_type": "execute_result"
    }
   ],
   "source": [
    "# Execute this cell for a list of items with >1,000 entries\n",
    "\n",
    "gpin_data_cleaned['item'].value_counts().to_frame()[gpin_data_cleaned['item'].value_counts().to_frame()['item']>1000]"
   ]
  },
  {
   "cell_type": "code",
   "execution_count": 81,
   "metadata": {},
   "outputs": [
    {
     "data": {
      "text/html": [
       "<div>\n",
       "<style scoped>\n",
       "    .dataframe tbody tr th:only-of-type {\n",
       "        vertical-align: middle;\n",
       "    }\n",
       "\n",
       "    .dataframe tbody tr th {\n",
       "        vertical-align: top;\n",
       "    }\n",
       "\n",
       "    .dataframe thead th {\n",
       "        text-align: right;\n",
       "    }\n",
       "</style>\n",
       "<table border=\"1\" class=\"dataframe\">\n",
       "  <thead>\n",
       "    <tr style=\"text-align: right;\">\n",
       "      <th></th>\n",
       "      <th>geo_area</th>\n",
       "      <th>item</th>\n",
       "      <th>year</th>\n",
       "      <th>gpin</th>\n",
       "      <th>log10</th>\n",
       "    </tr>\n",
       "  </thead>\n",
       "  <tbody>\n",
       "    <tr>\n",
       "      <th>92</th>\n",
       "      <td>Argentina</td>\n",
       "      <td>Avocados</td>\n",
       "      <td>1961</td>\n",
       "      <td>49.43</td>\n",
       "      <td>3.900558</td>\n",
       "    </tr>\n",
       "    <tr>\n",
       "      <th>94</th>\n",
       "      <td>Barbados</td>\n",
       "      <td>Avocados</td>\n",
       "      <td>1961</td>\n",
       "      <td>22.28</td>\n",
       "      <td>3.103689</td>\n",
       "    </tr>\n",
       "    <tr>\n",
       "      <th>95</th>\n",
       "      <td>Bolivia (Plurinational State of)</td>\n",
       "      <td>Avocados</td>\n",
       "      <td>1961</td>\n",
       "      <td>12.36</td>\n",
       "      <td>2.514465</td>\n",
       "    </tr>\n",
       "    <tr>\n",
       "      <th>96</th>\n",
       "      <td>Brazil</td>\n",
       "      <td>Avocados</td>\n",
       "      <td>1961</td>\n",
       "      <td>46.36</td>\n",
       "      <td>3.836437</td>\n",
       "    </tr>\n",
       "    <tr>\n",
       "      <th>97</th>\n",
       "      <td>Chile</td>\n",
       "      <td>Avocados</td>\n",
       "      <td>1961</td>\n",
       "      <td>4.72</td>\n",
       "      <td>1.551809</td>\n",
       "    </tr>\n",
       "    <tr>\n",
       "      <th>...</th>\n",
       "      <td>...</td>\n",
       "      <td>...</td>\n",
       "      <td>...</td>\n",
       "      <td>...</td>\n",
       "      <td>...</td>\n",
       "    </tr>\n",
       "    <tr>\n",
       "      <th>152075</th>\n",
       "      <td>Puerto Rico</td>\n",
       "      <td>Avocados</td>\n",
       "      <td>2019</td>\n",
       "      <td>94.03</td>\n",
       "      <td>4.543614</td>\n",
       "    </tr>\n",
       "    <tr>\n",
       "      <th>152076</th>\n",
       "      <td>Saint Lucia</td>\n",
       "      <td>Avocados</td>\n",
       "      <td>2019</td>\n",
       "      <td>161.50</td>\n",
       "      <td>5.084505</td>\n",
       "    </tr>\n",
       "    <tr>\n",
       "      <th>152077</th>\n",
       "      <td>Trinidad and Tobago</td>\n",
       "      <td>Avocados</td>\n",
       "      <td>2019</td>\n",
       "      <td>108.30</td>\n",
       "      <td>4.684905</td>\n",
       "    </tr>\n",
       "    <tr>\n",
       "      <th>152078</th>\n",
       "      <td>United States of America</td>\n",
       "      <td>Avocados</td>\n",
       "      <td>2019</td>\n",
       "      <td>72.07</td>\n",
       "      <td>4.277638</td>\n",
       "    </tr>\n",
       "    <tr>\n",
       "      <th>152079</th>\n",
       "      <td>Venezuela (Bolivarian Republic of)</td>\n",
       "      <td>Avocados</td>\n",
       "      <td>2019</td>\n",
       "      <td>106.83</td>\n",
       "      <td>4.671239</td>\n",
       "    </tr>\n",
       "  </tbody>\n",
       "</table>\n",
       "<p>1603 rows × 5 columns</p>\n",
       "</div>"
      ],
      "text/plain": [
       "                                  geo_area      item  year    gpin     log10\n",
       "92                               Argentina  Avocados  1961   49.43  3.900558\n",
       "94                                Barbados  Avocados  1961   22.28  3.103689\n",
       "95        Bolivia (Plurinational State of)  Avocados  1961   12.36  2.514465\n",
       "96                                  Brazil  Avocados  1961   46.36  3.836437\n",
       "97                                   Chile  Avocados  1961    4.72  1.551809\n",
       "...                                    ...       ...   ...     ...       ...\n",
       "152075                         Puerto Rico  Avocados  2019   94.03  4.543614\n",
       "152076                         Saint Lucia  Avocados  2019  161.50  5.084505\n",
       "152077                 Trinidad and Tobago  Avocados  2019  108.30  4.684905\n",
       "152078            United States of America  Avocados  2019   72.07  4.277638\n",
       "152079  Venezuela (Bolivarian Republic of)  Avocados  2019  106.83  4.671239\n",
       "\n",
       "[1603 rows x 5 columns]"
      ]
     },
     "execution_count": 81,
     "metadata": {},
     "output_type": "execute_result"
    }
   ],
   "source": [
    "avocados = gpin_data_cleaned[(gpin_data_cleaned.item== \"Avocados\")]\n",
    "avocados"
   ]
  },
  {
   "cell_type": "code",
   "execution_count": 82,
   "metadata": {},
   "outputs": [
    {
     "data": {
      "text/plain": [
       "1603"
      ]
     },
     "execution_count": 82,
     "metadata": {},
     "output_type": "execute_result"
    }
   ],
   "source": [
    "len(avocados)"
   ]
  },
  {
   "cell_type": "code",
   "execution_count": 83,
   "metadata": {},
   "outputs": [
    {
     "data": {
      "text/html": [
       "<div>\n",
       "<style scoped>\n",
       "    .dataframe tbody tr th:only-of-type {\n",
       "        vertical-align: middle;\n",
       "    }\n",
       "\n",
       "    .dataframe tbody tr th {\n",
       "        vertical-align: top;\n",
       "    }\n",
       "\n",
       "    .dataframe thead th {\n",
       "        text-align: right;\n",
       "    }\n",
       "</style>\n",
       "<table border=\"1\" class=\"dataframe\">\n",
       "  <thead>\n",
       "    <tr style=\"text-align: right;\">\n",
       "      <th></th>\n",
       "      <th>year</th>\n",
       "      <th>gpin</th>\n",
       "      <th>log10</th>\n",
       "    </tr>\n",
       "  </thead>\n",
       "  <tbody>\n",
       "    <tr>\n",
       "      <th>count</th>\n",
       "      <td>1603.000000</td>\n",
       "      <td>1603.000000</td>\n",
       "      <td>1603.000000</td>\n",
       "    </tr>\n",
       "    <tr>\n",
       "      <th>mean</th>\n",
       "      <td>1990.152838</td>\n",
       "      <td>120.407598</td>\n",
       "      <td>4.252130</td>\n",
       "    </tr>\n",
       "    <tr>\n",
       "      <th>std</th>\n",
       "      <td>17.092273</td>\n",
       "      <td>167.338255</td>\n",
       "      <td>1.036607</td>\n",
       "    </tr>\n",
       "    <tr>\n",
       "      <th>min</th>\n",
       "      <td>1961.000000</td>\n",
       "      <td>1.350000</td>\n",
       "      <td>0.300105</td>\n",
       "    </tr>\n",
       "    <tr>\n",
       "      <th>25%</th>\n",
       "      <td>1975.000000</td>\n",
       "      <td>37.090000</td>\n",
       "      <td>3.613347</td>\n",
       "    </tr>\n",
       "    <tr>\n",
       "      <th>50%</th>\n",
       "      <td>1990.000000</td>\n",
       "      <td>78.650000</td>\n",
       "      <td>4.365008</td>\n",
       "    </tr>\n",
       "    <tr>\n",
       "      <th>75%</th>\n",
       "      <td>2005.000000</td>\n",
       "      <td>121.435000</td>\n",
       "      <td>4.799377</td>\n",
       "    </tr>\n",
       "    <tr>\n",
       "      <th>max</th>\n",
       "      <td>2019.000000</td>\n",
       "      <td>1446.940000</td>\n",
       "      <td>7.277206</td>\n",
       "    </tr>\n",
       "  </tbody>\n",
       "</table>\n",
       "</div>"
      ],
      "text/plain": [
       "              year         gpin        log10\n",
       "count  1603.000000  1603.000000  1603.000000\n",
       "mean   1990.152838   120.407598     4.252130\n",
       "std      17.092273   167.338255     1.036607\n",
       "min    1961.000000     1.350000     0.300105\n",
       "25%    1975.000000    37.090000     3.613347\n",
       "50%    1990.000000    78.650000     4.365008\n",
       "75%    2005.000000   121.435000     4.799377\n",
       "max    2019.000000  1446.940000     7.277206"
      ]
     },
     "execution_count": 83,
     "metadata": {},
     "output_type": "execute_result"
    }
   ],
   "source": [
    "avocados.describe()"
   ]
  },
  {
   "cell_type": "markdown",
   "metadata": {},
   "source": [
    "### &#9989;&nbsp; Task 2.1.3 (2 points)\n",
    "**Task:** *How many entries are in your cleaned dataframe? How do you know that your masking is working?*"
   ]
  },
  {
   "cell_type": "markdown",
   "metadata": {},
   "source": [
    "<font size=\"+3\">&#9998;</font> There are 1603 entries in the cleaned dataframe for watermelons. Some timesteps of the dataframe are missing (the infinities and the NaNs), so I know that the masking is working."
   ]
  },
  {
   "cell_type": "markdown",
   "metadata": {},
   "source": [
    "### &#9989;&nbsp; Task 2.2 Descriptive statistics (7 points)\n",
    "One way to visualize the distribution of data is with one-dimensional histograms. \n",
    "\n",
    "**Task:**\n",
    "\n",
    "*1.  Plot a one-dimensional histogram of totals for commodity you chose.*\n",
    "\n",
    "*2.  For your commodity, calculate the mean of the total and plot them as a vertical lines on your histogram.*\n",
    "\n",
    "*3.  Calculate the standard deviation and plot it as a vertical band about the mean.*"
   ]
  },
  {
   "cell_type": "code",
   "execution_count": 84,
   "metadata": {
    "jupyter": {
     "outputs_hidden": true
    }
   },
   "outputs": [
    {
     "data": {
      "text/plain": [
       "<matplotlib.lines.Line2D at 0x27180a9ee50>"
      ]
     },
     "execution_count": 84,
     "metadata": {},
     "output_type": "execute_result"
    },
    {
     "data": {
      "image/png": "[encoded data removed]",
      "text/plain": [
       "<Figure size 432x288 with 1 Axes>"
      ]
     },
     "metadata": {
      "needs_background": "light"
     },
     "output_type": "display_data"
    }
   ],
   "source": [
    "mean = np.mean(avocados['log10'])\n",
    "std = np.std(avocados['log10'])\n",
    "plt.hist(avocados['log10'])\n",
    "plt.axvline(4.252130, color = 'black', linewidth = 2.0)\n",
    "plt.axvline(1.036607, color = 'r', linewidth = 2.0)"
   ]
  },
  {
   "cell_type": "markdown",
   "metadata": {},
   "source": [
    "### &#9989;&nbsp; Task 2.2.1 (2 points)\n",
    "\n",
    "**Task:**\n",
    "\n",
    "*What do you observe about the distribution of your commodity?*\n",
    "\n",
    "*1. What does the standard deviation tell you about the distribution?*\n",
    "\n",
    "*2. Remember that GPIN is relative to the mean production value from 2014-2016 set to 100, and that you have taken the log10 value of the data, where log10(100) = 2. What does it indicate if your mean is above or below the value of 2? That is, based on the mean value relative 2, do you think production of your commodity has historically been increasing or decreasing relative to 2014-2016?*"
   ]
  },
  {
   "cell_type": "markdown",
   "metadata": {},
   "source": [
    "<font size=6 color=\"#009600\">&#9998;</font> The graph of the watermelons gpin values is skewed left, and is not a normal distribution. The standard deviation shows how dispersed the data for watermelons is. I think that the commodity has historically been increasing until 2014-2016 where it has started to decrease. If the mean is above 2, I think it means that the commodity is increasing, and if it was less than 2 then the commodity is probably decreasing."
   ]
  },
  {
   "cell_type": "markdown",
   "metadata": {},
   "source": [
    "# Part 3: Putting it all Together\n",
    "\n",
    "## 3.1 Speeding up/Automating the process\n",
    "\n",
    "For the analysis of a single commodity you did above, you'll need the information you found in Part 2 for all commodities. \n",
    "\n",
    "### Grading\n",
    "* 3.1.1 (2 points)\n",
    "* 3.1.2 (3 points)\n",
    "* 3.2.1 (4 points)\n",
    "* 3.2.2 (4 points)\n",
    "\n",
    "### &#9989;&nbsp; Task 3.1.1 Expanding to all commodities (2 points)\n",
    "\n",
    "**Task 1 (1pt):** *Fix the code below to create a function for which the inputs are the overall dataframe (`frame`) and a commodity (`filter_key`) and the outputs are a dataframe containing data for just the selected commodity (`item_frame`).*"
   ]
  },
  {
   "cell_type": "code",
   "execution_count": 86,
   "metadata": {
    "jupyter": {
     "outputs_hidden": true
    }
   },
   "outputs": [
    {
     "data": {
      "text/html": [
       "<div>\n",
       "<style scoped>\n",
       "    .dataframe tbody tr th:only-of-type {\n",
       "        vertical-align: middle;\n",
       "    }\n",
       "\n",
       "    .dataframe tbody tr th {\n",
       "        vertical-align: top;\n",
       "    }\n",
       "\n",
       "    .dataframe thead th {\n",
       "        text-align: right;\n",
       "    }\n",
       "</style>\n",
       "<table border=\"1\" class=\"dataframe\">\n",
       "  <thead>\n",
       "    <tr style=\"text-align: right;\">\n",
       "      <th></th>\n",
       "      <th>geo_area</th>\n",
       "      <th>item</th>\n",
       "      <th>year</th>\n",
       "      <th>gpin</th>\n",
       "      <th>log10</th>\n",
       "    </tr>\n",
       "  </thead>\n",
       "  <tbody>\n",
       "    <tr>\n",
       "      <th>92</th>\n",
       "      <td>Argentina</td>\n",
       "      <td>Avocados</td>\n",
       "      <td>1961</td>\n",
       "      <td>49.43</td>\n",
       "      <td>3.900558</td>\n",
       "    </tr>\n",
       "    <tr>\n",
       "      <th>94</th>\n",
       "      <td>Barbados</td>\n",
       "      <td>Avocados</td>\n",
       "      <td>1961</td>\n",
       "      <td>22.28</td>\n",
       "      <td>3.103689</td>\n",
       "    </tr>\n",
       "    <tr>\n",
       "      <th>95</th>\n",
       "      <td>Bolivia (Plurinational State of)</td>\n",
       "      <td>Avocados</td>\n",
       "      <td>1961</td>\n",
       "      <td>12.36</td>\n",
       "      <td>2.514465</td>\n",
       "    </tr>\n",
       "    <tr>\n",
       "      <th>96</th>\n",
       "      <td>Brazil</td>\n",
       "      <td>Avocados</td>\n",
       "      <td>1961</td>\n",
       "      <td>46.36</td>\n",
       "      <td>3.836437</td>\n",
       "    </tr>\n",
       "    <tr>\n",
       "      <th>97</th>\n",
       "      <td>Chile</td>\n",
       "      <td>Avocados</td>\n",
       "      <td>1961</td>\n",
       "      <td>4.72</td>\n",
       "      <td>1.551809</td>\n",
       "    </tr>\n",
       "    <tr>\n",
       "      <th>...</th>\n",
       "      <td>...</td>\n",
       "      <td>...</td>\n",
       "      <td>...</td>\n",
       "      <td>...</td>\n",
       "      <td>...</td>\n",
       "    </tr>\n",
       "    <tr>\n",
       "      <th>152075</th>\n",
       "      <td>Puerto Rico</td>\n",
       "      <td>Avocados</td>\n",
       "      <td>2019</td>\n",
       "      <td>94.03</td>\n",
       "      <td>4.543614</td>\n",
       "    </tr>\n",
       "    <tr>\n",
       "      <th>152076</th>\n",
       "      <td>Saint Lucia</td>\n",
       "      <td>Avocados</td>\n",
       "      <td>2019</td>\n",
       "      <td>161.50</td>\n",
       "      <td>5.084505</td>\n",
       "    </tr>\n",
       "    <tr>\n",
       "      <th>152077</th>\n",
       "      <td>Trinidad and Tobago</td>\n",
       "      <td>Avocados</td>\n",
       "      <td>2019</td>\n",
       "      <td>108.30</td>\n",
       "      <td>4.684905</td>\n",
       "    </tr>\n",
       "    <tr>\n",
       "      <th>152078</th>\n",
       "      <td>United States of America</td>\n",
       "      <td>Avocados</td>\n",
       "      <td>2019</td>\n",
       "      <td>72.07</td>\n",
       "      <td>4.277638</td>\n",
       "    </tr>\n",
       "    <tr>\n",
       "      <th>152079</th>\n",
       "      <td>Venezuela (Bolivarian Republic of)</td>\n",
       "      <td>Avocados</td>\n",
       "      <td>2019</td>\n",
       "      <td>106.83</td>\n",
       "      <td>4.671239</td>\n",
       "    </tr>\n",
       "  </tbody>\n",
       "</table>\n",
       "<p>1603 rows × 5 columns</p>\n",
       "</div>"
      ],
      "text/plain": [
       "                                  geo_area      item  year    gpin     log10\n",
       "92                               Argentina  Avocados  1961   49.43  3.900558\n",
       "94                                Barbados  Avocados  1961   22.28  3.103689\n",
       "95        Bolivia (Plurinational State of)  Avocados  1961   12.36  2.514465\n",
       "96                                  Brazil  Avocados  1961   46.36  3.836437\n",
       "97                                   Chile  Avocados  1961    4.72  1.551809\n",
       "...                                    ...       ...   ...     ...       ...\n",
       "152075                         Puerto Rico  Avocados  2019   94.03  4.543614\n",
       "152076                         Saint Lucia  Avocados  2019  161.50  5.084505\n",
       "152077                 Trinidad and Tobago  Avocados  2019  108.30  4.684905\n",
       "152078            United States of America  Avocados  2019   72.07  4.277638\n",
       "152079  Venezuela (Bolivarian Republic of)  Avocados  2019  106.83  4.671239\n",
       "\n",
       "[1603 rows x 5 columns]"
      ]
     },
     "execution_count": 86,
     "metadata": {},
     "output_type": "execute_result"
    }
   ],
   "source": [
    "# Debug the function below\n",
    "def item_dataframes(frame,filter_key): # inputs are the gpin_data_cleaned data frame and a commodity name\n",
    "    mask = (filter_key==frame['item']) # this line of code creates a mask\n",
    "    item_frame = frame[mask] # use the mask to create a new dataframe with just the selected commodity\n",
    "    return item_frame # return the dataframe with just the selected commodity\n",
    "\n",
    "item_dataframes(gpin_data_cleaned,'Avocados')"
   ]
  },
  {
   "cell_type": "markdown",
   "metadata": {},
   "source": [
    "**Task 2 (1pt):** *The code below loops through all the weight classes and store the dataframes for each weight class in a list (lists can store all types of variables including Pandas dataframes!). However, there are two bugs in the code! Fix the code below!*"
   ]
  },
  {
   "cell_type": "code",
   "execution_count": 87,
   "metadata": {
    "jupyter": {
     "outputs_hidden": true
    }
   },
   "outputs": [],
   "source": [
    "# Debug the function below\n",
    "\n",
    "item_list = list(gpin_data_cleaned['item'].unique()) # a list of commodities \n",
    "\n",
    "frame_list = [] # an empty list to store dataframes for each commodity\n",
    "\n",
    "for itm in item_list: # for each commodity in the commodity list\n",
    "    frame_list.append(pd.DataFrame(item_dataframes(gpin_data_cleaned,itm))) # use the item_dataframes function to create a df for each commodity and append\n"
   ]
  },
  {
   "cell_type": "markdown",
   "metadata": {},
   "source": [
    "### &#9989;&nbsp; Task 3.1.2 Expanding statistics to all commodities (3 points)\n",
    "We want the mean and standard deviation for each commodity. But we also want what the commodity is as well as how many geographical areas it is produced in.\n",
    "\n",
    "**Task 1 (1pt):** *Write a function that calculates and returns the following for a dataframe representing a single commodity:*  \n",
    "\n",
    "*1. Returns the `item` value of the commodity (hint: `df['item'].unique()[0]`)*  \n",
    "*2. Returns the count of geographical areas represented (hint: `len(df['geo_area'].unique())`)*  \n",
    "*3. Returns the mean and standard deviation of `log10(gpin)` for the single commodity selected*  "
   ]
  },
  {
   "cell_type": "code",
   "execution_count": 88,
   "metadata": {
    "jupyter": {
     "outputs_hidden": true
    }
   },
   "outputs": [],
   "source": [
    "def function(df):\n",
    "    item = df['item'].unique()[0]\n",
    "    mean = np.mean(df['log10'])\n",
    "    stdev = np.std(df['log10'])\n",
    "    area = len(df['geo_area'].unique())\n",
    "    return item, mean, stdev, area"
   ]
  },
  {
   "cell_type": "markdown",
   "metadata": {},
   "source": [
    "**Task 2 (2pts):** *Then, write a loop through all of the dataframes for the commodity `items`. Save the commodity item name, the number of geographical areas it is produced in, the mean, and standard deviation for plotting in separate lists.*  "
   ]
  },
  {
   "cell_type": "code",
   "execution_count": 89,
   "metadata": {},
   "outputs": [
    {
     "name": "stdout",
     "output_type": "stream",
     "text": [
      "[4.896773496231242, 4.24294981804766, 3.7251903260250265, 3.623509689188643, 4.292121848282985, 4.925912007165179, 3.9457213315996813, 4.055235488219016, 4.25213038442368, 4.349463519489349, 4.663146226850516, 4.967008092789574, 4.3365671681520155, 4.248460379300768, 4.490375323075984, 4.025453613343921, 2.7865259342948288, 4.035398166782082, 4.455136776511565, 4.993228080335114, 4.17052909758515, 5.442264279973057, 3.9792375416628416, 4.522460088343773, 4.23903578401621, 4.39960130711839, 4.7244722065871905, 3.7730698877184667, 4.1970044753178035, 4.289321471843276, 4.3274597586478905, 4.883958500187014, 5.275906283262818, 3.9773191801038994, 3.756199670826204, 4.297080678268706, 4.606223956872807, 4.975418326809843, 4.581180155115428, 2.6498611111211052, 4.281721969674428, 3.982732496349037, 4.254430969335414, 3.8456944716708468, 4.010239511063291, 3.6608921516863338, 4.289338915855153, 4.967207083779527, 4.21814540913775, 4.214867006807557, 4.243900122218083, 4.064580927101777, 4.211658623687297, 4.11763228407727, 4.294997203370861, 6.051564677102176, 4.6223645910091005, 4.282268155645652, 4.417851166051583, 3.350155856681175, 4.532178575325516, 4.584864356696521, 4.43939441629947, 4.206447438241206, 5.967062518065366, 4.2806797196453585, 4.347907958539632, 3.701259013502578, 5.427022892075947, 4.135176671207977, 4.184821968617123, 4.3253595509954685, 4.545727121046501, 4.5171693554565815, 3.9124909419078, 3.864626913979946, 4.487335479723853, 3.6564118206680765, 3.917643007278913, 4.331368580777416, 4.718589217623789, 4.671602200734315, 3.892951878901686, 4.215428515379233, 4.472941458305572, 4.458170618927302, 4.134766618102748, 3.8057851952099497, 4.30197006741024, 4.431705806746323, 3.9462942369237686, 4.223909836220895, 4.279448594214144, 4.391713257911308, 4.434472286584508, 5.242287021110074, 3.7179461935123626, 4.6925115087111005, 4.750375374224641, 3.856211808196184, 4.150625512960756, 4.091069111456114, 3.403902468640587, 4.2126945692688045, 3.487031971474415, 4.277473762155721, 3.4321744581104423, 3.8955463848527145, 4.240427056689935, 4.364312153596479, 3.824187812020538, 4.304389208100446, 4.540160942336449, 4.457435105738082, 4.5386733963421735, 4.198902738561358, 4.965382857794456, 4.188238918527264, 4.722858586669183, 3.7501958172785734, 4.064611384301682, 4.319193883750744, 4.1331706138107664, 4.318647866445092, 4.286591476083306, 4.674333586421774, 5.358443949881066, 2.856215851850607, 8.058098667734459, 3.1465303718306186, 3.516484552764274, 4.253382045959572, 4.392336106262415, 4.301442327893974, 3.349155148593838, 5.059158491391758, 4.3831429732014655, 5.552149116610782, 4.564686954613746, 5.313975308316649, 5.369812037498811, 4.502832684133869, 3.4552203564071213, 4.040152396938392, 3.799906434870847, 3.453784997709794, 4.1366910372026595, 4.4237256372985785, 4.381716478638132, 4.413150800671352, 4.023907856168462, 4.321366513526112, 4.0011634789186195, 4.718232049641658, 4.341729889359339, 4.837557214417739, 3.998794771611929, 5.699213068560164, 3.49179597876833, 4.160438366760645, 4.177473259143911, 4.126320201532927, 3.506980005196526, 3.9763178476809924, 4.597492985305687, 4.873815351146638, 4.692688689320089, 4.661721431756709, 3.9504675729756187, 3.504142149300717, 4.489021239660517, 4.528397853369429, 3.2122268811598906, 4.506432335104852, 4.291558560255536, 4.330674896586229, 4.796820318330653, 4.711136632163675, 4.478660274665459, 4.569610950348549, 4.806536075513893]\n"
     ]
    }
   ],
   "source": [
    "itemlist = []\n",
    "meanlist = []\n",
    "stdevlist = []\n",
    "arealist = []\n",
    "\n",
    "for i in frame_list:\n",
    "    item, mean, stdev, area = function(i)\n",
    "    itemlist.append(item)\n",
    "    meanlist.append(mean)\n",
    "    stdevlist.append(stdev)\n",
    "    arealist.append(area)\n",
    "print(meanlist)"
   ]
  },
  {
   "cell_type": "markdown",
   "metadata": {},
   "source": [
    "## 3.2 Testing hypotheses\n",
    "\n",
    "Now that you have calculated statistics for each commodity, you are interested in testing hypotheses. You have the following ideas that you would like to test:\n",
    "\n",
    "1.  Is mean log10(gpin) correlated with the number of countries a commodity is produced in?  \n",
    "2.  Is the production of commodities that are produced in a large number of countries more historically stable than production of commodities in a smaller number of countries? That is, is the standard deviation of log10(gpin) correlated with number of countries it is produced in.\n",
    "\n",
    "You decide to make a plot to visualize your data and test these hypotheses!"
   ]
  },
  {
   "cell_type": "markdown",
   "metadata": {},
   "source": [
    "### &#9989;&nbsp; Task 3.2.1 Plotting mean log10(gpin) and standard deviation log10(gpin) vs number of producing countries (4 points)\n",
    "\n",
    "**Task:** *Using the lists above, make the following plots:*  \n",
    "\n",
    "1) For all commodities, plot the mean log10(gpin) value vs. the number of countries it is produced in (2pts);  \n",
    "\n",
    "2) For all commodities, plot the standard deviation of the log10(gpin) vs. the number of countries (2pts). \n",
    "\n",
    "Be sure to label x and y axes and provide a plot title for each."
   ]
  },
  {
   "cell_type": "code",
   "execution_count": 90,
   "metadata": {},
   "outputs": [
    {
     "data": {
      "text/plain": [
       "Text(0.5, 1.0, 'area vs. mean')"
      ]
     },
     "execution_count": 90,
     "metadata": {},
     "output_type": "execute_result"
    },
    {
     "data": {
      "image/png": "[encoded data removed]",
      "text/plain": [
       "<Figure size 432x288 with 1 Axes>"
      ]
     },
     "metadata": {
      "needs_background": "light"
     },
     "output_type": "display_data"
    }
   ],
   "source": [
    "plt.scatter(arealist,meanlist)\n",
    "plt.xlabel('area')\n",
    "plt.ylabel('items')\n",
    "plt.title('area vs. mean')"
   ]
  },
  {
   "cell_type": "code",
   "execution_count": 91,
   "metadata": {},
   "outputs": [
    {
     "data": {
      "text/plain": [
       "Text(0.5, 1.0, 'area vs. standard deviation')"
      ]
     },
     "execution_count": 91,
     "metadata": {},
     "output_type": "execute_result"
    },
    {
     "data": {
      "image/png": "[encoded data removed]",
      "text/plain": [
       "<Figure size 432x288 with 1 Axes>"
      ]
     },
     "metadata": {
      "needs_background": "light"
     },
     "output_type": "display_data"
    }
   ],
   "source": [
    "plt.scatter(arealist,stdevlist)\n",
    "plt.xlabel('area')\n",
    "plt.ylabel('standard deviation')\n",
    "plt.title('area vs. standard deviation')"
   ]
  },
  {
   "cell_type": "markdown",
   "metadata": {},
   "source": [
    "### &#9989;&nbsp; Task 3.2.2 Interpreting plots and drawing conclusions (4 pts)\n",
    "<div class=\"alert alert-block alert-warning\">\n",
    "\n",
    "**IMPORTANT NOTE:** \n",
    "For the tasks below, remember that negative results in science are common! For one or both of your plots, there may be or may not be correlation. It is OK to say that you think the data supports or does not support the hypotheses for each of the questions! The important thing is that you 1) understand the statistics as they apply to the data and 2) do not misinterpret what your plots show above."
   ]
  },
  {
   "cell_type": "markdown",
   "metadata": {},
   "source": [
    "**Task 1 (2pts):** Based on your plot above, do you believe that mean log10(gpin) correlates with the number of countries a commodity is produced in (1pt)? Based on your answer, does the number of countries a commodity is produced in influence whether its production has historically increased or decreased (1pt)?"
   ]
  },
  {
   "cell_type": "markdown",
   "metadata": {},
   "source": [
    "<font size=6 color=\"#009600\">&#9998;</font> Yes I do think that log10(gpin) correlates with the number of countries a commodity is produced in because the data is more saturated in the places where there is less area producing avocados.\n",
    "2. Yes, I think it does because the higher the demand, the higher the production. So if there are fewer countries growing the commodity, the demand will increase and therefore countries will try to increase production of the commidity in return."
   ]
  },
  {
   "cell_type": "markdown",
   "metadata": {},
   "source": [
    "**Task 2 (2pts):** Based on your plot above, do you believe the production of commodities that are produced in a large number of countries is more historically stable than production of commodities in a smaller number of countries, as measured using standard deviation? (1pt)? Based on your answer, do you think that the number of countries a crop is produced in predicts if it will be more resilient to climate change in the future (1pt)?"
   ]
  },
  {
   "cell_type": "markdown",
   "metadata": {},
   "source": [
    "<font size=6 color=\"#009600\">&#9998;</font> The smaller number of countries has more variation and larger standard deviation values, so the commodities are more stable in countries that produce in more locations. If a crop is planted in an increased number of locations then it will be more resistant to different types of climate due to the fact that it is already growing in various different environment."
   ]
  },
  {
   "cell_type": "markdown",
   "metadata": {},
   "source": [
    "# Congratulations, you're done!\n",
    "\n",
    "Submit this assignment by uploading your notebook to the course Desire2Learn web page.  Go to the \"Homework Assignments\" folder, find the appropriate submission link, and upload everything there. Make sure your name is on it! "
   ]
  }
 ],
 "metadata": {
  "anaconda-cloud": {},
  "kernelspec": {
   "display_name": "Python 3",
   "language": "python",
   "name": "python3"
  },
  "language_info": {
   "codemirror_mode": {
    "name": "ipython",
    "version": 3
   },
   "file_extension": ".py",
   "mimetype": "text/x-python",
   "name": "python",
   "nbconvert_exporter": "python",
   "pygments_lexer": "ipython3",
   "version": "3.8.8"
  }
 },
 "nbformat": 4,
 "nbformat_minor": 4
}
