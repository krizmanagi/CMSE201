{
 "cells": [
  {
   "cell_type": "markdown",
   "metadata": {},
   "source": [
    "# Day 23 pre-class assignment: climate modeling\n",
    "\n",
    "<img src=\"https://scx1.b-cdn.net/csz/news/800a/2013/punishthynei.png\" width=450>\n"
   ]
  },
  {
   "cell_type": "markdown",
   "metadata": {},
   "source": [
    "## <p style=\"text-align: right;\"> &#9989; Krizma Nagi</p>\n"
   ]
  },
  {
   "cell_type": "markdown",
   "metadata": {},
   "source": [
    "## Goals for today's pre-class assignment\n",
    "\n",
    "* Read about simple climate models and the science behind global warming\n",
    "* Make a simple model to estimate the change in global temperature as atmospheric CO2 concentration grows\n",
    "\n",
    "## Assignment instructions\n",
    "\n",
    "**This assignment is due by 11:59 p.m. the day before class,** and should be uploaded into the appropriate \"Pre-class assignments\" dropbox folder.  If you run into issues with your code, make sure to use Slack to help each other out and receive some assistance from the instructors. Submission instructions can be found at the end of the notebook.\n"
   ]
  },
  {
   "cell_type": "markdown",
   "metadata": {},
   "source": [
    "## Understanding the relationship between CO2 concentration and temperature\n",
    "\n",
    "In tomorrow's class, we're going to continue our exploration of the Earth's climate and the relationship between greenhouse gases and temperature in the Earth's atmosphere, and will build on the data analysis and projections that you did in the previous class session.\n",
    "\n",
    "**In preparation for tomorrow's class,** you need to read and think about how atmospheric CO2 concentrations affect global temperature, and make a simple model to predict the evolution of that temperature.\n",
    "\n",
    "---\n",
    "\n",
    "### The greenhouse effect\n",
    "\n",
    "&#9989;&nbsp; First, read [this short article](https://scied.ucar.edu/longcontent/greenhouse-effect) about the greenhouse effect.\n",
    "\n",
    "Then continue on to learn about a very simple model for how CO$_2$ level impact global temperature:\n",
    "\n",
    "### A very, very simple climate model\n",
    "\n",
    "**Note:** the following writeup was adapted from [this web page](https://scied.ucar.edu/simple-climate-model), and in particular the \"background and extensions\" section of [this sub-page](https://scied.ucar.edu/activity/very-very-simple-climate-model-activity).\n",
    "\n",
    "Climate scientists use models to understand how the Earth is changing. Models of Earth can be experimented upon to assess the impact of various perturbations on the planet. Climate models describe our planet with mathematical equations. Because Earth is complex, it takes hundreds of very complex equations to model the atmosphere, oceans, and land surface. Because of the complexity, climate models are usually run on powerful computers.\n",
    "\n",
    "The Very, Very Simple Climate Model is, as the name implies, very simple. In this model, average global temperature is determined entirely by the atmospheric carbon dioxide concentration via greenhouse warming of the atmosphere. The impacts of the Earth's biosphere, changes in land use, wind and precipitation patterns, other greenhouse gases, uptake of carbon dioxide by the oceans and other factors are not considered by this very simple model. Many of these factors decrease the amount of carbon dioxide in the atmosphere over time.\n",
    "\n",
    "George E.P. Box once said, \"all models are wrong, but some models are useful.\" The more a complex system like Earth is simplified in a model, the more wrong the model is. However, in simplifying this model to temperature and carbon dioxide, The Very, Very Simple Climate Model allows one to focus on the cause and effect relationships of greenhouse gases and climate change. A major point embodied in this model is that temperatures depend on CO2 concentration, which rises whenever emissions are greater than zero. When you hear world leaders saying that they are working hard to reduce the rate of growth of greenhouse gas emissions, remember that reducing the rate of growth does not lead to reduced temperatures. Instead, the amount of greenhouse gases continues to grow in the atmosphere whenever emissions are greater than zero.\n",
    "\n",
    "The assumptions behind this model, though rather limited, are valid as far as they go. The starting values for concentration, emission rate, and temperature in the model (which can be [found here](https://scied.ucar.edu/simple-climate-model)) are right around actual values for the year 2000. The ranges for emission rate choices are in line with predictions scientists think we are likely to see in this coming century. The relationship between atmospheric carbon dioxide concentration and temperature is well-established; basically, temperature rises about 3° C for each doubling of carbon dioxide concentration. So, for example, if the concentration goes from 400 ppmv to 800 ppmv, we expect to see temperature go up by 3° C.\n",
    "\n",
    "According to the Intergovernmental Panel on Climate Change and their 2007 Assessment Report, Earth’s average temperature rose 0.6° Celsius (1.1°F) during the 20th Century. Based on the results from about a dozen computer models, the IPCC projects that global warming will continue. Model results project that Earth's average global temperature will rise between 1.8° and 4.0° Celsius (3.2° and 7.2° F) depending largely on how humans change the ways they live on the planet.\n",
    "\n",
    "### Details of the Math Behind the Model\n",
    "\n",
    "Based on a mix of theory and observations, scientists now know approximately how much Earth's surface temperature as CO$_2$ levels increase... everything else being equal, which is, of course, never the case. Stated simply, a doubling of the atmospheric concentration of CO$_2$ is expected to produce about a 3° C (5.4° F) rise in average global surface temperatures.\n",
    "\n",
    "An example: the CO$_2$ level in the year 2000 was 368 parts per million (ppm), while the average global temperature was approximately 15° C (59° F). If, in the future, the CO$_2$ concentration were to rise to 736 ppm ( = 2 x 368 ppm) we would expect global temperatures to rise roughly 3° C (5.4° F) to 18° C (64.4° F). CO$_2$ concentration would have to double again to 1,472 ppm ( = 2 x 736 ppm) to cause another 3° C (5.4° F) temperature rise to 21° C (69.8° F).\n",
    "\n",
    "Mathematically, here's the formula which expresses this relationship:\n",
    "\n",
    "$$\\mathrm{T = T_0 + S~log_2(C/C_0)}$$\n",
    "\n",
    "where T is the new/current temperature, T$_0$ is the known temperature at some reference time (for example, 15° C in the year 2000), S is the \"climate sensitivity\" factor, which affects the temperature rise as a result of CO2 doubling, C is the new/current atmospheric CO2 concentration, and C$_0$ is the known atmospheric CO2 concentration at some reference time (must be the same time as T$_0$; 368 ppm in 2000 would match the T$_0$ example mentioned above).\n",
    "\n",
    "The \"climate sensitivity\" factor, S, is actually an estimate. According to the [Fourth Assessment Report](https://www.ipcc.ch/report/ar4/) by the IPCC (Intergovernmental Panel on Climate Change), the climate sensitivity value is \"likely to be in the range 2 to 4.5° C with a best estimate of about 3° C, and is very unlikely to be less than 1.5° C. Values substantially higher than 4.5° C cannot be excluded, but agreement of models with observations is not as good for those values.\"  The authors of the model you're going to experiment with momentarily have used 3° C for climate sensitivity in their simple model.\n",
    "\n",
    "How does the CO$_2$ **emission rate** affect the CO$_2$ **concentration** level? Based on estimates of the total quantity of CO$_2$ in the atmosphere (in gigatons, abbreviated GtC) and of the CO$_2$ concentration, every 2.3 GtC of emissions would be expected to raise atmospheric CO2 concentration by 1 ppm. So, if emissions in a given year were about 7 GtC, we would expect CO$_2$ concentration to rise by almost 3 ppm ( = 7 GtC / 2.3 GtC) that year. Total global carbon emissions were around 8.2 GtC in 2000, and had climbed to 9.2 GtC by 2006.\n",
    "\n",
    "### To keep this model simple, a couple of major factors were left out:\n",
    "\n",
    "1. Ocean Absorption of CO$_2$: Sea water absorbs carbon dioxide from the air, creating carbonic acid in the water. Scientists estimate that roughly a third of the anthropogenic CO$_2$ released into the atmosphere is (currently) absorbed by Earth's oceans. Thus, only about 2/3 of emissions actually go towards increasing the atmospheric concentration of CO$_2$. Over time, as more carbon is sequestered into the oceans and the oceans therefore become more acidic (as a result of the carbonic acid produced), scientists expect that the oceans will be able to absorb less and less CO$_2$ from the atmosphere. Thus, in the future, we expect a higher percentage (than the current 67%) of emitted CO$_2$ to remain in the atmosphere, which will further promote greenhouse warming.\n",
    "\n",
    "2. Residence Time of CO$_2$ in Earth's Atmosphere: Carbon dioxide is constantly cycled between the atmosphere, oceans, soil, living creatures, rocks, and so on. Every year, some of the CO$_2$ humans have emitted into the atmosphere is naturally absorbed by other elements of the carbon cycle, reducing atmospheric CO$_2$ concentration and thus greenhouse forcing. However, it takes a very long time for excess CO$_2$ in the atmosphere to naturally migrate to other carbon reservoirs. As an example, if we had completely eliminated all anthropogenic carbon dioxide emissions in 2000 (and every year hence), scientists estimate that by the year 2100 CO$_2$ concentration in the atmosphere would drop to about 12% below year 2000 levels. Because of this long residence time of CO$_2$ in the atmosphere, the omission of this factor from this simple model is a relatively minor source of inaccuracy.\n",
    "\n",
    "### Some optional additional readings\n",
    "\n",
    "1.  If you're interested in the physics of the greenhouse effect, [this web page](https://math.nyu.edu/faculty/kleeman/zero_dim_ebm.html) has an excellent description\n",
    "2.  If you're interested in the history of our understanding of the greenhouse effect and climate modeling, [this page](https://history.aip.org/climate/simple.htm) at the American Institute of Physics has a great overview.\n",
    "3.  [This web page](https://scied.ucar.edu/simple-climate-model) has an interactive app with an implementation of the Very Simple Climate Model described above."
   ]
  },
  {
   "cell_type": "markdown",
   "metadata": {},
   "source": [
    "## Now, let's implement the model!¶\n",
    "\n",
    "&#9989;&nbsp; **Task 1**: Define a function that takes the inputs of your model ($S$, $T_0$, $C_0$, and $C$ at a specific time) and returns the $T$ at a specific time.\n",
    "\n",
    "For reference, the temperature model is:\n",
    "\n",
    "$$\\mathrm{T = T_0 + S~log_2(C/C_0)}$$\n",
    "\n",
    "**Tip**: Make sure you use the correct \"log\" function for your model!\n"
   ]
  },
  {
   "cell_type": "code",
   "execution_count": 25,
   "metadata": {},
   "outputs": [],
   "source": [
    "import numpy as np\n",
    "# Put your code in this cell!\n",
    "def temp(S, T0, C0, C):\n",
    "    T = T0 + S*(np.log2(C/C0))\n",
    "    return T"
   ]
  },
  {
   "cell_type": "code",
   "execution_count": 26,
   "metadata": {},
   "outputs": [
    {
     "name": "stdout",
     "output_type": "stream",
     "text": [
      "1.8300749985576874\n"
     ]
    }
   ],
   "source": [
    "print(temp(2,1,3,4))"
   ]
  },
  {
   "cell_type": "markdown",
   "metadata": {},
   "source": [
    "**How will both global atmospheric carbon concentrations and global temperature change between the year 2000 and the year 2100?**\n",
    "\n",
    "Again, the temperature model is:\n",
    "\n",
    "$$\\mathrm{T(t) = T_0 + S~log_2(C(t)/C_0)}$$\n",
    "\n",
    "We added the concept that both carbon concentrations, $C$,and temperature, $T$, are functions of time, $t$. You need to update your $C$ value as time progresses and use this to compute $T$ as a function of time.\n",
    "\n",
    "You'll need to account for the following details:\n",
    "\n",
    "1. Start in the year 2000 with a CO$_2$ concentration of 368 parts per million (ppm) and an average global temperature of 15° C (59° F).\n",
    "2. Assume that 9 gigatons of carbon (GtC) are added to the atmosphere per year and the climate sensitivity factor, S, in the model is 3° C \n",
    "\n",
    "**Remember**: You've been told that 9 GtC of carbon are added to the atmosphere every year, but the simple model you're exploring keeps track of $C$ in terms of the parts per million (ppm), so you need to make sure you convert between GtC and ppm in your solution to this model!\n",
    "\n",
    "&#9989;&nbsp; **Task 2**: Make a two-panel plot to show the change in atmospheric carbon concentration and average global temperature versus time.\n",
    "\n",
    "\n",
    "\n",
    "\n",
    "If everything goes well, you should get something that looks like this:\n",
    "\n",
    "<img src=\"https://i.imgur.com/fD5lGOY.png\">\n"
   ]
  },
  {
   "cell_type": "code",
   "execution_count": 30,
   "metadata": {},
   "outputs": [
    {
     "data": {
      "image/png": "[encoded data removed]",
      "text/plain": [
       "<Figure size 720x720 with 2 Axes>"
      ]
     },
     "metadata": {
      "needs_background": "light"
     },
     "output_type": "display_data"
    }
   ],
   "source": [
    "import matplotlib.pyplot as plt\n",
    "import math\n",
    "\n",
    "def temp_function(x, t0, s, ppm):\n",
    "    gtc_ppm = 0.47\n",
    "    year_ppm = 0.47*9\n",
    "    temperature = [t0 + s * np.log2(1 + ((year-2000) * year_ppm)/ppm) for year in x]\n",
    "    return np.array(temperature)\n",
    "\n",
    "def CO2_function(x, ppm):\n",
    "    gtc_ppm = 0.47\n",
    "    year_ppm = 9*0.47\n",
    "    CO2 = [ppm+(year-2000)*year_ppm for year in x]\n",
    "    return np.array(CO2)\n",
    "\n",
    "x_years = np.linspace(2000,2100,6)\n",
    "y_temp = temp_function(x_years, 15,3,368)\n",
    "y_CO2 = CO2_function(x_years, 368)\n",
    "\n",
    "plt.figure(figsize=(10,10))\n",
    "\n",
    "plt.subplot(2,1,1)\n",
    "plt.plot(x_years, y_CO2)\n",
    "plt.ylabel('CO2 concentration')\n",
    "\n",
    "plt.subplot(2,1,2)\n",
    "plt.plot(x_years, y_temp)\n",
    "plt.ylabel('Global mean temp')\n",
    "plt.xlabel('year')\n",
    "plt.show()\n",
    "\n",
    "#code help from geeksforgeeks.org"
   ]
  },
  {
   "cell_type": "markdown",
   "metadata": {},
   "source": [
    "**Task 1**: Define a function that takes the inputs of your model ($T_0$, $C_0$, and $C$ at a specific time) and returns the $T$ at a specific time."
   ]
  },
  {
   "cell_type": "code",
   "execution_count": 18,
   "metadata": {},
   "outputs": [],
   "source": [
    "# Put your code in this cell!\n",
    "def temp(S, T0, C0, C):\n",
    "    T = T0 + S*(np.log2(C/C0))\n",
    "    return T"
   ]
  },
  {
   "cell_type": "markdown",
   "metadata": {},
   "source": [
    "---\n",
    "## Assignment wrap-up\n",
    "\n",
    "Please fill out the form that appears when you run the code below.  **You must completely fill this out in order to receive credit for the assignment!**"
   ]
  },
  {
   "cell_type": "code",
   "execution_count": 2,
   "metadata": {},
   "outputs": [
    {
     "data": {
      "text/html": [
       "\n",
       "<iframe \n",
       "\tsrc=\"https://cmse.msu.edu/cmse201-pc-survey\" \n",
       "\twidth=\"800px\" \n",
       "\theight=\"600px\" \n",
       "\tframeborder=\"0\" \n",
       "\tmarginheight=\"0\" \n",
       "\tmarginwidth=\"0\">\n",
       "\tLoading...\n",
       "</iframe>\n"
      ],
      "text/plain": [
       "<IPython.core.display.HTML object>"
      ]
     },
     "execution_count": 2,
     "metadata": {},
     "output_type": "execute_result"
    }
   ],
   "source": [
    "from IPython.display import HTML\n",
    "HTML(\n",
    "\"\"\"\n",
    "<iframe \n",
    "\tsrc=\"https://cmse.msu.edu/cmse201-pc-survey\" \n",
    "\twidth=\"800px\" \n",
    "\theight=\"600px\" \n",
    "\tframeborder=\"0\" \n",
    "\tmarginheight=\"0\" \n",
    "\tmarginwidth=\"0\">\n",
    "\tLoading...\n",
    "</iframe>\n",
    "\"\"\"\n",
    ")"
   ]
  },
  {
   "cell_type": "markdown",
   "metadata": {},
   "source": [
    "### Congratulations, you're done!\n",
    "\n",
    "Submit this assignment by uploading it to the course Desire2Learn web page.  Go to the \"Pre-class assignments\" folder, find the appropriate submission link, and upload it there.\n",
    "\n",
    "See you in class!"
   ]
  },
  {
   "cell_type": "markdown",
   "metadata": {},
   "source": [
    "&#169; Copyright 2018,  Michigan State University Board of Trustees"
   ]
  }
 ],
 "metadata": {
  "kernelspec": {
   "display_name": "Python 3",
   "language": "python",
   "name": "python3"
  },
  "language_info": {
   "codemirror_mode": {
    "name": "ipython",
    "version": 3
   },
   "file_extension": ".py",
   "mimetype": "text/x-python",
   "name": "python",
   "nbconvert_exporter": "python",
   "pygments_lexer": "ipython3",
   "version": "3.8.8"
  }
 },
 "nbformat": 4,
 "nbformat_minor": 4
}
