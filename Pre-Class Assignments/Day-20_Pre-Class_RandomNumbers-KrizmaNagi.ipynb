{
 "cells": [
  {
   "cell_type": "markdown",
   "metadata": {},
   "source": [
    "# Day 20 Pre-Class Assignment: Random Numbers"
   ]
  },
  {
   "cell_type": "markdown",
   "metadata": {},
   "source": [
    "### <p style=\"text-align: right;\"> &#9989; Krizma Nagi</p>"
   ]
  },
  {
   "cell_type": "markdown",
   "metadata": {},
   "source": [
    "<img src=\"https://cdn-images-1.medium.com/max/1600/1*B7d5Fr27lsH3uHvzF720IA.png\" width=300px>\n",
    "\n",
    "## Goals for today's pre-class assignment\n",
    "\n",
    "* Practice using different methods for random number generation\n",
    "* Using random numbers to solve problems\n",
    "\n",
    "The theme of this week is creating and using random numbers to do a wide range of things, such as modeling randomness that naturally needs to be in our models, or using them to solve problems that would otherwise be too difficult to solve. "
   ]
  },
  {
   "cell_type": "markdown",
   "metadata": {},
   "source": [
    "## Assignment instructions\n",
    "\n",
    "**This assignment is due by 11:59pm the day before class,** and should be uploaded into the appropriate \"Pre-class assignments\"  submission folder.  Submission instructions can be found at the end of the notebook."
   ]
  },
  {
   "cell_type": "markdown",
   "metadata": {},
   "source": [
    "---\n",
    "## Revisiting random numbers\n",
    "\n",
    "We've already been using random numbers in a variety of ways in this course, but we will use random numbers for another modeling context.  If you need a reminder of some of the ways we can access random numbers in Python, re-watch the following video.\n",
    "\n",
    "If the YouTube video doesn't work, try this [MediaSpace link](https://mediaspace.msu.edu/media/random+numbers/1_0ico6hit)."
   ]
  },
  {
   "cell_type": "code",
   "execution_count": 1,
   "metadata": {},
   "outputs": [
    {
     "data": {
      "image/jpeg": "[encoded data removed]",
      "text/html": [
       "\n",
       "        <iframe\n",
       "            width=\"640\"\n",
       "            height=\"360\"\n",
       "            src=\"https://www.youtube.com/embed/fF841G53fGo\"\n",
       "            frameborder=\"0\"\n",
       "            allowfullscreen\n",
       "        ></iframe>\n",
       "        "
      ],
      "text/plain": [
       "<IPython.lib.display.YouTubeVideo at 0x227633c91c0>"
      ]
     },
     "execution_count": 1,
     "metadata": {},
     "output_type": "execute_result"
    }
   ],
   "source": [
    "# You are encourage to watch the video in full-screen mode\n",
    "from IPython.display import YouTubeVideo\n",
    "YouTubeVideo(\"fF841G53fGo\",width=640,height=360)  # random numbers"
   ]
  },
  {
   "cell_type": "markdown",
   "metadata": {},
   "source": [
    "Here are some of the imports we will use in this assignment. Notice that we're importing both `random` *and* `numpy`, which also has a `random` module.  There is also an example for how you can set a specific seed for the `random` module and the `np.random` module, which can be useful for testing code to ensure that you understand the results. **Note**: If you want to use a specific seed, you need to make sure the call to the `seed` function is before the command that is generating the random numbers."
   ]
  },
  {
   "cell_type": "code",
   "execution_count": 3,
   "metadata": {
    "scrolled": true
   },
   "outputs": [],
   "source": [
    "import random\n",
    "import matplotlib.pyplot as plt\n",
    "import timeit\n",
    "import numpy as np\n",
    "%matplotlib inline\n",
    "\n",
    "random.seed(1) # this initializes the seed - see question 6 below\n",
    "np.random.seed(1)"
   ]
  },
  {
   "cell_type": "markdown",
   "metadata": {},
   "source": [
    "### Practicing random number generation\n",
    "\n",
    "The following questions are designed to give you a bit of practice with generating a variety of random numbers. Make sure you are able to accomplish all the tasks included below."
   ]
  },
  {
   "cell_type": "markdown",
   "metadata": {},
   "source": [
    "&#9989;&nbsp;  **Question 1**: Write code below to generate a set of 100 random **floats** uniformly distributed between 0 and 1. Do this with either the `random.random()` function or the `np.random.random()` function. Compute the minimum, maximum and average value for this set of numbers."
   ]
  },
  {
   "cell_type": "code",
   "execution_count": 4,
   "metadata": {},
   "outputs": [
    {
     "name": "stdout",
     "output_type": "stream",
     "text": [
      "0.9888610889064947\n",
      "0.00011437481734488664\n",
      "0.48587792760014564\n"
     ]
    }
   ],
   "source": [
    "array = np.random.random(100)\n",
    "\n",
    "max_value = np.max(array)\n",
    "print(max_value)\n",
    "\n",
    "min_value = np.min(array)\n",
    "print(min_value)\n",
    "\n",
    "mean_value = np.mean(array)\n",
    "print(mean_value)"
   ]
  },
  {
   "cell_type": "markdown",
   "metadata": {},
   "source": [
    "&#9989;&nbsp;  **Question 2**: Using either the `random.randint()` function, or the `np.random.randint()` function, generate an array with 100 random **integers** equal to 1, 2 or 3. Determine how many of each there are. "
   ]
  },
  {
   "cell_type": "code",
   "execution_count": 5,
   "metadata": {},
   "outputs": [
    {
     "data": {
      "text/plain": [
       "array([1, 3, 1, 3, 2, 2, 2, 3, 2, 2, 1, 3, 1, 2, 1, 2, 2, 1, 2, 2, 2, 3,\n",
       "       2, 1, 1, 3, 2, 1, 1, 2, 3, 2, 2, 1, 2, 1, 2, 1, 2, 2, 2, 2, 1, 3,\n",
       "       2, 1, 1, 3, 2, 1, 3, 3, 3, 1, 2, 2, 2, 2, 3, 1, 1, 3, 1, 2, 1, 3,\n",
       "       1, 3, 3, 1, 2, 1, 1, 1, 2, 3, 2, 1, 1, 1, 2, 3, 1, 1, 3, 3, 3, 3,\n",
       "       2, 3, 1, 3, 1, 1, 1, 1, 2, 3, 3, 2])"
      ]
     },
     "execution_count": 5,
     "metadata": {},
     "output_type": "execute_result"
    }
   ],
   "source": [
    "# your code here\n",
    "np.random.randint(1,4,100)"
   ]
  },
  {
   "cell_type": "code",
   "execution_count": 56,
   "metadata": {},
   "outputs": [
    {
     "name": "stdout",
     "output_type": "stream",
     "text": [
      "37 threes, 39 twos, 24 ones\n"
     ]
    }
   ],
   "source": [
    "print(\"37 threes, 39 twos, 24 ones\")"
   ]
  },
  {
   "cell_type": "markdown",
   "metadata": {},
   "source": [
    "&#9989;&nbsp; **Question 3**: Using `np.random.uniform()`, write code below to generate 10, 100, 1000, and 10000 random floats in the interval $[-5,5]$ and make a histogram for each case. Create a markdown cell after the code and comment on what patterns you see. "
   ]
  },
  {
   "cell_type": "code",
   "execution_count": 6,
   "metadata": {},
   "outputs": [
    {
     "data": {
      "text/plain": [
       "<function matplotlib.pyplot.show(close=None, block=None)>"
      ]
     },
     "execution_count": 6,
     "metadata": {},
     "output_type": "execute_result"
    },
    {
     "data": {
      "image/png": "[encoded data removed]",
      "text/plain": [
       "<Figure size 432x288 with 1 Axes>"
      ]
     },
     "metadata": {
      "needs_background": "light"
     },
     "output_type": "display_data"
    }
   ],
   "source": [
    "# your code here\n",
    "n_10 = np.random.uniform(-5.0,5.0,10)\n",
    "plt.hist(n_10)\n",
    "plt.show"
   ]
  },
  {
   "cell_type": "code",
   "execution_count": 7,
   "metadata": {},
   "outputs": [
    {
     "data": {
      "text/plain": [
       "<function matplotlib.pyplot.show(close=None, block=None)>"
      ]
     },
     "execution_count": 7,
     "metadata": {},
     "output_type": "execute_result"
    },
    {
     "data": {
      "image/png": "[encoded data removed]",
      "text/plain": [
       "<Figure size 432x288 with 1 Axes>"
      ]
     },
     "metadata": {
      "needs_background": "light"
     },
     "output_type": "display_data"
    }
   ],
   "source": [
    "n_100 = np.random.uniform(-5.0,5.0,100)\n",
    "plt.hist(n_100)\n",
    "plt.show"
   ]
  },
  {
   "cell_type": "code",
   "execution_count": 8,
   "metadata": {},
   "outputs": [
    {
     "data": {
      "text/plain": [
       "<function matplotlib.pyplot.show(close=None, block=None)>"
      ]
     },
     "execution_count": 8,
     "metadata": {},
     "output_type": "execute_result"
    },
    {
     "data": {
      "image/png": "[encoded data removed]",
      "text/plain": [
       "<Figure size 432x288 with 1 Axes>"
      ]
     },
     "metadata": {
      "needs_background": "light"
     },
     "output_type": "display_data"
    }
   ],
   "source": [
    "n_1000 = np.random.uniform(-5.0,5.0,1000)\n",
    "plt.hist(n_1000)\n",
    "plt.show"
   ]
  },
  {
   "cell_type": "code",
   "execution_count": 9,
   "metadata": {},
   "outputs": [
    {
     "data": {
      "text/plain": [
       "<function matplotlib.pyplot.show(close=None, block=None)>"
      ]
     },
     "execution_count": 9,
     "metadata": {},
     "output_type": "execute_result"
    },
    {
     "data": {
      "image/png": "[encoded data removed]",
      "text/plain": [
       "<Figure size 432x288 with 1 Axes>"
      ]
     },
     "metadata": {
      "needs_background": "light"
     },
     "output_type": "display_data"
    }
   ],
   "source": [
    "n_10000 = np.random.uniform(-5.0,5.0,10000)\n",
    "plt.hist(n_10000)\n",
    "plt.show"
   ]
  },
  {
   "cell_type": "markdown",
   "metadata": {},
   "source": [
    "As the count of random numbers increases, the random outputs are more equally distributed."
   ]
  },
  {
   "cell_type": "markdown",
   "metadata": {},
   "source": [
    "&#9989;&nbsp;  **Question 4**:  The following numpy array contains the heights (in feet) of 100 players in the NBA:"
   ]
  },
  {
   "cell_type": "code",
   "execution_count": 10,
   "metadata": {},
   "outputs": [
    {
     "data": {
      "text/plain": [
       "Text(0, 0.5, 'Count')"
      ]
     },
     "execution_count": 10,
     "metadata": {},
     "output_type": "execute_result"
    },
    {
     "data": {
      "image/png": "[encoded data removed]",
      "text/plain": [
       "<Figure size 432x288 with 1 Axes>"
      ]
     },
     "metadata": {
      "needs_background": "light"
     },
     "output_type": "display_data"
    }
   ],
   "source": [
    "nba_heights = np.array([6.666666667,6.416666667,6,6.416666667,6.416666667,6.75,6.5,7,6.416666667,7,6.666666667,6.833333333,6.583333333,6.833333333,6.5,6.583333333,6.25,6.833333333,6.333333333,6.25,6.333333333,6.75,6.25,6.75,7.25,6.833333333,6.5,6.583333333,7.166666667,6.166666667,6.25,6.333333333,6.5,6.666666667,6.666666667,7,6.333333333,6.75,6.166666667,6.333333333,6.5,6.25,6.5,6.416666667,6.666666667,6.25,6.666666667,6.083333333,6.5,6.583333333,6.583333333,6.5,6.75,6.75,6.75,5.916666667,6.416666667,6,6.75,6.5,6.833333333,6.5,6.916666667,6.083333333,6.25,6.5,6.25,6.333333333,5.916666667,6.583333333,6.916666667,6.166666667,6.416666667,6.75,6.75,6.833333333,6.5,6.5,6.666666667,6.083333333,6.333333333,6.416666667,6,6.833333333,6.75,6.25,6.666666667,6.166666667,6.916666667,6.416666667,6.416666667,6.5,6.75,6.916666667,6.333333333,6.416666667,6.75,6.083333333,6.166666667,6.333333333])\n",
    "plt.hist(nba_heights,bins=20)\n",
    "plt.xlabel(\"Height (ft)\")\n",
    "plt.ylabel(\"Count\")"
   ]
  },
  {
   "cell_type": "markdown",
   "metadata": {},
   "source": [
    "Compute the mean and standard deviation of this array and use the `np.random.normal()` function using the mean and standard deviation you just computed to generate a new array with 100, 1000, and 10000 samples. Plot the results to see if it converges to a \"bell curve\" as you increase the number of samples."
   ]
  },
  {
   "cell_type": "code",
   "execution_count": 11,
   "metadata": {},
   "outputs": [
    {
     "name": "stdout",
     "output_type": "stream",
     "text": [
      "6.51333333335\n",
      "0.28030737097594216\n"
     ]
    }
   ],
   "source": [
    "mean = np.mean(nba_heights)\n",
    "print(mean)\n",
    "std = np.std(nba_heights)\n",
    "print(std)"
   ]
  },
  {
   "cell_type": "code",
   "execution_count": 12,
   "metadata": {},
   "outputs": [
    {
     "data": {
      "text/plain": [
       "(array([ 2.,  2.,  2.,  7.,  5., 10., 11., 11.,  8., 10.,  9.,  8.,  6.,\n",
       "         2.,  3.,  2.,  0.,  1.,  0.,  1.]),\n",
       " array([5.89642334, 5.97489469, 6.05336603, 6.13183737, 6.21030871,\n",
       "        6.28878006, 6.3672514 , 6.44572274, 6.52419409, 6.60266543,\n",
       "        6.68113677, 6.75960811, 6.83807946, 6.9165508 , 6.99502214,\n",
       "        7.07349349, 7.15196483, 7.23043617, 7.30890751, 7.38737886,\n",
       "        7.4658502 ]),\n",
       " <BarContainer object of 20 artists>)"
      ]
     },
     "execution_count": 12,
     "metadata": {},
     "output_type": "execute_result"
    },
    {
     "data": {
      "image/png": "[encoded data removed]",
      "text/plain": [
       "<Figure size 432x288 with 1 Axes>"
      ]
     },
     "metadata": {
      "needs_background": "light"
     },
     "output_type": "display_data"
    }
   ],
   "source": [
    "n1_100 = np.random.normal(mean, std, 100)\n",
    "plt.hist(n1_100,bins=20)"
   ]
  },
  {
   "cell_type": "code",
   "execution_count": 13,
   "metadata": {},
   "outputs": [
    {
     "data": {
      "text/plain": [
       "(array([  1.,   0.,   2.,   4.,  12.,  34.,  45.,  88., 152., 136., 166.,\n",
       "        115.,  93.,  67.,  50.,  22.,   9.,   3.,   0.,   1.]),\n",
       " array([5.48840622, 5.58955953, 5.69071284, 5.79186614, 5.89301945,\n",
       "        5.99417276, 6.09532607, 6.19647937, 6.29763268, 6.39878599,\n",
       "        6.4999393 , 6.6010926 , 6.70224591, 6.80339922, 6.90455253,\n",
       "        7.00570583, 7.10685914, 7.20801245, 7.30916576, 7.41031906,\n",
       "        7.51147237]),\n",
       " <BarContainer object of 20 artists>)"
      ]
     },
     "execution_count": 13,
     "metadata": {},
     "output_type": "execute_result"
    },
    {
     "data": {
      "image/png": "[encoded data removed]",
      "text/plain": [
       "<Figure size 432x288 with 1 Axes>"
      ]
     },
     "metadata": {
      "needs_background": "light"
     },
     "output_type": "display_data"
    }
   ],
   "source": [
    "n1_1000 = np.random.normal(mean, std, 1000)\n",
    "plt.hist(n1_1000,bins=20)"
   ]
  },
  {
   "cell_type": "code",
   "execution_count": 14,
   "metadata": {},
   "outputs": [
    {
     "data": {
      "text/plain": [
       "(array([  12.,   22.,   73.,  153.,  351.,  598.,  951., 1245., 1456.,\n",
       "        1477., 1306., 1021.,  672.,  365.,  186.,   70.,   31.,    7.,\n",
       "           2.,    2.]),\n",
       " array([5.54587966, 5.65267005, 5.75946044, 5.86625083, 5.97304122,\n",
       "        6.0798316 , 6.18662199, 6.29341238, 6.40020277, 6.50699316,\n",
       "        6.61378355, 6.72057394, 6.82736433, 6.93415472, 7.04094511,\n",
       "        7.1477355 , 7.25452588, 7.36131627, 7.46810666, 7.57489705,\n",
       "        7.68168744]),\n",
       " <BarContainer object of 20 artists>)"
      ]
     },
     "execution_count": 14,
     "metadata": {},
     "output_type": "execute_result"
    },
    {
     "data": {
      "image/png": "[encoded data removed]",
      "text/plain": [
       "<Figure size 432x288 with 1 Axes>"
      ]
     },
     "metadata": {
      "needs_background": "light"
     },
     "output_type": "display_data"
    }
   ],
   "source": [
    "n1_10000 = np.random.normal(mean, std, 10000)\n",
    "plt.hist(n1_10000,bins=20)"
   ]
  },
  {
   "cell_type": "markdown",
   "metadata": {},
   "source": [
    "As you increase the number of samples in the data, the plot becomes more and more bell curved shaped."
   ]
  },
  {
   "cell_type": "markdown",
   "metadata": {},
   "source": [
    "### Using random numbers to calculate $\\pi$\n",
    "\n",
    "A very neat demonstration of the power of random numbers to solve problems is to use them to calculate $\\pi$.  This technique is called [Monte Carlo integration](https://en.wikipedia.org/wiki/Monte_Carlo_integration) and is broadly useful to compute integrals that are too hard to solve otherwise.\n",
    "\n",
    "Here we will use this technique to solve for the lovable constant $\\pi = 3.14159265358979...$.\n",
    "\n",
    "First let's use the `np.random.random()` function to generate 1000 pairs of random numbers."
   ]
  },
  {
   "cell_type": "code",
   "execution_count": 15,
   "metadata": {},
   "outputs": [
    {
     "data": {
      "text/plain": [
       "Text(0, 0.5, 'y')"
      ]
     },
     "execution_count": 15,
     "metadata": {},
     "output_type": "execute_result"
    },
    {
     "data": {
      "image/png": "[encoded data removed]",
      "text/plain": [
       "<Figure size 360x360 with 1 Axes>"
      ]
     },
     "metadata": {
      "needs_background": "light"
     },
     "output_type": "display_data"
    }
   ],
   "source": [
    "random_pairs = np.random.random((2,1000))\n",
    "random_x = random_pairs[0]\n",
    "random_y = random_pairs[1]\n",
    "plt.figure(figsize=(5,5))\n",
    "plt.plot(random_x,random_y,'ro')\n",
    "plt.xlabel(\"x\")\n",
    "plt.ylabel(\"y\")"
   ]
  },
  {
   "cell_type": "markdown",
   "metadata": {},
   "source": [
    "Now let's imagine a circle centered at (0,0) with diameter 1.  We can plot one quarter of it in the square like this:"
   ]
  },
  {
   "cell_type": "code",
   "execution_count": 16,
   "metadata": {},
   "outputs": [
    {
     "data": {
      "text/plain": [
       "[<matplotlib.lines.Line2D at 0x21fc6cab040>]"
      ]
     },
     "execution_count": 16,
     "metadata": {},
     "output_type": "execute_result"
    },
    {
     "data": {
      "image/png": "[encoded data removed]",
      "text/plain": [
       "<Figure size 360x360 with 1 Axes>"
      ]
     },
     "metadata": {
      "needs_background": "light"
     },
     "output_type": "display_data"
    }
   ],
   "source": [
    "plt.figure(figsize=(5,5))\n",
    "plt.plot(random_pairs[0],random_pairs[1],'ro')\n",
    "plt.xlabel(\"x\")\n",
    "plt.ylabel(\"y\")\n",
    "\n",
    "# make some linearly spaced x values\n",
    "x = np.linspace(0,1,100)\n",
    "# compute a set of y values for the quarter circle\n",
    "y = np.sqrt(1-x**2)\n",
    "# plot them\n",
    "plt.plot(x,y)"
   ]
  },
  {
   "cell_type": "markdown",
   "metadata": {},
   "source": [
    "The next step is to figure out how many of these points are inside the quarter circle.  We can do this by computing their distance to (0,0).  \n",
    "\n",
    "&#9989;&nbsp;  For each point, calculate $r = \\sqrt{x^2 + y^2}$ and count how many points are inside the circle (i.e. $r < 1$):"
   ]
  },
  {
   "cell_type": "code",
   "execution_count": 17,
   "metadata": {},
   "outputs": [
    {
     "ename": "NameError",
     "evalue": "name 'r' is not defined",
     "output_type": "error",
     "traceback": [
      "\u001b[1;31m---------------------------------------------------------------------------\u001b[0m",
      "\u001b[1;31mNameError\u001b[0m                                 Traceback (most recent call last)",
      "\u001b[1;32m<ipython-input-17-d97e0917a004>\u001b[0m in \u001b[0;36m<module>\u001b[1;34m\u001b[0m\n\u001b[0;32m      1\u001b[0m \u001b[1;31m# your code here\u001b[0m\u001b[1;33m\u001b[0m\u001b[1;33m\u001b[0m\u001b[1;33m\u001b[0m\u001b[0m\n\u001b[0;32m      2\u001b[0m \u001b[0mn_inside\u001b[0m \u001b[1;33m=\u001b[0m \u001b[1;36m0\u001b[0m\u001b[1;33m\u001b[0m\u001b[1;33m\u001b[0m\u001b[0m\n\u001b[1;32m----> 3\u001b[1;33m \u001b[1;32mfor\u001b[0m \u001b[0mr_val\u001b[0m \u001b[1;32min\u001b[0m \u001b[0mr\u001b[0m\u001b[1;33m:\u001b[0m\u001b[1;33m\u001b[0m\u001b[1;33m\u001b[0m\u001b[0m\n\u001b[0m\u001b[0;32m      4\u001b[0m     \u001b[1;32mif\u001b[0m \u001b[0mr_val\u001b[0m \u001b[1;33m<\u001b[0m \u001b[1;36m1\u001b[0m\u001b[1;33m:\u001b[0m\u001b[1;33m\u001b[0m\u001b[1;33m\u001b[0m\u001b[0m\n\u001b[0;32m      5\u001b[0m         \u001b[0mn_inside\u001b[0m \u001b[1;33m+=\u001b[0m \u001b[1;36m1\u001b[0m\u001b[1;33m\u001b[0m\u001b[1;33m\u001b[0m\u001b[0m\n",
      "\u001b[1;31mNameError\u001b[0m: name 'r' is not defined"
     ]
    }
   ],
   "source": [
    "# your code here\n",
    "n_inside = 0\n",
    "for r_val in r:\n",
    "    if r_val < 1:\n",
    "        n_inside += 1\n",
    "frac_inside = n_inside/len(r)\n",
    "print('The fraction of points inside is', frac_inside)"
   ]
  },
  {
   "cell_type": "markdown",
   "metadata": {},
   "source": [
    "Now the area of the whole square is 1.0.  We know the area of a circle is $\\pi * r^2$, or just $\\pi$ because our circle has a radius of 1.0.  That means if we take the area of the quarter circle and multiply it by 4 we should get $\\pi$. \n",
    "\n",
    "&#9989;&nbsp;  **Use the fraction of points inside the circle as your estimate for the area, multiply it by 4 and see if you have a good estimate for $\\pi$!**"
   ]
  },
  {
   "cell_type": "code",
   "execution_count": null,
   "metadata": {},
   "outputs": [],
   "source": [
    "# your code here\n",
    "interval = 1000\n",
    "circle_points = 0\n",
    "square_points = 0\n",
    "for i in range(interval**2):\n",
    "    random_x = random_pairs[0]\n",
    "    random_y = random_pairs[1]\n",
    "    r = ((random_x**2)+(random_y**2))**(1/2)\n",
    "    \n",
    "    if r <= 1:\n",
    "        circle_points += 1\n",
    "    square_points += 1\n",
    "    pi = 4* circle_points/square_points   \n",
    "\n",
    "#code help from geeksforgeeks.com"
   ]
  },
  {
   "cell_type": "markdown",
   "metadata": {},
   "source": [
    "**Were you close?**\n",
    "\n",
    "&#9989;&nbsp;  **Try increasing the number of random points above (leave out the plotting step) and see if your estimate gets closer**\n"
   ]
  },
  {
   "cell_type": "code",
   "execution_count": null,
   "metadata": {},
   "outputs": [],
   "source": [
    "# your code here\n",
    "random_pairs = np.random.random((2,10000))\n",
    "random_x = random_pairs[0]\n",
    "random_y = random_pairs[1]\n",
    "\n",
    "interval = 1000\n",
    "circle_points = 0\n",
    "square_points = 0\n",
    "for i in range(interval**2):\n",
    "    random_x = random_pairs[0]\n",
    "    random_y = random_pairs[1]\n",
    "    r = ((random_x**2)+(random_y**2))**(1/2)\n",
    "    \n",
    "    if r <= 1:\n",
    "        circle_points += 1\n",
    "    square_points += 1\n",
    "    pi = 4* circle_points/square_points\n",
    "    \n",
    "#increasing the number of random points outputs a more accurate estimate for the value of pi"
   ]
  },
  {
   "cell_type": "markdown",
   "metadata": {},
   "source": [
    "---\n",
    "## Assignment wrapup\n",
    "\n",
    "Please fill out the form that appears when you run the code below.  **You must completely fill this out in order to receive credit for the assignment!**"
   ]
  },
  {
   "cell_type": "code",
   "execution_count": 88,
   "metadata": {},
   "outputs": [
    {
     "data": {
      "text/html": [
       "\n",
       "<iframe \n",
       "\tsrc=\"https://cmse.msu.edu/cmse201-pc-survey\" \n",
       "\twidth=\"800px\" \n",
       "\theight=\"600px\" \n",
       "\tframeborder=\"0\" \n",
       "\tmarginheight=\"0\" \n",
       "\tmarginwidth=\"0\">\n",
       "\tLoading...\n",
       "</iframe>\n"
      ],
      "text/plain": [
       "<IPython.core.display.HTML object>"
      ]
     },
     "execution_count": 88,
     "metadata": {},
     "output_type": "execute_result"
    }
   ],
   "source": [
    "from IPython.display import HTML\n",
    "HTML(\n",
    "\"\"\"\n",
    "<iframe \n",
    "\tsrc=\"https://cmse.msu.edu/cmse201-pc-survey\" \n",
    "\twidth=\"800px\" \n",
    "\theight=\"600px\" \n",
    "\tframeborder=\"0\" \n",
    "\tmarginheight=\"0\" \n",
    "\tmarginwidth=\"0\">\n",
    "\tLoading...\n",
    "</iframe>\n",
    "\"\"\"\n",
    ")"
   ]
  },
  {
   "cell_type": "markdown",
   "metadata": {},
   "source": [
    "### Congratulations, you're done!\n",
    "\n",
    "Submit this assignment by uploading it to the course Desire2Learn web page.  Go to the \"Pre-class assignments\" folder, find the appropriate submission link, and upload it there.\n",
    "\n",
    "See you in class!"
   ]
  },
  {
   "cell_type": "markdown",
   "metadata": {},
   "source": [
    "&#169; Copyright 2018,  Michigan State University Board of Trustees"
   ]
  }
 ],
 "metadata": {
  "anaconda-cloud": {},
  "kernelspec": {
   "display_name": "Python 3",
   "language": "python",
   "name": "python3"
  },
  "language_info": {
   "codemirror_mode": {
    "name": "ipython",
    "version": 3
   },
   "file_extension": ".py",
   "mimetype": "text/x-python",
   "name": "python",
   "nbconvert_exporter": "python",
   "pygments_lexer": "ipython3",
   "version": "3.8.8"
  }
 },
 "nbformat": 4,
 "nbformat_minor": 4
}
