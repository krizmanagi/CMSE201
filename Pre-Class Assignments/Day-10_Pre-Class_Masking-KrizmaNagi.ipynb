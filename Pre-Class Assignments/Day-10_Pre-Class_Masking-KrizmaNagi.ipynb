{
 "cells": [
  {
   "cell_type": "markdown",
   "id": "627dd662-b55d-4ce8-b5ca-072d17c471bc",
   "metadata": {},
   "source": [
    "# Day 10 Pre-class Assignment: Normal Distributions, Masking, and Log Plots\n",
    "\n",
    "\n",
    "<p float=\"left\">\n",
    "  <img src=\"https://cdn.scribbr.com/wp-content/uploads/2020/10/standard-normal-distribution.png\" width=\"450px\" />     \n",
    "  <img src=\"https://cf.ltkcdn.net/costumes/images/std-xs/96214-283x424-Phantommask2.webp\" width=\"250px\" />\n",
    "</p>\n"
   ]
  },
  {
   "cell_type": "markdown",
   "id": "987f80db-741e-4da3-9674-2909f8c868d6",
   "metadata": {},
   "source": [
    "### <p style=\"text-align: right;\"> &#9989; Krizma Nagi"
   ]
  },
  {
   "cell_type": "markdown",
   "id": "3925a802-d4f2-4720-9c81-8b009eec85ad",
   "metadata": {},
   "source": [
    "## Goals for today's pre-class assignment\n",
    "\n",
    "* Working with the descriptive statistics and visualizations of Normal Distributions\n",
    "* Practice using masks with NumPy arrays\n",
    "* Interpreting Log Plots\n",
    "\n",
    "\n",
    "## Assignment instructions\n",
    "\n",
    "**This assignment is due by 11:59 p.m. the day before class,** and should be uploaded into the appropriate \"Pre-class assignments\" submission folder.  If you run into issues with your code, make sure to use Slack to help each other out and receive some assistance from the instructors. Submission instructions can be found at the end of the notebook."
   ]
  },
  {
   "cell_type": "markdown",
   "id": "5451775e-436f-4945-b52f-33d723859d19",
   "metadata": {},
   "source": [
    "## 1. Normal Distributions \n",
    "In today’s assignment we will be talking about the **Normal** (or Gaussian) **distribution.** A normal distribution of values looks something like this:"
   ]
  },
  {
   "cell_type": "code",
   "execution_count": 3,
   "id": "657f4759-e25d-4b48-ab37-a7e6b4990dab",
   "metadata": {},
   "outputs": [
    {
     "data": {
      "text/plain": [
       "(array([6.0000e+00, 1.8000e+01, 6.4000e+01, 3.0700e+02, 1.0510e+03,\n",
       "        2.7010e+03, 5.9560e+03, 1.0606e+04, 1.5248e+04, 1.7707e+04,\n",
       "        1.6964e+04, 1.3480e+04, 8.5080e+03, 4.5360e+03, 1.9290e+03,\n",
       "        6.7200e+02, 1.9500e+02, 4.1000e+01, 8.0000e+00, 3.0000e+00]),\n",
       " array([ 5.5318057 ,  5.9874345 ,  6.44306329,  6.89869209,  7.35432088,\n",
       "         7.80994968,  8.26557847,  8.72120726,  9.17683606,  9.63246485,\n",
       "        10.08809365, 10.54372244, 10.99935123, 11.45498003, 11.91060882,\n",
       "        12.36623762, 12.82186641, 13.27749521, 13.733124  , 14.18875279,\n",
       "        14.64438159]),\n",
       " <BarContainer object of 20 artists>)"
      ]
     },
     "execution_count": 3,
     "metadata": {},
     "output_type": "execute_result"
    },
    {
     "data": {
      "image/png": "[encoded data removed]",
      "text/plain": [
       "<Figure size 432x288 with 1 Axes>"
      ]
     },
     "metadata": {
      "needs_background": "light"
     },
     "output_type": "display_data"
    }
   ],
   "source": [
    "import matplotlib.pyplot as plt\n",
    "import numpy as np\n",
    "\n",
    "N_points = 100000\n",
    "mean=10.0\n",
    "stand_dev = 1.0\n",
    "\n",
    "n_bins = 20\n",
    "\n",
    "x = np.random.normal(mean,stand_dev,N_points)\n",
    "plt.hist(x, bins=n_bins)"
   ]
  },
  {
   "cell_type": "markdown",
   "id": "60fd0352-8c63-40c7-be97-4e5d7d01ac5a",
   "metadata": {},
   "source": [
    "Which you may have seen before (it’s also called a *bell curve*). Normal distributions are very important in statistics, primarily because **most distributions eventually become Normal distributions if you collect enough samples** (this is called the Central Limit Theorem)."
   ]
  },
  {
   "cell_type": "markdown",
   "id": "78f84514-7559-42fa-9d5d-3b8f846de382",
   "metadata": {},
   "source": [
    "### 1.1 \n",
    "Change the number of data points (`N_points`) and plot the resulting distribution. Make four subplots, showing distributions for `N_points`= 10, 100, 1000, and 10000. (Use `mean`=10.0  and `stand_dev` = 1.0)"
   ]
  },
  {
   "cell_type": "code",
   "execution_count": 3,
   "id": "3a3f7a5b-f65b-4a9a-bbd8-c18f0c0b400e",
   "metadata": {},
   "outputs": [
    {
     "data": {
      "text/plain": [
       "(array([1., 1., 0., 1., 1., 1., 0., 1., 0., 0., 0., 0., 0., 1., 2., 0., 0.,\n",
       "        0., 0., 1.]),\n",
       " array([ 8.55699621,  8.7239223 ,  8.89084838,  9.05777447,  9.22470056,\n",
       "         9.39162665,  9.55855274,  9.72547882,  9.89240491, 10.059331  ,\n",
       "        10.22625709, 10.39318318, 10.56010926, 10.72703535, 10.89396144,\n",
       "        11.06088753, 11.22781362, 11.3947397 , 11.56166579, 11.72859188,\n",
       "        11.89551797]),\n",
       " <BarContainer object of 20 artists>)"
      ]
     },
     "execution_count": 3,
     "metadata": {},
     "output_type": "execute_result"
    },
    {
     "data": {
      "image/png": "[encoded data removed]",
      "text/plain": [
       "<Figure size 432x288 with 1 Axes>"
      ]
     },
     "metadata": {
      "needs_background": "light"
     },
     "output_type": "display_data"
    }
   ],
   "source": [
    "N_points = 10\n",
    "mean=10.0\n",
    "stand_dev = 1.0\n",
    "\n",
    "n_bins = 20\n",
    "\n",
    "x = np.random.normal(mean,stand_dev,N_points)\n",
    "plt.hist(x, bins=n_bins)"
   ]
  },
  {
   "cell_type": "code",
   "execution_count": 4,
   "id": "3b8bbf63",
   "metadata": {},
   "outputs": [
    {
     "data": {
      "text/plain": [
       "(array([ 3.,  2.,  2.,  3.,  6.,  7.,  9.,  7., 10., 11.,  9.,  4., 10.,\n",
       "         6.,  2.,  3.,  2.,  3.,  0.,  1.]),\n",
       " array([ 7.75898486,  8.00581535,  8.25264584,  8.49947633,  8.74630682,\n",
       "         8.99313731,  9.2399678 ,  9.48679829,  9.73362878,  9.98045927,\n",
       "        10.22728976, 10.47412025, 10.72095073, 10.96778122, 11.21461171,\n",
       "        11.4614422 , 11.70827269, 11.95510318, 12.20193367, 12.44876416,\n",
       "        12.69559465]),\n",
       " <BarContainer object of 20 artists>)"
      ]
     },
     "execution_count": 4,
     "metadata": {},
     "output_type": "execute_result"
    },
    {
     "data": {
      "image/png": "[encoded data removed]",
      "text/plain": [
       "<Figure size 432x288 with 1 Axes>"
      ]
     },
     "metadata": {
      "needs_background": "light"
     },
     "output_type": "display_data"
    }
   ],
   "source": [
    "N_points = 100\n",
    "mean=10.0\n",
    "stand_dev = 1.0\n",
    "\n",
    "n_bins = 20\n",
    "\n",
    "x = np.random.normal(mean,stand_dev,N_points)\n",
    "plt.hist(x, bins=n_bins)"
   ]
  },
  {
   "cell_type": "code",
   "execution_count": 5,
   "id": "c1296ee7",
   "metadata": {},
   "outputs": [
    {
     "data": {
      "text/plain": [
       "(array([  2.,   5.,  20.,  30.,  35.,  59.,  99., 124., 114., 104., 125.,\n",
       "        104.,  65.,  55.,  28.,  17.,   8.,   4.,   1.,   1.]),\n",
       " array([ 7.10687933,  7.42742737,  7.74797541,  8.06852344,  8.38907148,\n",
       "         8.70961952,  9.03016755,  9.35071559,  9.67126362,  9.99181166,\n",
       "        10.3123597 , 10.63290773, 10.95345577, 11.2740038 , 11.59455184,\n",
       "        11.91509988, 12.23564791, 12.55619595, 12.87674398, 13.19729202,\n",
       "        13.51784006]),\n",
       " <BarContainer object of 20 artists>)"
      ]
     },
     "execution_count": 5,
     "metadata": {},
     "output_type": "execute_result"
    },
    {
     "data": {
      "image/png": "[encoded data removed]",
      "text/plain": [
       "<Figure size 432x288 with 1 Axes>"
      ]
     },
     "metadata": {
      "needs_background": "light"
     },
     "output_type": "display_data"
    }
   ],
   "source": [
    "N_points = 1000\n",
    "mean=10.0\n",
    "stand_dev = 1.0\n",
    "\n",
    "n_bins = 20\n",
    "\n",
    "x = np.random.normal(mean,stand_dev,N_points)\n",
    "plt.hist(x, bins=n_bins)"
   ]
  },
  {
   "cell_type": "code",
   "execution_count": 6,
   "id": "f7bd743d",
   "metadata": {},
   "outputs": [
    {
     "data": {
      "text/plain": [
       "(array([   3.,    8.,   34.,   77.,  177.,  370.,  753., 1027., 1359.,\n",
       "        1579., 1515., 1213.,  886.,  509.,  300.,  122.,   46.,   15.,\n",
       "           5.,    2.]),\n",
       " array([ 6.16971751,  6.56209489,  6.95447227,  7.34684965,  7.73922703,\n",
       "         8.13160441,  8.52398179,  8.91635917,  9.30873655,  9.70111393,\n",
       "        10.09349131, 10.48586869, 10.87824607, 11.27062345, 11.66300083,\n",
       "        12.05537821, 12.44775559, 12.84013297, 13.23251035, 13.62488773,\n",
       "        14.01726511]),\n",
       " <BarContainer object of 20 artists>)"
      ]
     },
     "execution_count": 6,
     "metadata": {},
     "output_type": "execute_result"
    },
    {
     "data": {
      "image/png": "[encoded data removed]",
      "text/plain": [
       "<Figure size 432x288 with 1 Axes>"
      ]
     },
     "metadata": {
      "needs_background": "light"
     },
     "output_type": "display_data"
    }
   ],
   "source": [
    "N_points = 10000\n",
    "mean=10.0\n",
    "stand_dev = 1.0\n",
    "\n",
    "n_bins = 20\n",
    "\n",
    "x = np.random.normal(mean,stand_dev,N_points)\n",
    "plt.hist(x, bins=n_bins)"
   ]
  },
  {
   "cell_type": "code",
   "execution_count": 4,
   "id": "855ceb41",
   "metadata": {},
   "outputs": [
    {
     "data": {
      "text/plain": [
       "(array([7.0000e+00, 2.5000e+01, 1.0000e+02, 4.5000e+02, 1.3690e+03,\n",
       "        3.5150e+03, 7.1500e+03, 1.2265e+04, 1.6491e+04, 1.8213e+04,\n",
       "        1.6405e+04, 1.1954e+04, 7.0630e+03, 3.1560e+03, 1.3450e+03,\n",
       "        3.8700e+02, 8.2000e+01, 1.8000e+01, 4.0000e+00, 1.0000e+00]),\n",
       " array([ 5.59520946,  6.05965659,  6.52410372,  6.98855085,  7.45299799,\n",
       "         7.91744512,  8.38189225,  8.84633938,  9.31078651,  9.77523364,\n",
       "        10.23968077, 10.7041279 , 11.16857504, 11.63302217, 12.0974693 ,\n",
       "        12.56191643, 13.02636356, 13.49081069, 13.95525782, 14.41970496,\n",
       "        14.88415209]),\n",
       " <BarContainer object of 20 artists>)"
      ]
     },
     "execution_count": 4,
     "metadata": {},
     "output_type": "execute_result"
    },
    {
     "data": {
      "image/png": "[encoded data removed]",
      "text/plain": [
       "<Figure size 432x288 with 1 Axes>"
      ]
     },
     "metadata": {
      "needs_background": "light"
     },
     "output_type": "display_data"
    }
   ],
   "source": [
    "N_points = 100000\n",
    "mean=10.0\n",
    "stand_dev = 1.0\n",
    "\n",
    "n_bins = 20\n",
    "\n",
    "x = np.random.normal(mean,stand_dev,N_points)\n",
    "plt.hist(x, bins=n_bins)"
   ]
  },
  {
   "cell_type": "markdown",
   "id": "f57d9ccb-30be-4bc9-afe7-2550c47d9cc0",
   "metadata": {},
   "source": [
    "### 1.2 \n",
    "What do you notice about how the shape of the distribution changes as you use more data points?"
   ]
  },
  {
   "cell_type": "markdown",
   "id": "72487677-aa20-41ec-8326-5bd25125002e",
   "metadata": {},
   "source": [
    "The curve becomes more bell shaped as more data points are used. "
   ]
  },
  {
   "cell_type": "markdown",
   "id": "00153b8e-3b9b-4903-bd80-c30cab2acea9",
   "metadata": {},
   "source": [
    "### 1.3 \n",
    "Run your code above again, so you get a new set of data points for your plots. What do you notice about how the different plots change when you pick new data points?"
   ]
  },
  {
   "cell_type": "markdown",
   "id": "81e47994-1b42-4d45-b176-f252e1e589b9",
   "metadata": {},
   "source": [
    "*The distribution becomes even more even and symmetrical. It is even more normally distrubuted that the data that was used before.*"
   ]
  },
  {
   "cell_type": "markdown",
   "id": "eb0d181e-d637-45f4-a450-03a3e4a280f5",
   "metadata": {},
   "source": [
    "Let’s talk about the important properties of a Normal distribution.\n",
    "\n",
    "### 1.4 Mean & Median\n",
    "Make four distributions (using `N_points` = 100000 and `stand_dev`=1.0) with means of 0.0, 1.0, 5.0, 10.0. For each distribution, calculate the mean and median values."
   ]
  },
  {
   "cell_type": "code",
   "execution_count": 12,
   "id": "28bcfeaa-74a0-422b-932c-50d3f7809b53",
   "metadata": {},
   "outputs": [
    {
     "data": {
      "text/plain": [
       "(array([4.000e+00, 5.000e+00, 2.200e+01, 6.900e+01, 1.520e+02, 3.610e+02,\n",
       "        6.580e+02, 1.096e+03, 1.426e+03, 1.613e+03, 1.546e+03, 1.292e+03,\n",
       "        8.980e+02, 4.940e+02, 2.140e+02, 1.040e+02, 3.400e+01, 8.000e+00,\n",
       "        3.000e+00, 1.000e+00]),\n",
       " array([-3.99502378, -3.58406392, -3.17310406, -2.7621442 , -2.35118435,\n",
       "        -1.94022449, -1.52926463, -1.11830478, -0.70734492, -0.29638506,\n",
       "         0.11457479,  0.52553465,  0.93649451,  1.34745437,  1.75841422,\n",
       "         2.16937408,  2.58033394,  2.99129379,  3.40225365,  3.81321351,\n",
       "         4.22417336]),\n",
       " <BarContainer object of 20 artists>)"
      ]
     },
     "execution_count": 12,
     "metadata": {},
     "output_type": "execute_result"
    },
    {
     "data": {
      "image/png": "[encoded data removed]",
      "text/plain": [
       "<Figure size 432x288 with 1 Axes>"
      ]
     },
     "metadata": {
      "needs_background": "light"
     },
     "output_type": "display_data"
    }
   ],
   "source": [
    "N_points = 10000\n",
    "mean=0\n",
    "stand_dev = 1.0\n",
    "\n",
    "n_bins = 20\n",
    "\n",
    "x = np.random.normal(mean,stand_dev,N_points)\n",
    "plt.hist(x, bins=n_bins)"
   ]
  },
  {
   "cell_type": "code",
   "execution_count": 13,
   "id": "584ebe06",
   "metadata": {},
   "outputs": [
    {
     "data": {
      "text/plain": [
       "10000.0"
      ]
     },
     "execution_count": 13,
     "metadata": {},
     "output_type": "execute_result"
    }
   ],
   "source": [
    "np.mean(N_points)"
   ]
  },
  {
   "cell_type": "code",
   "execution_count": 14,
   "id": "27bf1f39",
   "metadata": {},
   "outputs": [
    {
     "data": {
      "text/plain": [
       "10000.0"
      ]
     },
     "execution_count": 14,
     "metadata": {},
     "output_type": "execute_result"
    }
   ],
   "source": [
    "np.median(N_points)"
   ]
  },
  {
   "cell_type": "code",
   "execution_count": 15,
   "id": "f6287367",
   "metadata": {},
   "outputs": [
    {
     "data": {
      "text/plain": [
       "(array([   7.,   11.,   61.,  129.,  240.,  399.,  725.,  982., 1201.,\n",
       "        1369., 1304., 1215.,  922.,  642.,  408.,  203.,  111.,   50.,\n",
       "          16.,    5.]),\n",
       " array([-2.43206109e+00, -2.08433624e+00, -1.73661139e+00, -1.38888654e+00,\n",
       "        -1.04116169e+00, -6.93436840e-01, -3.45711990e-01,  2.01286072e-03,\n",
       "         3.49737711e-01,  6.97462562e-01,  1.04518741e+00,  1.39291226e+00,\n",
       "         1.74063711e+00,  2.08836196e+00,  2.43608681e+00,  2.78381166e+00,\n",
       "         3.13153651e+00,  3.47926137e+00,  3.82698622e+00,  4.17471107e+00,\n",
       "         4.52243592e+00]),\n",
       " <BarContainer object of 20 artists>)"
      ]
     },
     "execution_count": 15,
     "metadata": {},
     "output_type": "execute_result"
    },
    {
     "data": {
      "image/png": "[encoded data removed]",
      "text/plain": [
       "<Figure size 432x288 with 1 Axes>"
      ]
     },
     "metadata": {
      "needs_background": "light"
     },
     "output_type": "display_data"
    }
   ],
   "source": [
    "N_points = 10000\n",
    "mean=1.0\n",
    "stand_dev = 1.0\n",
    "\n",
    "n_bins = 20\n",
    "\n",
    "x = np.random.normal(mean,stand_dev,N_points)\n",
    "plt.hist(x, bins=n_bins)"
   ]
  },
  {
   "cell_type": "code",
   "execution_count": 16,
   "id": "83385a9f",
   "metadata": {},
   "outputs": [
    {
     "data": {
      "text/plain": [
       "10000.0"
      ]
     },
     "execution_count": 16,
     "metadata": {},
     "output_type": "execute_result"
    }
   ],
   "source": [
    "np.mean(N_points)"
   ]
  },
  {
   "cell_type": "code",
   "execution_count": 18,
   "id": "c7b1d4ae",
   "metadata": {},
   "outputs": [
    {
     "data": {
      "text/plain": [
       "10000.0"
      ]
     },
     "execution_count": 18,
     "metadata": {},
     "output_type": "execute_result"
    }
   ],
   "source": [
    "np.median(N_points)"
   ]
  },
  {
   "cell_type": "code",
   "execution_count": 7,
   "id": "a498330e",
   "metadata": {},
   "outputs": [
    {
     "data": {
      "text/plain": [
       "(array([1.000e+00, 5.000e+00, 1.300e+01, 5.700e+01, 1.370e+02, 2.790e+02,\n",
       "        5.640e+02, 8.930e+02, 1.333e+03, 1.530e+03, 1.610e+03, 1.317e+03,\n",
       "        1.012e+03, 6.500e+02, 3.370e+02, 1.690e+02, 5.700e+01, 2.700e+01,\n",
       "        5.000e+00, 4.000e+00]),\n",
       " array([0.99199578, 1.38861233, 1.78522889, 2.18184544, 2.57846199,\n",
       "        2.97507855, 3.3716951 , 3.76831165, 4.16492821, 4.56154476,\n",
       "        4.95816132, 5.35477787, 5.75139442, 6.14801098, 6.54462753,\n",
       "        6.94124408, 7.33786064, 7.73447719, 8.13109375, 8.5277103 ,\n",
       "        8.92432685]),\n",
       " <BarContainer object of 20 artists>)"
      ]
     },
     "execution_count": 7,
     "metadata": {},
     "output_type": "execute_result"
    },
    {
     "data": {
      "image/png": "[encoded data removed]",
      "text/plain": [
       "<Figure size 432x288 with 1 Axes>"
      ]
     },
     "metadata": {
      "needs_background": "light"
     },
     "output_type": "display_data"
    }
   ],
   "source": [
    "N_points = 10000\n",
    "mean=5.0\n",
    "stand_dev = 1.0\n",
    "\n",
    "n_bins = 20\n",
    "\n",
    "x = np.random.normal(mean,stand_dev,N_points)\n",
    "plt.hist(x, bins=n_bins)"
   ]
  },
  {
   "cell_type": "code",
   "execution_count": 8,
   "id": "a472a411",
   "metadata": {},
   "outputs": [
    {
     "data": {
      "text/plain": [
       "(array([1.000e+00, 4.000e+00, 1.300e+01, 3.400e+01, 1.050e+02, 2.800e+02,\n",
       "        5.250e+02, 8.830e+02, 1.233e+03, 1.515e+03, 1.550e+03, 1.434e+03,\n",
       "        1.072e+03, 6.710e+02, 3.880e+02, 1.860e+02, 7.800e+01, 2.000e+01,\n",
       "        6.000e+00, 2.000e+00]),\n",
       " array([ 5.8775369 ,  6.27787622,  6.67821554,  7.07855486,  7.47889419,\n",
       "         7.87923351,  8.27957283,  8.67991215,  9.08025148,  9.4805908 ,\n",
       "         9.88093012, 10.28126944, 10.68160877, 11.08194809, 11.48228741,\n",
       "        11.88262673, 12.28296606, 12.68330538, 13.0836447 , 13.48398402,\n",
       "        13.88432335]),\n",
       " <BarContainer object of 20 artists>)"
      ]
     },
     "execution_count": 8,
     "metadata": {},
     "output_type": "execute_result"
    },
    {
     "data": {
      "image/png": "[encoded data removed]",
      "text/plain": [
       "<Figure size 432x288 with 1 Axes>"
      ]
     },
     "metadata": {
      "needs_background": "light"
     },
     "output_type": "display_data"
    }
   ],
   "source": [
    "N_points = 10000\n",
    "mean=10.0\n",
    "stand_dev = 1.0\n",
    "\n",
    "n_bins = 20\n",
    "\n",
    "x = np.random.normal(mean,stand_dev,N_points)\n",
    "plt.hist(x, bins=n_bins)"
   ]
  },
  {
   "cell_type": "markdown",
   "id": "86b07a21-d195-4059-aee3-bc9c088a9dce",
   "metadata": {},
   "source": [
    "### 1.5 \n",
    "What do you notice about the mean and median values for the five distributions? How do they compare to one another?"
   ]
  },
  {
   "cell_type": "markdown",
   "id": "c5a2c48b-74ea-467c-a228-ea1888c59872",
   "metadata": {},
   "source": [
    "The mean and the median is the same for each data set."
   ]
  },
  {
   "cell_type": "markdown",
   "id": "24d77af4-9cfa-4142-8207-750777f1406d",
   "metadata": {},
   "source": [
    "### 1.6 Standard Deviation\n",
    "Make four distributions (using `N_points` = 100000 and `mean`=10.0) with means of 0.5, 1.0, 5.0, and 10.0. Make five subplots showing each of the distributions. "
   ]
  },
  {
   "cell_type": "code",
   "execution_count": 23,
   "id": "b220d0a2-fd0f-43f3-8987-ac3e4550e50d",
   "metadata": {},
   "outputs": [
    {
     "data": {
      "text/plain": [
       "(array([    0.,     0.,     0.,     0.,     0.,     0.,     0.,     0.,\n",
       "            0.,     0., 10000.,     0.,     0.,     0.,     0.,     0.,\n",
       "            0.,     0.,     0.,     0.]),\n",
       " array([ 9.5 ,  9.55,  9.6 ,  9.65,  9.7 ,  9.75,  9.8 ,  9.85,  9.9 ,\n",
       "         9.95, 10.  , 10.05, 10.1 , 10.15, 10.2 , 10.25, 10.3 , 10.35,\n",
       "        10.4 , 10.45, 10.5 ]),\n",
       " <BarContainer object of 20 artists>)"
      ]
     },
     "execution_count": 23,
     "metadata": {},
     "output_type": "execute_result"
    },
    {
     "data": {
      "image/png": "[encoded data removed]",
      "text/plain": [
       "<Figure size 432x288 with 1 Axes>"
      ]
     },
     "metadata": {
      "needs_background": "light"
     },
     "output_type": "display_data"
    }
   ],
   "source": [
    "N_points = 10000\n",
    "mean=10.0\n",
    "stand_dev = 0.0\n",
    "\n",
    "n_bins = 20\n",
    "xlim = [-40,40]\n",
    "\n",
    "x = np.random.normal(mean,stand_dev,N_points)\n",
    "plt.hist(x, bins=n_bins)"
   ]
  },
  {
   "cell_type": "code",
   "execution_count": 24,
   "id": "7bf4014d",
   "metadata": {},
   "outputs": [
    {
     "data": {
      "text/plain": [
       "(array([   3.,    4.,   22.,   72.,  182.,  366.,  640.,  960., 1384.,\n",
       "        1477., 1458., 1299.,  971.,  619.,  308.,  139.,   68.,   20.,\n",
       "           3.,    5.]),\n",
       " array([ 6.1533864 ,  6.53915201,  6.92491763,  7.31068324,  7.69644886,\n",
       "         8.08221447,  8.46798009,  8.8537457 ,  9.23951132,  9.62527693,\n",
       "        10.01104255, 10.39680816, 10.78257378, 11.16833939, 11.55410501,\n",
       "        11.93987062, 12.32563624, 12.71140185, 13.09716747, 13.48293308,\n",
       "        13.8686987 ]),\n",
       " <BarContainer object of 20 artists>)"
      ]
     },
     "execution_count": 24,
     "metadata": {},
     "output_type": "execute_result"
    },
    {
     "data": {
      "image/png": "[encoded data removed]",
      "text/plain": [
       "<Figure size 432x288 with 1 Axes>"
      ]
     },
     "metadata": {
      "needs_background": "light"
     },
     "output_type": "display_data"
    }
   ],
   "source": [
    "N_points = 10000\n",
    "mean=10.0\n",
    "stand_dev = 1.0\n",
    "\n",
    "n_bins = 20\n",
    "xlim = [-40,40]\n",
    "\n",
    "x = np.random.normal(mean,stand_dev,N_points)\n",
    "plt.hist(x, bins=n_bins)"
   ]
  },
  {
   "cell_type": "code",
   "execution_count": 25,
   "id": "ff53a7b2",
   "metadata": {},
   "outputs": [
    {
     "data": {
      "text/plain": [
       "(array([   3.,    3.,   28.,   62.,  174.,  304.,  541.,  919., 1202.,\n",
       "        1439., 1478., 1303., 1016.,  677.,  416.,  237.,  138.,   42.,\n",
       "          14.,    4.]),\n",
       " array([-8.98548304, -7.1295744 , -5.27366576, -3.41775712, -1.56184847,\n",
       "         0.29406017,  2.14996881,  4.00587745,  5.86178609,  7.71769474,\n",
       "         9.57360338, 11.42951202, 13.28542066, 15.14132931, 16.99723795,\n",
       "        18.85314659, 20.70905523, 22.56496388, 24.42087252, 26.27678116,\n",
       "        28.1326898 ]),\n",
       " <BarContainer object of 20 artists>)"
      ]
     },
     "execution_count": 25,
     "metadata": {},
     "output_type": "execute_result"
    },
    {
     "data": {
      "image/png": "[encoded data removed]",
      "text/plain": [
       "<Figure size 432x288 with 1 Axes>"
      ]
     },
     "metadata": {
      "needs_background": "light"
     },
     "output_type": "display_data"
    }
   ],
   "source": [
    "N_points = 10000\n",
    "mean=10.0\n",
    "stand_dev = 5.0\n",
    "\n",
    "n_bins = 20\n",
    "xlim = [-40,40]\n",
    "\n",
    "x = np.random.normal(mean,stand_dev,N_points)\n",
    "plt.hist(x, bins=n_bins)"
   ]
  },
  {
   "cell_type": "code",
   "execution_count": 26,
   "id": "ecf0f95c",
   "metadata": {},
   "outputs": [
    {
     "data": {
      "text/plain": [
       "(array([1.000e+00, 3.000e+00, 7.000e+00, 4.500e+01, 1.080e+02, 3.140e+02,\n",
       "        5.280e+02, 9.090e+02, 1.297e+03, 1.601e+03, 1.588e+03, 1.352e+03,\n",
       "        1.042e+03, 6.380e+02, 3.400e+02, 1.440e+02, 6.400e+01, 1.300e+01,\n",
       "        4.000e+00, 2.000e+00]),\n",
       " array([-31.47883783, -27.38592018, -23.29300253, -19.20008488,\n",
       "        -15.10716723, -11.01424958,  -6.92133193,  -2.82841428,\n",
       "          1.26450336,   5.35742101,   9.45033866,  13.54325631,\n",
       "         17.63617396,  21.72909161,  25.82200926,  29.91492691,\n",
       "         34.00784456,  38.10076221,  42.19367986,  46.28659751,\n",
       "         50.37951516]),\n",
       " <BarContainer object of 20 artists>)"
      ]
     },
     "execution_count": 26,
     "metadata": {},
     "output_type": "execute_result"
    },
    {
     "data": {
      "image/png": "[encoded data removed]",
      "text/plain": [
       "<Figure size 432x288 with 1 Axes>"
      ]
     },
     "metadata": {
      "needs_background": "light"
     },
     "output_type": "display_data"
    }
   ],
   "source": [
    "N_points = 10000\n",
    "mean=10.0\n",
    "stand_dev = 10.0\n",
    "\n",
    "n_bins = 20\n",
    "xlim = [-40,40]\n",
    "\n",
    "\n",
    "x = np.random.normal(mean,stand_dev,N_points)\n",
    "plt.hist(x, bins=n_bins)"
   ]
  },
  {
   "cell_type": "markdown",
   "id": "b4078e0e-5697-43c3-aa15-e1011af7d913",
   "metadata": {},
   "source": [
    "### 1.7\n",
    "What do you notice about the shape of the five distributions? How do they compare to one another? What effect does changing the standard deviation have on the distributions? **NOTE: If you don't notice a difference right away, try setting `xlim` to $[-40,40]$ for each subplot** \n"
   ]
  },
  {
   "cell_type": "markdown",
   "id": "394120eb-c5d7-4ca0-bae2-22cfa83c4183",
   "metadata": {},
   "source": [
    "There is a very slight difference in the y values, however, all graphs are still relatively normally distibuted."
   ]
  },
  {
   "cell_type": "markdown",
   "id": "e846964e-fa2b-42be-94ce-536685bc3126",
   "metadata": {},
   "source": [
    "## 2. Masking\n",
    "\n",
    "Masking is an extremely important and absurdly useful tool that we will be adding to our coding tool box. Fundamentally, **Masking is a process that allows us to select specific parts of our data that meet some condition.** Let’s work through some examples, to better understand what this means.\n",
    "\n",
    "Let’s start by looking at the random set of numbers."
   ]
  },
  {
   "cell_type": "code",
   "execution_count": 60,
   "id": "c40c30e7-921a-4384-aba5-ed2d205912a7",
   "metadata": {},
   "outputs": [],
   "source": [
    "vals = np.array([3, 11, 6, 9, 7, 12, 8, 11, 5, 3, 15, 13])"
   ]
  },
  {
   "cell_type": "markdown",
   "id": "2d9767a2-9ae7-4e9f-b9bb-c30ebd93ead4",
   "metadata": {},
   "source": [
    "### 2.1\n",
    "Write a piece of code that uses a `for` loop and an `if` statement to select all values of `vals` that are above 8. Append the values to a new list and print them out."
   ]
  },
  {
   "cell_type": "code",
   "execution_count": null,
   "id": "a0c5e312-5bcb-4dd8-8a6a-d94d9966863c",
   "metadata": {},
   "outputs": [],
   "source": [
    "for i in length(vals):\n",
    "    if x > 8:\n",
    "        vals.append(i)\n",
    "    return vals\n",
    "print(vals.append)"
   ]
  },
  {
   "cell_type": "markdown",
   "id": "4fc185df-e9ba-4e22-a598-cca5be337c5f",
   "metadata": {},
   "source": [
    "What we just did was select a subset of our data; specifically, all `x` values greater than 8. Now, let’s do the same thing using Masking. The code below creates a mask and then uses that mask to select all of the data points that meet our condition."
   ]
  },
  {
   "cell_type": "code",
   "execution_count": 61,
   "id": "aacd0ae5-ee85-4f3d-a923-38c3e5a0347d",
   "metadata": {},
   "outputs": [],
   "source": [
    "mask = vals > 8\n",
    "vals_masked = vals[mask]"
   ]
  },
  {
   "cell_type": "markdown",
   "id": "686af36b-c445-4cb6-ab71-415bd70b20e4",
   "metadata": {},
   "source": [
    "### 2.2 \n",
    "Let’s break this code down, piece by piece. First, write a piece of code that prints `mask`. "
   ]
  },
  {
   "cell_type": "code",
   "execution_count": 62,
   "id": "c138b330-4fd0-4fd8-af9c-3b1f0e8ddfeb",
   "metadata": {},
   "outputs": [
    {
     "name": "stdout",
     "output_type": "stream",
     "text": [
      "[False  True False  True False  True False  True False False  True  True]\n"
     ]
    }
   ],
   "source": [
    "print(mask)"
   ]
  },
  {
   "cell_type": "markdown",
   "id": "1e182d68-06af-41f9-984c-e7a7c65e20d9",
   "metadata": {},
   "source": [
    "### 2.3 \n",
    "You should see a list of Boolean values (`True` or `False`). Compare your `mask` values to the values of `vals`. What do you notice?"
   ]
  },
  {
   "cell_type": "markdown",
   "id": "d8e8b458-9001-4dd9-897e-b7ffb3c4024a",
   "metadata": {},
   "source": [
    "The values that are greater than 8 are labeled as true, and the values that are less than 8 are labeled as false, like they should be."
   ]
  },
  {
   "cell_type": "markdown",
   "id": "bfdef9ad-caa2-4738-bb3b-69239946603a",
   "metadata": {},
   "source": [
    "### 2.4 \n",
    "Now print out the values of `vals_masked`. "
   ]
  },
  {
   "cell_type": "code",
   "execution_count": 63,
   "id": "c46fdd02-8d0f-4c66-925d-4298af837c1d",
   "metadata": {},
   "outputs": [
    {
     "name": "stdout",
     "output_type": "stream",
     "text": [
      "[11  9 12 11 15 13]\n"
     ]
    }
   ],
   "source": [
    "print(vals_masked)"
   ]
  },
  {
   "cell_type": "markdown",
   "id": "b890851b-4d30-4227-955d-d1acc2646757",
   "metadata": {},
   "source": [
    "### 2.5 \n",
    "\n",
    "What values does `vals_masked` contain? How are these values connected to `vals`, `mask`, and the list that you created in 2.1?"
   ]
  },
  {
   "cell_type": "markdown",
   "id": "8977acb3-b480-402e-be3d-fcd07b570df2",
   "metadata": {},
   "source": [
    " All of the values that are greater than 8 in the array given. "
   ]
  },
  {
   "cell_type": "markdown",
   "id": "7cfbcc05-af1b-4c97-bc42-835b9795c0d9",
   "metadata": {},
   "source": [
    "### 2.6 \n",
    "Try tinkering with the mask generation code (line 1 from the cell in 2.1) by changing the condition (e.g., values below 8, values above 11, etc.). Print out the `mask` and `vals_masked` values for each one. "
   ]
  },
  {
   "cell_type": "code",
   "execution_count": 64,
   "id": "7c7f583f-1832-44ff-8a68-0d5ec0f16ca9",
   "metadata": {},
   "outputs": [
    {
     "name": "stdout",
     "output_type": "stream",
     "text": [
      "[ True False False False False False False False False  True False False]\n"
     ]
    }
   ],
   "source": [
    "mask = vals < 5\n",
    "vals_masked = vals[mask]\n",
    "print(mask)"
   ]
  },
  {
   "cell_type": "code",
   "execution_count": 65,
   "id": "10990ec0",
   "metadata": {},
   "outputs": [
    {
     "name": "stdout",
     "output_type": "stream",
     "text": [
      "[3 3]\n"
     ]
    }
   ],
   "source": [
    "mask = vals < 5\n",
    "vals_masked = vals[mask]\n",
    "print(vals_masked)"
   ]
  },
  {
   "cell_type": "code",
   "execution_count": 66,
   "id": "9e53775d",
   "metadata": {},
   "outputs": [
    {
     "name": "stdout",
     "output_type": "stream",
     "text": [
      "[ True False  True  True  True False  True False  True  True False False]\n"
     ]
    }
   ],
   "source": [
    "mask = vals < 11\n",
    "vals_masked = vals[mask]\n",
    "print(mask)"
   ]
  },
  {
   "cell_type": "code",
   "execution_count": 67,
   "id": "1a9fc16d",
   "metadata": {},
   "outputs": [
    {
     "name": "stdout",
     "output_type": "stream",
     "text": [
      "[3 6 9 7 8 5 3]\n"
     ]
    }
   ],
   "source": [
    "mask = vals < 11\n",
    "vals_masked = vals[mask]\n",
    "print(vals_masked)"
   ]
  },
  {
   "cell_type": "markdown",
   "id": "34ba4155-3952-4edc-8f93-a0992fc8b39a",
   "metadata": {},
   "source": [
    "### 2.7 \n",
    "Take a moment and reflect. What is a mask? What does masking do? "
   ]
  },
  {
   "cell_type": "markdown",
   "id": "b60213ea-beae-4d65-b749-6d00a2ea216c",
   "metadata": {},
   "source": [
    "A mask is a way to specify values in an array, given a data set. It helps organize and pick out specific data that one is bent on identifying when writing code."
   ]
  },
  {
   "cell_type": "markdown",
   "id": "5da944ea-46b4-4107-a537-8fcf85cf3d73",
   "metadata": {},
   "source": [
    "### 2.8 \n",
    "Before moving on, explain the concept of Masking as if you were talking to someone who has never coded before."
   ]
  },
  {
   "cell_type": "markdown",
   "id": "2f16e539-3f15-4fe0-a983-c962d365ca22",
   "metadata": {},
   "source": [
    "Masking is a way to pick out values given a requirment. For example, if you have a list of numbers and you want to list out everything greater than a specific value, then you can mask all of the values that answer to that requirement. "
   ]
  },
  {
   "cell_type": "markdown",
   "id": "ef0af240-58ee-44b7-98a6-daca701dbc00",
   "metadata": {},
   "source": [
    "## 3. Interpretating Log Plots\n",
    "\n",
    "For this next exercise, we will explore the utility and interpretation of **log plots**. We’re used to **linear plots**; these are plots where the space between 1 and 2 is the same as it is between 3 and 4 (or 8 and 9 or 800 and 801). The step size is linear, hence the name.\n",
    "\n",
    "In a log plot, though, the space between 1 and 2 is the same as the space between 2 and ***4*** (or 4 and 8 or 800 and 1600). In a log plot, the step size is *multiplicative* (e.g., all of the previous examples increased by a factor of 2).  \n",
    "\n",
    "Log plots are useful when you have a **large dynamic range.** That is, when the difference between the smallest thing you care about and the largest thing you care about is **BIG.**\n",
    "\n",
    "Let’s take another look at the economic data from your day nine exercise. The filename is `GDP_Cleaned.csv`, and you can find it on the course website. (as the name suggests, we’ve cleaned up the dataset for you).\n",
    "\n"
   ]
  },
  {
   "cell_type": "markdown",
   "id": "eb23233a-12e5-4cd1-ba0d-2d62426bc4ab",
   "metadata": {},
   "source": [
    "### 3.1 \n",
    "Use Pandas to read in `GDP_Cleaned.csv`."
   ]
  },
  {
   "cell_type": "code",
   "execution_count": 2,
   "id": "37974efa-a1eb-471f-bfd8-ca39213e8021",
   "metadata": {},
   "outputs": [],
   "source": [
    "import pandas as pd\n",
    "import matplotlib.pyplot as plt\n",
    "import numpy as np\n",
    "\n",
    "gdp = pd.read_csv('GDP_Cleaned.csv', delimiter = ',')"
   ]
  },
  {
   "cell_type": "markdown",
   "id": "17bea5e4-1c72-453c-88ee-86ab6ddaf35c",
   "metadata": {},
   "source": [
    "### 3.2\n",
    "Make a plot of the GDP versus time (Year) for both the United States and Bangladesh."
   ]
  },
  {
   "cell_type": "code",
   "execution_count": 3,
   "id": "de9e97e6-66bd-427a-931f-2c26c4b05f5c",
   "metadata": {},
   "outputs": [
    {
     "data": {
      "text/plain": [
       "<matplotlib.legend.Legend at 0x1fcffa9a490>"
      ]
     },
     "execution_count": 3,
     "metadata": {},
     "output_type": "execute_result"
    },
    {
     "data": {
      "image/png": "[encoded data removed]",
      "text/plain": [
       "<Figure size 432x288 with 1 Axes>"
      ]
     },
     "metadata": {
      "needs_background": "light"
     },
     "output_type": "display_data"
    }
   ],
   "source": [
    "gdp['United States'].plot(title = 'Time vs. GDP',label = 'United States')\n",
    "gdp['Bangladesh'].plot(title = 'Time vs. GDP', label = 'Bangladesh')\n",
    "plt.xlabel('Year')\n",
    "plt.ylabel('GDP')\n",
    "plt.legend()"
   ]
  },
  {
   "cell_type": "markdown",
   "id": "6d6bd604-5383-4eaf-8732-e7bda2b3a1e1",
   "metadata": {},
   "source": [
    "### 3.3 \n",
    "Based on this plot, what can you say about the growth of the economy in Bangladesh?"
   ]
  },
  {
   "cell_type": "markdown",
   "id": "fa7a5280-810a-4648-b456-eddda1bee3ff",
   "metadata": {},
   "source": [
    "The growth of the economy in Bangladesh is relatively stagnant since the graph is constant and there is minmal increase in the GDP values for Bangladesh."
   ]
  },
  {
   "cell_type": "markdown",
   "id": "4add1e83-1b6d-410f-88e5-620d1e1adece",
   "metadata": {},
   "source": [
    "### 3.4 \n",
    "Now remake the same plot, but this time with the `yscale` set to log (you may need to look how to do this)."
   ]
  },
  {
   "cell_type": "code",
   "execution_count": 4,
   "id": "e6b181be-c2b1-477a-b0dd-2b2ea8c4c8e8",
   "metadata": {},
   "outputs": [
    {
     "data": {
      "image/png": "[encoded data removed]",
      "text/plain": [
       "<Figure size 432x288 with 1 Axes>"
      ]
     },
     "metadata": {
      "needs_background": "light"
     },
     "output_type": "display_data"
    }
   ],
   "source": [
    "gdp['United States'].plot(title = 'Time vs. GDP',label = 'United States')\n",
    "gdp['Bangladesh'].plot(title = 'Time vs. GDP', label = 'Bangladesh')\n",
    "plt.xlabel('Year')\n",
    "plt.ylabel('GDP')\n",
    "plt.legend()\n",
    "plt.yscale(\"log\")"
   ]
  },
  {
   "cell_type": "markdown",
   "id": "fd8cfd01-a04b-4341-895d-b7a16b88726d",
   "metadata": {},
   "source": [
    "### 3.5 \n",
    "Using the log-plot, what can you say about the growth of the economy in Bangladesh? Use the plot to read off the starting and ending values (i.e., the economy of Bangladesh in 1960 and 2021)."
   ]
  },
  {
   "cell_type": "markdown",
   "id": "9f048738-baf3-4352-967b-aa0b81cfb86e",
   "metadata": {},
   "source": [
    "When the y is changed to a log scale, then the graph curves upwards from 1960 to 2020 and levels out towards 2020."
   ]
  },
  {
   "cell_type": "markdown",
   "id": "1aab8eeb-0eea-4c4f-9820-0d0386b7dd3c",
   "metadata": {},
   "source": [
    "### 3.6\n",
    "Now try setting `xscale` to be log as well. "
   ]
  },
  {
   "cell_type": "code",
   "execution_count": 5,
   "id": "052128d1",
   "metadata": {},
   "outputs": [
    {
     "data": {
      "image/png": "[encoded data removed]",
      "text/plain": [
       "<Figure size 432x288 with 1 Axes>"
      ]
     },
     "metadata": {
      "needs_background": "light"
     },
     "output_type": "display_data"
    }
   ],
   "source": [
    "gdp['United States'].plot(title = 'Time vs. GDP',label = 'United States')\n",
    "gdp['Bangladesh'].plot(title = 'Time vs. GDP', label = 'Bangladesh')\n",
    "plt.xlabel('Year')\n",
    "plt.ylabel('GDP')\n",
    "plt.legend()\n",
    "plt.xscale(\"log\")"
   ]
  },
  {
   "cell_type": "markdown",
   "id": "94142089",
   "metadata": {},
   "source": [
    "When the x is changed to a log scale, then the graph curves downards from 1960 to 2020 but still levels out towards 2020."
   ]
  },
  {
   "cell_type": "markdown",
   "id": "149497cb-6cca-4448-83b6-52e757e541e5",
   "metadata": {},
   "source": [
    "### 3.7\n",
    "What do you notice? How large is the dynamic range of the x-axis values (i.e., by what multiplicative value does the x-values increase?)"
   ]
  },
  {
   "cell_type": "markdown",
   "id": "060158a8-25f2-40c1-b9ca-f4e996cbbb99",
   "metadata": {},
   "source": [
    "The x axis values change by 10s."
   ]
  },
  {
   "cell_type": "markdown",
   "id": "5c91c576-8f45-4242-9a93-b6fb224a928d",
   "metadata": {},
   "source": [
    "---\n",
    "## Assignment wrap-up\n",
    "\n",
    "Please fill out the form that appears when you run the code below.  **You must completely fill this out in order to receive credit for the assignment!**"
   ]
  },
  {
   "cell_type": "code",
   "execution_count": 80,
   "id": "5befceec-9ee5-432b-a755-ee0fc39a9450",
   "metadata": {},
   "outputs": [
    {
     "data": {
      "text/html": [
       "\n",
       "<iframe \n",
       "\tsrc=\"https://cmse.msu.edu/cmse201-pc-survey\" \n",
       "\twidth=\"800px\" \n",
       "\theight=\"600px\" \n",
       "\tframeborder=\"0\" \n",
       "\tmarginheight=\"0\" \n",
       "\tmarginwidth=\"0\">\n",
       "\tLoading...\n",
       "</iframe>\n"
      ],
      "text/plain": [
       "<IPython.core.display.HTML object>"
      ]
     },
     "execution_count": 80,
     "metadata": {},
     "output_type": "execute_result"
    }
   ],
   "source": [
    "from IPython.display import HTML\n",
    "HTML(\n",
    "\"\"\"\n",
    "<iframe \n",
    "\tsrc=\"https://cmse.msu.edu/cmse201-pc-survey\" \n",
    "\twidth=\"800px\" \n",
    "\theight=\"600px\" \n",
    "\tframeborder=\"0\" \n",
    "\tmarginheight=\"0\" \n",
    "\tmarginwidth=\"0\">\n",
    "\tLoading...\n",
    "</iframe>\n",
    "\"\"\"\n",
    ")"
   ]
  },
  {
   "cell_type": "markdown",
   "id": "69d9f732-20c2-4f3e-86c7-924242d4a4ae",
   "metadata": {},
   "source": [
    "### Congratulations, you're done!\n",
    "\n",
    "Submit this assignment by uploading it to the course Desire2Learn web page.  Go to the \"Pre-class assignments\" folder, find the appropriate submission link, and upload it there.\n",
    "\n",
    "See you in class!"
   ]
  },
  {
   "cell_type": "markdown",
   "id": "ad62082c-16bd-4cd1-924e-d8ca12e1ca4c",
   "metadata": {},
   "source": [
    "&#169; Copyright 2021,  Michigan State University Board of Trustees"
   ]
  },
  {
   "cell_type": "code",
   "execution_count": null,
   "id": "52b65b57",
   "metadata": {},
   "outputs": [],
   "source": []
  }
 ],
 "metadata": {
  "kernelspec": {
   "display_name": "Python 3",
   "language": "python",
   "name": "python3"
  },
  "language_info": {
   "codemirror_mode": {
    "name": "ipython",
    "version": 3
   },
   "file_extension": ".py",
   "mimetype": "text/x-python",
   "name": "python",
   "nbconvert_exporter": "python",
   "pygments_lexer": "ipython3",
   "version": "3.8.8"
  }
 },
 "nbformat": 4,
 "nbformat_minor": 5
}
