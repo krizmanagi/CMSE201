{
 "cells": [
  {
   "cell_type": "markdown",
   "metadata": {},
   "source": [
    "# Day 13 Pre-Class Assignment: Fitting functions to data (curve-fitting) and thinking more about models"
   ]
  },
  {
   "cell_type": "markdown",
   "metadata": {},
   "source": [
    "### <p style=\"text-align: right;\"> &#9989; Krizma Nagi</p>"
   ]
  },
  {
   "cell_type": "markdown",
   "metadata": {},
   "source": [
    "<br/>\n",
    "<img src=\"https://www.mathworks.com/help/examples/matlab/win64/CurveFittingViaOptimizationExample_01.png\" alt=\"Curve-fitting\" width=500px/>\n",
    "\n",
    "\n",
    "## Goals for today's pre-class assignment\n",
    "\n",
    "* Think a bit more about fitting functions to data\n",
    "* Practice using SciPy to fit a specific function to data\n",
    "* Think broadly about the nature of building and using models to understand the world\n",
    "* Brainstorm ideas for your semester project\n",
    "\n",
    "## Assignment instructions\n",
    "\n",
    "**This assignment is due by 11:59 p.m. the day before class,** and should be uploaded into the appropriate \"Pre-class assignments\" submission folder.  If you run into issues with your code, make sure to use Slack to help each other out and receive some assistance from the instructors. Submission instructions can be found at the end of the notebook."
   ]
  },
  {
   "cell_type": "markdown",
   "metadata": {},
   "source": [
    "----\n",
    "## 1. Fitting a function using `curve_fit`"
   ]
  },
  {
   "cell_type": "markdown",
   "metadata": {},
   "source": [
    "What if we want to fit a different type of function other than a polynomial to our data? So far, we've only been able to fit polynomials because we've only been using the `polyfit()` function from NumPy. Maybe instead of our data having a linear relationship, like $y = mx + b$, the data is sinusoidal or exponential. NumPy's `polyfit` and `poly1d` can't be used to fit non-linear functions like these. Luckily for us, the SciPy library provides us with a function that can: [`curve_fit` (you can click this link to read the documentation)](https://docs.scipy.org/doc/scipy/reference/generated/scipy.optimize.curve_fit.html).\n",
    "\n",
    "**You will not have to write a lot of code in this assignment, but make sure you closely follow along with the code, add snippets when necessary, and answer a couple of questions about what is happening!**"
   ]
  },
  {
   "cell_type": "markdown",
   "metadata": {},
   "source": [
    "As with many Python packages, we need to import `curve_fit` first!"
   ]
  },
  {
   "cell_type": "code",
   "execution_count": 2,
   "metadata": {},
   "outputs": [],
   "source": [
    "# import curve_fit function\n",
    "from scipy.optimize import curve_fit\n",
    "\n",
    "# import numpy and matplotlib as well while we're at it\n",
    "import numpy as np\n",
    "import matplotlib.pyplot as plt\n",
    "%matplotlib inline"
   ]
  },
  {
   "cell_type": "markdown",
   "metadata": {},
   "source": [
    "SciPy's `curve_fit` function takes in three arguments: a function that we define in Python, our $x$ data, and our $y$ data. It then returns an array of parameters that our newly-defined function uses. \n",
    "\n",
    "Let's take a look at the example in the cell below. Run the cell and see that our data follows a sinusoidal relationship."
   ]
  },
  {
   "cell_type": "code",
   "execution_count": 3,
   "metadata": {},
   "outputs": [
    {
     "data": {
      "image/png": "[encoded data removed]",
      "text/plain": [
       "<Figure size 432x288 with 1 Axes>"
      ]
     },
     "metadata": {
      "needs_background": "light"
     },
     "output_type": "display_data"
    }
   ],
   "source": [
    "# generate some x data: sixty data points from 0 to 4π\n",
    "x_sin = np.linspace(0,4*np.pi,60)\n",
    "\n",
    "# generate some y data: 1.5 * sin(1.2x + 0.5)\n",
    "# we add the np.random.normal(0.25,.25,60) at the end to add some randomness to the data\n",
    "y_sin = 1.5 * np.sin(1.2 * x_sin) + np.random.normal(.25,.25,60)\n",
    "\n",
    "# plot our data\n",
    "plt.scatter(x_sin, y_sin, label = \"data\")\n",
    "\n",
    "plt.legend()\n",
    "plt.xlabel('x')\n",
    "plt.ylabel('y')\n",
    "plt.show()"
   ]
  },
  {
   "cell_type": "markdown",
   "metadata": {},
   "source": [
    "Because this is just simulated data, we know that our \"signal\" is a sinusoid that has the relationship $y = 1.5 * sin(1.2x)$.\n",
    "\n",
    "The generic form of a typical sine curve model is:\n",
    "$$y = A * sin(Bx + C)$$\n",
    "\n",
    "This means our true parameter values for this specific example are:\n",
    "\n",
    "* $A = 1.5$\n",
    "* $B = 1.2$\n",
    "* $C = 0$\n",
    "\n",
    "However, we usually don't know the values of these parameters in advance - that's why we use regression & curve fitting!\n",
    "\n",
    "The first step in using `curve_fit` is that we define the sine function that we want to try to fit to our data. Look at how we've turned the mathematical model into a Python function in the cell below."
   ]
  },
  {
   "cell_type": "code",
   "execution_count": 4,
   "metadata": {},
   "outputs": [],
   "source": [
    "def my_sin_function(x, A, B, C):\n",
    "    # Confirm that information returned by this function matches the mathematical formula from above!\n",
    "    return A * np.sin(B * x + C)"
   ]
  },
  {
   "cell_type": "markdown",
   "metadata": {},
   "source": [
    "Next we can run `curve_fit` in the cell below now that we have our function defined and the data we want to fit.\n",
    "\n",
    "`curve_fit` returns two values: the first is an array of our parameter values. In this example, the array will be $[A, B, C]$.\n",
    "\n",
    "&#9989;&nbsp; Print out the expected parameter values that from `curve_fit` (these parameters are stored in the `popt` variable)\n",
    "\n",
    "Are they close to our true values from above?"
   ]
  },
  {
   "cell_type": "code",
   "execution_count": 6,
   "metadata": {},
   "outputs": [
    {
     "name": "stdout",
     "output_type": "stream",
     "text": [
      "[ 1.63309277  1.208694   -0.05711415]\n",
      "[[ 4.81672947e-03  7.31423032e-05 -4.71493482e-04]\n",
      " [ 7.31423032e-05  1.38083569e-04 -8.34017813e-04]\n",
      " [-4.71493482e-04 -8.34017813e-04  6.87852088e-03]]\n"
     ]
    }
   ],
   "source": [
    "# Use curve_fit by passing in the sin function, x data, and y data\n",
    "popt, pcov = curve_fit(my_sin_function, x_sin, y_sin)\n",
    "\n",
    "# Print the array of fitted parameter values\n",
    "print(popt)\n",
    "\n",
    "print(pcov)"
   ]
  },
  {
   "cell_type": "markdown",
   "metadata": {},
   "source": [
    "<font size=+3>&#9998;</font> *These values are similar to the values from above.*"
   ]
  },
  {
   "cell_type": "markdown",
   "metadata": {},
   "source": [
    "We can now \"unpack\" our parameter values and use them in our sine function to get our expected $y$ values based on our model.\n",
    "\n",
    "**Carefully read this code and make sure you understand it. You will be writing code like this in-class!**\n",
    "\n",
    "Once we have our fitted curve, we can plot it against the data below!"
   ]
  },
  {
   "cell_type": "code",
   "execution_count": 7,
   "metadata": {},
   "outputs": [
    {
     "data": {
      "image/png": "[encoded data removed]",
      "text/plain": [
       "<Figure size 432x288 with 1 Axes>"
      ]
     },
     "metadata": {
      "needs_background": "light"
     },
     "output_type": "display_data"
    }
   ],
   "source": [
    "# Unpack the parameter results into separate variables so that we can feed them to our sine function\n",
    "a_fit = popt[0]  # get fitted A value\n",
    "b_fit = popt[1]  # get fitted B value\n",
    "c_fit = popt[2]  # get fitted C value\n",
    "\n",
    "# use my_sin_function with new parameters to get fitted y values\n",
    "y_sin_fit = my_sin_function(x_sin, a_fit, b_fit, c_fit)\n",
    "\n",
    "\n",
    "# plot our actual data\n",
    "plt.scatter(x_sin, y_sin, label = \"data\")\n",
    "\n",
    "# plot our fitted curve\n",
    "plt.plot(x_sin, y_sin_fit, color = \"orange\", label = \"fit\")\n",
    "\n",
    "plt.legend()\n",
    "plt.xlabel('x')\n",
    "plt.ylabel('y')\n",
    "plt.show()"
   ]
  },
  {
   "cell_type": "markdown",
   "metadata": {},
   "source": [
    "&#9989;&nbsp; Is the fitted sine function from `curve_fit` a \"good fit\" for our data?"
   ]
  },
  {
   "cell_type": "markdown",
   "metadata": {},
   "source": [
    "<font size=+3>&#9998;</font> *Yes, the curve_fit follows the general trend of the data well.*"
   ]
  },
  {
   "cell_type": "markdown",
   "metadata": {},
   "source": [
    "---\n",
    "## 2. Thinking about models and fitting models to data\n",
    "\n",
    "So far in this course we've been learning a lot of Python basics and exploring data use some special Python tools. But, of course, an important aspect of this course is **computational modeling**, as the title of the course suggests!\n",
    "\n",
    "That said, before we start heavily thinking about working with computational models, we should really pause to think about what exactly a model *is* and how we might use it.\n",
    "\n",
    "Watch the following video for an overview of how we can use models to understand the world around us, infer what the models tell us about the underlying data, and predict future events. If the the YouTube video doesn't work, try this [MediaSpace link](https://mediaspace.msu.edu/media/Introduction+to+Computational+Models/1_rcr6iiyk)."
   ]
  },
  {
   "cell_type": "code",
   "execution_count": 8,
   "metadata": {},
   "outputs": [
    {
     "data": {
      "image/jpeg": "[encoded data removed]",
      "text/html": [
       "\n",
       "        <iframe\n",
       "            width=\"640\"\n",
       "            height=\"360\"\n",
       "            src=\"https://www.youtube.com/embed/7qAunwHsuj8\"\n",
       "            frameborder=\"0\"\n",
       "            allowfullscreen\n",
       "        ></iframe>\n",
       "        "
      ],
      "text/plain": [
       "<IPython.lib.display.YouTubeVideo at 0x1f42edc5940>"
      ]
     },
     "execution_count": 8,
     "metadata": {},
     "output_type": "execute_result"
    }
   ],
   "source": [
    "from IPython.display import YouTubeVideo  \n",
    "YouTubeVideo(\"7qAunwHsuj8\",width=640,height=360)"
   ]
  },
  {
   "cell_type": "markdown",
   "metadata": {},
   "source": [
    "&#9989;&nbsp; After watching the video, answer the following:\n",
    "1. In your own words, explain what a model is and why models can be useful.\n",
    "2. Provide 2-3 examples of different type of models and what type of model that example represents."
   ]
  },
  {
   "cell_type": "markdown",
   "metadata": {},
   "source": [
    "<font size=+3>&#9998;</font> Models are representations of real work problems or issues. They are useful because they help make visualization of various problems easier to retain and use. An example is a visual model and they show different systems visually using pictures and diagrams. Another example is a mathematical model and they represent real world issues that involve mathematical concepts."
   ]
  },
  {
   "cell_type": "markdown",
   "metadata": {},
   "source": [
    "---\n",
    "## 3. Project brainstorming\n",
    "\n",
    "For the last part of this pre-class assignment you're going to start thinking about your semester project. **Make sure to read all of the appropriate content and complete the brainstorming section!**"
   ]
  },
  {
   "cell_type": "markdown",
   "metadata": {},
   "source": [
    "### Semester Project Details\n",
    "\n",
    "On the course website, there is now a file called \"CMSE201_SemesterProjectDetails.pdf\".\n",
    "\n",
    "&#9989;&nbsp; **Task**: Read that file in its entirety."
   ]
  },
  {
   "cell_type": "markdown",
   "metadata": {},
   "source": [
    "### Example projects\n",
    "\n",
    "Dr. Murillo, an instructor from a previous semester of CMSE 201, put together an example of what a semester project might look like and posted it on his research group's website: https://murillogroupmsu.com/wine/\n",
    "\n",
    "&#9989;&nbsp; **Task**: Read through his example to get a sense for the kinds of thing you could do for your semester project. Don't worry if there are parts you don't understand, if you decide you want to use some of the python packages he used, there will be time to figure them out!"
   ]
  },
  {
   "cell_type": "markdown",
   "metadata": {},
   "source": [
    "In additional to that example, there are two example notebooks available on the course website. They are named:\n",
    "* CMSE201_FinalProject_ExampleA.pdf\n",
    "* CMSE201_FinalProject_ExampleB.pdf\n",
    "\n",
    "You will also find a zip file that contains 5 additional examples in PDF format.\n",
    "\n",
    "&#9989;&nbsp; **Task**: Skim through two or three of these examples as well. Again, don't worry if there are parts you don't understand -- we're still learning things in the course! Also, just because these are examples of past projects, it does not necessarily mean that these examples met all of the project requirements. Make sure you have carefully read the project details document as you embark on your project!"
   ]
  },
  {
   "cell_type": "markdown",
   "metadata": {},
   "source": [
    "#### In addition to those examples, here are some of the project topics from previous semesters:\n",
    "\n",
    "1. (modeling) comparing classical and quantum mechanics\n",
    "2. (modeling) gravitational problems, including solar systems and satellites\n",
    "3. (data) Brexit\n",
    "4. (data) beer drinking habits\n",
    "5. (data/modeling) forecasting financial trends\n",
    "6. (data) machine learning using Python's Scikit Learn\n",
    "7. (data) global warming trends\n",
    "8. (modeling) finding the shortest path between two point in a Google map\n",
    "9. (modeling) molecular dynamics of a two-dimensional fluid\n",
    "10. (modeling) agent-based model of a fusion in the sun\n",
    "11. (modeling) a solution to the \"Queens Problem\" in chess\n",
    "12. (modeling) agent-based model of people's happiness as a function of city they live in\n",
    "13. (data) analysis of economic data in Venezuela and how it relates to politics\n",
    "\n",
    "and so on...\n",
    "\n",
    "Since we are still early in the semester, it is important to think about not only what you have already learned, but also what you will be learning in the remaining weeks of the semester. You can and should use concepts from the class in your projects that we haven't covered yet. Topics that we still have yet to cover include:\n",
    "* Solving systems of differential equations to build compartmental models (e.g. to model spread of disease or population dynamics)\n",
    "* Using agent-based models to determine how individuals rules and actions can lead to large-scale results (e.g. modeling forest fires or social dynamics)\n",
    "* Using random numbers in models and modeling random walks\n",
    "\n",
    "and as a reminder, the topics we've covered so far include:\n",
    "\n",
    "* Writing if statements, for loops, and while loops to calculate values and evolve systems\n",
    "* Analyzing data with NumPy\n",
    "* Anaylzing data with Pandas\n",
    "* Linear regression and fitting models to data.\n",
    "\n",
    "You are encourage to look up any/all of these topics to gain more insight into them. If any of these ideas intrigue you, talk with your instructor about them to get you kick started before we get to it in class."
   ]
  },
  {
   "cell_type": "markdown",
   "metadata": {},
   "source": [
    "### Brainstorming project ideas\n",
    "\n",
    "Now that you've had a chance to read the semester project details and review some examples of what a project might look like, it's time to start brainstorming some ideas for what sort of topic you might like to explore for your project.\n",
    "\n",
    "&#9989;&nbsp; **Task**: In each of the *four* markdown cells below, come up with a possible topic that you might want to pursue for your semester project. Along with the topic, brainstorm if you'll try to pursue the topic by analyzing data or if you'll try to create a computational model. You should mention what sort of data or models you think you might want to use to try to answer a questions related to the the topic. Each cell should end up having a short paragraph of your brainstorming ideas.\n",
    "\n",
    "**Try to come up with two data-driven topics and two modeling-focused topics**.\n",
    "\n",
    "Try not to spend more than about 20 minutes on this. The idea is to get to you thinking of several projects that would be interesting to you. Later, you will decide on one and propose it to the class in the form of a short presentation. If you feel like you are struggling to come up with project ideas, this is a good time to check in with your instructor!"
   ]
  },
  {
   "cell_type": "markdown",
   "metadata": {},
   "source": [
    "One idea I have is an analysis on the relationship between population of a country and its covid rates. Generally, if there are more people in a country there are more people with covid, but that might not be the case, so I want to analyze this between countries with similar populations and figure out if this is true. The computational model will probably be a scatter plot with a regression line, or a histogram."
   ]
  },
  {
   "cell_type": "markdown",
   "metadata": {},
   "source": [
    "Due to covid, many jobs are vacant. Analyzing which field has the highest unemployment rates and figuring out why each field has its respective unemployment rate. The computational model would probably be either a scatter plot for each field that I choose or a histogram showing all fields in comparison to each other."
   ]
  },
  {
   "cell_type": "markdown",
   "metadata": {},
   "source": [
    "Vaccination rates versus covid rates in the united states. I could do the top 10 largest states and the top 10 smallest states specifically instead of all 50 states. I can also tie this into the lean of political stance for each state as well: whether they are a republican and democratic state. The computational model should be a scatter plot without a regression line. "
   ]
  },
  {
   "cell_type": "markdown",
   "metadata": {},
   "source": [
    "How different diseases relate to each other. For example, how many people with diabetes have heart disease as well. I could use diabetes as a control group and compare it to various other diseases that could be linked to diabetes. I could create a scatter plot with a regression line as the computational model for this topic. There could be multiple plots comparing different age groups as well. "
   ]
  },
  {
   "cell_type": "markdown",
   "metadata": {},
   "source": [
    "---\n",
    "## Follow-up Questions\n",
    "\n",
    "Copy and paste the following questions into the appropriate box in the assignment survey include below and answer them there. (Note: You'll have to fill out the assignment number and go to the \"NEXT\" section of the survey to paste in these questions.)\n",
    "\n",
    "1. What topic idea(s) do you have for your semester project at this time?\n",
    "\n",
    "2. What modeling or data analysis techniques do you envision using to complete your project?"
   ]
  },
  {
   "cell_type": "markdown",
   "metadata": {},
   "source": [
    "---\n",
    "## Assignment wrap-up\n",
    "\n",
    "Please fill out the form that appears when you run the code below.  **You must completely fill this out in order to receive credit for the assignment!**"
   ]
  },
  {
   "cell_type": "code",
   "execution_count": 9,
   "metadata": {},
   "outputs": [
    {
     "data": {
      "text/html": [
       "\n",
       "<iframe \n",
       "\tsrc=\"https://cmse.msu.edu/cmse201-pc-survey\" \n",
       "\twidth=\"800px\" \n",
       "\theight=\"600px\" \n",
       "\tframeborder=\"0\" \n",
       "\tmarginheight=\"0\" \n",
       "\tmarginwidth=\"0\">\n",
       "\tLoading...\n",
       "</iframe>\n"
      ],
      "text/plain": [
       "<IPython.core.display.HTML object>"
      ]
     },
     "execution_count": 9,
     "metadata": {},
     "output_type": "execute_result"
    }
   ],
   "source": [
    "from IPython.display import HTML\n",
    "HTML(\n",
    "\"\"\"\n",
    "<iframe \n",
    "\tsrc=\"https://cmse.msu.edu/cmse201-pc-survey\" \n",
    "\twidth=\"800px\" \n",
    "\theight=\"600px\" \n",
    "\tframeborder=\"0\" \n",
    "\tmarginheight=\"0\" \n",
    "\tmarginwidth=\"0\">\n",
    "\tLoading...\n",
    "</iframe>\n",
    "\"\"\"\n",
    ")"
   ]
  },
  {
   "cell_type": "markdown",
   "metadata": {},
   "source": [
    "### Congratulations, you're done!\n",
    "\n",
    "Submit this assignment by uploading it to the course Desire2Learn web page.  Go to the \"Pre-class assignments\" folder, find the appropriate submission link, and upload it there.\n",
    "\n",
    "See you in class!"
   ]
  },
  {
   "cell_type": "markdown",
   "metadata": {},
   "source": [
    "&#169; Copyright 2021,  [Department of Computational Mathematics, Science and Engineering](https://cmse.msu.edu) at Michigan State University."
   ]
  },
  {
   "cell_type": "code",
   "execution_count": null,
   "metadata": {},
   "outputs": [],
   "source": []
  }
 ],
 "metadata": {
  "kernelspec": {
   "display_name": "Python 3",
   "language": "python",
   "name": "python3"
  },
  "language_info": {
   "codemirror_mode": {
    "name": "ipython",
    "version": 3
   },
   "file_extension": ".py",
   "mimetype": "text/x-python",
   "name": "python",
   "nbconvert_exporter": "python",
   "pygments_lexer": "ipython3",
   "version": "3.8.8"
  }
 },
 "nbformat": 4,
 "nbformat_minor": 4
}
