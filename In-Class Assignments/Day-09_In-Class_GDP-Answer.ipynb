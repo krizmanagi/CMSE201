{
 "cells": [
  {
   "cell_type": "markdown",
   "metadata": {},
   "source": [
    "# Day 9 In-Class: Cleaning and Analyzing Economic Data\n",
    "\n",
    "\n",
    "\n",
    "\n",
    "<img src=\"http://2oqz471sa19h3vbwa53m33yj-wpengine.netdna-ssl.com/wp-content/uploads/2018/10/world-economy-gdp.jpg\" width=500px>"
   ]
  },
  {
   "cell_type": "markdown",
   "metadata": {},
   "source": [
    "### <p style=\"text-align: right;\"> &#9989; Put your name here </p>\n",
    "\n",
    "#### <p style=\"text-align: right;\"> &#9989; Put your group member names here.</p>"
   ]
  },
  {
   "cell_type": "markdown",
   "metadata": {},
   "source": [
    "## Goals for today's in-class project\n",
    "\n",
    "- Load in data and clean Pandas dataframes\n",
    "- Learn different ways to index Pandas dataframes \n",
    "- Analyze different countries GDP data\n",
    "- Practice using online research to learn new programming skills\n"
   ]
  },
  {
   "cell_type": "markdown",
   "metadata": {},
   "source": [
    "## Assignment instructions\n",
    "\n",
    "Work with your group to complete this assignment. The assignment is due at the end of class and should be uploaded to the appropriate submission folder on D2L."
   ]
  },
  {
   "cell_type": "markdown",
   "metadata": {},
   "source": [
    "---"
   ]
  },
  {
   "cell_type": "markdown",
   "metadata": {},
   "source": [
    "# Part 1: Practice calculating statistics using Python\n",
    "\n",
    "### 1.1 Computing standard deviation by hand\n",
    "\n",
    "&#9989;&nbsp; **Fix a function** that takes in a _list of values_ and calculates the _standard deviation_ using only basic python functions. The function is already written but it doesn't *quite* work. Run the cell to see. Here's the equation for standard deviation:"
   ]
  },
  {
   "cell_type": "markdown",
   "metadata": {},
   "source": [
    "## $$ \\sigma = \\sqrt{\\frac{\\sum\\limits_{i=1}^{N} (x_{i}-\\mu)^2}{N}} $$\n",
    "\n",
    "where the symbols in this equation represent the following:\n",
    "\n",
    "* $\\sigma$: Standard Deviation\n",
    "* $\\mu$: Mean\n",
    "* $N$: Number of observations\n",
    "* $x_{i}$: the value of dataset at position $i$"
   ]
  },
  {
   "cell_type": "code",
   "execution_count": 1,
   "metadata": {},
   "outputs": [],
   "source": [
    "# Fix the function here\n",
    "def std(vals):\n",
    "    length = len(vals)\n",
    "    mean = sum(vals)\n",
    "    diffs = []\n",
    "    for i in range(length):\n",
    "        diffs.append(vals[i] - mean)\n",
    "    return sum(diffs) ** 0.5"
   ]
  },
  {
   "cell_type": "code",
   "execution_count": 2,
   "metadata": {
    "scrolled": true
   },
   "outputs": [],
   "source": []
  },
  {
   "cell_type": "markdown",
   "metadata": {},
   "source": [
    "&#9989;&nbsp; **Check your function for accuracy**\n",
    "\n",
    "Call your function using the variable `test_list` (provided below) as the input and compare your function's output with that of `np.std()` to make sure you calculated standard deviation correctly."
   ]
  },
  {
   "cell_type": "code",
   "execution_count": 3,
   "metadata": {},
   "outputs": [],
   "source": [
    "import matplotlib.pyplot as plt\n",
    "import numpy as np\n",
    "%matplotlib inline"
   ]
  },
  {
   "cell_type": "code",
   "execution_count": 4,
   "metadata": {},
   "outputs": [],
   "source": [
    "test_list = [1,3,5,10,15,5]\n",
    "\n",
    "# Put your code for comparing the answers here\n"
   ]
  },
  {
   "cell_type": "code",
   "execution_count": 5,
   "metadata": {},
   "outputs": [
    {
     "name": "stdout",
     "output_type": "stream",
     "text": [
      "4.681523968396046\n",
      "4.681523968396046\n"
     ]
    }
   ],
   "source": []
  },
  {
   "cell_type": "markdown",
   "metadata": {},
   "source": [
    "### 1.2 Next, we will apply stats to a distribution *visually*\n",
    "\n",
    "But first, let's cover how to visualize the distribution of a one-dimensional data set. We begin with a random distribution of numbers from a random number generator in the NumPy library."
   ]
  },
  {
   "cell_type": "code",
   "execution_count": 6,
   "metadata": {
    "scrolled": false
   },
   "outputs": [],
   "source": [
    "# You might not be familiar this with random number generator, that's OK,\n",
    "# This is one of _many_ that are available in NumPy.\n",
    "random_distribution = np.random.wald(200,500,size=1000)"
   ]
  },
  {
   "cell_type": "markdown",
   "metadata": {},
   "source": [
    "This is an array holding 1000 random numbers, generated from a statistical distribution called the \"Wald distribution\".  \n",
    "\n",
    "Let's look at the first 10 numbers:"
   ]
  },
  {
   "cell_type": "code",
   "execution_count": 7,
   "metadata": {},
   "outputs": [
    {
     "data": {
      "text/plain": [
       "array([132.21837056, 189.39953896, 203.37213465,  88.11737737,\n",
       "       356.42025546, 260.34707072, 101.90882356, 128.43079257,\n",
       "       169.2077655 , 174.44120435])"
      ]
     },
     "execution_count": 7,
     "metadata": {},
     "output_type": "execute_result"
    }
   ],
   "source": [
    "random_distribution[0:10]"
   ]
  },
  {
   "cell_type": "markdown",
   "metadata": {},
   "source": [
    "And plot all of the elements:"
   ]
  },
  {
   "cell_type": "code",
   "execution_count": 8,
   "metadata": {},
   "outputs": [
    {
     "data": {
      "text/plain": [
       "Text(0, 0.5, 'Value')"
      ]
     },
     "execution_count": 8,
     "metadata": {},
     "output_type": "execute_result"
    },
    {
     "data": {
      "image/png": "[encoded data removed]",
      "text/plain": [
       "<Figure size 432x288 with 1 Axes>"
      ]
     },
     "metadata": {
      "needs_background": "light"
     },
     "output_type": "display_data"
    }
   ],
   "source": [
    "plt.plot(random_distribution,'o')\n",
    "plt.xlabel('Index')\n",
    "plt.ylabel('Value')"
   ]
  },
  {
   "cell_type": "markdown",
   "metadata": {},
   "source": [
    "What are some other ways we can analyze and visualize this data?  One visualization is a box plot, which shows where the ***quartiles*** of the data set are, as well as outliers."
   ]
  },
  {
   "cell_type": "code",
   "execution_count": 9,
   "metadata": {},
   "outputs": [
    {
     "data": {
      "image/png": "[encoded data removed]",
      "text/plain": [
       "<Figure size 432x288 with 1 Axes>"
      ]
     },
     "metadata": {
      "needs_background": "light"
     },
     "output_type": "display_data"
    }
   ],
   "source": [
    "box = plt.boxplot(random_distribution, vert=False)\n",
    "ylabel = plt.ylabel(\"Frequency\")\n",
    "xlabel = plt.xlabel(\"Value\")\n",
    "title = plt.title(\"Wald Distribution\")"
   ]
  },
  {
   "cell_type": "markdown",
   "metadata": {},
   "source": [
    "Another visualization is a histogram, which splits the data set into a bunch of equally sized intervals, and then graphs the number of data points that fall into each interval. The higher the bar on a histogram, the more data points in that interval."
   ]
  },
  {
   "cell_type": "code",
   "execution_count": 10,
   "metadata": {
    "scrolled": true
   },
   "outputs": [
    {
     "data": {
      "image/png": "[encoded data removed]",
      "text/plain": [
       "<Figure size 432x288 with 1 Axes>"
      ]
     },
     "metadata": {
      "needs_background": "light"
     },
     "output_type": "display_data"
    }
   ],
   "source": [
    "hist = plt.hist(random_distribution, bins=50, color=\"k\", alpha=0.5) #what's the alpha argument doing?\n",
    "ylabel = plt.ylabel(\"Frequency\")\n",
    "xlabel = plt.xlabel(\"Value\")\n",
    "title = plt.title(\"Wald Distribution\")"
   ]
  },
  {
   "cell_type": "markdown",
   "metadata": {},
   "source": [
    "&#9989;&nbsp; **Compare the representations above**\n",
    "\n",
    "What are the similarities between how the boxplot represents the data set versus the histogram? What does the boxplot do a better job of showing? What does the histogram do a better job of showing?"
   ]
  },
  {
   "cell_type": "markdown",
   "metadata": {},
   "source": [
    "<font size=+3>&#9998;</font> *Put your answer here*"
   ]
  },
  {
   "cell_type": "markdown",
   "metadata": {},
   "source": [
    "### 1.3 Compute and Compare\n",
    "\n",
    "&#9989;&nbsp; **Now lets actually compute the mean and median and visualize them on the distribution graph.**\n",
    "\n",
    "Add **two vertical lines** with different colors where the **mean** and **median** are using Matplotlib's [`plt.axvline()`](https://matplotlib.org/3.1.1/api/_as_gen/matplotlib.pyplot.axvline.html) function -- this might be new to you, so make sure you understand how it works!\n",
    "\n",
    "**Make sure you label your lines and include a legend.**"
   ]
  },
  {
   "cell_type": "code",
   "execution_count": 11,
   "metadata": {},
   "outputs": [
    {
     "data": {
      "image/png": "[encoded data removed]",
      "text/plain": [
       "<Figure size 432x288 with 1 Axes>"
      ]
     },
     "metadata": {
      "needs_background": "light"
     },
     "output_type": "display_data"
    }
   ],
   "source": [
    "hist = plt.hist(random_distribution,bins=50,color=\"k\",alpha=0.5)\n",
    "# Add your additional plotting commands here\n",
    "#plt.axvline(x=?,linewidth=2, color='r',label = \"Median\")\n"
   ]
  },
  {
   "cell_type": "code",
   "execution_count": 12,
   "metadata": {},
   "outputs": [
    {
     "data": {
      "text/plain": [
       "<matplotlib.legend.Legend at 0x7f807c50d8e0>"
      ]
     },
     "execution_count": 12,
     "metadata": {},
     "output_type": "execute_result"
    },
    {
     "data": {
      "image/png": "[encoded data removed]",
      "text/plain": [
       "<Figure size 432x288 with 1 Axes>"
      ]
     },
     "metadata": {
      "needs_background": "light"
     },
     "output_type": "display_data"
    }
   ],
   "source": []
  },
  {
   "cell_type": "markdown",
   "metadata": {},
   "source": [
    "&#9989;&nbsp; **What is larger for this data set, mean or median? Explain why you think that is.**"
   ]
  },
  {
   "cell_type": "markdown",
   "metadata": {},
   "source": [
    "<font size=+3>&#9998;</font> *Put your answer here*"
   ]
  },
  {
   "cell_type": "markdown",
   "metadata": {},
   "source": [
    "---"
   ]
  },
  {
   "cell_type": "markdown",
   "metadata": {},
   "source": [
    "\n",
    "# Part 2: Loading in and cleaning economic data\n",
    "\n",
    "The next part we will focus on transforming and manipulating a dataset using Pandas. As data scientist/computational professional in training, one of the goals we want you to accomplish is to be comfortable searching through online resources to try and solve problems. There are far too many functions and concepts in programming to remember everything so in practice it's essential to utilize package documentation, stack overflow, etc. Some of the questions you will see below will ask you to use or look for a function you've never used before to get you to practice Googling questions that help you accomplish your task."
   ]
  },
  {
   "cell_type": "markdown",
   "metadata": {},
   "source": [
    "---"
   ]
  },
  {
   "cell_type": "markdown",
   "metadata": {},
   "source": [
    "We will be analyzing a dataset from the World Bank containing yearly GDP data for countries from 1960-2020. The GDP numbers have been converted to USD for all countries by the exchange rate at the time. Which is important to note because depending on the exchange rates at the time this could over/under value the non US countries numbers or increase the variance of GDP.\n",
    "\n",
    "Link to dataset: https://data.worldbank.org/indicator/ny.gdp.mktp.cd\n",
    "\n",
    "GDP stands for **Gross Domestic Product** and it is equal to the market value of all the finished goods and services produced within a country's borders in a specific time period.\n",
    "\n",
    "GDP = Consumer Spending + Private Investment + Government Expenditure + Net Exports\n",
    "\n",
    "---\n",
    "\n",
    "### 2.1 Cleaning data is an important part analyzing data.\n",
    "\n",
    "First, we're going to load in the .csv dataset into a Pandas Dataframe and explore the original structure of the data and think about if it could be formatted in a more useful way. **There might be multiple .csv's in the download. You might have to figure out which file has the GDPs before you load it into your notebook.**\n",
    "\n",
    "Make sure you import the Pandas module before moving on!"
   ]
  },
  {
   "cell_type": "code",
   "execution_count": 13,
   "metadata": {},
   "outputs": [],
   "source": [
    "# put your Pandas import command here\n"
   ]
  },
  {
   "cell_type": "code",
   "execution_count": 14,
   "metadata": {},
   "outputs": [],
   "source": []
  },
  {
   "cell_type": "markdown",
   "metadata": {},
   "source": [
    "&#9989;&nbsp; **Load in the insert_filename_here.csv file using `pd.read_csv()`.  Skip the first 4 rows and use a comma as the delimiter. Then display the first few lines using `.head()`.**\n",
    "\n",
    "Use `gdp` as the variable name for storing your dataframe as indicated in the code cell below."
   ]
  },
  {
   "cell_type": "code",
   "execution_count": 15,
   "metadata": {},
   "outputs": [],
   "source": [
    "# Load in GDP.csv\n",
    "#gdp = # Finish this line to load in the data!"
   ]
  },
  {
   "cell_type": "code",
   "execution_count": 16,
   "metadata": {
    "scrolled": true
   },
   "outputs": [
    {
     "data": {
      "text/html": [
       "<div>\n",
       "<style scoped>\n",
       "    .dataframe tbody tr th:only-of-type {\n",
       "        vertical-align: middle;\n",
       "    }\n",
       "\n",
       "    .dataframe tbody tr th {\n",
       "        vertical-align: top;\n",
       "    }\n",
       "\n",
       "    .dataframe thead th {\n",
       "        text-align: right;\n",
       "    }\n",
       "</style>\n",
       "<table border=\"1\" class=\"dataframe\">\n",
       "  <thead>\n",
       "    <tr style=\"text-align: right;\">\n",
       "      <th></th>\n",
       "      <th>Country Name</th>\n",
       "      <th>Country Code</th>\n",
       "      <th>Indicator Name</th>\n",
       "      <th>Indicator Code</th>\n",
       "      <th>1960</th>\n",
       "      <th>1961</th>\n",
       "      <th>1962</th>\n",
       "      <th>1963</th>\n",
       "      <th>1964</th>\n",
       "      <th>1965</th>\n",
       "      <th>...</th>\n",
       "      <th>2012</th>\n",
       "      <th>2013</th>\n",
       "      <th>2014</th>\n",
       "      <th>2015</th>\n",
       "      <th>2016</th>\n",
       "      <th>2017</th>\n",
       "      <th>2018</th>\n",
       "      <th>2019</th>\n",
       "      <th>2020</th>\n",
       "      <th>Unnamed: 65</th>\n",
       "    </tr>\n",
       "  </thead>\n",
       "  <tbody>\n",
       "    <tr>\n",
       "      <th>0</th>\n",
       "      <td>Aruba</td>\n",
       "      <td>ABW</td>\n",
       "      <td>GDP (current US$)</td>\n",
       "      <td>NY.GDP.MKTP.CD</td>\n",
       "      <td>NaN</td>\n",
       "      <td>NaN</td>\n",
       "      <td>NaN</td>\n",
       "      <td>NaN</td>\n",
       "      <td>NaN</td>\n",
       "      <td>NaN</td>\n",
       "      <td>...</td>\n",
       "      <td>2.534637e+09</td>\n",
       "      <td>2.727850e+09</td>\n",
       "      <td>2.790849e+09</td>\n",
       "      <td>2.962905e+09</td>\n",
       "      <td>2.983637e+09</td>\n",
       "      <td>3.092430e+09</td>\n",
       "      <td>3.202189e+09</td>\n",
       "      <td>NaN</td>\n",
       "      <td>NaN</td>\n",
       "      <td>NaN</td>\n",
       "    </tr>\n",
       "    <tr>\n",
       "      <th>1</th>\n",
       "      <td>Africa Eastern and Southern</td>\n",
       "      <td>AFE</td>\n",
       "      <td>GDP (current US$)</td>\n",
       "      <td>NY.GDP.MKTP.CD</td>\n",
       "      <td>1.929193e+10</td>\n",
       "      <td>1.970186e+10</td>\n",
       "      <td>2.147035e+10</td>\n",
       "      <td>2.570500e+10</td>\n",
       "      <td>2.350165e+10</td>\n",
       "      <td>2.678117e+10</td>\n",
       "      <td>...</td>\n",
       "      <td>9.131974e+11</td>\n",
       "      <td>9.276555e+11</td>\n",
       "      <td>9.563187e+11</td>\n",
       "      <td>8.930997e+11</td>\n",
       "      <td>8.547519e+11</td>\n",
       "      <td>9.622690e+11</td>\n",
       "      <td>9.840320e+11</td>\n",
       "      <td>9.778092e+11</td>\n",
       "      <td>8.984741e+11</td>\n",
       "      <td>NaN</td>\n",
       "    </tr>\n",
       "    <tr>\n",
       "      <th>2</th>\n",
       "      <td>Afghanistan</td>\n",
       "      <td>AFG</td>\n",
       "      <td>GDP (current US$)</td>\n",
       "      <td>NY.GDP.MKTP.CD</td>\n",
       "      <td>5.377778e+08</td>\n",
       "      <td>5.488889e+08</td>\n",
       "      <td>5.466667e+08</td>\n",
       "      <td>7.511112e+08</td>\n",
       "      <td>8.000000e+08</td>\n",
       "      <td>1.006667e+09</td>\n",
       "      <td>...</td>\n",
       "      <td>2.000160e+10</td>\n",
       "      <td>2.056107e+10</td>\n",
       "      <td>2.048489e+10</td>\n",
       "      <td>1.990711e+10</td>\n",
       "      <td>1.801775e+10</td>\n",
       "      <td>1.886995e+10</td>\n",
       "      <td>1.835388e+10</td>\n",
       "      <td>1.929110e+10</td>\n",
       "      <td>1.980707e+10</td>\n",
       "      <td>NaN</td>\n",
       "    </tr>\n",
       "    <tr>\n",
       "      <th>3</th>\n",
       "      <td>Africa Western and Central</td>\n",
       "      <td>AFW</td>\n",
       "      <td>GDP (current US$)</td>\n",
       "      <td>NY.GDP.MKTP.CD</td>\n",
       "      <td>1.040732e+10</td>\n",
       "      <td>1.113130e+10</td>\n",
       "      <td>1.194684e+10</td>\n",
       "      <td>1.268022e+10</td>\n",
       "      <td>1.384262e+10</td>\n",
       "      <td>1.486682e+10</td>\n",
       "      <td>...</td>\n",
       "      <td>7.169352e+11</td>\n",
       "      <td>8.078189e+11</td>\n",
       "      <td>8.469431e+11</td>\n",
       "      <td>7.574921e+11</td>\n",
       "      <td>6.874847e+11</td>\n",
       "      <td>6.809891e+11</td>\n",
       "      <td>7.381313e+11</td>\n",
       "      <td>7.920789e+11</td>\n",
       "      <td>7.865850e+11</td>\n",
       "      <td>NaN</td>\n",
       "    </tr>\n",
       "    <tr>\n",
       "      <th>4</th>\n",
       "      <td>Angola</td>\n",
       "      <td>AGO</td>\n",
       "      <td>GDP (current US$)</td>\n",
       "      <td>NY.GDP.MKTP.CD</td>\n",
       "      <td>NaN</td>\n",
       "      <td>NaN</td>\n",
       "      <td>NaN</td>\n",
       "      <td>NaN</td>\n",
       "      <td>NaN</td>\n",
       "      <td>NaN</td>\n",
       "      <td>...</td>\n",
       "      <td>1.280529e+11</td>\n",
       "      <td>1.367099e+11</td>\n",
       "      <td>1.457122e+11</td>\n",
       "      <td>1.161936e+11</td>\n",
       "      <td>1.011239e+11</td>\n",
       "      <td>1.221238e+11</td>\n",
       "      <td>1.013532e+11</td>\n",
       "      <td>8.941719e+10</td>\n",
       "      <td>6.230691e+10</td>\n",
       "      <td>NaN</td>\n",
       "    </tr>\n",
       "  </tbody>\n",
       "</table>\n",
       "<p>5 rows × 66 columns</p>\n",
       "</div>"
      ],
      "text/plain": [
       "                  Country Name Country Code     Indicator Name  \\\n",
       "0                        Aruba          ABW  GDP (current US$)   \n",
       "1  Africa Eastern and Southern          AFE  GDP (current US$)   \n",
       "2                  Afghanistan          AFG  GDP (current US$)   \n",
       "3   Africa Western and Central          AFW  GDP (current US$)   \n",
       "4                       Angola          AGO  GDP (current US$)   \n",
       "\n",
       "   Indicator Code          1960          1961          1962          1963  \\\n",
       "0  NY.GDP.MKTP.CD           NaN           NaN           NaN           NaN   \n",
       "1  NY.GDP.MKTP.CD  1.929193e+10  1.970186e+10  2.147035e+10  2.570500e+10   \n",
       "2  NY.GDP.MKTP.CD  5.377778e+08  5.488889e+08  5.466667e+08  7.511112e+08   \n",
       "3  NY.GDP.MKTP.CD  1.040732e+10  1.113130e+10  1.194684e+10  1.268022e+10   \n",
       "4  NY.GDP.MKTP.CD           NaN           NaN           NaN           NaN   \n",
       "\n",
       "           1964          1965  ...          2012          2013          2014  \\\n",
       "0           NaN           NaN  ...  2.534637e+09  2.727850e+09  2.790849e+09   \n",
       "1  2.350165e+10  2.678117e+10  ...  9.131974e+11  9.276555e+11  9.563187e+11   \n",
       "2  8.000000e+08  1.006667e+09  ...  2.000160e+10  2.056107e+10  2.048489e+10   \n",
       "3  1.384262e+10  1.486682e+10  ...  7.169352e+11  8.078189e+11  8.469431e+11   \n",
       "4           NaN           NaN  ...  1.280529e+11  1.367099e+11  1.457122e+11   \n",
       "\n",
       "           2015          2016          2017          2018          2019  \\\n",
       "0  2.962905e+09  2.983637e+09  3.092430e+09  3.202189e+09           NaN   \n",
       "1  8.930997e+11  8.547519e+11  9.622690e+11  9.840320e+11  9.778092e+11   \n",
       "2  1.990711e+10  1.801775e+10  1.886995e+10  1.835388e+10  1.929110e+10   \n",
       "3  7.574921e+11  6.874847e+11  6.809891e+11  7.381313e+11  7.920789e+11   \n",
       "4  1.161936e+11  1.011239e+11  1.221238e+11  1.013532e+11  8.941719e+10   \n",
       "\n",
       "           2020  Unnamed: 65  \n",
       "0           NaN          NaN  \n",
       "1  8.984741e+11          NaN  \n",
       "2  1.980707e+10          NaN  \n",
       "3  7.865850e+11          NaN  \n",
       "4  6.230691e+10          NaN  \n",
       "\n",
       "[5 rows x 66 columns]"
      ]
     },
     "execution_count": 16,
     "metadata": {},
     "output_type": "execute_result"
    }
   ],
   "source": []
  },
  {
   "cell_type": "markdown",
   "metadata": {},
   "source": [
    "As a first step to cleaning a data set, it can be helpful to get rid of rows that have a lot of \"NaN\" values. NaN means \"Not a Number,\" and it is a value that sometimes takes the place of a blank entry. Countries that did not track GDP as far back as 1960 will have some NaN values, such as Aruba and Angola. You may want to keep these rows in your own data sets, but for this assignment, we are going to \"drop\" them from the data set, using a handy pandas function called \"dropna\"."
   ]
  },
  {
   "cell_type": "code",
   "execution_count": 17,
   "metadata": {},
   "outputs": [
    {
     "data": {
      "text/html": [
       "<div>\n",
       "<style scoped>\n",
       "    .dataframe tbody tr th:only-of-type {\n",
       "        vertical-align: middle;\n",
       "    }\n",
       "\n",
       "    .dataframe tbody tr th {\n",
       "        vertical-align: top;\n",
       "    }\n",
       "\n",
       "    .dataframe thead th {\n",
       "        text-align: right;\n",
       "    }\n",
       "</style>\n",
       "<table border=\"1\" class=\"dataframe\">\n",
       "  <thead>\n",
       "    <tr style=\"text-align: right;\">\n",
       "      <th></th>\n",
       "      <th>Country Name</th>\n",
       "      <th>Country Code</th>\n",
       "      <th>Indicator Name</th>\n",
       "      <th>Indicator Code</th>\n",
       "      <th>1960</th>\n",
       "      <th>1961</th>\n",
       "      <th>1962</th>\n",
       "      <th>1963</th>\n",
       "      <th>1964</th>\n",
       "      <th>1965</th>\n",
       "      <th>...</th>\n",
       "      <th>2011</th>\n",
       "      <th>2012</th>\n",
       "      <th>2013</th>\n",
       "      <th>2014</th>\n",
       "      <th>2015</th>\n",
       "      <th>2016</th>\n",
       "      <th>2017</th>\n",
       "      <th>2018</th>\n",
       "      <th>2019</th>\n",
       "      <th>2020</th>\n",
       "    </tr>\n",
       "  </thead>\n",
       "  <tbody>\n",
       "    <tr>\n",
       "      <th>1</th>\n",
       "      <td>Africa Eastern and Southern</td>\n",
       "      <td>AFE</td>\n",
       "      <td>GDP (current US$)</td>\n",
       "      <td>NY.GDP.MKTP.CD</td>\n",
       "      <td>1.929193e+10</td>\n",
       "      <td>1.970186e+10</td>\n",
       "      <td>2.147035e+10</td>\n",
       "      <td>2.570500e+10</td>\n",
       "      <td>2.350165e+10</td>\n",
       "      <td>2.678117e+10</td>\n",
       "      <td>...</td>\n",
       "      <td>8.962561e+11</td>\n",
       "      <td>9.131974e+11</td>\n",
       "      <td>9.276555e+11</td>\n",
       "      <td>9.563187e+11</td>\n",
       "      <td>8.930997e+11</td>\n",
       "      <td>8.547519e+11</td>\n",
       "      <td>9.622690e+11</td>\n",
       "      <td>9.840320e+11</td>\n",
       "      <td>9.778092e+11</td>\n",
       "      <td>8.984741e+11</td>\n",
       "    </tr>\n",
       "    <tr>\n",
       "      <th>3</th>\n",
       "      <td>Africa Western and Central</td>\n",
       "      <td>AFW</td>\n",
       "      <td>GDP (current US$)</td>\n",
       "      <td>NY.GDP.MKTP.CD</td>\n",
       "      <td>1.040732e+10</td>\n",
       "      <td>1.113130e+10</td>\n",
       "      <td>1.194684e+10</td>\n",
       "      <td>1.268022e+10</td>\n",
       "      <td>1.384262e+10</td>\n",
       "      <td>1.486682e+10</td>\n",
       "      <td>...</td>\n",
       "      <td>6.584282e+11</td>\n",
       "      <td>7.169352e+11</td>\n",
       "      <td>8.078189e+11</td>\n",
       "      <td>8.469431e+11</td>\n",
       "      <td>7.574921e+11</td>\n",
       "      <td>6.874847e+11</td>\n",
       "      <td>6.809891e+11</td>\n",
       "      <td>7.381313e+11</td>\n",
       "      <td>7.920789e+11</td>\n",
       "      <td>7.865850e+11</td>\n",
       "    </tr>\n",
       "    <tr>\n",
       "      <th>13</th>\n",
       "      <td>Australia</td>\n",
       "      <td>AUS</td>\n",
       "      <td>GDP (current US$)</td>\n",
       "      <td>NY.GDP.MKTP.CD</td>\n",
       "      <td>1.857767e+10</td>\n",
       "      <td>1.965282e+10</td>\n",
       "      <td>1.989249e+10</td>\n",
       "      <td>2.150745e+10</td>\n",
       "      <td>2.376414e+10</td>\n",
       "      <td>2.593684e+10</td>\n",
       "      <td>...</td>\n",
       "      <td>1.396650e+12</td>\n",
       "      <td>1.546152e+12</td>\n",
       "      <td>1.576184e+12</td>\n",
       "      <td>1.467484e+12</td>\n",
       "      <td>1.351694e+12</td>\n",
       "      <td>1.208847e+12</td>\n",
       "      <td>1.329188e+12</td>\n",
       "      <td>1.432881e+12</td>\n",
       "      <td>1.396567e+12</td>\n",
       "      <td>1.330901e+12</td>\n",
       "    </tr>\n",
       "    <tr>\n",
       "      <th>14</th>\n",
       "      <td>Austria</td>\n",
       "      <td>AUT</td>\n",
       "      <td>GDP (current US$)</td>\n",
       "      <td>NY.GDP.MKTP.CD</td>\n",
       "      <td>6.592694e+09</td>\n",
       "      <td>7.311750e+09</td>\n",
       "      <td>7.756110e+09</td>\n",
       "      <td>8.374175e+09</td>\n",
       "      <td>9.169984e+09</td>\n",
       "      <td>9.994071e+09</td>\n",
       "      <td>...</td>\n",
       "      <td>4.311203e+11</td>\n",
       "      <td>4.094252e+11</td>\n",
       "      <td>4.300687e+11</td>\n",
       "      <td>4.419961e+11</td>\n",
       "      <td>3.818176e+11</td>\n",
       "      <td>3.955686e+11</td>\n",
       "      <td>4.162073e+11</td>\n",
       "      <td>4.548726e+11</td>\n",
       "      <td>4.450754e+11</td>\n",
       "      <td>4.289654e+11</td>\n",
       "    </tr>\n",
       "    <tr>\n",
       "      <th>16</th>\n",
       "      <td>Burundi</td>\n",
       "      <td>BDI</td>\n",
       "      <td>GDP (current US$)</td>\n",
       "      <td>NY.GDP.MKTP.CD</td>\n",
       "      <td>1.960000e+08</td>\n",
       "      <td>2.030000e+08</td>\n",
       "      <td>2.135000e+08</td>\n",
       "      <td>2.327500e+08</td>\n",
       "      <td>2.607500e+08</td>\n",
       "      <td>1.589950e+08</td>\n",
       "      <td>...</td>\n",
       "      <td>2.235821e+09</td>\n",
       "      <td>2.333308e+09</td>\n",
       "      <td>2.451625e+09</td>\n",
       "      <td>2.705783e+09</td>\n",
       "      <td>3.104395e+09</td>\n",
       "      <td>2.959641e+09</td>\n",
       "      <td>3.172292e+09</td>\n",
       "      <td>3.036937e+09</td>\n",
       "      <td>3.012309e+09</td>\n",
       "      <td>3.258187e+09</td>\n",
       "    </tr>\n",
       "  </tbody>\n",
       "</table>\n",
       "<p>5 rows × 65 columns</p>\n",
       "</div>"
      ],
      "text/plain": [
       "                   Country Name Country Code     Indicator Name  \\\n",
       "1   Africa Eastern and Southern          AFE  GDP (current US$)   \n",
       "3    Africa Western and Central          AFW  GDP (current US$)   \n",
       "13                    Australia          AUS  GDP (current US$)   \n",
       "14                      Austria          AUT  GDP (current US$)   \n",
       "16                      Burundi          BDI  GDP (current US$)   \n",
       "\n",
       "    Indicator Code          1960          1961          1962          1963  \\\n",
       "1   NY.GDP.MKTP.CD  1.929193e+10  1.970186e+10  2.147035e+10  2.570500e+10   \n",
       "3   NY.GDP.MKTP.CD  1.040732e+10  1.113130e+10  1.194684e+10  1.268022e+10   \n",
       "13  NY.GDP.MKTP.CD  1.857767e+10  1.965282e+10  1.989249e+10  2.150745e+10   \n",
       "14  NY.GDP.MKTP.CD  6.592694e+09  7.311750e+09  7.756110e+09  8.374175e+09   \n",
       "16  NY.GDP.MKTP.CD  1.960000e+08  2.030000e+08  2.135000e+08  2.327500e+08   \n",
       "\n",
       "            1964          1965  ...          2011          2012          2013  \\\n",
       "1   2.350165e+10  2.678117e+10  ...  8.962561e+11  9.131974e+11  9.276555e+11   \n",
       "3   1.384262e+10  1.486682e+10  ...  6.584282e+11  7.169352e+11  8.078189e+11   \n",
       "13  2.376414e+10  2.593684e+10  ...  1.396650e+12  1.546152e+12  1.576184e+12   \n",
       "14  9.169984e+09  9.994071e+09  ...  4.311203e+11  4.094252e+11  4.300687e+11   \n",
       "16  2.607500e+08  1.589950e+08  ...  2.235821e+09  2.333308e+09  2.451625e+09   \n",
       "\n",
       "            2014          2015          2016          2017          2018  \\\n",
       "1   9.563187e+11  8.930997e+11  8.547519e+11  9.622690e+11  9.840320e+11   \n",
       "3   8.469431e+11  7.574921e+11  6.874847e+11  6.809891e+11  7.381313e+11   \n",
       "13  1.467484e+12  1.351694e+12  1.208847e+12  1.329188e+12  1.432881e+12   \n",
       "14  4.419961e+11  3.818176e+11  3.955686e+11  4.162073e+11  4.548726e+11   \n",
       "16  2.705783e+09  3.104395e+09  2.959641e+09  3.172292e+09  3.036937e+09   \n",
       "\n",
       "            2019          2020  \n",
       "1   9.778092e+11  8.984741e+11  \n",
       "3   7.920789e+11  7.865850e+11  \n",
       "13  1.396567e+12  1.330901e+12  \n",
       "14  4.450754e+11  4.289654e+11  \n",
       "16  3.012309e+09  3.258187e+09  \n",
       "\n",
       "[5 rows x 65 columns]"
      ]
     },
     "execution_count": 17,
     "metadata": {},
     "output_type": "execute_result"
    }
   ],
   "source": [
    "gdp = gdp.dropna(axis=\"columns\", how=\"all\") # drop empty columns, like the last column in gdp\n",
    "gdp = gdp.dropna() # drop rows with NaNs, like Aruba and Angola\n",
    "gdp.head()"
   ]
  },
  {
   "cell_type": "markdown",
   "metadata": {},
   "source": [
    "___\n",
    "**Note that the `dropna` function was accessed from the dataframe itself (`gdp.dropna()`).**  These functions are included with each dataframe object. We've already seen this with functions like `describe()`, and even with numpy array functions like `my_array.sum()`.  Many of the functions you'll be using today are included with the dataframe objects. \n",
    "\n",
    "You can browse through these built-in functions by typing the name of a dataframe followed by `.` and then hitting the tab key.  Try it out below!"
   ]
  },
  {
   "cell_type": "code",
   "execution_count": 18,
   "metadata": {},
   "outputs": [],
   "source": [
    "# uncomment the line below, then go to the end of the line and hit tab \n",
    "#gdp."
   ]
  },
  {
   "cell_type": "markdown",
   "metadata": {},
   "source": [
    "If you want to learn more about something, select it (or type it out), add a question mark, and then run the cell.\n",
    "___"
   ]
  },
  {
   "cell_type": "markdown",
   "metadata": {},
   "source": [
    "**Reflecting on the data:** Typically when we are looking at data over time we represent each time step as a row rather than a column. Let's transpose the dataset to get years as rows. Pandas dataframes have a built in transpose function -- see if you can figure out what it is!\n",
    "\n",
    "Example of Transposing:\n",
    "\n",
    "<img src=\"https://www.howtogeek.com/wp-content/uploads/2016/06/00_lead_image_transpose_word_table.png\" width=500px>\n",
    "\n",
    "&#9989;&nbsp; **Transpose the data** to flip the orientation of the rows and columns."
   ]
  },
  {
   "cell_type": "code",
   "execution_count": 19,
   "metadata": {},
   "outputs": [],
   "source": [
    "# Transpose the dataframe here and check to see if it worked\n"
   ]
  },
  {
   "cell_type": "code",
   "execution_count": 20,
   "metadata": {},
   "outputs": [
    {
     "data": {
      "text/html": [
       "<div>\n",
       "<style scoped>\n",
       "    .dataframe tbody tr th:only-of-type {\n",
       "        vertical-align: middle;\n",
       "    }\n",
       "\n",
       "    .dataframe tbody tr th {\n",
       "        vertical-align: top;\n",
       "    }\n",
       "\n",
       "    .dataframe thead th {\n",
       "        text-align: right;\n",
       "    }\n",
       "</style>\n",
       "<table border=\"1\" class=\"dataframe\">\n",
       "  <thead>\n",
       "    <tr style=\"text-align: right;\">\n",
       "      <th></th>\n",
       "      <th>1</th>\n",
       "      <th>3</th>\n",
       "      <th>13</th>\n",
       "      <th>14</th>\n",
       "      <th>16</th>\n",
       "      <th>17</th>\n",
       "      <th>18</th>\n",
       "      <th>19</th>\n",
       "      <th>20</th>\n",
       "      <th>23</th>\n",
       "      <th>...</th>\n",
       "      <th>244</th>\n",
       "      <th>247</th>\n",
       "      <th>249</th>\n",
       "      <th>250</th>\n",
       "      <th>251</th>\n",
       "      <th>253</th>\n",
       "      <th>259</th>\n",
       "      <th>263</th>\n",
       "      <th>264</th>\n",
       "      <th>265</th>\n",
       "    </tr>\n",
       "  </thead>\n",
       "  <tbody>\n",
       "    <tr>\n",
       "      <th>Country Name</th>\n",
       "      <td>Africa Eastern and Southern</td>\n",
       "      <td>Africa Western and Central</td>\n",
       "      <td>Australia</td>\n",
       "      <td>Austria</td>\n",
       "      <td>Burundi</td>\n",
       "      <td>Belgium</td>\n",
       "      <td>Benin</td>\n",
       "      <td>Burkina Faso</td>\n",
       "      <td>Bangladesh</td>\n",
       "      <td>Bahamas, The</td>\n",
       "      <td>...</td>\n",
       "      <td>Turkey</td>\n",
       "      <td>Uganda</td>\n",
       "      <td>Upper middle income</td>\n",
       "      <td>Uruguay</td>\n",
       "      <td>United States</td>\n",
       "      <td>St. Vincent and the Grenadines</td>\n",
       "      <td>World</td>\n",
       "      <td>South Africa</td>\n",
       "      <td>Zambia</td>\n",
       "      <td>Zimbabwe</td>\n",
       "    </tr>\n",
       "    <tr>\n",
       "      <th>Country Code</th>\n",
       "      <td>AFE</td>\n",
       "      <td>AFW</td>\n",
       "      <td>AUS</td>\n",
       "      <td>AUT</td>\n",
       "      <td>BDI</td>\n",
       "      <td>BEL</td>\n",
       "      <td>BEN</td>\n",
       "      <td>BFA</td>\n",
       "      <td>BGD</td>\n",
       "      <td>BHS</td>\n",
       "      <td>...</td>\n",
       "      <td>TUR</td>\n",
       "      <td>UGA</td>\n",
       "      <td>UMC</td>\n",
       "      <td>URY</td>\n",
       "      <td>USA</td>\n",
       "      <td>VCT</td>\n",
       "      <td>WLD</td>\n",
       "      <td>ZAF</td>\n",
       "      <td>ZMB</td>\n",
       "      <td>ZWE</td>\n",
       "    </tr>\n",
       "    <tr>\n",
       "      <th>Indicator Name</th>\n",
       "      <td>GDP (current US$)</td>\n",
       "      <td>GDP (current US$)</td>\n",
       "      <td>GDP (current US$)</td>\n",
       "      <td>GDP (current US$)</td>\n",
       "      <td>GDP (current US$)</td>\n",
       "      <td>GDP (current US$)</td>\n",
       "      <td>GDP (current US$)</td>\n",
       "      <td>GDP (current US$)</td>\n",
       "      <td>GDP (current US$)</td>\n",
       "      <td>GDP (current US$)</td>\n",
       "      <td>...</td>\n",
       "      <td>GDP (current US$)</td>\n",
       "      <td>GDP (current US$)</td>\n",
       "      <td>GDP (current US$)</td>\n",
       "      <td>GDP (current US$)</td>\n",
       "      <td>GDP (current US$)</td>\n",
       "      <td>GDP (current US$)</td>\n",
       "      <td>GDP (current US$)</td>\n",
       "      <td>GDP (current US$)</td>\n",
       "      <td>GDP (current US$)</td>\n",
       "      <td>GDP (current US$)</td>\n",
       "    </tr>\n",
       "    <tr>\n",
       "      <th>Indicator Code</th>\n",
       "      <td>NY.GDP.MKTP.CD</td>\n",
       "      <td>NY.GDP.MKTP.CD</td>\n",
       "      <td>NY.GDP.MKTP.CD</td>\n",
       "      <td>NY.GDP.MKTP.CD</td>\n",
       "      <td>NY.GDP.MKTP.CD</td>\n",
       "      <td>NY.GDP.MKTP.CD</td>\n",
       "      <td>NY.GDP.MKTP.CD</td>\n",
       "      <td>NY.GDP.MKTP.CD</td>\n",
       "      <td>NY.GDP.MKTP.CD</td>\n",
       "      <td>NY.GDP.MKTP.CD</td>\n",
       "      <td>...</td>\n",
       "      <td>NY.GDP.MKTP.CD</td>\n",
       "      <td>NY.GDP.MKTP.CD</td>\n",
       "      <td>NY.GDP.MKTP.CD</td>\n",
       "      <td>NY.GDP.MKTP.CD</td>\n",
       "      <td>NY.GDP.MKTP.CD</td>\n",
       "      <td>NY.GDP.MKTP.CD</td>\n",
       "      <td>NY.GDP.MKTP.CD</td>\n",
       "      <td>NY.GDP.MKTP.CD</td>\n",
       "      <td>NY.GDP.MKTP.CD</td>\n",
       "      <td>NY.GDP.MKTP.CD</td>\n",
       "    </tr>\n",
       "    <tr>\n",
       "      <th>1960</th>\n",
       "      <td>19291929319.738899</td>\n",
       "      <td>10407321640.353901</td>\n",
       "      <td>18577668271.922901</td>\n",
       "      <td>6592693841.18495</td>\n",
       "      <td>195999990.0</td>\n",
       "      <td>11658722590.99</td>\n",
       "      <td>226195579.35701</td>\n",
       "      <td>330442817.168859</td>\n",
       "      <td>4274893913.49536</td>\n",
       "      <td>169803921.568627</td>\n",
       "      <td>...</td>\n",
       "      <td>13995067817.509199</td>\n",
       "      <td>423008385.744235</td>\n",
       "      <td>237934419358.274994</td>\n",
       "      <td>1242289239.20493</td>\n",
       "      <td>543300000000.0</td>\n",
       "      <td>13066557.778685</td>\n",
       "      <td>1384628173213.669922</td>\n",
       "      <td>7575396973.02288</td>\n",
       "      <td>713000000.0</td>\n",
       "      <td>1052990400.0</td>\n",
       "    </tr>\n",
       "  </tbody>\n",
       "</table>\n",
       "<p>5 rows × 121 columns</p>\n",
       "</div>"
      ],
      "text/plain": [
       "                                        1                           3    \\\n",
       "Country Name    Africa Eastern and Southern  Africa Western and Central   \n",
       "Country Code                            AFE                         AFW   \n",
       "Indicator Name            GDP (current US$)           GDP (current US$)   \n",
       "Indicator Code               NY.GDP.MKTP.CD              NY.GDP.MKTP.CD   \n",
       "1960                     19291929319.738899          10407321640.353901   \n",
       "\n",
       "                               13                 14                 16   \\\n",
       "Country Name             Australia            Austria            Burundi   \n",
       "Country Code                   AUS                AUT                BDI   \n",
       "Indicator Name   GDP (current US$)  GDP (current US$)  GDP (current US$)   \n",
       "Indicator Code      NY.GDP.MKTP.CD     NY.GDP.MKTP.CD     NY.GDP.MKTP.CD   \n",
       "1960            18577668271.922901   6592693841.18495        195999990.0   \n",
       "\n",
       "                              17                 18                 19   \\\n",
       "Country Name              Belgium              Benin       Burkina Faso   \n",
       "Country Code                  BEL                BEN                BFA   \n",
       "Indicator Name  GDP (current US$)  GDP (current US$)  GDP (current US$)   \n",
       "Indicator Code     NY.GDP.MKTP.CD     NY.GDP.MKTP.CD     NY.GDP.MKTP.CD   \n",
       "1960               11658722590.99    226195579.35701   330442817.168859   \n",
       "\n",
       "                              20                 23   ...                 244  \\\n",
       "Country Name           Bangladesh       Bahamas, The  ...              Turkey   \n",
       "Country Code                  BGD                BHS  ...                 TUR   \n",
       "Indicator Name  GDP (current US$)  GDP (current US$)  ...   GDP (current US$)   \n",
       "Indicator Code     NY.GDP.MKTP.CD     NY.GDP.MKTP.CD  ...      NY.GDP.MKTP.CD   \n",
       "1960             4274893913.49536   169803921.568627  ...  13995067817.509199   \n",
       "\n",
       "                              247                  249                250  \\\n",
       "Country Name               Uganda  Upper middle income            Uruguay   \n",
       "Country Code                  UGA                  UMC                URY   \n",
       "Indicator Name  GDP (current US$)    GDP (current US$)  GDP (current US$)   \n",
       "Indicator Code     NY.GDP.MKTP.CD       NY.GDP.MKTP.CD     NY.GDP.MKTP.CD   \n",
       "1960             423008385.744235  237934419358.274994   1242289239.20493   \n",
       "\n",
       "                              251                             253  \\\n",
       "Country Name        United States  St. Vincent and the Grenadines   \n",
       "Country Code                  USA                             VCT   \n",
       "Indicator Name  GDP (current US$)               GDP (current US$)   \n",
       "Indicator Code     NY.GDP.MKTP.CD                  NY.GDP.MKTP.CD   \n",
       "1960               543300000000.0                 13066557.778685   \n",
       "\n",
       "                                 259                263                264  \\\n",
       "Country Name                   World       South Africa             Zambia   \n",
       "Country Code                     WLD                ZAF                ZMB   \n",
       "Indicator Name     GDP (current US$)  GDP (current US$)  GDP (current US$)   \n",
       "Indicator Code        NY.GDP.MKTP.CD     NY.GDP.MKTP.CD     NY.GDP.MKTP.CD   \n",
       "1960            1384628173213.669922   7575396973.02288        713000000.0   \n",
       "\n",
       "                              265  \n",
       "Country Name             Zimbabwe  \n",
       "Country Code                  ZWE  \n",
       "Indicator Name  GDP (current US$)  \n",
       "Indicator Code     NY.GDP.MKTP.CD  \n",
       "1960                 1052990400.0  \n",
       "\n",
       "[5 rows x 121 columns]"
      ]
     },
     "execution_count": 20,
     "metadata": {},
     "output_type": "execute_result"
    }
   ],
   "source": [
    "### ANSWER\n"
   ]
  },
  {
   "cell_type": "markdown",
   "metadata": {},
   "source": [
    "One of the benefits of Pandas Dataframe is being able to index a column by name rather than a number.\n",
    "\n",
    "&#9989;&nbsp; **Modify the dataframe so that each country name is used as the column headers by assigning the first row of the dataframe to be the column headers.**\n",
    "\n",
    "Think back to the Pre-Class Assignment. What information are you looking to retreive? What tools do you have to access this information? You may want to use `.iloc` to do this. If done correctly, you then should be able to index a column out of our dataframe using `gdp['United States']`, for example. Make sure to test this out!"
   ]
  },
  {
   "cell_type": "code",
   "execution_count": 21,
   "metadata": {},
   "outputs": [],
   "source": [
    "# Change the column headers to be the country names here.\n"
   ]
  },
  {
   "cell_type": "code",
   "execution_count": 22,
   "metadata": {
    "scrolled": true
   },
   "outputs": [
    {
     "data": {
      "text/html": [
       "<div>\n",
       "<style scoped>\n",
       "    .dataframe tbody tr th:only-of-type {\n",
       "        vertical-align: middle;\n",
       "    }\n",
       "\n",
       "    .dataframe tbody tr th {\n",
       "        vertical-align: top;\n",
       "    }\n",
       "\n",
       "    .dataframe thead th {\n",
       "        text-align: right;\n",
       "    }\n",
       "</style>\n",
       "<table border=\"1\" class=\"dataframe\">\n",
       "  <thead>\n",
       "    <tr style=\"text-align: right;\">\n",
       "      <th>Country Name</th>\n",
       "      <th>Africa Eastern and Southern</th>\n",
       "      <th>Africa Western and Central</th>\n",
       "      <th>Australia</th>\n",
       "      <th>Austria</th>\n",
       "      <th>Burundi</th>\n",
       "      <th>Belgium</th>\n",
       "      <th>Benin</th>\n",
       "      <th>Burkina Faso</th>\n",
       "      <th>Bangladesh</th>\n",
       "      <th>Bahamas, The</th>\n",
       "      <th>...</th>\n",
       "      <th>Turkey</th>\n",
       "      <th>Uganda</th>\n",
       "      <th>Upper middle income</th>\n",
       "      <th>Uruguay</th>\n",
       "      <th>United States</th>\n",
       "      <th>St. Vincent and the Grenadines</th>\n",
       "      <th>World</th>\n",
       "      <th>South Africa</th>\n",
       "      <th>Zambia</th>\n",
       "      <th>Zimbabwe</th>\n",
       "    </tr>\n",
       "  </thead>\n",
       "  <tbody>\n",
       "    <tr>\n",
       "      <th>Country Name</th>\n",
       "      <td>Africa Eastern and Southern</td>\n",
       "      <td>Africa Western and Central</td>\n",
       "      <td>Australia</td>\n",
       "      <td>Austria</td>\n",
       "      <td>Burundi</td>\n",
       "      <td>Belgium</td>\n",
       "      <td>Benin</td>\n",
       "      <td>Burkina Faso</td>\n",
       "      <td>Bangladesh</td>\n",
       "      <td>Bahamas, The</td>\n",
       "      <td>...</td>\n",
       "      <td>Turkey</td>\n",
       "      <td>Uganda</td>\n",
       "      <td>Upper middle income</td>\n",
       "      <td>Uruguay</td>\n",
       "      <td>United States</td>\n",
       "      <td>St. Vincent and the Grenadines</td>\n",
       "      <td>World</td>\n",
       "      <td>South Africa</td>\n",
       "      <td>Zambia</td>\n",
       "      <td>Zimbabwe</td>\n",
       "    </tr>\n",
       "    <tr>\n",
       "      <th>Country Code</th>\n",
       "      <td>AFE</td>\n",
       "      <td>AFW</td>\n",
       "      <td>AUS</td>\n",
       "      <td>AUT</td>\n",
       "      <td>BDI</td>\n",
       "      <td>BEL</td>\n",
       "      <td>BEN</td>\n",
       "      <td>BFA</td>\n",
       "      <td>BGD</td>\n",
       "      <td>BHS</td>\n",
       "      <td>...</td>\n",
       "      <td>TUR</td>\n",
       "      <td>UGA</td>\n",
       "      <td>UMC</td>\n",
       "      <td>URY</td>\n",
       "      <td>USA</td>\n",
       "      <td>VCT</td>\n",
       "      <td>WLD</td>\n",
       "      <td>ZAF</td>\n",
       "      <td>ZMB</td>\n",
       "      <td>ZWE</td>\n",
       "    </tr>\n",
       "    <tr>\n",
       "      <th>Indicator Name</th>\n",
       "      <td>GDP (current US$)</td>\n",
       "      <td>GDP (current US$)</td>\n",
       "      <td>GDP (current US$)</td>\n",
       "      <td>GDP (current US$)</td>\n",
       "      <td>GDP (current US$)</td>\n",
       "      <td>GDP (current US$)</td>\n",
       "      <td>GDP (current US$)</td>\n",
       "      <td>GDP (current US$)</td>\n",
       "      <td>GDP (current US$)</td>\n",
       "      <td>GDP (current US$)</td>\n",
       "      <td>...</td>\n",
       "      <td>GDP (current US$)</td>\n",
       "      <td>GDP (current US$)</td>\n",
       "      <td>GDP (current US$)</td>\n",
       "      <td>GDP (current US$)</td>\n",
       "      <td>GDP (current US$)</td>\n",
       "      <td>GDP (current US$)</td>\n",
       "      <td>GDP (current US$)</td>\n",
       "      <td>GDP (current US$)</td>\n",
       "      <td>GDP (current US$)</td>\n",
       "      <td>GDP (current US$)</td>\n",
       "    </tr>\n",
       "    <tr>\n",
       "      <th>Indicator Code</th>\n",
       "      <td>NY.GDP.MKTP.CD</td>\n",
       "      <td>NY.GDP.MKTP.CD</td>\n",
       "      <td>NY.GDP.MKTP.CD</td>\n",
       "      <td>NY.GDP.MKTP.CD</td>\n",
       "      <td>NY.GDP.MKTP.CD</td>\n",
       "      <td>NY.GDP.MKTP.CD</td>\n",
       "      <td>NY.GDP.MKTP.CD</td>\n",
       "      <td>NY.GDP.MKTP.CD</td>\n",
       "      <td>NY.GDP.MKTP.CD</td>\n",
       "      <td>NY.GDP.MKTP.CD</td>\n",
       "      <td>...</td>\n",
       "      <td>NY.GDP.MKTP.CD</td>\n",
       "      <td>NY.GDP.MKTP.CD</td>\n",
       "      <td>NY.GDP.MKTP.CD</td>\n",
       "      <td>NY.GDP.MKTP.CD</td>\n",
       "      <td>NY.GDP.MKTP.CD</td>\n",
       "      <td>NY.GDP.MKTP.CD</td>\n",
       "      <td>NY.GDP.MKTP.CD</td>\n",
       "      <td>NY.GDP.MKTP.CD</td>\n",
       "      <td>NY.GDP.MKTP.CD</td>\n",
       "      <td>NY.GDP.MKTP.CD</td>\n",
       "    </tr>\n",
       "    <tr>\n",
       "      <th>1960</th>\n",
       "      <td>19291929319.738899</td>\n",
       "      <td>10407321640.353901</td>\n",
       "      <td>18577668271.922901</td>\n",
       "      <td>6592693841.18495</td>\n",
       "      <td>195999990.0</td>\n",
       "      <td>11658722590.99</td>\n",
       "      <td>226195579.35701</td>\n",
       "      <td>330442817.168859</td>\n",
       "      <td>4274893913.49536</td>\n",
       "      <td>169803921.568627</td>\n",
       "      <td>...</td>\n",
       "      <td>13995067817.509199</td>\n",
       "      <td>423008385.744235</td>\n",
       "      <td>237934419358.274994</td>\n",
       "      <td>1242289239.20493</td>\n",
       "      <td>543300000000.0</td>\n",
       "      <td>13066557.778685</td>\n",
       "      <td>1384628173213.669922</td>\n",
       "      <td>7575396973.02288</td>\n",
       "      <td>713000000.0</td>\n",
       "      <td>1052990400.0</td>\n",
       "    </tr>\n",
       "  </tbody>\n",
       "</table>\n",
       "<p>5 rows × 121 columns</p>\n",
       "</div>"
      ],
      "text/plain": [
       "Country Name    Africa Eastern and Southern  Africa Western and Central  \\\n",
       "Country Name    Africa Eastern and Southern  Africa Western and Central   \n",
       "Country Code                            AFE                         AFW   \n",
       "Indicator Name            GDP (current US$)           GDP (current US$)   \n",
       "Indicator Code               NY.GDP.MKTP.CD              NY.GDP.MKTP.CD   \n",
       "1960                     19291929319.738899          10407321640.353901   \n",
       "\n",
       "Country Name             Australia            Austria            Burundi  \\\n",
       "Country Name             Australia            Austria            Burundi   \n",
       "Country Code                   AUS                AUT                BDI   \n",
       "Indicator Name   GDP (current US$)  GDP (current US$)  GDP (current US$)   \n",
       "Indicator Code      NY.GDP.MKTP.CD     NY.GDP.MKTP.CD     NY.GDP.MKTP.CD   \n",
       "1960            18577668271.922901   6592693841.18495        195999990.0   \n",
       "\n",
       "Country Name              Belgium              Benin       Burkina Faso  \\\n",
       "Country Name              Belgium              Benin       Burkina Faso   \n",
       "Country Code                  BEL                BEN                BFA   \n",
       "Indicator Name  GDP (current US$)  GDP (current US$)  GDP (current US$)   \n",
       "Indicator Code     NY.GDP.MKTP.CD     NY.GDP.MKTP.CD     NY.GDP.MKTP.CD   \n",
       "1960               11658722590.99    226195579.35701   330442817.168859   \n",
       "\n",
       "Country Name           Bangladesh       Bahamas, The  ...              Turkey  \\\n",
       "Country Name           Bangladesh       Bahamas, The  ...              Turkey   \n",
       "Country Code                  BGD                BHS  ...                 TUR   \n",
       "Indicator Name  GDP (current US$)  GDP (current US$)  ...   GDP (current US$)   \n",
       "Indicator Code     NY.GDP.MKTP.CD     NY.GDP.MKTP.CD  ...      NY.GDP.MKTP.CD   \n",
       "1960             4274893913.49536   169803921.568627  ...  13995067817.509199   \n",
       "\n",
       "Country Name               Uganda  Upper middle income            Uruguay  \\\n",
       "Country Name               Uganda  Upper middle income            Uruguay   \n",
       "Country Code                  UGA                  UMC                URY   \n",
       "Indicator Name  GDP (current US$)    GDP (current US$)  GDP (current US$)   \n",
       "Indicator Code     NY.GDP.MKTP.CD       NY.GDP.MKTP.CD     NY.GDP.MKTP.CD   \n",
       "1960             423008385.744235  237934419358.274994   1242289239.20493   \n",
       "\n",
       "Country Name        United States  St. Vincent and the Grenadines  \\\n",
       "Country Name        United States  St. Vincent and the Grenadines   \n",
       "Country Code                  USA                             VCT   \n",
       "Indicator Name  GDP (current US$)               GDP (current US$)   \n",
       "Indicator Code     NY.GDP.MKTP.CD                  NY.GDP.MKTP.CD   \n",
       "1960               543300000000.0                 13066557.778685   \n",
       "\n",
       "Country Name                   World       South Africa             Zambia  \\\n",
       "Country Name                   World       South Africa             Zambia   \n",
       "Country Code                     WLD                ZAF                ZMB   \n",
       "Indicator Name     GDP (current US$)  GDP (current US$)  GDP (current US$)   \n",
       "Indicator Code        NY.GDP.MKTP.CD     NY.GDP.MKTP.CD     NY.GDP.MKTP.CD   \n",
       "1960            1384628173213.669922   7575396973.02288        713000000.0   \n",
       "\n",
       "Country Name             Zimbabwe  \n",
       "Country Name             Zimbabwe  \n",
       "Country Code                  ZWE  \n",
       "Indicator Name  GDP (current US$)  \n",
       "Indicator Code     NY.GDP.MKTP.CD  \n",
       "1960                 1052990400.0  \n",
       "\n",
       "[5 rows x 121 columns]"
      ]
     },
     "execution_count": 22,
     "metadata": {},
     "output_type": "execute_result"
    }
   ],
   "source": [
    "### ANSWER\n"
   ]
  },
  {
   "cell_type": "code",
   "execution_count": 23,
   "metadata": {
    "scrolled": false
   },
   "outputs": [
    {
     "data": {
      "text/plain": [
       "Country Name          United States\n",
       "Country Code                    USA\n",
       "Indicator Name    GDP (current US$)\n",
       "Indicator Code       NY.GDP.MKTP.CD\n",
       "1960                 543300000000.0\n",
       "                        ...        \n",
       "2016               18745075687000.0\n",
       "2017               19542979183000.0\n",
       "2018               20611860934000.0\n",
       "2019               21433224697000.0\n",
       "2020               20936600000000.0\n",
       "Name: United States, Length: 65, dtype: object"
      ]
     },
     "execution_count": 23,
     "metadata": {},
     "output_type": "execute_result"
    }
   ],
   "source": [
    "### ANSWER\n"
   ]
  },
  {
   "cell_type": "markdown",
   "metadata": {},
   "source": [
    "This is looking pretty good!\n",
    "\n",
    "Of course, now we have a few redundant rows: \"Country Name\", \"Country Code\", \"Indicator Name\", and \"Indicator Code\". We don't really need these any more now that we've change the column labels.\n",
    "\n",
    "&#9989;&nbsp; **Remove these four rows, since they don't contain yearly GDP data.** There's more than one way to do this. The best option is to use the `gdp.drop()` function. Figure out how it works with `gdp.drop?`."
   ]
  },
  {
   "cell_type": "code",
   "execution_count": 24,
   "metadata": {},
   "outputs": [],
   "source": [
    "# Try to remove the rows that don't represent years here"
   ]
  },
  {
   "cell_type": "code",
   "execution_count": 25,
   "metadata": {},
   "outputs": [
    {
     "data": {
      "text/html": [
       "<div>\n",
       "<style scoped>\n",
       "    .dataframe tbody tr th:only-of-type {\n",
       "        vertical-align: middle;\n",
       "    }\n",
       "\n",
       "    .dataframe tbody tr th {\n",
       "        vertical-align: top;\n",
       "    }\n",
       "\n",
       "    .dataframe thead th {\n",
       "        text-align: right;\n",
       "    }\n",
       "</style>\n",
       "<table border=\"1\" class=\"dataframe\">\n",
       "  <thead>\n",
       "    <tr style=\"text-align: right;\">\n",
       "      <th>Country Name</th>\n",
       "      <th>Africa Eastern and Southern</th>\n",
       "      <th>Africa Western and Central</th>\n",
       "      <th>Australia</th>\n",
       "      <th>Austria</th>\n",
       "      <th>Burundi</th>\n",
       "      <th>Belgium</th>\n",
       "      <th>Benin</th>\n",
       "      <th>Burkina Faso</th>\n",
       "      <th>Bangladesh</th>\n",
       "      <th>Bahamas, The</th>\n",
       "      <th>...</th>\n",
       "      <th>Turkey</th>\n",
       "      <th>Uganda</th>\n",
       "      <th>Upper middle income</th>\n",
       "      <th>Uruguay</th>\n",
       "      <th>United States</th>\n",
       "      <th>St. Vincent and the Grenadines</th>\n",
       "      <th>World</th>\n",
       "      <th>South Africa</th>\n",
       "      <th>Zambia</th>\n",
       "      <th>Zimbabwe</th>\n",
       "    </tr>\n",
       "  </thead>\n",
       "  <tbody>\n",
       "    <tr>\n",
       "      <th>1960</th>\n",
       "      <td>19291929319.738899</td>\n",
       "      <td>10407321640.353901</td>\n",
       "      <td>18577668271.922901</td>\n",
       "      <td>6592693841.18495</td>\n",
       "      <td>195999990.0</td>\n",
       "      <td>11658722590.99</td>\n",
       "      <td>226195579.35701</td>\n",
       "      <td>330442817.168859</td>\n",
       "      <td>4274893913.49536</td>\n",
       "      <td>169803921.568627</td>\n",
       "      <td>...</td>\n",
       "      <td>13995067817.509199</td>\n",
       "      <td>423008385.744235</td>\n",
       "      <td>237934419358.274994</td>\n",
       "      <td>1242289239.20493</td>\n",
       "      <td>543300000000.0</td>\n",
       "      <td>13066557.778685</td>\n",
       "      <td>1384628173213.669922</td>\n",
       "      <td>7575396973.02288</td>\n",
       "      <td>713000000.0</td>\n",
       "      <td>1052990400.0</td>\n",
       "    </tr>\n",
       "    <tr>\n",
       "      <th>1961</th>\n",
       "      <td>19701861087.777901</td>\n",
       "      <td>11131302981.479</td>\n",
       "      <td>19652816664.800098</td>\n",
       "      <td>7311749633.36229</td>\n",
       "      <td>202999992.0</td>\n",
       "      <td>12400145221.594999</td>\n",
       "      <td>235668222.429984</td>\n",
       "      <td>350247237.11684</td>\n",
       "      <td>4817580183.60155</td>\n",
       "      <td>190098039.215686</td>\n",
       "      <td>...</td>\n",
       "      <td>7988888888.88889</td>\n",
       "      <td>441524109.014675</td>\n",
       "      <td>213309686104.86499</td>\n",
       "      <td>1547388781.43133</td>\n",
       "      <td>563300000000.0</td>\n",
       "      <td>13999883.334306</td>\n",
       "      <td>1440342189098.709961</td>\n",
       "      <td>7972996814.14993</td>\n",
       "      <td>696285714.285714</td>\n",
       "      <td>1096646600.0</td>\n",
       "    </tr>\n",
       "    <tr>\n",
       "      <th>1962</th>\n",
       "      <td>21470351752.549</td>\n",
       "      <td>11946843968.962799</td>\n",
       "      <td>19892485160.712299</td>\n",
       "      <td>7756110210.11966</td>\n",
       "      <td>213500006.0</td>\n",
       "      <td>13264015675.3193</td>\n",
       "      <td>236434906.75427</td>\n",
       "      <td>379567023.340308</td>\n",
       "      <td>5081413339.78635</td>\n",
       "      <td>212254901.960784</td>\n",
       "      <td>...</td>\n",
       "      <td>8922222222.222219</td>\n",
       "      <td>449012578.616352</td>\n",
       "      <td>223871699062.670013</td>\n",
       "      <td>1710004407.22785</td>\n",
       "      <td>605100000000.0</td>\n",
       "      <td>14524878.959342</td>\n",
       "      <td>1545696874313.129883</td>\n",
       "      <td>8497996604.37052</td>\n",
       "      <td>693142857.142857</td>\n",
       "      <td>1117601600.0</td>\n",
       "    </tr>\n",
       "    <tr>\n",
       "      <th>1963</th>\n",
       "      <td>25704995452.171299</td>\n",
       "      <td>12680220415.260099</td>\n",
       "      <td>21507447642.513199</td>\n",
       "      <td>8374175257.73075</td>\n",
       "      <td>232749998.0</td>\n",
       "      <td>14260017387.0492</td>\n",
       "      <td>253927646.475909</td>\n",
       "      <td>394040588.303477</td>\n",
       "      <td>5319458351.16235</td>\n",
       "      <td>237745098.039216</td>\n",
       "      <td>...</td>\n",
       "      <td>10355555555.555599</td>\n",
       "      <td>516147798.742138</td>\n",
       "      <td>233328403223.054993</td>\n",
       "      <td>1539681490.78174</td>\n",
       "      <td>638600000000.0</td>\n",
       "      <td>13708219.098174</td>\n",
       "      <td>1665140917215.540039</td>\n",
       "      <td>9423396234.599331</td>\n",
       "      <td>718714285.714286</td>\n",
       "      <td>1159511700.0</td>\n",
       "    </tr>\n",
       "    <tr>\n",
       "      <th>1964</th>\n",
       "      <td>23501645213.039902</td>\n",
       "      <td>13842621612.1733</td>\n",
       "      <td>23764139321.312599</td>\n",
       "      <td>9169983885.711849</td>\n",
       "      <td>260750008.0</td>\n",
       "      <td>15960106680.673201</td>\n",
       "      <td>269818988.259263</td>\n",
       "      <td>410321618.17137</td>\n",
       "      <td>5386054619.34987</td>\n",
       "      <td>266666666.666667</td>\n",
       "      <td>...</td>\n",
       "      <td>11177777777.7778</td>\n",
       "      <td>589056603.773585</td>\n",
       "      <td>268629555469.804993</td>\n",
       "      <td>1975701816.46615</td>\n",
       "      <td>685800000000.0</td>\n",
       "      <td>14758210.348247</td>\n",
       "      <td>1824117368130.590088</td>\n",
       "      <td>10373995854.758699</td>\n",
       "      <td>839428571.428571</td>\n",
       "      <td>1217138000.0</td>\n",
       "    </tr>\n",
       "  </tbody>\n",
       "</table>\n",
       "<p>5 rows × 121 columns</p>\n",
       "</div>"
      ],
      "text/plain": [
       "Country Name Africa Eastern and Southern Africa Western and Central  \\\n",
       "1960                  19291929319.738899         10407321640.353901   \n",
       "1961                  19701861087.777901            11131302981.479   \n",
       "1962                     21470351752.549         11946843968.962799   \n",
       "1963                  25704995452.171299         12680220415.260099   \n",
       "1964                  23501645213.039902           13842621612.1733   \n",
       "\n",
       "Country Name           Australia            Austria      Burundi  \\\n",
       "1960          18577668271.922901   6592693841.18495  195999990.0   \n",
       "1961          19652816664.800098   7311749633.36229  202999992.0   \n",
       "1962          19892485160.712299   7756110210.11966  213500006.0   \n",
       "1963          21507447642.513199   8374175257.73075  232749998.0   \n",
       "1964          23764139321.312599  9169983885.711849  260750008.0   \n",
       "\n",
       "Country Name             Belgium             Benin      Burkina Faso  \\\n",
       "1960              11658722590.99   226195579.35701  330442817.168859   \n",
       "1961          12400145221.594999  235668222.429984   350247237.11684   \n",
       "1962            13264015675.3193   236434906.75427  379567023.340308   \n",
       "1963            14260017387.0492  253927646.475909  394040588.303477   \n",
       "1964          15960106680.673201  269818988.259263   410321618.17137   \n",
       "\n",
       "Country Name        Bangladesh      Bahamas, The  ...              Turkey  \\\n",
       "1960          4274893913.49536  169803921.568627  ...  13995067817.509199   \n",
       "1961          4817580183.60155  190098039.215686  ...    7988888888.88889   \n",
       "1962          5081413339.78635  212254901.960784  ...   8922222222.222219   \n",
       "1963          5319458351.16235  237745098.039216  ...  10355555555.555599   \n",
       "1964          5386054619.34987  266666666.666667  ...    11177777777.7778   \n",
       "\n",
       "Country Name            Uganda  Upper middle income           Uruguay  \\\n",
       "1960          423008385.744235  237934419358.274994  1242289239.20493   \n",
       "1961          441524109.014675   213309686104.86499  1547388781.43133   \n",
       "1962          449012578.616352  223871699062.670013  1710004407.22785   \n",
       "1963          516147798.742138  233328403223.054993  1539681490.78174   \n",
       "1964          589056603.773585  268629555469.804993  1975701816.46615   \n",
       "\n",
       "Country Name   United States St. Vincent and the Grenadines  \\\n",
       "1960          543300000000.0                13066557.778685   \n",
       "1961          563300000000.0                13999883.334306   \n",
       "1962          605100000000.0                14524878.959342   \n",
       "1963          638600000000.0                13708219.098174   \n",
       "1964          685800000000.0                14758210.348247   \n",
       "\n",
       "Country Name                 World        South Africa            Zambia  \\\n",
       "1960          1384628173213.669922    7575396973.02288       713000000.0   \n",
       "1961          1440342189098.709961    7972996814.14993  696285714.285714   \n",
       "1962          1545696874313.129883    8497996604.37052  693142857.142857   \n",
       "1963          1665140917215.540039   9423396234.599331  718714285.714286   \n",
       "1964          1824117368130.590088  10373995854.758699  839428571.428571   \n",
       "\n",
       "Country Name      Zimbabwe  \n",
       "1960          1052990400.0  \n",
       "1961          1096646600.0  \n",
       "1962          1117601600.0  \n",
       "1963          1159511700.0  \n",
       "1964          1217138000.0  \n",
       "\n",
       "[5 rows x 121 columns]"
      ]
     },
     "execution_count": 25,
     "metadata": {},
     "output_type": "execute_result"
    }
   ],
   "source": [
    "### ANSWER\n"
   ]
  },
  {
   "cell_type": "markdown",
   "metadata": {},
   "source": [
    "Now our dataset should be in an easier format. The next step is to examine the structure of our data.\n",
    "\n",
    "&#9989;&nbsp; **Review the following code and comment what each line is doing.**"
   ]
  },
  {
   "cell_type": "code",
   "execution_count": 26,
   "metadata": {
    "scrolled": false
   },
   "outputs": [
    {
     "name": "stdout",
     "output_type": "stream",
     "text": [
      "Index(['1960', '1961', '1962', '1963', '1964', '1965', '1966', '1967', '1968',\n",
      "       '1969', '1970', '1971', '1972', '1973', '1974', '1975', '1976', '1977',\n",
      "       '1978', '1979', '1980', '1981', '1982', '1983', '1984', '1985', '1986',\n",
      "       '1987', '1988', '1989', '1990', '1991', '1992', '1993', '1994', '1995',\n",
      "       '1996', '1997', '1998', '1999', '2000', '2001', '2002', '2003', '2004',\n",
      "       '2005', '2006', '2007', '2008', '2009', '2010', '2011', '2012', '2013',\n",
      "       '2014', '2015', '2016', '2017', '2018', '2019', '2020'],\n",
      "      dtype='object')\n",
      "<class 'str'>\n"
     ]
    }
   ],
   "source": [
    "print(gdp.index) #comment here\n",
    "\n",
    "\n",
    "print(type(gdp.index[0])) #comment here"
   ]
  },
  {
   "cell_type": "markdown",
   "metadata": {},
   "source": [
    "We can see the index column is made up of strings representing years, which isn't ideal!\n",
    "\n",
    "The code below will change the data type from strings to integers. This will be helpful for when we begin plotting because when you try to plot strings as numbers it doesn't usually work out very well!"
   ]
  },
  {
   "cell_type": "code",
   "execution_count": 27,
   "metadata": {},
   "outputs": [
    {
     "data": {
      "text/plain": [
       "Int64Index([1960, 1961, 1962, 1963, 1964, 1965, 1966, 1967, 1968, 1969, 1970,\n",
       "            1971, 1972, 1973, 1974, 1975, 1976, 1977, 1978, 1979, 1980, 1981,\n",
       "            1982, 1983, 1984, 1985, 1986, 1987, 1988, 1989, 1990, 1991, 1992,\n",
       "            1993, 1994, 1995, 1996, 1997, 1998, 1999, 2000, 2001, 2002, 2003,\n",
       "            2004, 2005, 2006, 2007, 2008, 2009, 2010, 2011, 2012, 2013, 2014,\n",
       "            2015, 2016, 2017, 2018, 2019, 2020],\n",
       "           dtype='int64')"
      ]
     },
     "execution_count": 27,
     "metadata": {},
     "output_type": "execute_result"
    }
   ],
   "source": [
    "gdp.index = gdp.index.astype(int)\n",
    "gdp.index"
   ]
  },
  {
   "cell_type": "markdown",
   "metadata": {},
   "source": [
    "### 2.2 Exploring the Data"
   ]
  },
  {
   "cell_type": "markdown",
   "metadata": {},
   "source": [
    "&#9989;&nbsp; **Now pick 2 countries and print the GDP for year 1975 using `.loc` and the column name.** Again, look back at the dataset and think about what information we are looking to retreive. What information is stored in our columns? What information is stored in our rows? "
   ]
  },
  {
   "cell_type": "code",
   "execution_count": 28,
   "metadata": {},
   "outputs": [],
   "source": [
    "# Put your code here\n"
   ]
  },
  {
   "cell_type": "code",
   "execution_count": 29,
   "metadata": {},
   "outputs": [
    {
     "name": "stdout",
     "output_type": "stream",
     "text": [
      "Canada's GDP in 1975 was:  173834029689.343\n",
      "United States GDP in 1975 was:  1684904000000.0\n"
     ]
    }
   ],
   "source": []
  },
  {
   "cell_type": "markdown",
   "metadata": {},
   "source": [
    "&#9989;&nbsp; Now, **plot those two countries GDP *in billions of dollars* from 1960-2020, make sure to have proper labels and legends.**\n"
   ]
  },
  {
   "cell_type": "code",
   "execution_count": 30,
   "metadata": {},
   "outputs": [],
   "source": [
    "# Put your plotting commands here\n"
   ]
  },
  {
   "cell_type": "code",
   "execution_count": 31,
   "metadata": {},
   "outputs": [
    {
     "data": {
      "text/plain": [
       "<matplotlib.legend.Legend at 0x7f807e033be0>"
      ]
     },
     "execution_count": 31,
     "metadata": {},
     "output_type": "execute_result"
    },
    {
     "data": {
      "image/png": "[encoded data removed]",
      "text/plain": [
       "<Figure size 432x288 with 1 Axes>"
      ]
     },
     "metadata": {
      "needs_background": "light"
     },
     "output_type": "display_data"
    }
   ],
   "source": []
  },
  {
   "cell_type": "markdown",
   "metadata": {},
   "source": [
    "&#9989;&nbsp; **Question** Is this a good way visual comparison for the two countries? If one country has a much larger GDP or much larger population than the other country what would be a better way to normalize or compare the data? This might involve doing some sort of calculation or visualizing the data differently."
   ]
  },
  {
   "cell_type": "markdown",
   "metadata": {},
   "source": [
    "<font size=+3>&#9998;</font> *Put your answer here*"
   ]
  },
  {
   "cell_type": "markdown",
   "metadata": {},
   "source": [
    "### ANSWER\n",
    "Answers could be taking GDP/Capita, or looking at GDP growth rates or changing to a different sort of plot (as hinted out below...)"
   ]
  },
  {
   "cell_type": "markdown",
   "metadata": {},
   "source": [
    "### 2.3 Exploring the log-linear plot\n",
    "\n",
    "During the COVID-19 pandemic, some of the visualizations floating around that show the numbers of confirmed cases in various places around the world have been \"log-linear\" plots which uses a logarithmic scale (tick marks indicate powers of 10) on the y-axis and a linear scale on the x-axis. Some folks have even written papers about [how these sort of plots may or may not impact how people perceive the need for confinement](https://www.ncbi.nlm.nih.gov/pmc/articles/PMC7200843/) to stop the spread of the virus.\n",
    "\n",
    "You can change the scaling of an axis using `plt.yscale('log')`.\n",
    "\n",
    "&#9989;&nbsp; Try using a log scale for the GDP in the previous plot for the two different countries to see if it facilitates a better comparison!"
   ]
  },
  {
   "cell_type": "code",
   "execution_count": 33,
   "metadata": {},
   "outputs": [],
   "source": [
    "# Try making a \"semilogy\" plot here\n"
   ]
  },
  {
   "cell_type": "code",
   "execution_count": 34,
   "metadata": {},
   "outputs": [
    {
     "data": {
      "text/plain": [
       "<matplotlib.legend.Legend at 0x7f807e107580>"
      ]
     },
     "execution_count": 34,
     "metadata": {},
     "output_type": "execute_result"
    },
    {
     "data": {
      "image/png": "[encoded data removed]",
      "text/plain": [
       "<Figure size 432x288 with 1 Axes>"
      ]
     },
     "metadata": {
      "needs_background": "light"
     },
     "output_type": "display_data"
    }
   ],
   "source": []
  },
  {
   "cell_type": "markdown",
   "metadata": {},
   "source": [
    "&#9989;&nbsp; **Question** Do you find this to be a better way to visualize the data, yes or no? Explain your reasoning!"
   ]
  },
  {
   "cell_type": "markdown",
   "metadata": {},
   "source": [
    "<font size=+3>&#9998;</font> *Put your answer here*"
   ]
  },
  {
   "cell_type": "markdown",
   "metadata": {},
   "source": [
    "### 2.4 Analyzing growth rates\n",
    "\n",
    "One way to compare GDP between different countries in a way that is unit free would be to consider the countries _growth rates_. The growth rate for a year would be equal to the **percent change** going from one year to another, defined like so:\n",
    "\n",
    "* Growth Rate in 1961 = (GDP in year 1961 - GDP in year 1960) / GDP in year 1960\n",
    "\n",
    "&#9989;&nbsp; **Lets plot two countries growth rates on the same plot over time making sure to properly label our graph.**\n",
    "\n",
    "(Pandas dataframes might have a function that can compute the percent change for you -- time to consult the internet again!)\n",
    "\n",
    "**Try using the Pandas plotting functions for this part: https://pandas.pydata.org/pandas-docs/stable/user_guide/visualization.html**\n",
    "\n"
   ]
  },
  {
   "cell_type": "code",
   "execution_count": 35,
   "metadata": {},
   "outputs": [],
   "source": [
    "# Calculate and plot the growth rates as a function of time\n"
   ]
  },
  {
   "cell_type": "code",
   "execution_count": 36,
   "metadata": {},
   "outputs": [
    {
     "data": {
      "text/plain": [
       "<matplotlib.legend.Legend at 0x7f807e35a490>"
      ]
     },
     "execution_count": 36,
     "metadata": {},
     "output_type": "execute_result"
    },
    {
     "data": {
      "image/png": "[encoded data removed]",
      "text/plain": [
       "<Figure size 576x360 with 1 Axes>"
      ]
     },
     "metadata": {
      "needs_background": "light"
     },
     "output_type": "display_data"
    }
   ],
   "source": []
  },
  {
   "cell_type": "markdown",
   "metadata": {},
   "source": [
    "&#9989;&nbsp; **Question**: Why might comparing growth rates be a better comparison for countries that have GDP's of very different magnitudes?\n"
   ]
  },
  {
   "cell_type": "markdown",
   "metadata": {},
   "source": [
    "<font size=+3>&#9998;</font> *Put your answer here*"
   ]
  },
  {
   "cell_type": "markdown",
   "metadata": {},
   "source": [
    "---"
   ]
  },
  {
   "cell_type": "markdown",
   "metadata": {},
   "source": [
    "## Time Permitting: More Data Manipulation (time permitting or if you're interested in exploring the data further on your own time!)\n",
    "### Filtering, sorting, and calculating new quantities \n",
    "\n",
    "You've been able to clean, transform, and visualize the data, but for an extra challenge let's use any time you have remaining to work on filtering and sorting your data.\n",
    "\n",
    "The below analyses are going to focus on data for individual countries for the year 2020. To get started, we're going to:\n",
    "\n",
    "1. create a new dataset for only the year 2020, and\n",
    "2. drop columns that don't correspond to individual countries"
   ]
  },
  {
   "cell_type": "code",
   "execution_count": 37,
   "metadata": {},
   "outputs": [],
   "source": [
    "gdp2020 = gdp.loc[2020]\n",
    "gdp2020 = gdp2020.drop(['World', 'High income', 'OECD members', 'Post-demographic dividend', 'IDA & IBRD total', \n",
    "                        'Low & middle income', 'Middle income', 'IBRD only', 'Upper middle income',\n",
    "                        'North America', 'Late-demographic dividend',\n",
    "                        'East Asia & Pacific (excluding high income)',\n",
    "                        'East Asia & Pacific (IDA & IBRD countries)', 'Euro area', 'Early-demographic dividend',\n",
    "                        'Lower middle income', 'Latin America & Caribbean',\n",
    "                        'Latin America & the Caribbean (IDA & IBRD countries)',\n",
    "                        'Latin America & Caribbean (excluding high income)', 'South Asia',\n",
    "                        'South Asia (IDA & IBRD)', 'IDA total', 'Fragile and conflict affected situations',\n",
    "                        'Sub-Saharan Africa', 'Sub-Saharan Africa (IDA & IBRD countries)',\n",
    "                        'Sub-Saharan Africa (excluding high income)', 'IDA only'])"
   ]
  },
  {
   "cell_type": "markdown",
   "metadata": {},
   "source": [
    "&#9989;&nbsp; **Great!  Now filter the top 10% of countries in the cleaned up data set by their 2020 GDP, print their names, and store the names in a list in ordered by their GDP ranking.**\n",
    "\n",
    "(Hint Pandas has a `quantile` function that could be useful to find the value for the 10% cut off as well as a function for sorting the values)"
   ]
  },
  {
   "cell_type": "code",
   "execution_count": 38,
   "metadata": {},
   "outputs": [],
   "source": [
    "# Put your code for finding the countries with the highest 10 GDP values and sorting them here\n"
   ]
  },
  {
   "cell_type": "code",
   "execution_count": 39,
   "metadata": {
    "scrolled": true
   },
   "outputs": [
    {
     "data": {
      "text/plain": [
       "['United States',\n",
       " 'China',\n",
       " 'United Kingdom',\n",
       " 'India',\n",
       " 'France',\n",
       " 'Italy',\n",
       " 'Canada',\n",
       " 'Korea, Rep.',\n",
       " 'Brazil',\n",
       " 'Australia']"
      ]
     },
     "execution_count": 39,
     "metadata": {},
     "output_type": "execute_result"
    }
   ],
   "source": []
  },
  {
   "cell_type": "markdown",
   "metadata": {},
   "source": [
    "&#9989;&nbsp; **Let's take a closer look at how the countries rank by plotting a horizontal bar graph of the top 10% countries GDP in billions by ranking order starting with the highest GDP.**\n",
    "\n",
    "Pandas dataframes have a horizontal bar graph function as well (`.plot.barh()`) -- isn't Pandas handy?"
   ]
  },
  {
   "cell_type": "code",
   "execution_count": 40,
   "metadata": {},
   "outputs": [],
   "source": [
    "# Make your horizonal bar graph here\n"
   ]
  },
  {
   "cell_type": "code",
   "execution_count": 41,
   "metadata": {},
   "outputs": [
    {
     "data": {
      "image/png": "[encoded data removed]",
      "text/plain": [
       "<Figure size 864x360 with 1 Axes>"
      ]
     },
     "metadata": {
      "needs_background": "light"
     },
     "output_type": "display_data"
    }
   ],
   "source": []
  },
  {
   "cell_type": "markdown",
   "metadata": {},
   "source": [
    "&#9989;&nbsp; **With Pandas, we can pull multiple columns at the same time. Using that list of the top 10% of countries, create a subset of the original GDP dataframe that has data for only the last 20 years for countries in your list of top 10%.**\n",
    "\n",
    "We can create a subset by setting a new variable to equal the subset of the Dataframe. \n",
    "\n",
    "(something like: `Subset = DataFrame[list_of_columns_headers]`)\n",
    "\n"
   ]
  },
  {
   "cell_type": "code",
   "execution_count": 42,
   "metadata": {},
   "outputs": [],
   "source": [
    "# Put your code here and create additional code cells as needed\n"
   ]
  },
  {
   "cell_type": "code",
   "execution_count": 43,
   "metadata": {
    "scrolled": true
   },
   "outputs": [
    {
     "name": "stdout",
     "output_type": "stream",
     "text": [
      "Int64Index([2000, 2001, 2002, 2003, 2004, 2005, 2006, 2007, 2008, 2009, 2010,\n",
      "            2011, 2012, 2013, 2014, 2015, 2016, 2017, 2018, 2019, 2020],\n",
      "           dtype='int64')\n"
     ]
    }
   ],
   "source": []
  },
  {
   "cell_type": "markdown",
   "metadata": {},
   "source": [
    "&#9989;&nbsp; Next, **calculate the standard deviation of GDP for each country in the subset dataframe over the last 20 years. Recreate the Horizontal Bargraph above with but using the standard deviation.**"
   ]
  },
  {
   "cell_type": "code",
   "execution_count": 44,
   "metadata": {},
   "outputs": [
    {
     "data": {
      "text/plain": [
       "Text(0.5, 0, 'Standard Deviation (Billions)')"
      ]
     },
     "execution_count": 44,
     "metadata": {},
     "output_type": "execute_result"
    },
    {
     "data": {
      "image/png": "[encoded data removed]",
      "text/plain": [
       "<Figure size 864x360 with 1 Axes>"
      ]
     },
     "metadata": {
      "needs_background": "light"
     },
     "output_type": "display_data"
    }
   ],
   "source": []
  },
  {
   "cell_type": "markdown",
   "metadata": {},
   "source": [
    "&#9989;&nbsp; **Are there similiarities between the GDP graph and the standard deviation graph? Explain why you think they look similiar and what the limitation is with using standard deviation to compare the variation of the GDP for different contries.**"
   ]
  },
  {
   "cell_type": "markdown",
   "metadata": {},
   "source": [
    "<font size=+3>&#9998;</font> *Put your answer here*"
   ]
  },
  {
   "cell_type": "markdown",
   "metadata": {},
   "source": [
    "### ANSWER\n",
    "The answer should get at larger values will have larger standard deviations so it's not a good comparison country to country, we need to normalize the data."
   ]
  },
  {
   "cell_type": "markdown",
   "metadata": {},
   "source": [
    "---"
   ]
  },
  {
   "cell_type": "markdown",
   "metadata": {},
   "source": [
    "**Let's pause and think about the following example:**"
   ]
  },
  {
   "cell_type": "code",
   "execution_count": 45,
   "metadata": {},
   "outputs": [
    {
     "name": "stdout",
     "output_type": "stream",
     "text": [
      "16.79037422652237\n",
      "839.5187113261185\n"
     ]
    }
   ],
   "source": []
  },
  {
   "cell_type": "markdown",
   "metadata": {},
   "source": [
    "The idea here is the spread between the numbers in the datasets `X` & `X2` are the same in when considered as a percentage of the total, but the standard deviation will be proportionally higher for `X2`. This means the difference between each observation and the mean from a percentage basis is the same, but because the values in `X2` are 50 times larger, the standard deviation will be 50 times larger.\n",
    "\n",
    "The take away is if we want to compare how much a countries GDP growth varies relative to another country, we want an apples to apples comparison. For example, taking the standard deviation of the United States compared to Thailand we would expect United States to have a higher standard deviation because the US GDP is much higher. When in reality, Thailand's GDP varies relatively more than the United States GDP varies.\n"
   ]
  },
  {
   "cell_type": "markdown",
   "metadata": {},
   "source": [
    "---"
   ]
  },
  {
   "cell_type": "markdown",
   "metadata": {},
   "source": [
    " "
   ]
  },
  {
   "cell_type": "markdown",
   "metadata": {},
   "source": [
    "In order to compare the variation in GDP by countries of different magnitudes we want to be looking at the change in GDP from a percentage view.\n",
    "\n",
    "&#9989;&nbsp; **Recreate the horizontal bar graph again, but this time take the standard deviation of the percent changes, or growth rates, of GDP for the last 20 years.**"
   ]
  },
  {
   "cell_type": "code",
   "execution_count": 46,
   "metadata": {},
   "outputs": [],
   "source": [
    "# Put your code here\n"
   ]
  },
  {
   "cell_type": "code",
   "execution_count": 47,
   "metadata": {
    "scrolled": true
   },
   "outputs": [
    {
     "data": {
      "text/plain": [
       "Text(0.5, 0, 'Standard Deviation (Percent)')"
      ]
     },
     "execution_count": 47,
     "metadata": {},
     "output_type": "execute_result"
    },
    {
     "data": {
      "image/png": "[encoded data removed]",
      "text/plain": [
       "<Figure size 864x360 with 1 Axes>"
      ]
     },
     "metadata": {
      "needs_background": "light"
     },
     "output_type": "display_data"
    }
   ],
   "source": []
  },
  {
   "cell_type": "markdown",
   "metadata": {},
   "source": [
    "&#9989;&nbsp; **What do you observe? Why is taking the standard deviation of growth rates a better assessment of volatility than standard deviation of normal GDP for this data?**\n",
    "\n"
   ]
  },
  {
   "cell_type": "markdown",
   "metadata": {},
   "source": [
    "<font size=+3>&#9998;</font> *Put your answer here*"
   ]
  },
  {
   "cell_type": "markdown",
   "metadata": {},
   "source": [
    "---\n"
   ]
  },
  {
   "cell_type": "markdown",
   "metadata": {},
   "source": [
    "## Congratulations, you're done!\n",
    "\n",
    "Submit this assignment by uploading your notebook to the course Desire2Learn web page.  Go to the \"In-Class Assignments\" folder, find the appropriate submission link, and upload everything there. Make sure your name is on it!"
   ]
  },
  {
   "cell_type": "markdown",
   "metadata": {},
   "source": [
    "&#169; Copyright 2021,  Michigan State University Board of Trustees"
   ]
  },
  {
   "cell_type": "code",
   "execution_count": null,
   "metadata": {},
   "outputs": [],
   "source": []
  }
 ],
 "metadata": {
  "kernelspec": {
   "display_name": "Python 3",
   "language": "python",
   "name": "python3"
  },
  "language_info": {
   "codemirror_mode": {
    "name": "ipython",
    "version": 3
   },
   "file_extension": ".py",
   "mimetype": "text/x-python",
   "name": "python",
   "nbconvert_exporter": "python",
   "pygments_lexer": "ipython3",
   "version": "3.8.8"
  }
 },
 "nbformat": 4,
 "nbformat_minor": 4
}
