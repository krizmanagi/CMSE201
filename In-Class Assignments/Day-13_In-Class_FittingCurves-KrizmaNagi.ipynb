{
 "cells": [
  {
   "cell_type": "markdown",
   "metadata": {},
   "source": [
    "# Day 13 In-Class Assignment: (Thoughtfully) fitting models to data \n",
    "---"
   ]
  },
  {
   "cell_type": "markdown",
   "metadata": {},
   "source": [
    "### <p style=\"text-align: right;\"> &#9989; Krizma Nagi</p>\n",
    "\n",
    "#### <p style=\"text-align: right;\"> &#9989; Dan Ka, Lexie, Lelouch, Oliver, Javi</p>"
   ]
  },
  {
   "cell_type": "markdown",
   "metadata": {},
   "source": [
    "In this assignment we're going to look at how we might use a meaningful model to understand data.\n",
    "\n",
    "The **learning goals** of the assignment are to:\n",
    "\n",
    "* Discuss the role that models play in our understanding of the world around us and how models can be used to make predictions.\n",
    "* Practice using the NumPy `curve_fit()` function to fit a specific model to data\n",
    "* Interpret the results of our best fit model\n",
    "* Use our best fit model to calculate new values and forecast future behavior\n",
    "\n",
    "### Assignment instructions\n",
    "\n",
    "Work with your group to complete this assignment. Instructions for submitting this assignment are at the end of the notebook. The assignment is due at the end of class."
   ]
  },
  {
   "cell_type": "markdown",
   "metadata": {},
   "source": [
    "---\n",
    "## 1. Thinking about models and how they help us understand the world around us\n",
    "\n",
    "&#9989;&nbsp; **In your groups**, take turns providing examples of previous experiences you've had that involved a model (or models) of one form other another. These can be experiences from current or prior courses (outside of CMSE 201!) or experiences from your personal life or from work.\n",
    "\n",
    "When sharing your example, **you should**:\n",
    "* Explain the real-world context of the model and what the basic components of the model are.\n",
    "* Identify and explain any assumptions that are built into the model or limitations of the model (i.e. where might the model breakdown?).\n",
    "\n",
    "For example: I have a model for how my retirement savings will grow as a function of time and I can use this model to predict how much money I will have when I retire or to understand how early I might be able to retire given the financial needs I will have during my retirement. Assumptions that are built into my retirement model include things like the health of the economy over time and how much money (if any) I might receive from social security when I retire. The accuracy of my model is only as good as the assumptions I base it off of.\n",
    "\n",
    "&#9989;&nbsp; **Record the details you shared with your group in the cell below**. There will be an opportunity to share out some of these examples as a class."
   ]
  },
  {
   "cell_type": "markdown",
   "metadata": {},
   "source": [
    "<font size=+3>&#9998;</font> *In AP Statistics, I have worked a lot with scatter plots and histograms when analyzing data given to me. I have also had to create models(pie charts, line graphs, box-and-whisker plots) as well. These were useful when visualizing data given to me, and coming up with conclusions as a result. Even though it wasn't a computational model, it was helpful in illustrating the data.*"
   ]
  },
  {
   "cell_type": "markdown",
   "metadata": {},
   "source": [
    "---\n",
    "## 2. Using Python to fit specific models to data\n",
    "\n",
    "In the section that follows, we will practice using Python to fit a model to provided data. When doing so, it is important to think about whether or not these model fits the data well and what information about the data is provided by the model we use."
   ]
  },
  {
   "cell_type": "markdown",
   "metadata": {},
   "source": [
    "### Revisiting population growth\n",
    "\n",
    "In a previous in-class assignment you created a function **based on a model** to project population growth as a function of time based on an initial population, a carry capacity, and a growth rate coefficient. Let's quickly revisit the mathematical logistic growth model for growth of a population:\n",
    "\n",
    "$$P(t) = \\frac{K}{1 + Ae^{-kt}}$$\n",
    "\n",
    "where \n",
    "\n",
    "$$A = \\frac{K-P_{init}}{P_{init}}$$\n",
    "\n",
    "The variable $K$ represents the *carrying capacity* of the population, which is the maximum population that the environment can sustain, and $k$ is the relative growth rate coefficient (the larger $k$ is, the faster the population will grow initially). $P_{init}$ is the initial value of the population at $t=0$.\n",
    "\n",
    "#### Understanding a logistic growth model\n",
    "\n",
    "Here are several logistic growth models for when the initial population, $P_{init}$, is **1 billion** but the the carrying capacity, $K$, and the growth rate coefficient, $k$, are varied.\n",
    "\n",
    "The **first** plot on the keeps $P_{init}$ and $k$ fixed while changing $K$, and the **second** plot on the keeps $P_{init}$ and $K$ fixed while changing $k$.\n",
    "\n",
    "<div align=\"center\">\n",
    "<img src=\"https://i.ibb.co/wsPX16b/population-models-big-K.png\" alt=\"population-models-big-K\" border=\"0\">\n",
    "<img src=\"https://i.ibb.co/c3sdmjf/population-models-littlek.png\" alt=\"population-models-littlek\" border=\"0\">\n",
    "</div>\n",
    "\n",
    "&#9989;&nbsp; Questions to make sure you **answer with your group**:\n",
    "1. What is the impact of $P_{init}$, the initial population, in the model? How would the curves change if you changed this value?\n",
    "1. What is the impact of $K$, the carrying capacity, in the model? How does this parameter control the shape of the curves in the plot above?\n",
    "2. What is the impact of $k$, the growth rate coefficient, in the model? How does this parameter control the shape of the curves in the plot above?\n",
    "\n",
    "Pay special attention to the values for the parameters that made these curves -- they may useful in the next part of the activity!"
   ]
  },
  {
   "cell_type": "markdown",
   "metadata": {},
   "source": [
    "<font size=+3>&#9998;</font> *The initial population has no effect on the graphs because they all start at the same point which is the value of the intital population. The curve would change in where the curve would start. The k value is the growth rate coefficient and as this value gets larger, the graphs come closer together because the rate at which they change also gets larger. The K value is the carrying capacity, and this is the cutoff for the population, the lines will not intercept past this y-value.*"
   ]
  },
  {
   "cell_type": "markdown",
   "metadata": {},
   "source": [
    "#### Can we use this model to understand some population data?\n",
    "\n",
    "In the file, `pop200.csv`, you'll find some data for 200 years of population growth for an unknown civilization.\n",
    "\n",
    "&#9989;&nbsp; Your goal is to **work with your group** to determine if the population growth model presented above is a good approximation for the data that we’ve provided you and what the best fit parameters for that model are:\n",
    "\n",
    "1. Load the data into your Jupyter notebook and make a plot of the **data alone**. Visualizing your data is always a good first step!\n",
    "2. Create function for calculating population as a function of time using the mathematical model provided above.\n",
    "    - Your function needs to take the following arguments in the following order: an array of time values; the initial population, $P_{init}$; the carrying capacity, $K$; and the growth rate coefficient, $k$.\n",
    "    - Your function needs to **return** an array of the population values.\n",
    "    - For reference, here is the mathematical representation of the function again:\n",
    "    $$P(t) = \\frac{K}{1 + Ae^{-kt}}$$\n",
    "\n",
    "    where \n",
    "\n",
    "    $$A = \\frac{K-P_{init}}{P_{init}}$$\n",
    "3. Use SciPy's [`curve_fit()`](https://docs.scipy.org/doc/scipy/reference/generated/scipy.optimize.curve_fit.html) function to determine a best fit set of model parameters using your function and the provided data.\n",
    "    - When you first try running `curve_fit()`, you might get a warning and you might get results that don't make sense. Sometimes `curve_fit()` will fail to find a good fit if the initial guess for the best fit parameters is too far off. How would you fix this? Look at the [documentation for `curve_fit`](https://docs.scipy.org/doc/scipy/reference/generated/scipy.optimize.curve_fit.html), especially the `p0` argument, and see if you and your group can figure out how to overcome this issue. What might be reasonable starting guesses for the initial populuation and the carrying capacity? **Hint**: revisit the plot from above and the parameters that were used to make those models.\n",
    "4. Make a plot of the data as well as a expected values based on your best fit model parameters.\n",
    "    - Your plot should plot population (in billions) on the y-axis and time (in years) on the x-axis. Make sure you include appropriate axis labels.\n",
    "    - Your plot should use a legend to identify what parts of the plot constitute the data and what part represents the expected values from your model."
   ]
  },
  {
   "cell_type": "code",
   "execution_count": 13,
   "metadata": {},
   "outputs": [],
   "source": [
    "import numpy as np\n",
    "import matplotlib.pyplot as plt\n",
    "import pandas as pd\n",
    "import math\n",
    "from scipy.optimize import curve_fit\n",
    "\n",
    "pop200 = pd.read_csv('pop200.csv')\n",
    "pop300 = pd.read_csv('pop300.csv')"
   ]
  },
  {
   "cell_type": "code",
   "execution_count": 2,
   "metadata": {},
   "outputs": [
    {
     "data": {
      "image/png": "[encoded data removed]",
      "text/plain": [
       "<Figure size 432x288 with 1 Axes>"
      ]
     },
     "metadata": {
      "needs_background": "light"
     },
     "output_type": "display_data"
    }
   ],
   "source": [
    "plt.scatter(pop200['time'],pop200['population'])\n",
    "plt.xlabel('Time')\n",
    "plt.ylabel('Population (billions)')\n",
    "plt.title('Population over 200 Years')\n",
    "plt.grid()"
   ]
  },
  {
   "cell_type": "code",
   "execution_count": 10,
   "metadata": {},
   "outputs": [],
   "source": [
    "def pop(t,P,K,k):\n",
    "    A = (K-P)/P\n",
    "    pop_vals  = K/(1+A*(np.e)**(-k*t))\n",
    "    return pop_vals"
   ]
  },
  {
   "cell_type": "code",
   "execution_count": 18,
   "metadata": {},
   "outputs": [
    {
     "data": {
      "text/plain": [
       "array([1.05555918e+09, 1.15288949e+10, 1.99605363e-02])"
      ]
     },
     "execution_count": 18,
     "metadata": {},
     "output_type": "execute_result"
    }
   ],
   "source": [
    "parameters,pcov=curve_fit(pop,pop200['time'],pop200['population'],p0=[1e9,1e10,0.025])\n",
    "parameters"
   ]
  },
  {
   "cell_type": "code",
   "execution_count": 12,
   "metadata": {},
   "outputs": [
    {
     "data": {
      "image/png": "[encoded data removed]",
      "text/plain": [
       "<Figure size 432x288 with 1 Axes>"
      ]
     },
     "metadata": {
      "needs_background": "light"
     },
     "output_type": "display_data"
    }
   ],
   "source": [
    "p1 = parameters[0]\n",
    "p2 = parameters[1]\n",
    "p3 = parameters[2]\n",
    "\n",
    "pop_fit = pop(pop200['time'], p1,p2,p3)\n",
    "\n",
    "plt.scatter(pop200['time'], pop200['population'], label='data')\n",
    "\n",
    "plt.plot(pop200['time'], pop_fit, color = \"orange\", label = \"fit\")\n",
    "\n",
    "plt.legend()\n",
    "plt.xlabel('x')\n",
    "plt.ylabel('y')\n",
    "plt.show()"
   ]
  },
  {
   "cell_type": "markdown",
   "metadata": {},
   "source": [
    "#### Interpreting your results and using your model to calculate expected values.\n",
    "\n",
    "&#9989;&nbsp; Now that you've modeled the data using your logistic growth model, use your results to answers the following questions.\n",
    "\n",
    "1. What does your model estimate as being the initial population for this civilization?\n",
    "2. What does your model estimate as being the carry capacity of the population?\n",
    "3. Using your model and the best fit parameters, calculate the expected population for this civilization at:\n",
    "    - 177 years\n",
    "    - 256 years\n",
    "\n",
    "Ask your group for help if you're not sure how to find these answers.\n",
    "\n"
   ]
  },
  {
   "cell_type": "markdown",
   "metadata": {},
   "source": [
    "<font size=+3>&#9998;</font> *The initial population is 1 billion. The carrying capacity is estimated at 12 billion. The population at 177 years is about 9 billion, and the population at 256 years would about 12 billion.*"
   ]
  },
  {
   "cell_type": "markdown",
   "metadata": {},
   "source": [
    "#### Using your model to forecast future values\n",
    "\n",
    "&#9989;&nbsp; Using your model and the best-fit parameters, generate a new plot that shows the expected values for **every year for the first 300 years** of the civilization. Overplot the data you have for the first 200 years of growth.\n",
    "\n",
    "\n"
   ]
  },
  {
   "cell_type": "code",
   "execution_count": 14,
   "metadata": {},
   "outputs": [
    {
     "data": {
      "image/png": "[encoded data removed]",
      "text/plain": [
       "<Figure size 432x288 with 1 Axes>"
      ]
     },
     "metadata": {
      "needs_background": "light"
     },
     "output_type": "display_data"
    }
   ],
   "source": [
    "p1 = parameters[0]\n",
    "p2 = parameters[1]\n",
    "p3 = parameters[2]\n",
    "\n",
    "pop_fit = pop(pop300['time'], p1,p2,p3)\n",
    "\n",
    "plt.scatter(pop200['time'], pop200['population'], label='data')\n",
    "\n",
    "plt.plot(pop300['time'], pop_fit, color = \"orange\", label = \"fit\")\n",
    "\n",
    "plt.legend()\n",
    "plt.xlabel('x')\n",
    "plt.ylabel('y')\n",
    "plt.show()"
   ]
  },
  {
   "cell_type": "markdown",
   "metadata": {},
   "source": [
    "#### Comparing forecasted values to new data\n",
    "\n",
    "&#9989;&nbsp; Now that you've predicted the growth of the population for a full 300 years, grab the `pop300.csv` data file which contains the most recent data available for this civilization, read it into your notebook and plot it along with your expected values."
   ]
  },
  {
   "cell_type": "code",
   "execution_count": 16,
   "metadata": {},
   "outputs": [
    {
     "data": {
      "image/png": "[encoded data removed]",
      "text/plain": [
       "<Figure size 432x288 with 1 Axes>"
      ]
     },
     "metadata": {
      "needs_background": "light"
     },
     "output_type": "display_data"
    }
   ],
   "source": [
    "p1 = parameters[0]\n",
    "p2 = parameters[1]\n",
    "p3 = parameters[2]\n",
    "\n",
    "pop_fit = pop(pop300['time'], p1,p2,p3)\n",
    "\n",
    "plt.scatter(pop300['time'], pop300['population'], label='data')\n",
    "\n",
    "plt.plot(pop300['time'], pop_fit, color = \"orange\", label = \"fit\")\n",
    "\n",
    "plt.legend()\n",
    "plt.xlabel('Time')\n",
    "plt.ylabel('Population (billions)')\n",
    "plt.title('Population at 300 years')\n",
    "plt.show()"
   ]
  },
  {
   "cell_type": "markdown",
   "metadata": {},
   "source": [
    "&#9989;&nbsp; **Question**: Do you still feel like the model is a good fit to the population data for this civilization? Explain why or why not. Are their any parameters of your model that seem particularly inaccurate given the new data?"
   ]
  },
  {
   "cell_type": "markdown",
   "metadata": {},
   "source": [
    "<font size=+3>&#9998;</font> The model is a very good fit for the popoulation in the 300 year data because it very closely follows the trend of the data given in the csv file."
   ]
  },
  {
   "cell_type": "markdown",
   "metadata": {},
   "source": [
    "#### Updating your model based on new data\n",
    "\n",
    "Regardless of whether or not you think your current model is a good fit to the data, it's always worth checking to see if the new data provides a different set of best fit parameters. Folks who build and use models to understand the world around them are constantly using new data to revise and improve their models.\n",
    "\n",
    "&#9989;&nbsp; Try recalibrating your best fit parameters by running `curve_fit` on the new data you've been provided. Then answer the following questions:\n",
    "1. Which parameter(s) changed the most when you re-fit your model to the data?\n",
    "2. Do any shifts you find in the parameter values agree with your \"by eye\" assessment of how well the model fit the data? Explain why or why not."
   ]
  },
  {
   "cell_type": "code",
   "execution_count": 19,
   "metadata": {},
   "outputs": [
    {
     "data": {
      "text/plain": [
       "array([1.10136959e+09, 1.19986491e+10, 1.91181300e-02])"
      ]
     },
     "execution_count": 19,
     "metadata": {},
     "output_type": "execute_result"
    }
   ],
   "source": [
    "parameters1,pcov=curve_fit(pop,pop300['time'],pop300['population'],p0=[1e9,1e10,0.025])\n",
    "parameters1"
   ]
  },
  {
   "cell_type": "markdown",
   "metadata": {},
   "source": [
    "<font size=+3>&#9998;</font> All of the parameters changed a little bit, but there is not drastic change."
   ]
  },
  {
   "cell_type": "markdown",
   "metadata": {},
   "source": [
    "&#9989;&nbsp; Now that you have a new set of best fit parameters, make one final plot that shows the true glory of your expected model values along with the full set of data."
   ]
  },
  {
   "cell_type": "code",
   "execution_count": 20,
   "metadata": {},
   "outputs": [
    {
     "data": {
      "image/png": "[encoded data removed]",
      "text/plain": [
       "<Figure size 432x288 with 1 Axes>"
      ]
     },
     "metadata": {
      "needs_background": "light"
     },
     "output_type": "display_data"
    }
   ],
   "source": [
    "p1 = parameters1[0]\n",
    "p2 = parameters1[1]\n",
    "p3 = parameters1[2]\n",
    "\n",
    "pop_fit_1 = pop(pop300['time'], p1,p2,p3)\n",
    "\n",
    "plt.scatter(pop300['time'], pop300['population'], label='data')\n",
    "\n",
    "plt.plot(pop300['time'], pop_fit, color = \"orange\", label = \"fit\")\n",
    "\n",
    "plt.legend()\n",
    "plt.xlabel('x')\n",
    "plt.ylabel('y')\n",
    "plt.show()"
   ]
  },
  {
   "cell_type": "markdown",
   "metadata": {},
   "source": [
    "---"
   ]
  },
  {
   "cell_type": "markdown",
   "metadata": {},
   "source": [
    "## Congratulations, you're done!\n",
    "\n",
    "Submit this assignment by uploading your notebook to the course Desire2Learn web page.  Go to the \"In-Class Assignments\" folder, find the appropriate submission link, and upload everything there. Make sure your name is on it!"
   ]
  },
  {
   "cell_type": "markdown",
   "metadata": {},
   "source": [
    "&#169; Copyright 2021,  [Department of Computational Mathematics, Science and Engineering](https://cmse.msu.edu) at Michigan State University."
   ]
  },
  {
   "cell_type": "code",
   "execution_count": null,
   "metadata": {},
   "outputs": [],
   "source": []
  }
 ],
 "metadata": {
  "kernelspec": {
   "display_name": "Python 3",
   "language": "python",
   "name": "python3"
  },
  "language_info": {
   "codemirror_mode": {
    "name": "ipython",
    "version": 3
   },
   "file_extension": ".py",
   "mimetype": "text/x-python",
   "name": "python",
   "nbconvert_exporter": "python",
   "pygments_lexer": "ipython3",
   "version": "3.8.8"
  }
 },
 "nbformat": 4,
 "nbformat_minor": 4
}
