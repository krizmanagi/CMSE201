{
 "cells": [
  {
   "cell_type": "markdown",
   "metadata": {},
   "source": [
    "# Day 3 In-class Assignment: The power of compound interest\n",
    "\n",
    "![Snowballs](https://www.financialsuccess.iastate.edu/blog/wp-content/uploads/2020/09/bank-getty.jpg)\n",
    "\n"
   ]
  },
  {
   "cell_type": "markdown",
   "metadata": {},
   "source": [
    "### <p style=\"text-align: right;\"> &#9989; Krizma Nagi\n",
    "<p style=\"text-align: right;\"> &#9989; Lexie, Logan, Brett, Grant, Javi"
   ]
  },
  {
   "cell_type": "markdown",
   "metadata": {},
   "source": [
    "## Learning Goals:\n",
    "\n",
    "By the end of this assignment you should be able to:\n",
    "\n",
    "* Use Python lists to store values\n",
    "* Use loops to iterate over a specified range or until a condition is met.\n",
    "* Compute the best retirement savings plan.\n"
   ]
  },
  {
   "cell_type": "markdown",
   "metadata": {},
   "source": [
    "---\n",
    "## The Problem\n",
    "\n",
    "You are working for a bank, writing code to calculate the revenue and expenses for the company. A person can deposit money in a retirement account at your bank, and the bank pays interest every year on the money in the retirement account. The mathematical expression for calculating the amount of money in the retirement account every year is:\n",
    "\n",
    "$\\mathrm{New~Retirement~Total} = (\\mathrm{Old~Retirement~Total})*(\\mathrm{Interest~Rate}) + (\\mathrm{Money~Added~to~Retirement})$\n",
    "\n",
    "\n",
    "**Your job is to write a piece of code that calculates and stores (in a list) the total amount of money in the retirement account *every year* for some number of years** (your boss is going to make a plot of it, so make sure you have the value for each year!). \n",
    "\n",
    "Your boss tells you to model the total retirement savings for a ***range*** of different parameters (*e.g.* interest rates and annual contributions).\n",
    "\n",
    "**You can assume that the person saving for retirement starts when they're 18 and continues until they're 65. Also assume that the interest rate and annual contributions are fixed.**"
   ]
  },
  {
   "cell_type": "markdown",
   "metadata": {},
   "source": [
    "---\n",
    "## 1. Planning your solution and pseudo-coding\n",
    "\n",
    "Before you start writing any code you should come up with a plan for how you've going to solve the problem. During this phase you should identify and define the variables that are revelant to the problem, the equations you're going to need to model, the overall structure of the program that you will write, and how you will make sure the code is running correctly.\n",
    "\n",
    "You and your group members are expected to **use your whiteboard.** Part of this planning process should involve writing \"**pseudo-code**\", a plain language description of the steps in your code (like an outline).\n",
    "\n",
    "Things you should decide on during your planning and psuedo-coding:\n",
    "\n",
    "1. What quantities in your model are \"variables\" that will change as a function of time? What are the initial values of these variables?\n",
    "2. What quantities in your model are \"parameters\" that are constant over time? What are reasonable ranges for each parameter? \n",
    "4. How will you go about solving this problem for a given set of inputs?\n",
    "5. How will you check to make sure your code is running correctly. \n",
    "\n",
    "\n",
    "You should be able to justify your choices.\n",
    "\n",
    "### &#9989;&nbsp; 1.1 Record the details of you plan in the Markdown cell below."
   ]
  },
  {
   "cell_type": "markdown",
   "metadata": {},
   "source": [
    "- The interest rate and annual contrabutions stay constant and the interst rate starts at 0.065. The old and new retirement totals will change as a function of time, and the both start at a value of 0. The annual constrabutions value is $5000. \n",
    "\n",
    "- Pseudocode: We need to initialize the variables and then append the equation. we also need to store the values that are calculated a s a result of our code. Lastly, use these values for further calculations. Debug code after writing it, and then make sure it runs in efficient time. The plan is to use a while loop where the parameters are above the age of 18 and less than 65. "
   ]
  },
  {
   "cell_type": "markdown",
   "metadata": {},
   "source": [
    "---\n",
    "## 2. Coding up your solution\n",
    "\n",
    "Now that you and your group have come up with a plan for your code, it's time to put your plan into action.\n",
    "\n",
    "### &#9989;&nbsp; 2.1 Writing Code\n",
    "**Write your code for calculating the total retirement savings in the cell below. Start by writing code for a single set of parameter values (I.e., not a range).** It is simpler, and you can also add to it later.\n",
    "\n",
    "**Hint: Remember to update the value of $\\mathrm{Old~Retirement~Total}$ in your loop!**"
   ]
  },
  {
   "cell_type": "code",
   "execution_count": 14,
   "metadata": {},
   "outputs": [
    {
     "name": "stdout",
     "output_type": "stream",
     "text": [
      "[5000.0, 10325.0, 15996.125, 22035.873125, 28468.204878124998, 35318.63819520312, 42614.349677891325, 50384.28240695426, 58659.26076340629, 67472.11271302769, 76857.80003937449, 86853.55704193382, 97499.03824965951, 108836.47573588738, 120910.84665872005, 133770.05169153685, 147465.10505148672, 162050.33687983334, 177583.60877702248, 194126.54334752893, 211744.7686651183, 230508.17862835096, 250491.21023919375, 271773.1389047413, 294438.3929335495, 318576.8884742302, 344284.38622505515, 371662.8713296837, 400820.9579661131, 431874.32023391046, 464946.1510491146, 500167.65086730703, 537678.548173682, 577627.6538049713, 620173.4513022944, 665484.7256369435, 713741.2328033447, 765134.4129355621, 819868.1497763735, 878159.5795118378, 940239.9521801072, 1006355.5490718142, 1076768.659761482, 1151758.6226459781, 1231622.9331179666, 1316678.4237706345, 1407262.5213157255, 1503734.5852012476]\n"
     ]
    }
   ],
   "source": [
    "# Put your code for calculating the total amount of retirement savings here\n",
    "int_rate = 0.065\n",
    "annual_cost = 5000\n",
    "new_total = [0] * 48\n",
    "new_total[0] = 5000\n",
    " \n",
    "age = 17\n",
    "i=0\n",
    "\n",
    "while age < 65:\n",
    "    age += 1\n",
    "    new_total[i] = new_total[i-1] * (1 + int_rate) + annual_cost\n",
    "    i += 1\n",
    "print(new_total)"
   ]
  },
  {
   "cell_type": "markdown",
   "metadata": {},
   "source": [
    "---\n",
    "### &#128721; STOP\n",
    "\n",
    "**Check to make sure your code is working correctly.**"
   ]
  },
  {
   "cell_type": "code",
   "execution_count": null,
   "metadata": {},
   "outputs": [],
   "source": [
    "# If your method for checking your results involves writing code, put it here"
   ]
  },
  {
   "cell_type": "markdown",
   "metadata": {},
   "source": [
    "*Explain how you know your code is working correctly.*"
   ]
  },
  {
   "cell_type": "markdown",
   "metadata": {},
   "source": [
    "After running the code, it prints values starting at 5000 and keeps increasing, therefore, I can assume that the code is running properly. "
   ]
  },
  {
   "cell_type": "markdown",
   "metadata": {},
   "source": [
    "## 3. Coding up your solution (Range of Values)\n",
    "\n",
    "### &#9989;&nbsp; 3.1 Putting in a Range of Values\n",
    "**Take the code you wrote in Part 2 and expand on it so that you can calculate total retirement savings for a range of different input parameters.**"
   ]
  },
  {
   "cell_type": "code",
   "execution_count": 18,
   "metadata": {},
   "outputs": [
    {
     "name": "stdout",
     "output_type": "stream",
     "text": [
      "[5000.0, 10225.0, 15685.125, 21390.955625, 27353.548628124998, 33584.45831639062, 40095.7589406282, 46900.06809295646, 54010.5711571395, 61441.04685921077, 69205.89396787525, 77320.15919642964, 85799.56636026896, 94660.54684648105, 103920.27145457269, 113596.68367002846, 123708.53443517974, 134275.41848476283, 145317.81231657715, 156857.11387082312, 168915.68399501016, 181516.8897747856, 194685.14981465094, 208445.98155631023, 222826.05072634417, 237853.22300902964, 253556.61804443595, 269966.66585643555, 287115.16581997514, 305035.348281874, 323761.9389545583, 343331.22620751336, 363781.1313868514, 385151.28229925974, 407483.0900027264, 430819.8290528491, 455206.72136022727, 480691.02382143744, 507322.1198934021, 535151.6152886051, 564233.4379765923, 594623.9426855389, 626382.0201063881, 659569.2110111755, 694249.8255066784, 730491.067654479, 768363.1656989304, 807939.5081553822]\n"
     ]
    }
   ],
   "source": [
    "int_rate = 0.045\n",
    "annual_cost = 5000\n",
    "new_total = [0] * 48\n",
    "new_total[0] = 5000\n",
    " \n",
    "age = 17\n",
    "i=0\n",
    "\n",
    "while age < 65:\n",
    "    age += 1\n",
    "    new_total[i] = new_total[i-1] * (1 + int_rate) + annual_cost\n",
    "    i += 1\n",
    "print(new_total)"
   ]
  },
  {
   "cell_type": "markdown",
   "metadata": {},
   "source": [
    "## 4. Bringing in new customers\n",
    "\n",
    "Your boss says the bank is trying to attract customers that don't start saving for retirement until later in life, and they're trying to find a good way to do this. You suggest offering **double the usual interest rate** for people that don't start saving until they're 30. \n",
    "\n",
    "Your boss likes the idea and wants you to run the numbers. \n",
    "\n",
    "### &#9989;&nbsp; 4.1 Answering your Boss' Question, Code\n",
    "**Who would end up with more money saved: someone that starts saving at 18 with a normal interest rate, or someone that starts saving at 30 with double the interest rate?**"
   ]
  },
  {
   "cell_type": "code",
   "execution_count": 21,
   "metadata": {},
   "outputs": [
    {
     "name": "stdout",
     "output_type": "stream",
     "text": [
      "[6500.0, 13845.0, 22144.85, 31523.680499999995, 42121.75896499999, 54097.58763044999, 67630.27402240848, 82922.20964532158, 100202.09689921337, 119728.3694961111, 141793.05753060553, 166726.15500958424, 194900.55516083018, 226737.62733173807, 262713.518884864, 303366.2763398963, 349303.8922640828, 401213.39825841354, 459871.14003200724, 526154.3882361681, 601054.4587068699, 685691.5383387628, 781331.438322802, 889404.5253047661, 1011527.1135943857, 1149525.6383616556, 1305463.9713486708, 1481674.2876239978, 1680791.9450151173, 1905794.8978670824, 2160048.234589803, 2447354.5050864774, 2772010.590747719, 3138871.967544922, 3553425.3233257616, 4021870.61535811]\n"
     ]
    }
   ],
   "source": [
    "age = 29\n",
    "i=0\n",
    "\n",
    "int_rate = 0.13\n",
    "annual_cost = 6500\n",
    "new_total = [0] * 36\n",
    "new_total[0] = 5000\n",
    "\n",
    "while age < 65:\n",
    "    age += 1\n",
    "    new_total[i] = new_total[i-1] * (1 + int_rate) + annual_cost\n",
    "    i += 1\n",
    "print(new_total)"
   ]
  },
  {
   "cell_type": "code",
   "execution_count": 20,
   "metadata": {},
   "outputs": [
    {
     "name": "stdout",
     "output_type": "stream",
     "text": [
      "[3500.0, 7311.5, 11462.2235, 15982.3613915, 20904.7915553435, 26265.318003769073, 32102.931306104518, 38460.092192347816, 45383.04039746677, 52922.13099284131, 61132.200651204184, 70072.96650916136, 79809.46052847672, 90412.50251551114, 101959.21523939162, 114533.58539569748, 128227.07449591455, 143139.28412605094, 159378.68041326947, 177063.38297005044, 196322.02405438494, 217294.68419522519, 240133.91108860023, 265005.82917548565, 292091.34797210386, 321587.4779416211, 353708.7634784254, 388688.84342800523, 426782.15049309767, 468265.76188698335, 513441.41469492484, 562637.7006027731, 616212.4559564199, 674555.3645365413, 738090.7919802935, 807280.8724665396, 882628.8701160616, 964682.8395563911, 1054039.6122769099, 1151349.1377695547, 1257319.211031045, 1372720.620812808, 1498392.7560651477, 1635249.7113549458, 1784286.935665536, 1946588.4729397686, 2123334.847031408, 2315811.648417203]\n"
     ]
    }
   ],
   "source": [
    "int_rate = 0.089\n",
    "annual_cost = 3500\n",
    "new_total = [0] * 48\n",
    "new_total[0] = 5000\n",
    " \n",
    "age = 17\n",
    "i=0\n",
    "\n",
    "while age < 65:\n",
    "    age += 1\n",
    "    new_total[i] = new_total[i-1] * (1 + int_rate) + annual_cost\n",
    "    i += 1\n",
    "print(new_total)"
   ]
  },
  {
   "cell_type": "markdown",
   "metadata": {},
   "source": [
    "### &#9989;&nbsp; 4.2 Answering your Boss' Question, Answer\n",
    "\n",
    "**Who would end up saving more money for retirement?**"
   ]
  },
  {
   "cell_type": "markdown",
   "metadata": {},
   "source": [
    "You can save more money when you start saving at 30 years old with double the interest rate than when you are starting to save as an 18 year old . "
   ]
  },
  {
   "cell_type": "markdown",
   "metadata": {},
   "source": [
    "## Congratulations, you're done!\n",
    "\n",
    "Submit this assignment by uploading it to the course Desire2Learn web page.  Go to the \"In-class assignments\" folder, find the appropriate submission link, and upload it there.\n",
    "\n",
    "See you next class!"
   ]
  },
  {
   "cell_type": "markdown",
   "metadata": {},
   "source": [
    "&#169; Copyright 2021,  Michigan State University Board of Trustees"
   ]
  },
  {
   "cell_type": "code",
   "execution_count": null,
   "metadata": {},
   "outputs": [],
   "source": []
  }
 ],
 "metadata": {
  "kernelspec": {
   "display_name": "Python 3",
   "language": "python",
   "name": "python3"
  },
  "language_info": {
   "codemirror_mode": {
    "name": "ipython",
    "version": 3
   },
   "file_extension": ".py",
   "mimetype": "text/x-python",
   "name": "python",
   "nbconvert_exporter": "python",
   "pygments_lexer": "ipython3",
   "version": "3.8.8"
  }
 },
 "nbformat": 4,
 "nbformat_minor": 4
}
