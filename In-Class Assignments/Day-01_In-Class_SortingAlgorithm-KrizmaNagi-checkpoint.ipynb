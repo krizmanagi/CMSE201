{
 "cells": [
  {
   "cell_type": "markdown",
   "metadata": {},
   "source": [
    "# Day 1 In-Class Assignment\n",
    "<img src=\"https://cmse.msu.edu/sites/_cmse/assets/Image/image001.png\" width=400px>"
   ]
  },
  {
   "cell_type": "markdown",
   "metadata": {},
   "source": [
    "## 🛑 If you are viewing this on the course website it will not be editable.  Download it as an `.ipynb` file using the link on the top right and then open using Jupyter! 🛑"
   ]
  },
  {
   "cell_type": "markdown",
   "metadata": {},
   "source": [
    "  ### <p style=\"text-align: right;\"> &#9989; **Krizma Nagi** </p>"
   ]
  },
  {
   "cell_type": "markdown",
   "metadata": {},
   "source": [
    "## Goals for today's in-class assignment\n",
    "\n",
    "* Get comfortable with the course website\n",
    "* Pratice how to use a Jupyter notebook \n",
    "* Get to know your fellow students\n",
    "* Start thinking about algorithm design"
   ]
  },
  {
   "cell_type": "markdown",
   "metadata": {},
   "source": [
    "## The course website and Jupyter"
   ]
  },
  {
   "cell_type": "markdown",
   "metadata": {},
   "source": [
    "If you have followed the Software Setup Guide (available on the course website and D2L) then you are well on your way to opening and interacting with Jupyter notebooks. You might have figured this out and are reading this in Jupyter already!  If that is the case you can skip this step.\n",
    "\n",
    "**Step 1: Open Jupyter in your web browser.**  On a Mac, open the Terminal and type `jupyter notebook`.  In Windows, open the cmd window and type `jupyter notebook`. Jupyter should open in your web browser.\n",
    "\n",
    "**Step 2: Select this notebook and open it.** You will probably find this in your Downloads folder, unless you put it someplace else.  "
   ]
  },
  {
   "cell_type": "markdown",
   "metadata": {},
   "source": [
    "**That's all!** If you have opened this in Jupyter you should be able to interact with the cells in this notebook, including running the Python cells below.  The second cell below has a YouTube video on Anaconda and the Jupyter program.  Some of this information has since been updated (***e.g. our notebooks aren't found on D2L but on the [class website](https://msu-cmse-courses.github.io/cmse201-F21-jb)***), but we include the video here for your reference. \n",
    "\n",
    "**To make notebook cells that have Python code in them do something, hold down the 'shift' key and then press the 'enter' key.** You'll have to do this to get the YouTube videos to run."
   ]
  },
  {
   "cell_type": "code",
   "execution_count": null,
   "metadata": {},
   "outputs": [],
   "source": [
    "# Imports the functionality that we need to display YouTube videos in a Jupyter Notebook.  \n",
    "# You need to run this cell before you run ANY of the YouTube videos.\n",
    "\n",
    "from IPython.display import YouTubeVideo  "
   ]
  },
  {
   "cell_type": "code",
   "execution_count": null,
   "metadata": {},
   "outputs": [],
   "source": [
    "# Video on Modules in Python\n",
    "\n",
    "YouTubeVideo(\"5WSQnGmz3IA\",width=640,height=360)  "
   ]
  },
  {
   "cell_type": "markdown",
   "metadata": {},
   "source": [
    "If for some reason, the YouTube video will not work for you or you are unable to access Youtube in your location, you can try this link as a backup option: https://mediaspace.msu.edu/media/t/0_hkqjufix"
   ]
  },
  {
   "cell_type": "markdown",
   "metadata": {},
   "source": [
    "---\n",
    "# Introductions!\n",
    "\n",
    "### Take a moment to introduce yourself to the people in your group!\n",
    "\n",
    "Introduce yourself to the other students in your group. During your introductions, make sure to let each other know:\n",
    "\n",
    "* your name\n",
    "* your major\n",
    "* the most boring fact you can think of about yourself\n",
    "\n",
    "**Make sure you listen to each other when doing the introductions as this is your first opportunity to start to get to know your classmates!**"
   ]
  },
  {
   "cell_type": "markdown",
   "metadata": {},
   "source": [
    "<font size=6 color=\"#009600\">&#9998;</font> *Put the names of our groups members here.*  (reminder: double-click on this cell to go into \"edit mode\" and then hit shift+enter when you're done)*\n",
    "\n",
    "Lexi\n",
    "\n",
    "Delaney\n",
    "\n",
    "Alex\n",
    "\n",
    "Anne\n",
    "\n",
    "Mikayla\n",
    "...\n"
   ]
  },
  {
   "cell_type": "markdown",
   "metadata": {},
   "source": [
    "---\n",
    "# Background information on algorithms\n",
    "\n",
    "This video contains information about what an algorithm is and how they can be used.  We'll watch this as a class before today's in-class activity."
   ]
  },
  {
   "cell_type": "code",
   "execution_count": 1,
   "metadata": {},
   "outputs": [
    {
     "ename": "NameError",
     "evalue": "name 'YouTubeVideo' is not defined",
     "output_type": "error",
     "traceback": [
      "\u001b[1;31m---------------------------------------------------------------------------\u001b[0m",
      "\u001b[1;31mNameError\u001b[0m                                 Traceback (most recent call last)",
      "\u001b[1;32m<ipython-input-1-bc1f7d815d2a>\u001b[0m in \u001b[0;36m<module>\u001b[1;34m\u001b[0m\n\u001b[0;32m      2\u001b[0m \u001b[1;31m# Watch it in full-screen mode if it's too small for you.\u001b[0m\u001b[1;33m\u001b[0m\u001b[1;33m\u001b[0m\u001b[1;33m\u001b[0m\u001b[0m\n\u001b[0;32m      3\u001b[0m \u001b[1;33m\u001b[0m\u001b[0m\n\u001b[1;32m----> 4\u001b[1;33m \u001b[0mYouTubeVideo\u001b[0m\u001b[1;33m(\u001b[0m\u001b[1;34m\"jT0KZ849fak\"\u001b[0m\u001b[1;33m,\u001b[0m\u001b[0mwidth\u001b[0m\u001b[1;33m=\u001b[0m\u001b[1;36m640\u001b[0m\u001b[1;33m,\u001b[0m\u001b[0mheight\u001b[0m\u001b[1;33m=\u001b[0m\u001b[1;36m360\u001b[0m\u001b[1;33m)\u001b[0m\u001b[1;33m\u001b[0m\u001b[1;33m\u001b[0m\u001b[0m\n\u001b[0m",
      "\u001b[1;31mNameError\u001b[0m: name 'YouTubeVideo' is not defined"
     ]
    }
   ],
   "source": [
    "# Video on Algorithms and Programs\n",
    "# Watch it in full-screen mode if it's too small for you.\n",
    "\n",
    "YouTubeVideo(\"jT0KZ849fak\",width=640,height=360)  "
   ]
  },
  {
   "cell_type": "markdown",
   "metadata": {},
   "source": [
    "Here is the Mediaspace link if the YouTube link is not working: https://mediaspace.msu.edu/media/1_b20az67d"
   ]
  },
  {
   "cell_type": "markdown",
   "metadata": {},
   "source": [
    "---\n",
    "# Today's activity:  Sorting algorithms\n",
    "\n",
    "**The goal: Design an algorithm that sorts a group of people by their birthday (Jan 1st to Dec 31st). The catch is that it can only ask the people yes-or-no questions.**\n",
    "\n",
    "Details:\n",
    "* The \"input\" to this algorithm is a set of people, in a given (random) order.\n",
    "\n",
    "* The \"output\" of this algorithm is the same set of people, but arranged by birthday.\n",
    "\n",
    "* The algorithm can change the order of people in the list and can ask for information, but each person can only respond \"yes\" or \"no\".  \n",
    "\n",
    "Examples: \n",
    "\n",
    "* \"Were you born in July?\"\n",
    "\n",
    "* \"Were you born on February 2nd?\"\n",
    "\n",
    "### 1) Your group will have **10-15** minutes to collectively design your algorithm.  \n",
    "**Use your whiteboard to plan out your algorithm.**\n",
    "   \n",
    "**Write your algorithm in words in the box below:**"
   ]
  },
  {
   "cell_type": "markdown",
   "metadata": {},
   "source": [
    "1. Is your birthday during January, Febrary, or March?\n",
    "    -if no, ask for other month ranges (questions 2, 3, 4)\n",
    "    -if yes, ask for each month\n",
    "        - i yes, ask for date range (1st-10th, 11-20th, 21-31st)\n",
    "        - if yes, ask each date until correct date\n",
    "2. Is your birthday during April, May, or June?\n",
    "    - if no, ask for other month ranges (questions 3, 4)\n",
    "        - if yes repeat steps 4 & 5\n",
    "3. Is your birthday during July, August, or September?\n",
    "    - if no, ask for other month ranges (question 4)\n",
    "        - if yes, repeat steps 4 & 5\n",
    "4. Is your birthay during October, November, or December?\n",
    "    - if yes, repeat steps 4 & 5"
   ]
  },
  {
   "cell_type": "markdown",
   "metadata": {},
   "source": [
    "### 2) After you've designed your algorithm, test it on your own group.  \n",
    "\n",
    "**How many steps did it take?**"
   ]
  },
  {
   "cell_type": "markdown",
   "metadata": {},
   "source": [
    "11 steps"
   ]
  },
  {
   "cell_type": "markdown",
   "metadata": {},
   "source": [
    "### 3) Now form larger groups by joining up with 2-3 other groups within the room (the instructor will help with this).\n",
    "\n",
    "Each of the original small groups should take turns implementing their algorithm by sorting the combined members of the other groups. \n",
    "\n",
    "**For each algorithm, keep track of how many steps were required to accurately sort everyone below.**"
   ]
  },
  {
   "cell_type": "markdown",
   "metadata": {},
   "source": [
    "1st trial: 9 steps\n",
    "2nd trial: 14 steps\n",
    "3rd trial: 7 steps"
   ]
  },
  {
   "cell_type": "markdown",
   "metadata": {},
   "source": [
    "### 4) Once each team has tested their algorithm take a few minutes to discuss each other's algorithms and the nature of the process in general\n",
    "* What worked well and what didn't?\n",
    "* Are there ways to make your algorithm work more efficiently?\n",
    "* Which algorithm worked the best and why?\n",
    "* What if the individuals that you were trying to sort could ask questions of each other?\n",
    "    \n",
    "**Answer these questions in the box below**"
   ]
  },
  {
   "cell_type": "markdown",
   "metadata": {},
   "source": [
    "1. I was able to get to the final result, however it was not efficient at all\n",
    "2. I think narrowing down the initial months questions even more so that it is easier to identify the month and then, ultimately easier to find the date from there.\n",
    "3. The algorithms that had narrower questions to start with. They were able to narrow down the bigger categories and find the birthdays faster. \n",
    "4. It would make the algorithm a lot more complicated, and then it would take more steps to be able to come to a conclusion of what someone's birthdate is, if the questions are meaningless. There is also the possiblbility that it could take less time, because then the surveyor could take those answers into account as well. "
   ]
  },
  {
   "cell_type": "markdown",
   "metadata": {},
   "source": [
    "---"
   ]
  },
  {
   "cell_type": "markdown",
   "metadata": {},
   "source": [
    "### Congratulations, you're done!\n",
    "\n",
    "Show this notebook to one of the class instructors to record today's effort.\n",
    "\n",
    "See you next class!"
   ]
  },
  {
   "cell_type": "markdown",
   "metadata": {},
   "source": [
    "&#169; Copyright 2021,  Michigan State University Board of Trustees"
   ]
  },
  {
   "cell_type": "code",
   "execution_count": null,
   "metadata": {},
   "outputs": [],
   "source": []
  }
 ],
 "metadata": {
  "kernelspec": {
   "display_name": "Python 3",
   "language": "python",
   "name": "python3"
  },
  "language_info": {
   "codemirror_mode": {
    "name": "ipython",
    "version": 3
   },
   "file_extension": ".py",
   "mimetype": "text/x-python",
   "name": "python",
   "nbconvert_exporter": "python",
   "pygments_lexer": "ipython3",
   "version": "3.8.8"
  }
 },
 "nbformat": 4,
 "nbformat_minor": 4
}
