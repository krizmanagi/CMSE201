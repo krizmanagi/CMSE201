{
 "cells": [
  {
   "cell_type": "markdown",
   "metadata": {},
   "source": [
    "# Day 2 In-class Assignment: Order of Magnitude Modeling"
   ]
  },
  {
   "cell_type": "markdown",
   "metadata": {},
   "source": [
    "### <p style=\"text-align: right;\"> &#9989; **Krizma Nagi** </p>\n",
    "#### <p style=\"text-align: right;\"> &#9989; Table 2: Mikayla, Delaney, Lexie, Alex, Connor here</p>"
   ]
  },
  {
   "cell_type": "markdown",
   "metadata": {},
   "source": [
    "## How many mice would it take to fill up this classroom?\n",
    "\n",
    "### (a.k.a., making order-of-magnitude estimates for fun and profit!)\n",
    "![Mouse](https://www.jax.org/-/media/jaxweb/images/jax-mice-and-services/mice/web_0009_find-and-order-jax-mice.jpg?h=316&w=467&la=en&hash=D42556D3A616EC2E099378DB9CA5403D0C38C1E4)"
   ]
  },
  {
   "cell_type": "markdown",
   "metadata": {},
   "source": [
    "## Learning Goals \n",
    "\n",
    "Why are we asking you to do this?\n",
    "\n",
    "One type of modeling is called \"order-of-magnitude estimation\" or \"order-of-magnitude modeling.\"  A physicist would call this a \"Fermi Problem\" after Enrico Fermi, a physicist who participated in the Manhattan Project and who was famously good at making estimates of this sort.  More specifically, this sort of modeling makes us think about:\n",
    "\n",
    "* The quantities that should go into our models, and the reasonable values of those quantities.\n",
    "* How the different parts of our model might interact with one another.\n",
    "* What a \"good enough\" answer would be to a particular problem"
   ]
  },
  {
   "cell_type": "markdown",
   "metadata": {},
   "source": [
    "## The Problem\n",
    "\n",
    "In this project, your group is going to calculate an answer one of the following questions:\n",
    "\n",
    "1. How many grams of caffeine get consumed on MSU's campus each week?  \n",
    "2. How much does the air above Lake Superior weigh?\n",
    "3. If somebody left one of the bathroom faucets running at the Breslin Center, how long would it take to fill it up with water?  \n",
    "4. If all of the toilet paper used per week in the United States were rolled out across the surface of Michigan could you cover the entire state? If so, could you cover it more than once?\n",
    "5. Which has more mass, the air in this classroom or the brains in this classroom?  \n",
    "6. On average, how many people are airborne in the world at a given moment?  \n",
    "7. How many total miles do all Americans drive in their cars in one year, and how does this compare to the circumference of the Earth ($2.5 \\times 10^4$ miles), the distance from the Earth to the Sun ($9 \\times 10^7$ miles), and size of the Solar System ($10^9$ miles)?\n",
    "8. After a particularly exciting Spartan football game, the fans rush the field. How many people can fit onto the football field at Spartan Stadium?\n",
    "\n",
    "---\n",
    "# Part 1\n",
    "\n",
    "**As a group**, you will be assigned one of these problems to answer. You will need to come up with:\n",
    "1. The questions that you need to ask and answer to come up with an estimate for your problem.\n",
    "2. The equation(s) you will need to solve your problem.\n",
    "3. The reasonable values that would go into the equation(s).\n",
    "\n",
    "Once you have finished these steps, you and your group will implement a simple computer program to calculate a range of answers to your problem.\n",
    "\n",
    "***Use your whiteboard to write out your ideas so your teammates and instructors can see your ideas/progress***\n",
    "\n",
    "If you have a hybrid team, try a virtual whiteboard app like [Google Jamboard](https://jamboard.google.com/)\n"
   ]
  },
  {
   "cell_type": "markdown",
   "metadata": {},
   "source": [
    "## 1.1 Describing Your Model\n",
    "**In the cell below, write down your assigned question and the parameters in your model.** Also write down the range of possible values for each of the parameters!\n",
    "\n"
   ]
  },
  {
   "cell_type": "markdown",
   "metadata": {},
   "source": [
    "What is the volume of the Breslin Center?\n",
    "At what rate does the water come out of a faucet?\n",
    "\n",
    "Volume range of Breslin Center = 19050000-38100000 cubic feet\n",
    "Range of rate of water = 0.267-0.334 cubic feet/minute\n"
   ]
  },
  {
   "cell_type": "markdown",
   "metadata": {},
   "source": [
    "## 1.2 Coding Your Model\n",
    "In the cell below, write a program to calculate and print out an estimate for your model."
   ]
  },
  {
   "cell_type": "markdown",
   "metadata": {},
   "source": [
    "> **Important**: When writing your code, **define variables for each value of interest.**  Then use those variables in your equations.  In other words, do not  hard-code the values in your equations (do not put *numbers* in your equations, put *variables* in your equations).  \n",
    ">\n",
    "> As an example, if I want to compute and then print the area of a right triangle, which I know to be $A = \\frac{1}{2} b h$, I might write my code like so:\n",
    ">\n",
    ">> ```\n",
    ">> base = 10\n",
    ">> height = 5\n",
    ">>\n",
    ">> area = (base * height) / 2\n",
    ">>\n",
    ">> print(\"The area is:\", area)\n",
    ">> ```  \n",
    ">       \n",
    "> By doing this, if I decide I need to change the `base` value or the `height` value, I can just change the value where they are defined. This can be especially useful if I have to use the values multiple times or if I want to experiment with changing the values."
   ]
  },
  {
   "cell_type": "code",
   "execution_count": 13,
   "metadata": {},
   "outputs": [
    {
     "name": "stdout",
     "output_type": "stream",
     "text": [
      "It would take 57035928.143712565 minutes to fill the Breslin Center.\n"
     ]
    }
   ],
   "source": [
    "# write a program in this cell to calculate and print out an estimate\n",
    "# of the answer to the question you've chosen to solve!\n",
    "\n",
    "#high estimate\n",
    "\n",
    "area = 254000 # floor area of the Breslin Center in square feet\n",
    "height = 75  # height of the Breslin Center in feet\n",
    "water_rate = 0.334   # rate of water coming out of faucet in cubic feet per minute\n",
    "volume = area*height\n",
    "\n",
    "x= (1/water_rate)*volume\n",
    "\n",
    "print (\"It would take\", x, \"minutes to fill the Breslin Center.\")\n"
   ]
  },
  {
   "cell_type": "markdown",
   "metadata": {},
   "source": [
    "## 1.3 Exploring Model Results\n",
    "**Now, run your model several times**, and each time change the values of the parameters to a different value in the range you think is valid.  In the cell below, write down all of your answers.  What is the total range, and approximately what is the average value?"
   ]
  },
  {
   "cell_type": "markdown",
   "metadata": {},
   "source": [
    "114071856.3 minutes/Breslin, 71348314.61 minutes/Breslin, 142696629.21 minutes/Breslin Center, 57035928.14 minutes/Breslin Center. This is all the possible times that it could take for the Breslin Center to be filled.\n",
    "\n",
    "The range goes from 114071856.3 minutes/Breslin to 71348314.61 minutes/Breslin, so the total range is 42723541.69. The average value is 92710085.455 minutes/Breslin. "
   ]
  },
  {
   "cell_type": "markdown",
   "metadata": {},
   "source": [
    "---\n",
    "# Part 2\n",
    "\n",
    "## 2.1 Pick a Second Model\n",
    "**Now, picking one of the other questions and going through the process of making another order-of-magnitude estimate.** Each group must choose a *different* question. Once you have decided on which question you are going to try to tackle, try working through the answer on your own, but check in with the members of your group if you run into issues or want to bounce ideas off each other."
   ]
  },
  {
   "cell_type": "markdown",
   "metadata": {},
   "source": [
    "## 2.2 Describe the Model\n",
    "**In the cell below, write down your chosen question and the parameters in your model.** Also write down the range of possible values for each of the parameters!"
   ]
  },
  {
   "cell_type": "markdown",
   "metadata": {},
   "source": [
    "Question #8\n",
    "What is the area of the football field?\n",
    "How much space does a person take?\n",
    "\n",
    "Area of Spartan Stadium range = 40000-50000 square feet\n",
    "Area of human being space = 2-6 square feet"
   ]
  },
  {
   "cell_type": "markdown",
   "metadata": {},
   "source": [
    "## 2.3 Coding the Model\n",
    "\n",
    "In the cell below, write a program to calculate and print out an estimate for your model."
   ]
  },
  {
   "cell_type": "code",
   "execution_count": 14,
   "metadata": {},
   "outputs": [
    {
     "name": "stdout",
     "output_type": "stream",
     "text": [
      "8333.333333333334 people could fill up Spartan Stadium.\n"
     ]
    }
   ],
   "source": [
    "# write a program in this cell to calculate and print out an estimate\n",
    "# of the answer to the question you've chosen to solve!\n",
    "\n",
    "field_area = 50000  #area of spartan stadium in square feet\n",
    "human_area = 6  #area of human space during covid\n",
    "\n",
    "x=field_area/human_area\n",
    "\n",
    "print(x,\"people could fill up Spartan Stadium.\")\n"
   ]
  },
  {
   "cell_type": "markdown",
   "metadata": {},
   "source": [
    "## Congratulations, you're done!\n",
    "\n",
    "Submit this assignment by uploading it to the course Desire2Learn web page.  Go to the \"In-class assignments\" folder, find the appropriate submission link, and upload it there.\n",
    "\n",
    "See you next class!"
   ]
  },
  {
   "cell_type": "markdown",
   "metadata": {},
   "source": [
    "&#169; Copyright 2021,  Michigan State University Board of Trustees"
   ]
  }
 ],
 "metadata": {
  "kernelspec": {
   "display_name": "Python 3",
   "language": "python",
   "name": "python3"
  },
  "language_info": {
   "codemirror_mode": {
    "name": "ipython",
    "version": 3
   },
   "file_extension": ".py",
   "mimetype": "text/x-python",
   "name": "python",
   "nbconvert_exporter": "python",
   "pygments_lexer": "ipython3",
   "version": "3.8.8"
  }
 },
 "nbformat": 4,
 "nbformat_minor": 4
}
