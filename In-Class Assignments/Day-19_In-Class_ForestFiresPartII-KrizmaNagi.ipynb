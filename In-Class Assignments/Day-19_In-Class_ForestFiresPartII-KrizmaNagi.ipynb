{
 "cells": [
  {
   "cell_type": "markdown",
   "metadata": {},
   "source": [
    "# Day 19 In-class Assignment: Modeling forest fires with an Agent-based Model (Part II) "
   ]
  },
  {
   "cell_type": "markdown",
   "metadata": {},
   "source": [
    "### <p style=\"text-align: right;\"> &#9989; Krizma Nagi</p>\n",
    "\n",
    "#### <p style=\"text-align: right;\"> &#9989; Stephanie Zhang, Honglei Zhao, Yixiao Tang</p>"
   ]
  },
  {
   "cell_type": "markdown",
   "metadata": {},
   "source": [
    "<img src=\"https://cdn-images-1.medium.com/max/2000/1*VO9nuzrJ9XseMyxdtPh_vg.jpeg\" width=500>"
   ]
  },
  {
   "cell_type": "markdown",
   "metadata": {},
   "source": [
    "## Goals of this assignment\n",
    "\n",
    "The primary goal of this assignment is to model the spread of a forest fire using an agent-based model (ABM).  In doing so, we will:\n",
    "\n",
    "* Use ABM to model forest fires\n",
    "* Examine and quantify the concept of a \"tipping point\" in a model.\n",
    "\n",
    "## Assignment instructions\n",
    "\n",
    "Work with your group to complete this assignment. Upload the assignment to D2L at the end of class."
   ]
  },
  {
   "cell_type": "markdown",
   "metadata": {},
   "source": [
    "---\n",
    "## Welcome to Part 2 of the forest fires ICA!\n",
    "\n",
    "We have split this assignment over two days, so that you can become more comfortable with material. Last class, we built the basics of the forest fire model. Today, we are going to put all these pieces together to complete the model and analyze the tipping point! Let's get started!\n",
    "\n",
    "Below, we show the rules again. We'll incorporate all of the code that you worked on last class. It may look a little different than the code that you and your group developed. If you want to bring over some of your code from Part 1, feel free to do so! "
   ]
  },
  {
   "cell_type": "markdown",
   "metadata": {},
   "source": [
    "---\n",
    "## Redefining the Rules for Our Model\n",
    "\n",
    "### Setup\n",
    "The model is a two-dimensional square $N \\times N$ array that represents the forested region we're simulating.  **The cells in the array can have three values:** \n",
    "- **0 (empty)** \n",
    "- **1 (trees)** \n",
    "- **2 (on fire)**  \n",
    "\n",
    "At the beginning of the model, a user-specified fraction of the cells $f_\\text{trees_start}$ are randomly filled with trees and the remaining cells are empty.  \n",
    "**One edge of the board (say, the entire leftmost column) is set on fire.**\n",
    "\n",
    "\n",
    "### Neighborhoods\n",
    "Each cell has a \"neighborhood\" that is composed of its four neighbors to the left, right, above, and below it. **If a cell is along one of the edges of the array, only consider the neighbors that it has** (i.e., don't try to go out of the bounds of the array).\n",
    "\n",
    "<div align=\"center\"><img src=\"https://i.ibb.co/zH9YL38/indexing-example.png\" alt=\"indexing-example\" border=\"0\" width=200px></div>\n",
    "\n",
    "### Evolving with Time\n",
    "The model takes steps forward in time, where every cell is modified based on the previous step.  The model evolves as follows:\n",
    "\n",
    "* **If the cell was empty last turn, it stays empty this turn.**\n",
    "* **If the cell is a tree and any of its neighbors were on fire last turn, it catches on fire.**\n",
    "* **If the cell was on fire last turn, the fire has consumed all of the trees and it is now empty.**\n",
    "\n",
    "### Ending Conditions\n",
    "\n",
    "**The model evolves forward in time until all of the fires have burned out.**\n",
    "\n",
    "After this happens, you can calculate the fraction of the cells that still have trees at the end of the model ($f_\\text{trees_end}$) and the fraction of cells that are empty ($f_\\text{empty}$).  The fraction of burned cells, $f_\\text{burned}$, is just the difference between the fraction of cells that were initially trees and the fraction of cells that are trees at the end of the model; in other words,\n",
    "\n",
    "$f_\\text{burned} = f_\\text{trees_start} - f_\\text{trees_end}$\n"
   ]
  },
  {
   "cell_type": "markdown",
   "metadata": {},
   "source": [
    "\n",
    "## Your mission:\n",
    "\n",
    "Your mission is to answer the question: \"How does the spread of fire relate to the density of the forest?\"  \n",
    "More precisely, we're asking \"How does $f_\\text{burned}$ depend on $f_\\text{trees_start}$?\"\n",
    "___"
   ]
  },
  {
   "cell_type": "markdown",
   "metadata": {},
   "source": [
    "## Functions from Last Class\n",
    "\n",
    "Last class, we built a function that plots the array, a function that initializes the board, and a function that advances the board based on a set of rules. \n",
    "\n",
    "**Make sure to execute the following cells before you move on!**\n",
    "\n",
    "#### Importing Libraries"
   ]
  },
  {
   "cell_type": "code",
   "execution_count": 1,
   "metadata": {},
   "outputs": [],
   "source": [
    "# standard includes\n",
    "import numpy as np\n",
    "import numpy.random as rand\n",
    "%matplotlib inline\n",
    "import matplotlib.pyplot as plt\n",
    "\n",
    "# Next we are going to import some specific libraries we will use to get the animation to work cleanly\n",
    "from IPython.display import display, clear_output\n",
    "import time"
   ]
  },
  {
   "cell_type": "markdown",
   "metadata": {},
   "source": [
    "#### Plotting the Board\n",
    "\n",
    "The `plot_grid` function takes in a given array, finds the positions on the board that are a tree or fire, and displays them as such. "
   ]
  },
  {
   "cell_type": "code",
   "execution_count": 2,
   "metadata": {},
   "outputs": [],
   "source": [
    "def plotgrid(myarray):\n",
    "    \n",
    "    # First create two vectors based on the x and y sizes of the grid\n",
    "    x_range = np.linspace(0, myarray.shape[1]-1, myarray.shape[1]) \n",
    "    y_range = np.linspace(0, myarray.shape[0]-1, myarray.shape[0])\n",
    "    \n",
    "    # Use the numpy meshgrid function to create two matrices\n",
    "    # of the same size as myarray with x and y indexes\n",
    "    x_indices, y_indices = np.meshgrid(x_range, y_range)\n",
    "    \n",
    "    # Make a list of all the x and y indexes that are either trees or fire.\n",
    "    tree_x = x_indices[myarray == 1];   \n",
    "    tree_y = y_indices[myarray == 1]; \n",
    "    fire_x = x_indices[myarray == 2];   \n",
    "    fire_y = y_indices[myarray == 2]; \n",
    "    \n",
    "    # Plot the trees and fire.\n",
    "    plt.plot(tree_x, myarray.shape[0] - tree_y - 1, 'gs',markersize=10)   \n",
    "    plt.plot(fire_x, myarray.shape[0] - fire_y - 1, 'rs',markersize=10)  \n",
    "    \n",
    "    # Set the x and y limits so we don't cut off the shapes\n",
    "    plt.xlim([-1,myarray.shape[1]])\n",
    "    plt.ylim([-1,myarray.shape[0]]) \n",
    "\n",
    "    # Removing tick marks\n",
    "    plt.tick_params(axis='both', which='both',\n",
    "                    bottom=False, top=False, left=False, right=False,\n",
    "                    labelbottom=False, labelleft=False)"
   ]
  },
  {
   "cell_type": "markdown",
   "metadata": {},
   "source": [
    "#### Initializing the Forest\n",
    "\n",
    "The `set_board` function creates the initial state of the board based on the provided density, setting the leftmost edge as 'on fire.'"
   ]
  },
  {
   "cell_type": "code",
   "execution_count": 3,
   "metadata": {},
   "outputs": [],
   "source": [
    "def set_board(board_size=50,f_trees_start=0.5):\n",
    "    '''\n",
    "    Creates the initial game board.\n",
    "\n",
    "    Inputs:\n",
    "        board_size: length of one edge of the board\n",
    "        f_trees_start: probability that a given cell is a tree\n",
    "                       (effectively the tree density)\n",
    "\n",
    "    Outputs a 2D numpy array with values set to either 0, 1, or 2\n",
    "        (empty, tree, or fire)\n",
    "    '''\n",
    "    \n",
    "    # all cells initialized to 'empty' (0) by default\n",
    "    game_board = np.zeros((board_size,board_size),dtype='int64')\n",
    "    \n",
    "    # loop over board and roll the dice; if the random number is less\n",
    "    # than f_trees_start, make it a tree.\n",
    "    for i in range(board_size):\n",
    "        for j in range(board_size):\n",
    "            if rand.random() <= f_trees_start:\n",
    "                game_board[i,j] = 1\n",
    "\n",
    "    # set the whole left edge of the board on fire. We're arsonists!\n",
    "    game_board[:,0] = 2\n",
    "    \n",
    "    return game_board"
   ]
  },
  {
   "cell_type": "markdown",
   "metadata": {},
   "source": [
    "### Evolving the Board\n",
    "\n",
    "The `advance_board` function:\n",
    "\n",
    "- Takes in the _current_ board, \n",
    "- Defines a _new_ board, and then \n",
    "- Returns that new board where the positions of the fire have been updated. \n",
    "\n",
    "Based on these rules: \n",
    "\n",
    "> Each cell has a \"neighborhood\" that is composed of its four neighbors to the left, right, above, and below it.  (Note: not the diagonal elements!)  If a cell is along one of the edges of the array, only consider the neighbors that it has, and don't try to go out of the bounds of the array!\n",
    "\n",
    ">The model takes steps forward in time, where every cell is modified based on the previous step.  The model evolves as follows:\n",
    "\n",
    ">* If the cell was empty last turn, it stays empty this turn.\n",
    ">* If the cell is a tree and any of its neighbors were on fire last turn, it catches on fire.\n",
    ">* If the cell was on fire last turn, the fire has consumed all of the trees and it is now empty.\n"
   ]
  },
  {
   "cell_type": "code",
   "execution_count": 4,
   "metadata": {},
   "outputs": [],
   "source": [
    "def onBoard(i,j,image):\n",
    "    if i <= image.shape[0]-1 and i >= 0 and j <= image.shape[1]-1 and j >= 0:\n",
    "        return True\n",
    "    else:\n",
    "        return False\n",
    "\n",
    "def getNeighborValues(i,j, board):\n",
    "    neighborhood = [(i-1, j), (i, j-1), (i+1, j), (i, j+1)]\n",
    "    \n",
    "    neighbor_values = []\n",
    "    for neighbor in neighborhood:\n",
    "        if onBoard(neighbor[0], neighbor[1], board):\n",
    "            neighbor_values.append(board[neighbor[0], neighbor[1]])\n",
    "    \n",
    "    return neighbor_values\n",
    "\n",
    "def advance_board(game_board):\n",
    "    '''\n",
    "    Advances the game board using the given rules.\n",
    "    Input: the initial game board.\n",
    "    Output: the advanced game board\n",
    "    '''\n",
    "    \n",
    "    # create a new array that's just like the original one, but initially \n",
    "    # set to all zeros (i.e., totally empty)\n",
    "    new_board = np.zeros_like(game_board)\n",
    "    \n",
    "    # loop over each cell in the board and decide what to do.\n",
    "    for i in range(game_board.shape[0]):\n",
    "        for j in range(game_board.shape[1]):\n",
    "    \n",
    "            # if the cell was empty last turn, it's still empty.\n",
    "            # if it was on fire last turn, it's now empty.\n",
    "            if game_board[i,j] == 0 or game_board[i,j] == 2:\n",
    "                new_board[i,j] = 0\n",
    "    \n",
    "            # now, if it's a tree we have to decide what to do.\n",
    "            if game_board[i,j] == 1:\n",
    "                \n",
    "                # initially make it a tree\n",
    "                new_board[i,j] = 1\n",
    "                \n",
    "                # If one of the neighboring cells was on fire last turn, \n",
    "                # this cell is now on fire!\n",
    "                if 2 in getNeighborValues(i,j,game_board):\n",
    "                    new_board[i,j] = 2\n",
    "\n",
    "    # return the new board\n",
    "    return new_board"
   ]
  },
  {
   "cell_type": "markdown",
   "metadata": {},
   "source": [
    "## Reviewing the Code\n",
    "\n",
    "&#9989;&nbsp; Compare each of the functions given above to the code you wrote last class, particularly the `advance_board` function. In the cell below, write down any changes you notice. Which version of the functions makes more sense to you?"
   ]
  },
  {
   "cell_type": "markdown",
   "metadata": {},
   "source": [
    "<font size=\"+3\">&#9998;</font> The code from last class is the same except for the fact that I gave a variable name to the values in the getNeighbourValues called val. As a result my code for that section of the code wrote: if 2 in vals, instaead of: if 2 in getNeighborValues()>"
   ]
  },
  {
   "cell_type": "markdown",
   "metadata": {},
   "source": [
    "## Part 4: Analyzing the state of the board\n",
    "\n",
    "Now, that we have loaded in all our functions from last class, we have one more step before seeing our complete forest fire model. \n",
    "\n",
    "As we run our model, we want to know what fraction of the board is empty and what fraction is covered with trees. You need to add code to compute these values. A bit of skeleton code is provided for you to help guide your coding efforts.\n",
    "\n",
    "#### &#9989;&nbsp; 4.1 Finish the code below so that it calculates the statistics of the board."
   ]
  },
  {
   "cell_type": "code",
   "execution_count": 5,
   "metadata": {},
   "outputs": [],
   "source": [
    "def calc_stats(game_board):\n",
    "    '''\n",
    "    Calculates the fraction of cells on the game board that are \n",
    "    a tree or are empty.\n",
    "    \n",
    "    Input: a game board\n",
    "    \n",
    "    Output: fraction that's empty, fraction that's covered in trees.\n",
    "    '''\n",
    "    \n",
    "    # use numpy to count up the fraction that are empty\n",
    "    frac_empty = (game_board==0).sum()/(game_board.size)\n",
    "\n",
    "    # do the same for trees\n",
    "    frac_tree = (game_board==1).sum()/(game_board.size)\n",
    "    \n",
    "    # return it!\n",
    "    return frac_empty, frac_tree"
   ]
  },
  {
   "cell_type": "markdown",
   "metadata": {},
   "source": [
    "### 4.2 Putting it all together!\n",
    "\n",
    "The following code takes all of the above functions and puts them in order along with some animation code so that you can see your fire spread. If your functions above were written correctly, this could should *just work*.\n",
    "\n",
    "In the code below, we are calling our advance board function at each step. \n",
    "\n",
    "#### &#9989;&nbsp;  **Comment the code** to indicate that you know what its doing!"
   ]
  },
  {
   "cell_type": "code",
   "execution_count": 6,
   "metadata": {},
   "outputs": [
    {
     "data": {
      "image/png": "[encoded data removed]",
      "text/plain": [
       "<Figure size 720x720 with 1 Axes>"
      ]
     },
     "metadata": {},
     "output_type": "display_data"
    }
   ],
   "source": [
    "# create a figure\n",
    "f_trees_start=0.6\n",
    "board_size = 50\n",
    "\n",
    "# define default figure size\n",
    "fig = plt.figure(figsize=(10,10))\n",
    "\n",
    "# set initial conditions\n",
    "game_board = set_board(board_size=board_size, f_trees_start=f_trees_start)\n",
    "\n",
    "# generate the neighbourhood\n",
    "plotgrid(game_board)\n",
    "\n",
    "# determine that trees will burn\n",
    "on_fire = True\n",
    "\n",
    "# create while loop\n",
    "while on_fire == True:\n",
    "\n",
    "    # generate the neighbourhood\n",
    "    game_board = advance_board(game_board)\n",
    "    \n",
    "    # animation\n",
    "    plotgrid(game_board)\n",
    "    time.sleep(0.01)  # \n",
    "    clear_output(wait=True)\n",
    "    display(fig)\n",
    "    fig.clear()\n",
    "\n",
    "    # call values from function for the gameboard\n",
    "    frac_empty, frac_trees = calc_stats(game_board)\n",
    "\n",
    "    # determine when the trees are not of fire\n",
    "    if frac_empty + frac_trees == 1.0:\n",
    "        on_fire = False\n",
    "\n",
    "# close dynamic display\n",
    "plt.close()             "
   ]
  },
  {
   "cell_type": "markdown",
   "metadata": {},
   "source": [
    "&#9989;&nbsp; **Task:** Run the model for a few values of $f_\\text{trees_start}$; say, 0.25, 0.5, 0.75, and 1.0. Do you notice any differences in the behavior of the model as you change $f_\\text{trees_start}$? Put down your answer in the cell below."
   ]
  },
  {
   "cell_type": "markdown",
   "metadata": {},
   "source": [
    "<font size=\"+3\">&#9998;</font> As the values of ftreesstart increases, the density of the trees in the forest increases, and the number of trees burned also increases. As the values of ftreestart decreases, the denisty of the trees in the forest decreases, and the number of trees burned also decreases."
   ]
  },
  {
   "cell_type": "markdown",
   "metadata": {},
   "source": [
    "\n",
    "### Part 5: The tipping point \n",
    "\n",
    "#### **What is a \"tipping point\"?**\n",
    "\n",
    "This model also demonstrates the concept of a \"critical threshold\" or a __\"tipping point\"__.  This is a phenomenon that occurs __when a small change in an input parameter results in a large change in outcome__.  This is a phenomenon that shows up in both simple and complex models and happens in such varied circumstances as forest fires, the spread of disease in populations, and the transfer of information within a population.\n",
    "\n",
    "#### **Finding the \"tipping point\"**\n",
    "In order to find the tipping point, i.e. the point at which the fire spreads much more substantially, we want to loop over many values of $f_\\text{trees_start}$ (say, values from 0.01 to 1.0, in steps of 0.01) and run the model many times.  If we keep track of the fraction of cells that are burned for each starting condition, we can show how $f_\\text{burned}$ and $f_\\text{trees_start}$ relate to each other. \n",
    "\n",
    "The fraction of burned cells, $f_\\text{burned}$, is just the difference between the fraction of cells that were initially trees and the fraction of cells that are trees at the end of the model; in other words,\n",
    "\n",
    "$f_\\text{burned} = f_\\text{trees_start} - f_\\text{trees_end}$\n",
    "\n",
    "Your plot should look something like this:\n",
    "\n",
    "![Reference figure](https://github.com/msu-cmse-courses/cmse201-F21-data/blob/main/Day-18/tipping_point.png?raw=true)\n"
   ]
  },
  {
   "cell_type": "markdown",
   "metadata": {},
   "source": [
    "&#9989;&nbsp; **5.1 The code below is incomplete, fill in the \"___\" spots with code to make a plot to observe where the tipping point occurs.**"
   ]
  },
  {
   "cell_type": "code",
   "execution_count": 7,
   "metadata": {},
   "outputs": [
    {
     "ename": "KeyboardInterrupt",
     "evalue": "",
     "output_type": "error",
     "traceback": [
      "\u001b[1;31m---------------------------------------------------------------------------\u001b[0m",
      "\u001b[1;31mKeyboardInterrupt\u001b[0m                         Traceback (most recent call last)",
      "\u001b[1;32m<ipython-input-7-1f173c841d68>\u001b[0m in \u001b[0;36m<module>\u001b[1;34m\u001b[0m\n\u001b[0;32m     16\u001b[0m \u001b[1;33m\u001b[0m\u001b[0m\n\u001b[0;32m     17\u001b[0m         \u001b[1;31m# Complete this line\u001b[0m\u001b[1;33m\u001b[0m\u001b[1;33m\u001b[0m\u001b[1;33m\u001b[0m\u001b[0m\n\u001b[1;32m---> 18\u001b[1;33m         \u001b[0mfrac_empty\u001b[0m\u001b[1;33m,\u001b[0m \u001b[0mfrac_trees\u001b[0m \u001b[1;33m=\u001b[0m \u001b[0mcalc_stats\u001b[0m\u001b[1;33m(\u001b[0m\u001b[0mgame_board\u001b[0m\u001b[1;33m)\u001b[0m\u001b[1;33m\u001b[0m\u001b[1;33m\u001b[0m\u001b[0m\n\u001b[0m\u001b[0;32m     19\u001b[0m         \u001b[1;32mif\u001b[0m \u001b[0mfrac_empty\u001b[0m \u001b[1;33m+\u001b[0m \u001b[0mfrac_trees\u001b[0m \u001b[1;33m==\u001b[0m \u001b[1;36m1.0\u001b[0m\u001b[1;33m:\u001b[0m\u001b[1;33m\u001b[0m\u001b[1;33m\u001b[0m\u001b[0m\n\u001b[0;32m     20\u001b[0m             \u001b[1;31m# Complete this line\u001b[0m\u001b[1;33m\u001b[0m\u001b[1;33m\u001b[0m\u001b[1;33m\u001b[0m\u001b[0m\n",
      "\u001b[1;32m<ipython-input-5-01c6f51643c4>\u001b[0m in \u001b[0;36mcalc_stats\u001b[1;34m(game_board)\u001b[0m\n\u001b[0;32m     13\u001b[0m \u001b[1;33m\u001b[0m\u001b[0m\n\u001b[0;32m     14\u001b[0m     \u001b[1;31m# do the same for trees\u001b[0m\u001b[1;33m\u001b[0m\u001b[1;33m\u001b[0m\u001b[1;33m\u001b[0m\u001b[0m\n\u001b[1;32m---> 15\u001b[1;33m     \u001b[0mfrac_tree\u001b[0m \u001b[1;33m=\u001b[0m \u001b[1;33m(\u001b[0m\u001b[0mgame_board\u001b[0m\u001b[1;33m==\u001b[0m\u001b[1;36m1\u001b[0m\u001b[1;33m)\u001b[0m\u001b[1;33m.\u001b[0m\u001b[0msum\u001b[0m\u001b[1;33m(\u001b[0m\u001b[1;33m)\u001b[0m\u001b[1;33m/\u001b[0m\u001b[1;33m(\u001b[0m\u001b[0mgame_board\u001b[0m\u001b[1;33m.\u001b[0m\u001b[0msize\u001b[0m\u001b[1;33m)\u001b[0m\u001b[1;33m\u001b[0m\u001b[1;33m\u001b[0m\u001b[0m\n\u001b[0m\u001b[0;32m     16\u001b[0m \u001b[1;33m\u001b[0m\u001b[0m\n\u001b[0;32m     17\u001b[0m     \u001b[1;31m# return it!\u001b[0m\u001b[1;33m\u001b[0m\u001b[1;33m\u001b[0m\u001b[1;33m\u001b[0m\u001b[0m\n",
      "\u001b[1;31mKeyboardInterrupt\u001b[0m: "
     ]
    }
   ],
   "source": [
    "board_size = 50\n",
    "\n",
    "f_tree = []\n",
    "f_burned = []\n",
    "\n",
    "# Complete this line\n",
    "for tree_fraction in np.arange(0.01,1.01,0.01):\n",
    "    \n",
    "    # Complete this line\n",
    "    game_board = set_board(board_size=board_size,f_trees_start=tree_fraction)\n",
    "\n",
    "    on_fire = True\n",
    "    while on_fire == True:\n",
    "        # Complete this line\n",
    "        game_board = advance_board(game_board)\n",
    "        \n",
    "        # Complete this line\n",
    "        frac_empty, frac_trees = calc_stats(game_board)\n",
    "        if frac_empty + frac_trees == 1.0:\n",
    "            # Complete this line\n",
    "            on_fire = False\n",
    "            \n",
    "    # Complete this line\n",
    "    f_tree.append(tree_fraction)\n",
    "    f_burned.append(frac_empty - (1.0-tree_fraction))\n",
    "    \n",
    "    \n",
    "plt.plot(f_tree, f_burned)\n",
    "plt.xlabel(\"tree fraction\")\n",
    "plt.ylabel(\"burned fraction (normalized)\")"
   ]
  },
  {
   "cell_type": "markdown",
   "metadata": {},
   "source": [
    "#### &#9989;&nbsp; Follow up task:\n",
    "\n",
    "Describe the model's behavior.  Do you observe a \"tipping point\" in $f_\\text{burned}$? That is, is there an abrupt change in behavior in $f_\\text{burned}$ as you increase $f_\\text{trees_start}$?  Does it agree with what you saw when you were experimenting with the NetLogo model? "
   ]
  },
  {
   "cell_type": "markdown",
   "metadata": {},
   "source": [
    "<font size=\"+3\">&#9998;</font> The model displays a tipping point, slightly after a 0.6 value for the trees fraction function. Once it hits this value, the burned fraction increases drastically. As f_trees_start increases, the tipping point value decreases. The general display of the graph agrees with the initial graph that was displayed after I ran the code. "
   ]
  },
  {
   "cell_type": "markdown",
   "metadata": {},
   "source": [
    "#### &#9989;&nbsp; Follow up task:\n",
    "Now that you have completed the forest fire model, how would you describe the process to someone who has did not complete this activity? What steps are required to set up the model? How does the forest fire move? What did you learn about the tipping point? \n",
    "\n",
    "**Make sure to also chat about this with an instructor about this.**"
   ]
  },
  {
   "cell_type": "markdown",
   "metadata": {},
   "source": [
    "<font size=\"+3\">&#9998;</font> To start this model, you need a code to display your model to begin with. This can be considered the default model. You need to then create a code to make the fire start and spread to neighbouring cells, or whatever is getting touched by the fire. To do this you need to take the default board, create a new board, and then return that new board where the positions of the fire have been updated. This new model should evolve as follows: empty cells stay empty, if a cell has a tree and its neighbours had fire, then that cell should also catch on fire, and lastly, if the cell was on fire the last turn then the fire has consumed all of the trees and should now be empty. This should create a model to show a forest catching on fire. "
   ]
  },
  {
   "cell_type": "markdown",
   "metadata": {},
   "source": [
    "---\n",
    "### Part 6: Exploring new initial conditions\n",
    "\n",
    "So far, we have been setting up fire from the left edge of the forest. Now, we are going to observe how the model changes if we start the fire in a different place. \n",
    "\n",
    "For example, **set the fire in a single square in the middle of the forest and examine the tipping point.** Does this change where the tipping point occurs? Copy and modify the code and also put down your observations in a Markdown cell below.\n",
    "\n",
    "Repeat this analysis for multiple other starting points for the fire. Get creative! Have fun! "
   ]
  },
  {
   "cell_type": "markdown",
   "metadata": {},
   "source": [
    "<font size=\"+3\">&#9998;</font> The tipping point for the fire starting in the middle of the forest is similar to the tipping point for the fire that starts on the left side of the forest. It is a slightly smaller value. "
   ]
  },
  {
   "cell_type": "code",
   "execution_count": null,
   "metadata": {},
   "outputs": [],
   "source": [
    "def set_board(board_size=50,f_trees_start=0.5):\n",
    "    '''\n",
    "    Creates the initial game board.\n",
    "\n",
    "    Inputs:\n",
    "        board_size: length of one edge of the board\n",
    "        f_trees_start: probability that a given cell is a tree\n",
    "                       (effectively the tree density)\n",
    "\n",
    "    Outputs a 2D numpy array with values set to either 0, 1, or 2\n",
    "        (empty, tree, or fire)\n",
    "    '''\n",
    "    \n",
    "    # all cells initialized to 'empty' (0) by default\n",
    "    game_board = np.zeros((board_size,board_size),dtype='int64')\n",
    "    \n",
    "    # loop over board and roll the dice; if the random number is less\n",
    "    # than f_trees_start, make it a tree.\n",
    "    for i in range(board_size):\n",
    "        for j in range(board_size):\n",
    "            if rand.random() <= f_trees_start:\n",
    "                game_board[i,j] = 1\n",
    "\n",
    "    # set the whole left edge of the board on fire. We're arsonists!\n",
    "    game_board[25,25] = 2\n",
    "    \n",
    "    return game_board\n",
    "\n",
    "def onBoard(i,j,image):\n",
    "    if i <= image.shape[0]-1 and i >= 0 and j <= image.shape[1]-1 and j >= 0:\n",
    "        return True\n",
    "    else:\n",
    "        return False\n",
    "\n",
    "def getNeighborValues(i,j, board):\n",
    "    neighborhood = [(i-1, j), (i, j-1), (i+1, j), (i, j+1)]\n",
    "    \n",
    "    neighbor_values = []\n",
    "    for neighbor in neighborhood:\n",
    "        if onBoard(neighbor[0], neighbor[1], board):\n",
    "            neighbor_values.append(board[neighbor[0], neighbor[1]])\n",
    "    \n",
    "    return neighbor_values\n",
    "\n",
    "def advance_board(game_board):\n",
    "    '''\n",
    "    Advances the game board using the given rules.\n",
    "    Input: the initial game board.\n",
    "    Output: the advanced game board\n",
    "    '''\n",
    "    \n",
    "    # create a new array that's just like the original one, but initially \n",
    "    # set to all zeros (i.e., totally empty)\n",
    "    new_board = np.zeros_like(game_board)\n",
    "    \n",
    "    # loop over each cell in the board and decide what to do.\n",
    "    for i in range(game_board.shape[0]):\n",
    "        for j in range(game_board.shape[1]):\n",
    "    \n",
    "            # if the cell was empty last turn, it's still empty.\n",
    "            # if it was on fire last turn, it's now empty.\n",
    "            if game_board[i,j] == 0 or game_board[i,j] == 2:\n",
    "                new_board[i,j] = 0\n",
    "    \n",
    "            # now, if it's a tree we have to decide what to do.\n",
    "            if game_board[i,j] == 1:\n",
    "                \n",
    "                # initially make it a tree\n",
    "                new_board[i,j] = 1\n",
    "                \n",
    "                # If one of the neighboring cells was on fire last turn, \n",
    "                # this cell is now on fire!\n",
    "                if 2 in getNeighborValues(i,j,game_board):\n",
    "                    new_board[i,j] = 2\n",
    "\n",
    "    # return the new board\n",
    "    return new_board\n",
    "\n",
    "f_trees_start=0.6\n",
    "board_size = 50\n",
    "\n",
    "# define default figure size\n",
    "fig = plt.figure(figsize=(10,10))\n",
    "\n",
    "# set initial conditions\n",
    "game_board = set_board(board_size=board_size, f_trees_start=f_trees_start)\n",
    "\n",
    "# generate the neighbourhood\n",
    "plotgrid(game_board)\n",
    "\n",
    "# determine that trees will burn\n",
    "on_fire = True\n",
    "\n",
    "# create while loop\n",
    "while on_fire == True:\n",
    "\n",
    "    # generate the neighbourhood\n",
    "    game_board = advance_board(game_board)\n",
    "    \n",
    "    # animation\n",
    "    plotgrid(game_board)\n",
    "    time.sleep(0.01)  # \n",
    "    clear_output(wait=True)\n",
    "    display(fig)\n",
    "    fig.clear()\n",
    "\n",
    "    # call values from function for the gameboard\n",
    "    frac_empty, frac_trees = calc_stats(game_board)\n",
    "\n",
    "    # determine when the trees are not of fire\n",
    "    if frac_empty + frac_trees == 1.0:\n",
    "        on_fire = False\n",
    "\n",
    "# close dynamic display\n",
    "plt.close()         "
   ]
  },
  {
   "cell_type": "code",
   "execution_count": null,
   "metadata": {},
   "outputs": [],
   "source": [
    "board_size = 50\n",
    "\n",
    "f_tree = []\n",
    "f_burned = []\n",
    "\n",
    "# Complete this line\n",
    "for tree_fraction in np.arange(0.01,1.01,0.01):\n",
    "    \n",
    "    # Complete this line\n",
    "    game_board = set_board(board_size=board_size,f_trees_start=tree_fraction)\n",
    "\n",
    "    on_fire = True\n",
    "    while on_fire == True:\n",
    "        # Complete this line\n",
    "        game_board = advance_board(game_board)\n",
    "        \n",
    "        # Complete this line\n",
    "        frac_empty, frac_trees = calc_stats(game_board)\n",
    "        if frac_empty + frac_trees == 1.0:\n",
    "            # Complete this line\n",
    "            on_fire = False\n",
    "            \n",
    "    # Complete this line\n",
    "    f_tree.append(tree_fraction)\n",
    "    f_burned.append(frac_empty - (1.0-tree_fraction))\n",
    "    \n",
    "    \n",
    "plt.plot(f_tree, f_burned)\n",
    "plt.xlabel(\"tree fraction\")\n",
    "plt.ylabel(\"burned fraction (normalized)\")"
   ]
  },
  {
   "cell_type": "markdown",
   "metadata": {},
   "source": [
    "---\n",
    "## Time Permitting\n",
    "\n",
    "If you have time left in class, brainstorm with your group (and Google) what agent-based models may be good for (other than forest fires). For those examples, discuss what aspects would be similar to the forest fire and what would be different. What would your initial conditions look like? How would you expect the model to run? What initial thoughts do you have about the tipping point? \n",
    "\n",
    "Discuss with your group and write down your thoughts in a Markdown cell below. "
   ]
  },
  {
   "cell_type": "markdown",
   "metadata": {},
   "source": [
    "<font size=\"+3\">&#9998;</font> *Put your answer here*"
   ]
  },
  {
   "cell_type": "markdown",
   "metadata": {},
   "source": [
    "---\n"
   ]
  },
  {
   "cell_type": "markdown",
   "metadata": {},
   "source": [
    "## Congratulations, you're done!\n",
    "\n",
    "Submit this assignment by uploading your notebook and the pictures of your model planning session to the course Desire2Learn web page.  Go to the \"In-Class Assignments\" folder, find the appropriate submission link, and upload everything there. Make sure your name is on it!"
   ]
  },
  {
   "cell_type": "markdown",
   "metadata": {},
   "source": [
    "&#169; Copyright 2018,  Michigan State University Board of Trustees"
   ]
  }
 ],
 "metadata": {
  "anaconda-cloud": {},
  "kernelspec": {
   "display_name": "Python 3",
   "language": "python",
   "name": "python3"
  },
  "language_info": {
   "codemirror_mode": {
    "name": "ipython",
    "version": 3
   },
   "file_extension": ".py",
   "mimetype": "text/x-python",
   "name": "python",
   "nbconvert_exporter": "python",
   "pygments_lexer": "ipython3",
   "version": "3.8.8"
  }
 },
 "nbformat": 4,
 "nbformat_minor": 4
}
